{
 "cells": [
  {
   "cell_type": "markdown",
   "metadata": {},
   "source": [
    "# L3 for statement "
   ]
  },
  {
   "cell_type": "code",
   "execution_count": 1,
   "metadata": {},
   "outputs": [
    {
     "name": "stdout",
     "output_type": "stream",
     "text": [
      "0 Hello\n",
      "1 Hello\n",
      "2 Hello\n"
     ]
    }
   ],
   "source": [
    "for i in range(3): # note that the count starts from 0\n",
    "    print(f\"{i} Hello\")"
   ]
  },
  {
   "cell_type": "code",
   "execution_count": 2,
   "metadata": {},
   "outputs": [
    {
     "name": "stdout",
     "output_type": "stream",
     "text": [
      "0 1 2 3 4 5 6 7 8 9 "
     ]
    }
   ],
   "source": [
    "# print out numbers without newlines \n",
    "for i in range(10):\n",
    "    print(i, end=\" \")  # end=\" \"打印成一行，否则就是一列了"
   ]
  },
  {
   "cell_type": "code",
   "execution_count": 3,
   "metadata": {},
   "outputs": [
    {
     "name": "stdout",
     "output_type": "stream",
     "text": [
      "0\n",
      "2\n",
      "4\n",
      "6\n",
      "8\n",
      "10\n"
     ]
    }
   ],
   "source": [
    "for i in range(0, 11, 2):  # for i in range(start, end, step):\n",
    "    print(i) "
   ]
  },
  {
   "cell_type": "code",
   "execution_count": 4,
   "metadata": {},
   "outputs": [
    {
     "name": "stdout",
     "output_type": "stream",
     "text": [
      "0+1+2+3+4+5=15\n"
     ]
    }
   ],
   "source": [
    "sum = 0  #计算和\n",
    "# calculate sum from 0-5\n",
    "for i in range(6): # note that 6 不包括6\n",
    "    sum += i\n",
    "\n",
    "print(f\"0+1+2+3+4+5={sum}\")"
   ]
  },
  {
   "cell_type": "code",
   "execution_count": 5,
   "metadata": {},
   "outputs": [
    {
     "name": "stdout",
     "output_type": "stream",
     "text": [
      "1+3+5+7+9+11+13+15+17+19=100\n"
     ]
    }
   ],
   "source": [
    "sum = 0\n",
    "# calculate sum of all odd numbers between 1 20\n",
    "for i in range(1,20,2):\n",
    "    sum += i # addition\n",
    "print(f\"1+3+5+7+9+11+13+15+17+19={sum}\")   "
   ]
  },
  {
   "cell_type": "code",
   "execution_count": 6,
   "metadata": {},
   "outputs": [
    {
     "name": "stdout",
     "output_type": "stream",
     "text": [
      "19=200"
     ]
    }
   ],
   "source": [
    "# nice printing\n",
    "for i in range(1,20,2):\n",
    "    sum += i # addition\n",
    "print(f\"{i}\", end = \"\")\n",
    "if i != 19:\n",
    "    print(\"+\", end=\"\")\n",
    "    \n",
    "if i == 19:\n",
    "        print(f\"={sum}\", end=\"\")    "
   ]
  },
  {
   "cell_type": "markdown",
   "metadata": {},
   "source": [
    "# random module"
   ]
  },
  {
   "cell_type": "code",
   "execution_count": 24,
   "metadata": {},
   "outputs": [
    {
     "name": "stdout",
     "output_type": "stream",
     "text": [
      "Number of sixes 1715 in 10000 dice rolls\n",
      "Probability of six 0.1715\n"
     ]
    }
   ],
   "source": [
    "import random as rnd # the random module can now be accessed through rnd \n",
    "\n",
    "num_six = 0\n",
    "dice_rolls = 10000\n",
    "\n",
    "# dice simulations - count number of sixes \n",
    "for i in range(dice_rolls):\n",
    "    dice = rnd.randint(1,6) # generates a random integer between 1 and 6\n",
    "    if dice == 6:\n",
    "        num_six += 1\n",
    "\n",
    "print(f\"Number of sixes {num_six} in {dice_rolls} dice rolls\")  \n",
    "print(f\"Probability of six {num_six/dice_rolls}\")"
   ]
  },
  {
   "cell_type": "code",
   "execution_count": 23,
   "metadata": {},
   "outputs": [
    {
     "name": "stdout",
     "output_type": "stream",
     "text": [
      "I love to eat\n",
      "apple\n",
      "orange\n",
      "grape\n",
      "strawberry\n"
     ]
    }
   ],
   "source": [
    "fruits = [\"apple\", \"orange\", \"grape\", \"strawberry\"]\n",
    "\n",
    "print(\"I love to eat\")\n",
    "for fruit in fruits: # variable fruit will contain a value at a time from fruits #变量fruit将一次包含一个来自fruits的值\n",
    "    print(fruit)"
   ]
  },
  {
   "cell_type": "markdown",
   "metadata": {},
   "source": [
    "# Nested for loop 嵌套循环\n",
    "\n",
    "A for loop inside another for loop. The inner loop will run for each iteration of the outer loop.\n",
    "\n",
    "另一个 for 循环内的 for 循环。 内循环将为外循环的每次迭代运行。"
   ]
  },
  {
   "cell_type": "code",
   "execution_count": 7,
   "metadata": {},
   "outputs": [
    {
     "name": "stdout",
     "output_type": "stream",
     "text": [
      "(0,0)(0,1)(0,2)\n",
      "(1,0)(1,1)(1,2)\n",
      "(2,0)(2,1)(2,2)\n"
     ]
    }
   ],
   "source": [
    "# matrix coordinates 矩阵坐标\n",
    "for x in range(0,3): #范围是0到3,不包括3\n",
    "    for j in range(0,3):\n",
    "        print(f\"({x},{j})\", end=\"\")    \n",
    "    print()"
   ]
  },
  {
   "cell_type": "code",
   "execution_count": 8,
   "metadata": {},
   "outputs": [
    {
     "name": "stdout",
     "output_type": "stream",
     "text": [
      "(0,0)(0,1)(0,2)\n",
      "(1,0)(1,1)(1,2)\n",
      "(2,0)(2,1)(2,2)\n",
      "(3,0)(3,1)(3,2)\n"
     ]
    }
   ],
   "source": [
    "for x in range(0,4):\n",
    "    for j in range(0,3):\n",
    "        print(f\"({x},{j})\", end=\"\")    \n",
    "    print()"
   ]
  },
  {
   "cell_type": "markdown",
   "metadata": {},
   "source": [
    "# L3 For statement exerience习题"
   ]
  },
  {
   "cell_type": "markdown",
   "metadata": {},
   "source": [
    "# 1. Count numbers (*)¶\n",
    "Use a for statement to count from:\n",
    "\n",
    "a) -10 to 10 with one increment (*) 一个增量\n",
    "\n",
    "b) -10 to 10 with two increment (*)"
   ]
  },
  {
   "cell_type": "code",
   "execution_count": 9,
   "metadata": {},
   "outputs": [
    {
     "name": "stdout",
     "output_type": "stream",
     "text": [
      "-10 -9 -8 -7 -6 -5 -4 -3 -2 -1 0 1 2 3 4 5 6 7 8 9 10 "
     ]
    }
   ],
   "source": [
    "for i in range(-10,11):\n",
    "    print(i, end=\" \")"
   ]
  },
  {
   "cell_type": "code",
   "execution_count": 11,
   "metadata": {},
   "outputs": [
    {
     "name": "stdout",
     "output_type": "stream",
     "text": [
      "-10 -8 -6 -4 -2 0 2 4 6 8 10 "
     ]
    }
   ],
   "source": [
    "for i in range(-10,11,2):\n",
    "    print(i, end=\" \")"
   ]
  },
  {
   "cell_type": "markdown",
   "metadata": {},
   "source": [
    "# 2. Arithmetic sum (*)\n",
    "Use a for statement to compute the following sums:\n",
    "\n",
    "a) $\\text{sum} = 1 + 2 + \\ldots + 99+ 100$ (*)\n",
    "\n",
    "b) $\\text{sum} = 1 + 3 + 5 + \\ldots + 97 + 99$ (*)"
   ]
  },
  {
   "cell_type": "code",
   "execution_count": 12,
   "metadata": {},
   "outputs": [
    {
     "name": "stdout",
     "output_type": "stream",
     "text": [
      "0+1+2+3+4+5+6+7+8+9+10+11+12+13+14+15+16+17+18+19+20+21+22+23+24+25+26+27+28+29+30+31+32+33+34+35+36+37+38+39+40+41+42+43+44+45+46+47+48+49+50+51+52+53+54+55+56+57+58+59+60+61+62+63+64+65+66+67+68+69+70+71+72+73+74+75+76+77+78+79+80+81+82+83+84+85+86+87+88+89+90+91+92+93+94+95+96+97+98+99+100=5050"
     ]
    }
   ],
   "source": [
    "summa=0\n",
    "\n",
    "for i in range(0,101):\n",
    "    \n",
    "    summa+=i\n",
    "    \n",
    "    print(f\"{i}\", end = \"\")\n",
    "    if i != 100:\n",
    "        print(\"+\", end=\"\")\n",
    "\n",
    "    if i == 100:\n",
    "        print(f\"={summa}\", end=\"\")"
   ]
  },
  {
   "cell_type": "code",
   "execution_count": 13,
   "metadata": {},
   "outputs": [
    {
     "name": "stdout",
     "output_type": "stream",
     "text": [
      "1+3+5+7+9+11+13+15+17+19+21+23+25+27+29+31+33+35+37+39+41+43+45+47+49+51+53+55+57+59+61+63+65+67+69+71+73+75+77+79+81+83+85+87+89+91+93+95+97+99=2500"
     ]
    }
   ],
   "source": [
    "summa=0\n",
    "\n",
    "for i in range(1,101,2):\n",
    "    \n",
    "    summa+=i\n",
    "    \n",
    "    print(f\"{i}\", end = \"\")\n",
    "    \n",
    "    if i != 99:\n",
    "        print(\"+\", end=\"\")\n",
    "    \n",
    "    if i == 99:\n",
    "            print(f\"={summa}\", end=\"\")"
   ]
  },
  {
   "cell_type": "markdown",
   "metadata": {},
   "source": [
    "# 3. Multiplication table (*)\n",
    "Use for statement(s) to:\n",
    "\n",
    "a) print out the 6th multiplication table from 0 to 10 (*)\n",
    "\n",
    "b) let the user input the table, start and end of the table. (*)\n",
    "\n",
    "c) print out a full multiplication table from 0 to 10. (**)"
   ]
  },
  {
   "cell_type": "code",
   "execution_count": 14,
   "metadata": {},
   "outputs": [
    {
     "name": "stdout",
     "output_type": "stream",
     "text": [
      "6*1 = 6\n",
      "6*2 = 12\n",
      "6*3 = 18\n",
      "6*4 = 24\n",
      "6*5 = 30\n",
      "6*6 = 36\n",
      "6*7 = 42\n",
      "6*8 = 48\n",
      "6*9 = 54\n"
     ]
    }
   ],
   "source": [
    "number=6\n",
    "for i in range(1,10):\n",
    "    result=number*i\n",
    "    print(f'{number}*{i} = {result}')"
   ]
  },
  {
   "cell_type": "code",
   "execution_count": 15,
   "metadata": {},
   "outputs": [
    {
     "name": "stdout",
     "output_type": "stream",
     "text": [
      "6x6=36\t7x6=42\t8x6=48\t9x6=54\t6x7=42\t7x7=49\t8x7=56\t9x7=63\t6x8=48\t7x8=56\t8x8=64\t9x8=72\t6x9=54\t7x9=63\t8x9=72\t9x9=81\t"
     ]
    }
   ],
   "source": [
    "number1=int(input(\"type a start\"))\n",
    "number2=int(input(\"type an end\"))\n",
    "\n",
    "for i in range(number1,number2+1):\n",
    "    for j in range(number1,number2+1):\n",
    "        print('{}x{}={}\\t'.format(9j, i, i*j), end='')"
   ]
  },
  {
   "cell_type": "code",
   "execution_count": 16,
   "metadata": {},
   "outputs": [
    {
     "name": "stdout",
     "output_type": "stream",
     "text": [
      "1x1=1\t2x1=2\t3x1=3\t4x1=4\t5x1=5\t6x1=6\t7x1=7\t8x1=8\t9x1=9\t10x1=10\t\n",
      "1x2=2\t2x2=4\t3x2=6\t4x2=8\t5x2=10\t6x2=12\t7x2=14\t8x2=16\t9x2=18\t10x2=20\t\n",
      "1x3=3\t2x3=6\t3x3=9\t4x3=12\t5x3=15\t6x3=18\t7x3=21\t8x3=24\t9x3=27\t10x3=30\t\n",
      "1x4=4\t2x4=8\t3x4=12\t4x4=16\t5x4=20\t6x4=24\t7x4=28\t8x4=32\t9x4=36\t10x4=40\t\n",
      "1x5=5\t2x5=10\t3x5=15\t4x5=20\t5x5=25\t6x5=30\t7x5=35\t8x5=40\t9x5=45\t10x5=50\t\n",
      "1x6=6\t2x6=12\t3x6=18\t4x6=24\t5x6=30\t6x6=36\t7x6=42\t8x6=48\t9x6=54\t10x6=60\t\n",
      "1x7=7\t2x7=14\t3x7=21\t4x7=28\t5x7=35\t6x7=42\t7x7=49\t8x7=56\t9x7=63\t10x7=70\t\n",
      "1x8=8\t2x8=16\t3x8=24\t4x8=32\t5x8=40\t6x8=48\t7x8=56\t8x8=64\t9x8=72\t10x8=80\t\n",
      "1x9=9\t2x9=18\t3x9=27\t4x9=36\t5x9=45\t6x9=54\t7x9=63\t8x9=72\t9x9=81\t10x9=90\t\n",
      "1x10=10\t2x10=20\t3x10=30\t4x10=40\t5x10=50\t6x10=60\t7x10=70\t8x10=80\t9x10=90\t10x10=100\t\n"
     ]
    }
   ],
   "source": [
    "for i in range(1, 11):\n",
    "    for j in range(1, 11):\n",
    "        print('{}x{}={}\\t'.format(j, i, i*j), end='')\n",
    "    print()"
   ]
  },
  {
   "cell_type": "markdown",
   "metadata": {},
   "source": [
    "# 4. Faculty (*) 阶乘 例如1*2*3*……*n＝n!\n",
    "Use a for statement to compute $n!$.\n",
    "\n",
    "$n! = 1\\cdot2\\cdot3\\cdot\\ldots\\cdot(n-1)\\cdot n $\n",
    "\n",
    "Let the user input $n$."
   ]
  },
  {
   "cell_type": "code",
   "execution_count": 20,
   "metadata": {},
   "outputs": [
    {
     "name": "stdout",
     "output_type": "stream",
     "text": [
      "24\n"
     ]
    }
   ],
   "source": [
    "n=int(input(\"Enter a number\"))\n",
    "sum=1\n",
    "for i in range(1,n+1):\n",
    "    Faculty=i*sum\n",
    "    sum*=i\n",
    "print(Faculty)"
   ]
  },
  {
   "cell_type": "markdown",
   "metadata": {},
   "source": [
    "# 5. Guess the number (*)\n",
    "The computer thinks of a four-digit number. Start by creating a random four-digit number. Use for statement to figure out a correct guess\n",
    "\n",
    "计算机会想到一个四位数。 首先创建一个随机的四位数。 使用 for 语句找出正确的猜测"
   ]
  },
  {
   "cell_type": "code",
   "execution_count": 22,
   "metadata": {},
   "outputs": [
    {
     "name": "stdout",
     "output_type": "stream",
     "text": [
      "4236\n",
      "Correct! You guessed 2221 times.\n"
     ]
    }
   ],
   "source": [
    "import random as rnd\n",
    "n=rnd.randint(1000,10000)\n",
    "print(n)\n",
    "times=0\n",
    "\n",
    "for i in range(rnd.randint(1000,10000),rnd.randint(1000,10000)):\n",
    "    if i == n:\n",
    "        break\n",
    "    times+=1\n",
    "    \n",
    "print(f\"Correct! You guessed {times} times.\")"
   ]
  },
  {
   "cell_type": "markdown",
   "metadata": {},
   "source": [
    "# 6. Rice on chessboard (*)\n",
    "\n",
    "In first square of the chessboard there is one grain of rice, in the second square there is two grains,\n",
    " in the third square there is four grains and so on. How many grains are there in the whole chessboard when all squares are filled using this pattern?\n",
    " \n",
    " 棋盘的第一个格子里有一粒米，第二个格子里有两粒米，\n",
    "在第三个方格中有四个谷物，依此类推。 当所有方格都用这种图案填充时，整个棋盘中有多少粒？"
   ]
  }
 ],
 "metadata": {
  "interpreter": {
   "hash": "26686dec1f1c69e7843542045c9bcb01e7d61ef2953291481df04c12bb1a928f"
  },
  "kernelspec": {
   "display_name": "Python 3.9.6 64-bit",
   "language": "python",
   "name": "python3"
  },
  "language_info": {
   "codemirror_mode": {
    "name": "ipython",
    "version": 3
   },
   "file_extension": ".py",
   "mimetype": "text/x-python",
   "name": "python",
   "nbconvert_exporter": "python",
   "pygments_lexer": "ipython3",
   "version": "3.9.6"
  },
  "orig_nbformat": 4
 },
 "nbformat": 4,
 "nbformat_minor": 2
}
