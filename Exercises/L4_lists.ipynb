{
 "cells": [
  {
   "cell_type": "markdown",
   "metadata": {},
   "source": [
    "# Lecture notes 4 - lists "
   ]
  },
  {
   "cell_type": "markdown",
   "metadata": {},
   "source": [
    "# list() 方法用于将元组truple转换为列表 list。\n",
    "\n",
    "注：元组与列表是非常类似的，区别在于元组的元素值不能修改，元组是放在括号()中，列表是放于方括号[]中。"
   ]
  },
  {
   "cell_type": "code",
   "execution_count": 5,
   "metadata": {},
   "outputs": [
    {
     "name": "stdout",
     "output_type": "stream",
     "text": [
      "列表元素:[123, 'runoob', 'google', 'abc']\n"
     ]
    }
   ],
   "source": [
    "aTuple = (123, 'runoob', 'google', 'abc');\n",
    "aList = list(aTuple)\n",
    " \n",
    "print(f\"列表元素:{aList}\")"
   ]
  },
  {
   "cell_type": "markdown",
   "metadata": {},
   "source": [
    "序列list是Python中最基本的数据结构。序列中的每个元素都分配一个数字 - 它的位置，或索引，第一个索引是0，第二个索引是1，依此类推。"
   ]
  },
  {
   "cell_type": "markdown",
   "metadata": {},
   "source": [
    "# Access items"
   ]
  },
  {
   "cell_type": "markdown",
   "metadata": {},
   "source": [
    "# Access items\n",
    "#items have indices(指数)from 0 to length-1 (items 的索引从 0 到 length-1)\n",
    "\n",
    "#items can be accessed through the indexing operator [] 大括号是索引运算符\n",
    "\n",
    "#can also access from right to left with negative indexing 也可以使用负索引从右到左\n",
    "\n",
    "    #last element is at index -1 最后一个元素在索引-1"
   ]
  },
  {
   "cell_type": "code",
   "execution_count": 3,
   "metadata": {},
   "outputs": [
    {
     "name": "stdout",
     "output_type": "stream",
     "text": [
      "tv_shows[0]: Antikrundan\n",
      "tv_shows[1]: Mästerkockarna\n",
      "tv_shows[2]: Aktuellt\n",
      "tv_shows[-1]: Talang\n"
     ]
    }
   ],
   "source": [
    "tv_shows = [\"Antikrundan\", \"Mästerkockarna\", \"Aktuellt\" , \"Talang\"]\n",
    "print(f\"tv_shows[0]: {tv_shows[0]}\") \n",
    "print(f\"tv_shows[1]: {tv_shows[1]}\")\n",
    "print(f\"tv_shows[2]: {tv_shows[2]}\")\n",
    "\n",
    "print(f\"tv_shows[-1]: {tv_shows[-1]}\") # access from right 从右边开始数"
   ]
  },
  {
   "cell_type": "markdown",
   "metadata": {},
   "source": [
    "# Iterate through list  通过列表迭代"
   ]
  },
  {
   "cell_type": "code",
   "execution_count": 4,
   "metadata": {},
   "outputs": [
    {
     "name": "stdout",
     "output_type": "stream",
     "text": [
      "Antikrundan\n",
      "Mästerkockarna\n",
      "Aktuellt\n",
      "Talang\n"
     ]
    }
   ],
   "source": [
    "for tv_show in tv_shows: \n",
    "    print(tv_show)"
   ]
  },
  {
   "cell_type": "code",
   "execution_count": 5,
   "metadata": {},
   "outputs": [
    {
     "name": "stdout",
     "output_type": "stream",
     "text": [
      "0. Antikrundan\n",
      "1. Mästerkockarna\n",
      "2. Aktuellt\n",
      "3. Talang\n"
     ]
    }
   ],
   "source": [
    "for i, tv_show in enumerate(tv_shows): # with enumerate you also get index of the list item 使用 enumerate 您还可以获得列表项的索引\n",
    "    print(f\"{i}. {tv_show}\")"
   ]
  },
  {
   "cell_type": "markdown",
   "metadata": {},
   "source": [
    "# Change list items"
   ]
  },
  {
   "cell_type": "code",
   "execution_count": null,
   "metadata": {},
   "outputs": [],
   "source": [
    "#Lists are mutable meaning: 列表是可变的意思：\n",
    "#can modify elements 可以修改元素\n",
    "#can replace values 可以替换值\n",
    "#can change order of elements 可以改变元素的顺序"
   ]
  },
  {
   "cell_type": "markdown",
   "metadata": {},
   "source": [
    "# list items修改元素"
   ]
  },
  {
   "cell_type": "code",
   "execution_count": 7,
   "metadata": {},
   "outputs": [
    {
     "name": "stdout",
     "output_type": "stream",
     "text": [
      "Replaced first element: ['Vetenskapens värld', 'Mästerkockarna', 'Aktuellt', 'Talang']\n"
     ]
    }
   ],
   "source": [
    "tv_shows = [\"Antikrundan\", \"Mästerkockarna\", \"Aktuellt\" , \"Talang\"] # 修改一个元素的名称\n",
    "tv_shows[0] = \"Vetenskapens värld\" #修改第一个元素的名称从Antikrundan\"到新的名字Vetenskapens värld\n",
    "print(f\"Replaced first element: {tv_shows}\") "
   ]
  },
  {
   "cell_type": "markdown",
   "metadata": {},
   "source": [
    "# append添加一个新的元素"
   ]
  },
  {
   "cell_type": "code",
   "execution_count": 8,
   "metadata": {},
   "outputs": [
    {
     "name": "stdout",
     "output_type": "stream",
     "text": [
      "Added an element: ['Vetenskapens värld', 'Mästerkockarna', 'Aktuellt', 'Talang', 'Pokemon']\n"
     ]
    }
   ],
   "source": [
    "tv_shows.append(\"Pokemon\")\n",
    "print(f\"Added an element: {tv_shows}\") # append添加一个新的元素到最后一个位置，变成5个元素"
   ]
  },
  {
   "cell_type": "markdown",
   "metadata": {},
   "source": [
    "# Slicing operator :切片运算符：\n",
    "The slicing operator is used for accessing a range of values in the list.'切片运算符用于访问列表中的一系列值。"
   ]
  },
  {
   "cell_type": "code",
   "execution_count": 11,
   "metadata": {},
   "outputs": [
    {
     "name": "stdout",
     "output_type": "stream",
     "text": [
      "['Mästerkockarna', 'Aktuellt']\n",
      "['Aktuellt']\n",
      "['Aktuellt', 'Talang', 'Pokemon']\n",
      "['Vetenskapens värld', 'Mästerkockarna']\n",
      "['Vetenskapens värld', 'Mästerkockarna', 'Aktuellt', 'Talang']\n"
     ]
    }
   ],
   "source": [
    "print(tv_shows[1:3]) # returns value at index 1 and index 2 # 返回到第一元素到第三元素，但是并不包括第三元素\n",
    "\n",
    "print(tv_shows[2:3]) # returns value at index 2 得到索引从2包括到3 不包括的切片\n",
    "print(tv_shows[2: ]) # 得到索引从2(包括)开始到结束的切片\n",
    "print(tv_shows[ :2]) # 得到索引从开始到2(不包括)以后的切片\n",
    "print(tv_shows[ :-1 ])  # 从开始到索引为-1(就是最后一个元素不包括)"
   ]
  },
  {
   "cell_type": "markdown",
   "metadata": {},
   "source": [
    "# Sort a list 排序\n",
    "default: ascending order 默认：升序\n",
    "\n",
    "sort descending: reverse = True 降序排序：reverse = True\n",
    "\n",
    "alphabetically  按字母顺序\n",
    "\n",
    "numerically 数字"
   ]
  },
  {
   "cell_type": "code",
   "execution_count": 6,
   "metadata": {},
   "outputs": [
    {
     "name": "stdout",
     "output_type": "stream",
     "text": [
      "['alfa', 'beta', 'delta', 'gamma']\n"
     ]
    }
   ],
   "source": [
    "# Sort a list 排序\n",
    "greek_letters = [\"beta\",\"alfa\", \"gamma\", \"delta\"] \n",
    "greek_letters.sort() # note no assignment due to sort() returning None\n",
    "\n",
    "print(greek_letters)\n",
    "#output  ['alfa', 'beta', 'delta', 'gamma'] 按字母排序"
   ]
  },
  {
   "cell_type": "code",
   "execution_count": 1,
   "metadata": {},
   "outputs": [
    {
     "name": "stdout",
     "output_type": "stream",
     "text": [
      "Unsorted: [21, 3, -321, 2, 0, 0]\n",
      "Sorted: [-321, 0, 0, 2, 3, 21]\n",
      "Sorted descending: [21, 3, 2, 0, 0, -321]\n"
     ]
    }
   ],
   "source": [
    "numbers = [21,3,-321,2,0,0]\n",
    "print(f\"Unsorted: {numbers}\")\n",
    "\n",
    "numbers.sort() # 排序从小到大\n",
    "print(f\"Sorted: {numbers}\")\n",
    "\n",
    "numbers.sort(reverse=True)  #反方向 从大到小 descending降序\n",
    "print(f\"Sorted descending: {numbers}\") "
   ]
  },
  {
   "cell_type": "markdown",
   "metadata": {},
   "source": [
    "# List comprehension 列表推导式"
   ]
  },
  {
   "cell_type": "code",
   "execution_count": 7,
   "metadata": {},
   "outputs": [
    {
     "name": "stdout",
     "output_type": "stream",
     "text": [
      "[1, 8, 27, 64, 125, 216, 343, 512, 729]\n"
     ]
    }
   ],
   "source": [
    "cubes = [x**3 for x in range(1,10)] \n",
    "# x will get the values 1,...,9 -> [1^3, 2^3,...,9^3]\n",
    "print(cubes)\n",
    "# how to change to including 10?"
   ]
  },
  {
   "cell_type": "markdown",
   "metadata": {},
   "source": [
    "# Plot graph"
   ]
  },
  {
   "cell_type": "code",
   "execution_count": 8,
   "metadata": {},
   "outputs": [
    {
     "data": {
      "text/plain": [
       "Text(0, 0.5, 'y')"
      ]
     },
     "execution_count": 8,
     "metadata": {},
     "output_type": "execute_result"
    },
    {
     "data": {
      "image/png": "[encoded data removed]",
      "text/plain": [
       "<Figure size 432x288 with 1 Axes>"
      ]
     },
     "metadata": {
      "needs_background": "light"
     },
     "output_type": "display_data"
    }
   ],
   "source": [
    "import matplotlib.pyplot as plt \n",
    "\n",
    "x = list(range(10)) # creates a list of integers from 0-9 #创建一个从 0-9 的整数列表\n",
    "# how to change to -2---10?\n",
    "k = 2\n",
    "m = 2\n",
    "y = [k*x+m for x in x]\n",
    "\n",
    "plt.plot(x,y) # plots y vs x \n",
    "plt.title(\"Plot y = 2x+2\")\n",
    "plt.xlabel(\"x\")\n",
    "plt.ylabel(\"y\")"
   ]
  },
  {
   "cell_type": "code",
   "execution_count": null,
   "metadata": {},
   "outputs": [],
   "source": [
    "import random as rnd # the random module can now be accessed through rnd \n",
    "\n",
    "num_six = 0\n",
    "dice_rolls = 10000\n",
    "\n",
    "# dice simulations - count number of sixes 骰子模拟\n",
    "for i in range(dice_rolls):\n",
    "    dice = rnd.randint(1,6) # generates a random integer between 1 and 6\n",
    "    if dice == 6:\n",
    "        num_six += 1\n",
    "\n",
    "print(f\"Number of sixes {num_six} in {dice_rolls} dice rolls\")  \n",
    "print(f\"Probability of six {num_six/dice_rolls}\")"
   ]
  },
  {
   "cell_type": "code",
   "execution_count": null,
   "metadata": {},
   "outputs": [],
   "source": [
    "fruits = [\"apple\", \"orange\", \"grape\", \"strawberry\"]\n",
    "\n",
    "print(\"I love to eat\")\n",
    "for list in fruits: # variable fruit will contain a value at a time from fruits\n",
    "    print(list ,end=\" \")"
   ]
  },
  {
   "cell_type": "markdown",
   "metadata": {},
   "source": [
    "# L4 list exercises"
   ]
  },
  {
   "cell_type": "markdown",
   "metadata": {},
   "source": [
    "# 1. Dice rolls (*)\n",
    "Simulate 10 dice rolls and append the rolls to a list or use list comprehension.模拟 10 次掷骰子并将掷骰子附加到列表或使用列表理解。\n",
    "\n",
    "a) sort the list in ascending order (*) 按升序对列表进行排序 (*)\n",
    "\n",
    "b) sort the list in descending order (*) 按降序对列表进行排序 (*)\n",
    "\n",
    "c) find the maximum and minimum value in the list (*) 找出列表中的最大值和最小值 (*)"
   ]
  },
  {
   "cell_type": "markdown",
   "metadata": {},
   "source": [
    "# a"
   ]
  },
  {
   "cell_type": "code",
   "execution_count": 14,
   "metadata": {},
   "outputs": [
    {
     "name": "stdout",
     "output_type": "stream",
     "text": [
      "升序排列:[1, 2, 3, 4, 4, 5, 5, 5, 6, 6]\n"
     ]
    }
   ],
   "source": [
    "import random as rnd\n",
    "list1=[rnd.randint(1,6) for i in range(10)] #返回1到6之间的任意整数\n",
    "list1.sort()\n",
    "print(f\"升序排列:{list1}\")"
   ]
  },
  {
   "cell_type": "markdown",
   "metadata": {},
   "source": [
    "# b"
   ]
  },
  {
   "cell_type": "code",
   "execution_count": 15,
   "metadata": {},
   "outputs": [
    {
     "name": "stdout",
     "output_type": "stream",
     "text": [
      "降序排列:[6, 6, 5, 4, 4, 3, 3, 2, 2, 1]\n"
     ]
    }
   ],
   "source": [
    "import random as rnd\n",
    "list1=[rnd.randint(1,6) for i in range(10)]\n",
    "list1.sort(reverse=True)\n",
    "print(f\"降序排列:{list1}\")"
   ]
  },
  {
   "cell_type": "markdown",
   "metadata": {},
   "source": [
    "# c"
   ]
  },
  {
   "cell_type": "code",
   "execution_count": 16,
   "metadata": {},
   "outputs": [
    {
     "name": "stdout",
     "output_type": "stream",
     "text": [
      "Minimun is 1 and Maximun is 6\n"
     ]
    }
   ],
   "source": [
    "import random as rnd\n",
    "list1=[rnd.randint(1,6) for i in range(10)]\n",
    "a=min(list1)\n",
    "b=max(list1)\n",
    "print(f\"Minimun is {a} and Maximun is {b}\")"
   ]
  },
  {
   "cell_type": "markdown",
   "metadata": {},
   "source": [
    "# random.randint()用法\n",
    "random.randint(参数1，参数2)\n",
    "\n",
    "参数1、参数2必须是整数\n",
    "\n",
    "函数返回参数1和参数2之间的任意整数 (是随机的)"
   ]
  },
  {
   "cell_type": "code",
   "execution_count": 6,
   "metadata": {},
   "outputs": [
    {
     "name": "stdout",
     "output_type": "stream",
     "text": [
      "result: 4\n"
     ]
    }
   ],
   "source": [
    "import random \n",
    "result=random.randint(1,10) #返回到1到10之间的任意整数\n",
    "print(f\"result:\",result)"
   ]
  },
  {
   "cell_type": "markdown",
   "metadata": {},
   "source": [
    "# 2 Food menu\n",
    "Create a:\n",
    "\n",
    "a) list with the following elements: \"vegetarisk lasagne\", \"spaghetti\", \"fisk\", \"grönsakssoppa\", \"pannkakor\". (*)\n",
    "\n",
    "b) list with the weekdays (*)\n",
    "\n",
    "c) create a food menu with each day corresponding to each food item and print it out. (*)"
   ]
  },
  {
   "cell_type": "code",
   "execution_count": 31,
   "metadata": {},
   "outputs": [
    {
     "name": "stdout",
     "output_type": "stream",
     "text": [
      "Monday:vegetarisk lasagne\n",
      "Tuesday:spaghetti\n",
      "Wednesday:fisk\n",
      "Thursday:grönsakssoppa\n",
      "Friday:pannkakor\n"
     ]
    }
   ],
   "source": [
    "food=[\"vegetarisk lasagne\", \"spaghetti\", \"fisk\", \"grönsakssoppa\", \"pannkakor\"]\n",
    "weekdays=[\"Monday\",\"Tuesday\",\"Wednesday\",\"Thursday\",\"Friday\"]\n",
    "\n",
    "print(f\"{weekdays[0]}:{food[0]}\")\n",
    "print(f\"{weekdays[1]}:{food[1]}\")\n",
    "print(f\"{weekdays[2]}:{food[2]}\")\n",
    "print(f\"{weekdays[3]}:{food[3]}\")\n",
    "print(f\"{weekdays[4]}:{food[4]}\")"
   ]
  },
  {
   "cell_type": "code",
   "execution_count": 32,
   "metadata": {},
   "outputs": [
    {
     "name": "stdout",
     "output_type": "stream",
     "text": [
      "manday: vegetarisk lasagne\n",
      "tuesday: spaghetti\n",
      "wednesday: fisk\n",
      "thursday: grönsakssoppa\n",
      "friday: pannkakor\n"
     ]
    }
   ],
   "source": [
    "#方法二\n",
    "food=[\"vegetarisk lasagne\", \"spaghetti\", \"fisk\", \"grönsakssoppa\", \"pannkakor\"]\n",
    "weekdays=[\"manday\",\"tuesday\",\"wednesday\",\"thursday\",\"friday\"]\n",
    "for i in range(0,5):# 给i赋值从0到5，不包括5\n",
    "    print(f\"{weekdays[i]}: {food[i]}\")"
   ]
  },
  {
   "cell_type": "markdown",
   "metadata": {},
   "source": [
    "# 3 square\n",
    "\n",
    "a) Use list comprehension to create a list of squares from -10 to 10 (*)\n",
    "\n",
    "b) Plot this list using matplotlib. (*)"
   ]
  },
  {
   "cell_type": "code",
   "execution_count": 34,
   "metadata": {},
   "outputs": [
    {
     "name": "stdout",
     "output_type": "stream",
     "text": [
      "[100, 81, 64, 49, 36, 25, 16, 9, 4, 1, 0, 1, 4, 9, 16, 25, 36, 49, 64, 81, 100]\n"
     ]
    },
    {
     "data": {
      "text/plain": [
       "Text(0, 0.5, 'y')"
      ]
     },
     "execution_count": 34,
     "metadata": {},
     "output_type": "execute_result"
    },
    {
     "data": {
      "image/png": "[encoded data removed]",
      "text/plain": [
       "<Figure size 432x288 with 1 Axes>"
      ]
     },
     "metadata": {
      "needs_background": "light"
     },
     "output_type": "display_data"
    }
   ],
   "source": [
    "# 3 square\n",
    "x = [x for x in range(-10,11)] # 给x赋值从10到11，不包括11\n",
    "y = [x**2 for x in range(-10,11)]\n",
    "print(y)\n",
    "\n",
    "import matplotlib.pyplot as plt \n",
    "plt.plot(x,y) # plots y vs x (绘制 y 与 x)\n",
    "plt.title(\"Plot y = x^2\")\n",
    "plt.xlabel(\"x\")\n",
    "plt.ylabel(\"y\")"
   ]
  },
  {
   "cell_type": "markdown",
   "metadata": {},
   "source": [
    "# 4. Chessboard 棋盘(**)\n",
    "a) Create this list using list comprehension: (*)\n",
    "\n",
    "['A1', 'B1', 'C1', 'D1', 'E1', 'F1', 'G1', 'H1']"
   ]
  },
  {
   "cell_type": "code",
   "execution_count": 37,
   "metadata": {},
   "outputs": [
    {
     "name": "stdout",
     "output_type": "stream",
     "text": [
      "['A1', 'B1', 'C1', 'D1', 'E1', 'F1', 'G1', 'H1']\n"
     ]
    }
   ],
   "source": [
    "list1=['A1', 'B1', 'C1', 'D1', 'E1', 'F1', 'G1', 'H1']\n",
    "print(list1)"
   ]
  },
  {
   "cell_type": "markdown",
   "metadata": {},
   "source": [
    "#b) Create a 2D list to hold the coordinates in a chessboard. (**)"
   ]
  },
  {
   "cell_type": "code",
   "execution_count": 38,
   "metadata": {},
   "outputs": [
    {
     "data": {
      "text/plain": [
       "[['A1', 'B1', 'C1', 'D1', 'E1', 'F1', 'G1', 'H1'],\n",
       " ['A2', 'B2', 'C2', 'D2', 'E2', 'F2', 'G2', 'H2'],\n",
       " ['A3', 'B3', 'C3', 'D3', 'E3', 'F3', 'G3', 'H3'],\n",
       " ['A4', 'B4', 'C4', 'D4', 'E4', 'F4', 'G4', 'H4'],\n",
       " ['A5', 'B5', 'C5', 'D5', 'E5', 'F5', 'G5', 'H5'],\n",
       " ['A6', 'B6', 'C6', 'D6', 'E6', 'F6', 'G6', 'H6'],\n",
       " ['A7', 'B7', 'C7', 'D7', 'E7', 'F7', 'G7', 'H7'],\n",
       " ['A8', 'B8', 'C8', 'D8', 'E8', 'F8', 'G8', 'H8']]"
      ]
     },
     "execution_count": 38,
     "metadata": {},
     "output_type": "execute_result"
    }
   ],
   "source": [
    "list2=['A', 'B', 'C', 'D', 'E', 'F', 'G', 'H'] #国际象棋棋盘一边是数字1到8，另一边是字母A到E,类似一个8行8列的矩阵\n",
    "\n",
    "[[f\"{list2}{i}\" for list2 in list2] for i in range(1,9)] #给 赋值从1到9，不包括9"
   ]
  },
  {
   "cell_type": "markdown",
   "metadata": {},
   "source": [
    "# 5. Dice rolls convergence (**)"
   ]
  },
  {
   "cell_type": "markdown",
   "metadata": {},
   "source": [
    "# Simulate:\n",
    "\n",
    "a) 100 dice rolls and count the number of outcome six. (*) 掷 100 个骰子并计算结果为 6 的数量。"
   ]
  },
  {
   "cell_type": "code",
   "execution_count": 41,
   "metadata": {},
   "outputs": [
    {
     "name": "stdout",
     "output_type": "stream",
     "text": [
      "[5, 1, 1, 4, 5, 5, 2, 6, 6, 2, 3, 3, 4, 1, 3, 5, 3, 4, 2, 1, 5, 2, 5, 1, 1, 5, 1, 6, 3, 5, 3, 1, 1, 1, 2, 3, 6, 2, 3, 4, 1, 2, 1, 1, 5, 3, 1, 2, 4, 3, 3, 6, 6, 5, 2, 5, 1, 5, 1, 2, 4, 1, 4, 4, 5, 1, 3, 1, 3, 6, 5, 3, 3, 6, 2, 6, 4, 3, 4, 5, 5, 4, 3, 1, 3, 5, 2, 5, 4, 2, 1, 6, 1, 6, 3, 3, 6, 5, 3, 3]\n",
      "There is 12 times we roll a six\n"
     ]
    }
   ],
   "source": [
    "import random as rnd\n",
    "roll_list=[rnd.randint(1,6) for times in range(100)]\n",
    "count=0\n",
    "for i in roll_list:\n",
    "    if i==6:\n",
    "        count+=1\n",
    "print(roll_list)\n",
    "print(f\"There is {count} times we roll a six\")"
   ]
  },
  {
   "cell_type": "markdown",
   "metadata": {},
   "source": [
    "b) 10, 100, 1000, 10000, 100000, 1000000 dice rolls. Count the number of outcome six in each simulation and store it in a list. Compute the probability of outcome six in each simulation. (**)"
   ]
  },
  {
   "cell_type": "code",
   "execution_count": 17,
   "metadata": {},
   "outputs": [
    {
     "name": "stdout",
     "output_type": "stream",
     "text": [
      "The number of six in rolls is [3, 16, 172, 1651, 16619, 166961]\n",
      "The probability of six in rolls is [0.3, 0.16, 0.172, 0.1651, 0.16619, 0.166961]\n"
     ]
    },
    {
     "data": {
      "text/plain": [
       "Text(0, 0.5, 'Probability')"
      ]
     },
     "execution_count": 17,
     "metadata": {},
     "output_type": "execute_result"
    },
    {
     "data": {
      "image/png": "[encoded data removed]",
      "text/plain": [
       "<Figure size 432x288 with 1 Axes>"
      ]
     },
     "metadata": {
      "needs_background": "light"
     },
     "output_type": "display_data"
    }
   ],
   "source": [
    "#c) Use matplotlib to plot this list. (*)\n",
    "import random as rnd\n",
    "import matplotlib.pyplot as plt\n",
    "\n",
    "list_six=[]\n",
    "list_p=[]\n",
    "n=[10,100,1000,10000,100000,1000000]\n",
    "\n",
    "for i in n: # loop for n-list \n",
    "    roll_list=[rnd.randint(1,6) for i in range(i)]\n",
    "    count=0\n",
    "\n",
    "    for j in roll_list: # loop for i times in n-list\n",
    "        if j==6:\n",
    "            count+=1\n",
    "            p=int(count)/i\n",
    "    list_six.append(count)\n",
    "    list_p.append(p)\n",
    "\n",
    "print(f\"The number of six in rolls is {list_six}\")\n",
    "print(f\"The probability of six in rolls is {list_p}\")\n",
    "\n",
    "rnd.seed(66)\n",
    "plt.plot(list_p, '-*')\n",
    "plt.title(\"Probability of six for different number of rolls\")\n",
    "plt.xticks([0,1,2,3,4,5], n)         \n",
    "plt.xlabel(\"Number of dice rolls\")\n",
    "plt.ylabel(\"Probability\")\n",
    "\n"
   ]
  },
  {
   "cell_type": "code",
   "execution_count": 6,
   "metadata": {},
   "outputs": [
    {
     "name": "stdout",
     "output_type": "stream",
     "text": [
      "4\n",
      "8\n",
      "1073741824\n"
     ]
    }
   ],
   "source": [
    "print(2**2) #2的平方\n",
    "print(2**3)  #2的立方\n",
    "print(2**30) #2的30次方 \n",
    "#print(2***) 这种写方是错误的"
   ]
  },
  {
   "cell_type": "code",
   "execution_count": 19,
   "metadata": {},
   "outputs": [
    {
     "name": "stdout",
     "output_type": "stream",
     "text": [
      "[-10, -9, -8, -7, -6, -5, -4, -3, -2, -1, 0, 1, 2, 3, 4, 5, 6, 7, 8, 9, 10]\n",
      "[100, 81, 64, 49, 36, 25, 16, 9, 4, 1, 0, 1, 4, 9, 16, 25, 36, 49, 64, 81, 100]\n"
     ]
    },
    {
     "data": {
      "text/plain": [
       "Text(0, 0.5, 'y')"
      ]
     },
     "execution_count": 19,
     "metadata": {},
     "output_type": "execute_result"
    },
    {
     "data": {
      "image/png": "[encoded data removed]",
      "text/plain": [
       "<Figure size 432x288 with 1 Axes>"
      ]
     },
     "metadata": {
      "needs_background": "light"
     },
     "output_type": "display_data"
    }
   ],
   "source": [
    "# 3 square\n",
    "x = list(range(-10,11)) #创建一个从-10 到10 的整数列表\n",
    "print(x)\n",
    "\n",
    "y = [x**2 for x in range (-10,11)]\n",
    "print(y)\n",
    "\n",
    "import matplotlib.pyplot as plt \n",
    "plt.plot(x,y) # plots y vs x (绘制 y 与 x)\n",
    "plt.title(\"Plot y = x^2\")\n",
    "plt.xlabel(\"x\")\n",
    "plt.ylabel(\"y\")"
   ]
  },
  {
   "cell_type": "code",
   "execution_count": 24,
   "metadata": {},
   "outputs": [
    {
     "name": "stdout",
     "output_type": "stream",
     "text": [
      "[-10, -9, -8, -7, -6, -5, -4, -3, -2, -1, 0, 1, 2, 3, 4, 5, 6, 7, 8, 9, 10]\n",
      "[-1000, -729, -512, -343, -216, -125, -64, -27, -8, -1, 0, 1, 8, 27, 64, 125, 216, 343, 512, 729, 1000]\n"
     ]
    },
    {
     "data": {
      "text/plain": [
       "Text(0, 0.5, 'z')"
      ]
     },
     "execution_count": 24,
     "metadata": {},
     "output_type": "execute_result"
    },
    {
     "data": {
      "image/png": "[encoded data removed]",
      "text/plain": [
       "<Figure size 432x288 with 1 Axes>"
      ]
     },
     "metadata": {
      "needs_background": "light"
     },
     "output_type": "display_data"
    }
   ],
   "source": [
    "# X 的立方\n",
    "x=list(range(-10,11))\n",
    "print(x)\n",
    "z=[x**3 for x in range (-10,11)]\n",
    "print(z)\n",
    "\n",
    "import matplotlib.pyplot as plt \n",
    "plt.plot(x,z) # plots z vs x (绘制 z 与 x)\n",
    "plt.title(\"Plot z = x^3\")\n",
    "plt.xlabel(\"x\")\n",
    "plt.ylabel(\"z\")"
   ]
  },
  {
   "cell_type": "code",
   "execution_count": null,
   "metadata": {},
   "outputs": [
    {
     "name": "stdout",
     "output_type": "stream",
     "text": [
      "Correct\n",
      "Correct\n",
      "Have a nice day!\n"
     ]
    }
   ],
   "source": [
    "import random as rnd # this module has functions for generating random numbers \n",
    "\n",
    "while True: \n",
    "    number1 = rnd.randint(1,10)\n",
    "    number2 = rnd.randint(1,10)\n",
    "\n",
    "    user_answer = int(input(f\"What is {number1}*{number2}? \"))\n",
    "    if user_answer == number1*number2:\n",
    "        print(\"Correct\")\n",
    "    else:\n",
    "        print(f\"{user_answer} is unfortunately wrong\")\n",
    "\n",
    "    play_again = input(\"Wanna play again (y for yes)? \")\n",
    "    \n",
    "    if play_again != \"y\":\n",
    "        print(\"Have a nice day!\")\n",
    "        break"
   ]
  },
  {
   "cell_type": "code",
   "execution_count": null,
   "metadata": {},
   "outputs": [
    {
     "name": "stdout",
     "output_type": "stream",
     "text": [
      "-9 -7 -5 -3 -1 1 3 5 7 9 "
     ]
    }
   ],
   "source": [
    "# print out all odd numbers between -10 and 10 所有奇数\n",
    "n = -9 \n",
    "while n <= 10:\n",
    "    print(n, end=\" \") # by default print ends with \\n a newline, but here we end it with an empty space 默认打印以 \\n 换行结束，但在这里我们以一个空格结束\n",
    "    n += 2"
   ]
  }
 ],
 "metadata": {
  "interpreter": {
   "hash": "26686dec1f1c69e7843542045c9bcb01e7d61ef2953291481df04c12bb1a928f"
  },
  "kernelspec": {
   "display_name": "Python 3.9.6 64-bit",
   "name": "python3"
  },
  "language_info": {
   "codemirror_mode": {
    "name": "ipython",
    "version": 3
   },
   "file_extension": ".py",
   "mimetype": "text/x-python",
   "name": "python",
   "nbconvert_exporter": "python",
   "pygments_lexer": "ipython3",
   "version": "3.9.6"
  },
  "orig_nbformat": 4
 },
 "nbformat": 4,
 "nbformat_minor": 2
}
