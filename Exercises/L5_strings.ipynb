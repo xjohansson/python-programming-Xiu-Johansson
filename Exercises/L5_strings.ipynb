{
 "cells": [
  {
   "cell_type": "markdown",
   "metadata": {},
   "source": [
    "# Lecture notes 5 - strings"
   ]
  },
  {
   "cell_type": "markdown",
   "metadata": {},
   "source": [
    "# Concatenate strings 连接字符串"
   ]
  },
  {
   "cell_type": "code",
   "execution_count": 1,
   "metadata": {},
   "outputs": [
    {
     "name": "stdout",
     "output_type": "stream",
     "text": [
      "\n",
      "Name: Kokchun Giang \n",
      "School: IT-Högskolan \n",
      "Adress: Ebbe Lieberathsgatan 18C, 412 65 Göteborg\n",
      "Phone: 112\n",
      "\n"
     ]
    }
   ],
   "source": [
    "firstname = \"Kokchun\"\n",
    "lastname = \"Giang\"\n",
    "\n",
    "fullname = firstname +\" \"+ lastname # concatenating strings 双引号中间的空格\n",
    "school = \"IT-Högskolan\"\n",
    "address = \"Ebbe Lieberathsgatan 18C, 412 65 Göteborg\"\n",
    "phone = \"112\"\n",
    "\n",
    "# multiline f-string #用三个引号来打印出来很多内容\n",
    "contact_details = f\"\"\"\n",
    "Name: {fullname} \n",
    "School: {school} \n",
    "Adress: {address}\n",
    "Phone: {phone}\n",
    "\"\"\"\n",
    "\n",
    "print(contact_details)"
   ]
  },
  {
   "cell_type": "code",
   "execution_count": 7,
   "metadata": {},
   "outputs": [
    {
     "name": "stdout",
     "output_type": "stream",
     "text": [
      "Name: Xiu Johansson, School: IT-Högskolan, Adress: Kongahällagatan 88B,Phone: 112 \n"
     ]
    }
   ],
   "source": [
    "firstname = \"Xiu\"\n",
    "lastname = \"Johansson\"\n",
    "\n",
    "fullname = firstname +\" \"+ lastname # concatenating strings 双引号中间的空格\n",
    "school = \"IT-Högskolan\"\n",
    "address = \"Kongahällagatan 88B\"\n",
    "phone = \"112\"\n",
    "\n",
    "# multiline f-string \n",
    "contact_details = f\"Name: {fullname}, School: {school}, Adress: {address},Phone: {phone} \"\n",
    "\n",
    "print(contact_details)"
   ]
  },
  {
   "cell_type": "markdown",
   "metadata": {},
   "source": [
    "# Concatenate with loop 与循环连接"
   ]
  },
  {
   "cell_type": "code",
   "execution_count": 2,
   "metadata": {},
   "outputs": [
    {
     "name": "stdout",
     "output_type": "stream",
     "text": [
      "Veckomeny\n",
      "Må: Chili sin carne \n",
      "Ti: Nudlar \n",
      "On: Pokebowl \n",
      "To: Pannkakor \n",
      "Fr: Tacos \n",
      "\n"
     ]
    }
   ],
   "source": [
    "#Concatenate with loop 与循环连接\n",
    "bamba = [\"Chili sin carne\", \"Nudlar\", \"Pokebowl\", \"Pannkakor\", \"Tacos\"]\n",
    "days = [\"Må\", \"Ti\", \"On\", \"To\", \"Fr\"]\n",
    "\n",
    "menu = \"Veckomeny\\n\" # \\n gives newline 换行\n",
    "\n",
    "for day, food in zip(days, bamba):  #把这理解成for x,y in zip(list_1,list_2):day=x,food=y\n",
    "    menu += f\"{day}: {food} \\n\"\n",
    "\n",
    "print(menu)"
   ]
  },
  {
   "cell_type": "markdown",
   "metadata": {},
   "source": [
    "# Indexing\n",
    "\n",
    "a string is an array of bytes that represents unicode characters\n",
    "\n",
    "use the indexing operator [] to access elements 使用索引运算符 [] 访问元素\n",
    "\n",
    "combine with slice operator : to get a section in the string 获取字符串中的一个部分"
   ]
  },
  {
   "cell_type": "code",
   "execution_count": 2,
   "metadata": {},
   "outputs": [
    {
     "name": "stdout",
     "output_type": "stream",
     "text": [
      "quote[0]: !\n",
      "quote[5]: e - i\n",
      "quote[-4]: T\n",
      "quote[-4:]: True\n",
      "Backwards quote[::-1]: eurT s'ti esuaceb ynnuf s'ti - eslaF!\n"
     ]
    }
   ],
   "source": [
    "# note the different types of quotes(引号), can't use '' for denoting string (表示字符串)here, as ' is already used\n",
    "quote = \"!False - it's funny because it's True\" \n",
    "print(f\"quote[0]: {quote[0]}\")\n",
    "print(f\"quote[5]: {quote[5:10]}\") # [start:end-1] 从5到10不包含10\n",
    "print(f\"quote[-4]: {quote[-4]}\") # indexing starting from the end 从后往前数\n",
    "print(f\"quote[-4:]: {quote[-4:]}\") # slice from -4 to the end 从右往左从第4个到最后\n",
    "print(f\"Backwards quote[::-1]: {quote[::-1]}\") # reversing 整串字母都调转方向"
   ]
  },
  {
   "cell_type": "markdown",
   "metadata": {},
   "source": [
    "# Split a string 拆分字符串"
   ]
  },
  {
   "cell_type": "code",
   "execution_count": 10,
   "metadata": {},
   "outputs": [
    {
     "name": "stdout",
     "output_type": "stream",
     "text": [
      "MATH has 4 letters\n",
      "BIOLOGY has 7 letters\n",
      "CHEMISTRY has 9 letters\n",
      "PROGRAMMING has 11 letters\n"
     ]
    }
   ],
   "source": [
    "# Split a string 拆分字符串\n",
    "\n",
    "subjects = \"Math, biology  ,   cHeMistry  ,  PrOgramming      \"\n",
    "subjects = subjects.split(\",\") # argument defines the pattern which the string should be splitted\n",
    "\n",
    "subjects = [subject.strip().upper() for subject in subjects] # strips and make uppercase 大写\n",
    "\n",
    "for subject in subjects: #用法和for i in range()一样 ，给i赋值\n",
    "    print(f\"{subject} has {len(subject)} letters\") "
   ]
  },
  {
   "cell_type": "code",
   "execution_count": 3,
   "metadata": {},
   "outputs": [
    {
     "name": "stdout",
     "output_type": "stream",
     "text": [
      "Medelvärdet av dina tal är 2.0\n"
     ]
    }
   ],
   "source": [
    "# mean from input\n",
    "numbers = input(\"Ange några tal separerade med mellanslag: \").split() #输入一些以空格分隔的数字\n",
    "numbers = [float(number) for number in numbers]\n",
    "\n",
    "sum = 0\n",
    "\n",
    "for number in numbers:\n",
    "    sum += number\n",
    "\n",
    "mean = sum/len(numbers)\n",
    "print(f\"Medelvärdet av dina tal är {mean:.1f}\")"
   ]
  },
  {
   "cell_type": "code",
   "execution_count": null,
   "metadata": {},
   "outputs": [],
   "source": [
    "# 总结\n",
    "# len() returns the number of items, for a string it returns the number of characters \n",
    "# len() 计算字符串的长度：\n",
    "\n",
    "# 1.默认用法：去除空格\n",
    "# str.strip() ： 去除字符串两边的空格\n",
    "# str.lstrip() ： 去除字符串左边的空格\n",
    "# str.rstrip() ： 去除字符串右边的空格\n",
    "\n",
    "# 2、去除指定字符\n",
    "# str.strip(‘do’) ：去除字符串两端指定的字符\n",
    "# str.lstrip(‘do’) ：用于去除左边指定的字符\n",
    "# str.rstrip(‘do’) ：用于去除右边指定的字符"
   ]
  },
  {
   "cell_type": "code",
   "execution_count": 18,
   "metadata": {},
   "outputs": [
    {
     "data": {
      "text/plain": [
       "'xiujohansson 0000'"
      ]
     },
     "execution_count": 18,
     "metadata": {},
     "output_type": "execute_result"
    }
   ],
   "source": [
    "s=\"xiujohansson 0000    \"\n",
    "s.rstrip(\" \") # 用于去除右边指定的字符"
   ]
  },
  {
   "cell_type": "code",
   "execution_count": 23,
   "metadata": {},
   "outputs": [
    {
     "data": {
      "text/plain": [
       "'0000xiujohansson0000'"
      ]
     },
     "execution_count": 23,
     "metadata": {},
     "output_type": "execute_result"
    }
   ],
   "source": [
    "t=\"0000xiujohansson0000\" #如果首位有空格，就无法删除这些字符了    ??????????????????????????????\n",
    "t.strip(\"xiu\")"
   ]
  },
  {
   "cell_type": "code",
   "execution_count": 29,
   "metadata": {},
   "outputs": [
    {
     "name": "stdout",
     "output_type": "stream",
     "text": [
      "['an', 'apple', 'a', 'day']\n"
     ]
    }
   ],
   "source": [
    "#split() 函数用法\n",
    "m=\"an apple a day\"\n",
    "def split(m):\n",
    "    return m.split(\"\") #不带参数，以空格分隔,双引号里面是空白\n",
    "print(m.split())    "
   ]
  },
  {
   "cell_type": "code",
   "execution_count": 30,
   "metadata": {},
   "outputs": [
    {
     "name": "stdout",
     "output_type": "stream",
     "text": [
      "['an', 'apple', '!!', 'a', 'day']\n"
     ]
    }
   ],
   "source": [
    "m=\"an apple !! a day\"\n",
    "def split(m):\n",
    "    return m.split(\"!!\")\n",
    "print(m.split())    "
   ]
  },
  {
   "cell_type": "code",
   "execution_count": 24,
   "metadata": {},
   "outputs": [
    {
     "name": "stdout",
     "output_type": "stream",
     "text": [
      "Medelvärdet av dina tal är 239.5\n"
     ]
    }
   ],
   "source": []
  },
  {
   "cell_type": "markdown",
   "metadata": {},
   "source": [
    "# Regular expressions"
   ]
  },
  {
   "cell_type": "code",
   "execution_count": 31,
   "metadata": {},
   "outputs": [
    {
     "name": "stdout",
     "output_type": "stream",
     "text": [
      "['katt', 'hatt']\n"
     ]
    }
   ],
   "source": [
    "import re \n",
    "\n",
    "# find all words ending with \"att\" in this text 找出所有词以字母att为结尾\n",
    "text = \"Det var en gång en katt som tog på sig en hatt.\"\n",
    "# need to use raw strings for regexp\n",
    "match_list = re.findall(r\".att\", text) # dot . matches all characters\n",
    "print(match_list)"
   ]
  },
  {
   "cell_type": "code",
   "execution_count": 32,
   "metadata": {},
   "outputs": [
    {
     "name": "stdout",
     "output_type": "stream",
     "text": [
      "Naive YYYYMMDD-XXXX: ['19950516-2235', '19581212-3213', '19932235-3213']\n",
      "Naive YYMMDD-XXXX: ['950516-2235', '581212-3213', '050524-1513', '932235-3213']\n"
     ]
    }
   ],
   "source": [
    "import re\n",
    "\n",
    "personal_numbers = \"Ida: 19950516-2235, Berit: 19581212-3213, Ada: 050524-1513, FEL: 19932235-3213\"\n",
    "\n",
    "match_long = re.findall(r\"\\d{8}-\\d{4}\", personal_numbers) #\\d - digit, {x} number of times it repeats\n",
    "print(f\"Naive YYYYMMDD-XXXX: {match_long}\")\n",
    "\n",
    "match_short = re.findall(r\"\\d{6}-\\d{4}\", personal_numbers)\n",
    "print(f\"Naive YYMMDD-XXXX: {match_short}\")"
   ]
  },
  {
   "cell_type": "code",
   "execution_count": 33,
   "metadata": {},
   "outputs": [
    {
     "name": "stdout",
     "output_type": "stream",
     "text": [
      "['say', ' ', 'hello', ' ', 'world!', ' ', 'hello', ' ', 'python']\n",
      "['one', '1', 'two2three3four4']\n"
     ]
    }
   ],
   "source": [
    "import re\n",
    "str = 'say hello world! hello python'\n",
    "str_nm = 'one1two2three3four4'\n",
    "pattern = re.compile(r'(?P<space>\\s)') # 创建一个匹配空格的正则表达式对象\n",
    "pattern_nm = re.compile(r'(?P<space>\\d+)') # 创建一个匹配空格的正则表达式对象\n",
    "match = re.split(pattern, str)\n",
    "match_nm = re.split(pattern_nm, str_nm, maxsplit=1)\n",
    "print(match)\n",
    "print(match_nm)"
   ]
  },
  {
   "cell_type": "code",
   "execution_count": 34,
   "metadata": {},
   "outputs": [
    {
     "name": "stdout",
     "output_type": "stream",
     "text": [
      "['aab', 'aab']\n",
      "['aab', 'b', 'ab', 'aab', 'b']\n",
      "['aabbabaabb']\n",
      "['aab', 'ab', 'aab']\n",
      "['a', '', 'a']\n",
      "['aab', 'ab', 'aab']\n",
      "['aab', 'ab', 'aab', 'aa\\n         b']\n"
     ]
    }
   ],
   "source": [
    "import re\n",
    " \n",
    "str = 'aabbabaabbaa'\n",
    "\n",
    "# 一个\".\"就是匹配除 \\n (换行符)以外的任意一个字符\n",
    "print(re.findall(r'a.b',str))#['aab', 'aab']\n",
    "\n",
    "# *前面的字符出现0次或以上\n",
    "print(re.findall(r'a*b',str))#['aab', 'b', 'ab', 'aab', 'b']\n",
    "\n",
    "# 贪婪，匹配从.*前面为开始到后面为结束的所有内容\n",
    "print(re.findall(r'a.*b',str))#['aabbabaabb']\n",
    "\n",
    "# 非贪婪，遇到开始和结束就进行截取，因此截取多次符合的结果，中间没有字符也会被截取\n",
    "print(re.findall(r'a.*?b',str))#['aab', 'ab', 'aab']\n",
    "\n",
    "# 非贪婪，与上面一样，只是与上面的相比多了一个括号，只保留括号的内容\n",
    "print(re.findall(r'a(.*?)b',str))#['a', '', 'a']\n",
    " \n",
    "str = '''aabbab\n",
    "         aabbaa\n",
    "         bb'''     #后面多加了2个b\n",
    "\n",
    "# 没有把最后一个换行的aab算进来\n",
    "print(re.findall(r'a.*?b',str))#['aab', 'ab', 'aab']\n",
    "\n",
    "# re.S不会对\\n进行中断\n",
    "print(re.findall(r'a.*?b',str,re.S))#['aab', 'ab', 'aab', 'aa\\n         b']"
   ]
  },
  {
   "cell_type": "code",
   "execution_count": 1,
   "metadata": {},
   "outputs": [
    {
     "data": {
      "text/plain": [
       "' 0000 xiujohansson 0000'"
      ]
     },
     "execution_count": 1,
     "metadata": {},
     "output_type": "execute_result"
    }
   ],
   "source": [
    "s=\" 0000 xiujohansson 0000    \"\n",
    "s.rstrip() # 用于去除右边指定的字符"
   ]
  },
  {
   "cell_type": "code",
   "execution_count": 2,
   "metadata": {},
   "outputs": [
    {
     "data": {
      "text/plain": [
       "' 0000 xiujohansson 0000'"
      ]
     },
     "execution_count": 2,
     "metadata": {},
     "output_type": "execute_result"
    }
   ],
   "source": [
    "s=\" 0000 xiujohansson 0000    \"\n",
    "s.rstrip() # 用于去除右边指定的字符"
   ]
  },
  {
   "cell_type": "markdown",
   "metadata": {},
   "source": [
    "# 下面不知道是哪里的"
   ]
  },
  {
   "cell_type": "markdown",
   "metadata": {},
   "source": [
    "# L5 strings exercises"
   ]
  },
  {
   "cell_type": "markdown",
   "metadata": {},
   "source": [
    "# 1. Counting letters (*)"
   ]
  },
  {
   "cell_type": "code",
   "execution_count": 5,
   "metadata": {},
   "outputs": [
    {
     "name": "stdout",
     "output_type": "stream",
     "text": [
      "5\n"
     ]
    }
   ],
   "source": [
    "#Let the user input a word:\n",
    " #a)   print out the number of letters in the word. (*)\n",
    "\n",
    "word = input(\"Write a word: \")\n",
    "number=len(word)\n",
    "print(number)\n",
    "# for example \"Hello是5个字节\""
   ]
  },
  {
   "cell_type": "markdown",
   "metadata": {},
   "source": [
    "# len() 方法"
   ]
  },
  {
   "cell_type": "code",
   "execution_count": 25,
   "metadata": {},
   "outputs": [
    {
     "data": {
      "text/plain": [
       "9"
      ]
     },
     "execution_count": 25,
     "metadata": {},
     "output_type": "execute_result"
    }
   ],
   "source": [
    "# Python len() 方法返回对象（字符、列表、元组等）长度或项目个数。\n",
    "str=\"beautiful\"\n",
    "len(str)  # 字符串长度9"
   ]
  },
  {
   "cell_type": "code",
   "execution_count": 24,
   "metadata": {},
   "outputs": [
    {
     "data": {
      "text/plain": [
       "5"
      ]
     },
     "execution_count": 24,
     "metadata": {},
     "output_type": "execute_result"
    }
   ],
   "source": [
    "t=[8,6,4,2,0] # 列表元素个数\n",
    "len(t)"
   ]
  },
  {
   "cell_type": "code",
   "execution_count": 29,
   "metadata": {},
   "outputs": [
    {
     "name": "stdout",
     "output_type": "stream",
     "text": [
      "4\n"
     ]
    }
   ],
   "source": [
    "mylist = [\"apple\", \"banana\", \"cherry\",\"grape\"]\n",
    "x = len(mylist) #列表中的项目数\n",
    "print(x)"
   ]
  },
  {
   "cell_type": "code",
   "execution_count": 31,
   "metadata": {},
   "outputs": [
    {
     "name": "stdout",
     "output_type": "stream",
     "text": [
      "5\n"
     ]
    }
   ],
   "source": [
    "mylist2 = \"Hello\"\n",
    "y= len(mylist2)\n",
    "print(y)"
   ]
  },
  {
   "cell_type": "code",
   "execution_count": 6,
   "metadata": {},
   "outputs": [
    {
     "name": "stdout",
     "output_type": "stream",
     "text": [
      "Hello\n",
      "The number of uppercase is 1. The number of lowercase is 4\n"
     ]
    }
   ],
   "source": [
    "#b)   print out the number of uppercase and lowercase letters of the word (*)\n",
    "\n",
    "word = input(\"Write a word: \")\n",
    "upp=0\n",
    "low=0\n",
    "for i in word:\n",
    "    if i.isupper()==True:\n",
    "        upp+=1\n",
    "    else:\n",
    "        low+=1\n",
    "        continue\n",
    "\n",
    "print(word)\n",
    "print(f\"The number of uppercase is {upp}. The number of lowercase is {low}\")\n",
    "# for example \"Hello是1个大写字母，4个小写字母"
   ]
  },
  {
   "cell_type": "markdown",
   "metadata": {},
   "source": [
    "# 2. Counting words (*)"
   ]
  },
  {
   "cell_type": "code",
   "execution_count": 7,
   "metadata": {},
   "outputs": [
    {
     "name": "stdout",
     "output_type": "stream",
     "text": [
      "99\n"
     ]
    }
   ],
   "source": [
    "#Count the number of words in this sentence: \"A picture says more than a thousand words, a matematical formula # says more than a thousand pictures.\" (*)\n",
    "\n",
    "sentence=\"A picture says more than a thousand words, a matematical formula says more than a thousand pictures\"\n",
    "number=len(sentence)\n",
    "print(number)"
   ]
  },
  {
   "cell_type": "markdown",
   "metadata": {},
   "source": [
    "# 3. Palindrome 回文(正反读都一样的词语(*)"
   ]
  },
  {
   "cell_type": "code",
   "execution_count": null,
   "metadata": {},
   "outputs": [],
   "source": [
    "#A palindrome is a sequence of characters that is the same, when read forward as backwards (ignoring spaces). For example:\n",
    "# 回文是一个相同的字符序列，当向前读为向后读时（忽略空格）\n",
    "\n",
    "   #\"Anna\" is a palindrome 例如ANNA 无论是从左往右读还是从右往左读，都是一样的\n",
    "   #\"Ni talar bra latin\"\n",
    "   #bjkjb\n",
    "#Let the user input a sequence of characters and check if it is a palindrome. (*)"
   ]
  },
  {
   "cell_type": "code",
   "execution_count": 19,
   "metadata": {},
   "outputs": [
    {
     "name": "stdout",
     "output_type": "stream",
     "text": [
      "This is a palindrome!\n"
     ]
    }
   ],
   "source": [
    "words=input(\"Type a sequence:\")\n",
    "if words==words[::-1]:\n",
    "    print(\"This is a palindrome!\") #回文\n",
    "else:\n",
    "    print(\"This is not a palindrome!\")"
   ]
  },
  {
   "cell_type": "markdown",
   "metadata": {},
   "source": [
    "# 4. Vowels 元音(**)"
   ]
  },
  {
   "cell_type": "code",
   "execution_count": null,
   "metadata": {},
   "outputs": [],
   "source": [
    "#Count the number of vowels in this sentence: #计算这句话中元音的数量：\"Pure mathematics is, in its way, the poetry of logical ideas\""
   ]
  },
  {
   "cell_type": "code",
   "execution_count": 18,
   "metadata": {},
   "outputs": [
    {
     "name": "stdout",
     "output_type": "stream",
     "text": [
      "20\n"
     ]
    }
   ],
   "source": [
    "sentence2=\"Pure mathematics is, in its way, the poetry of logical ideas\" 这句话中有20个元音字母\n",
    "count=0\n",
    "for word in sentence2:\n",
    "    if word==\"a\" or word==\"e\" or word==\"i\" or word==\"o\" or word==\"u\":\n",
    "        count+=1\n",
    "print(count)"
   ]
  },
  {
   "cell_type": "markdown",
   "metadata": {},
   "source": [
    "# 5. Encryption 加密 (**)"
   ]
  },
  {
   "cell_type": "code",
   "execution_count": null,
   "metadata": {},
   "outputs": [],
   "source": [
    "#Let the user input a word and:让用户输入一个词\n",
    "\n",
    "  #a)   encrypt the message by replacing each letter with the next letter. 通过用下一个字母替换每个字母来加密消息。\n",
    "  # If the letter is in the end of the alphabet, use the first letter instead.  如果字母在字母表的末尾，请改用第一个字母。\n",
    "  # e.g. in Swedish: \"höst\" $\\rightarrow$ \"iatu\" 字母H 后面的字母是i  \n",
    "  #b)   decrypt the message 解密消息\n",
    "  #c)   let the user choose either encryption or decryption.让用户选择加密或解密。"
   ]
  },
  {
   "cell_type": "code",
   "execution_count": 12,
   "metadata": {},
   "outputs": [
    {
     "data": {
      "text/plain": [
       "'pl'"
      ]
     },
     "execution_count": 12,
     "metadata": {},
     "output_type": "execute_result"
    }
   ],
   "source": [
    "import re\n",
    "words=input(\"Type your words: \")\n",
    "re.sub('[a-z]',lambda x:chr(ord(x.group(0))+1),words)  # sub是substitute表示替换\n",
    "# as example ,if i type the word \"ok\",output is \"pl\""
   ]
  },
  {
   "cell_type": "markdown",
   "metadata": {},
   "source": [
    "# re.sub的使用方法"
   ]
  },
  {
   "cell_type": "code",
   "execution_count": null,
   "metadata": {},
   "outputs": [],
   "source": [
    "# re.sub的参数：有五个参数\n",
    "# re.sub(pattern, repl, string, count=0, flags=0)\n",
    "# 其中三个必选参数：pattern, repl, string ,两个可选参数：count, flags\n",
    "# 第一个：pattern 表示正则中的模式字符串。反斜杠加数字（\\n）表示对应匹配的也就是用之前匹配到的字符串补充到这个位置\n",
    "# 第二个参数：repl 就是replacement，被替换，的字符串的意思。\n",
    "# 第三个参数：string，即表示要被处理，要被替换的那个string字符串。"
   ]
  },
  {
   "cell_type": "code",
   "execution_count": 13,
   "metadata": {},
   "outputs": [
    {
     "data": {
      "text/plain": [
       "'my bank code is secrete and libary card code is secrete'"
      ]
     },
     "execution_count": 13,
     "metadata": {},
     "output_type": "execute_result"
    }
   ],
   "source": [
    "a=re.sub(r'(\\d+)',\"secrete\",\"my bank code is 400 and libary card code is 200\") #秘密取代数字400和200\n",
    "a"
   ]
  },
  {
   "cell_type": "code",
   "execution_count": 14,
   "metadata": {},
   "outputs": [
    {
     "name": "stdout",
     "output_type": "stream",
     "text": [
      "2\n",
      "0\n",
      "1\n",
      "8\n",
      "6\n",
      "7\n",
      "二〇一八年六月七号\n"
     ]
    }
   ],
   "source": [
    "import re\n",
    "def replace_num(str):\n",
    "  numDict = {'0':'〇','1':'一','2':'二','3':'三','4':'四','5':'五','6':'六','7':'七','8':'八','9':'九'}\n",
    "  print(str.group())\n",
    "  return numDict[str.group()]\n",
    "my_str = '2018年6月7号'\n",
    "a = re.sub(r'(\\d)', replace_num, my_str)\n",
    "print(a) #每次匹配一个数字，执行函数，获取替换后的值"
   ]
  },
  {
   "cell_type": "code",
   "execution_count": 15,
   "metadata": {},
   "outputs": [
    {
     "name": "stdout",
     "output_type": "stream",
     "text": [
      "hello python,ni hao c,zai jian python\n"
     ]
    }
   ],
   "source": [
    "import re\n",
    "inputstr=\"hello python,ni hao c,zai jian python\"\n",
    "replacestr=re.sub(r\"hello(\\w+),ni hao(\\w+),zai jian \\1\",\"php\",inputstr)\n",
    "print(replacestr)\n",
    "# 将“hello python,ni hao c,zai jian python”替换为php,代码如下替换成功"
   ]
  },
  {
   "cell_type": "markdown",
   "metadata": {},
   "source": [
    "# 总结"
   ]
  },
  {
   "cell_type": "markdown",
   "metadata": {},
   "source": [
    "IndentationError: unexpected indent 缩进错误：意外缩进\n",
    "\n",
    "Missing parentheses  缺少括号\n",
    "\n",
    "Attribute Error 属性错误\n",
    "\n",
    "IndentationError: unindent does not match any outer indentation level 不匹配任何外部缩进级别\n"
   ]
  },
  {
   "cell_type": "markdown",
   "metadata": {},
   "source": []
  }
 ],
 "metadata": {
  "interpreter": {
   "hash": "26686dec1f1c69e7843542045c9bcb01e7d61ef2953291481df04c12bb1a928f"
  },
  "kernelspec": {
   "display_name": "Python 3.9.6 64-bit",
   "name": "python3"
  },
  "language_info": {
   "codemirror_mode": {
    "name": "ipython",
    "version": 3
   },
   "file_extension": ".py",
   "mimetype": "text/x-python",
   "name": "python",
   "nbconvert_exporter": "python",
   "pygments_lexer": "ipython3",
   "version": "3.9.6"
  },
  "orig_nbformat": 4
 },
 "nbformat": 4,
 "nbformat_minor": 2
}
