{
 "cells": [
  {
   "cell_type": "markdown",
   "metadata": {},
   "source": [
    "# L1 if statement lecture"
   ]
  },
  {
   "cell_type": "markdown",
   "metadata": {},
   "source": [
    "# if-else"
   ]
  },
  {
   "cell_type": "code",
   "execution_count": null,
   "metadata": {},
   "outputs": [],
   "source": [
    "age = int(input(\"Enter your age:\")) # 14\n",
    "age_limit = 15\n",
    "\n",
    "# note the syntax:\n",
    "if age < age_limit:\n",
    "    print(\"Sorry, you are too young to watch this scary movie\")\n",
    "    print(\"Watch this cartoon instead\")\n",
    "else:\n",
    "    print(\"Enjoy this scary movie\")"
   ]
  },
  {
   "cell_type": "code",
   "execution_count": null,
   "metadata": {},
   "outputs": [],
   "source": [
    "age = 15 \n",
    "height = 150\n",
    "\n",
    "if age > 11 and 130 < height < 210:\n",
    "    print(\"Du får åka balder\")\n",
    "else: \n",
    "    print(\"Du får inte åka balder\")"
   ]
  },
  {
   "cell_type": "markdown",
   "metadata": {},
   "source": [
    "# Modulo operator"
   ]
  },
  {
   "cell_type": "code",
   "execution_count": 3,
   "metadata": {},
   "outputs": [
    {
     "name": "stdout",
     "output_type": "stream",
     "text": [
      "2\n",
      "0\n",
      "Even number\n"
     ]
    }
   ],
   "source": [
    "a=5 % 3  # read out \"5 mod 3\" 余数为2\n",
    "print(a)\n",
    "b=9 % 3  #9除以3 余数为0\n",
    "print(b)\n",
    "\n",
    "number = 5\n",
    "if number % 2 == 0:  #如果5能被2 整除，打印是偶数，否则打印奇数\n",
    "    print(\"Even number\") #偶数\n",
    "else:\n",
    "    print(\"Odd number\") #奇数"
   ]
  },
  {
   "cell_type": "markdown",
   "metadata": {},
   "source": [
    "# if-elif-elif....-else"
   ]
  },
  {
   "cell_type": "code",
   "execution_count": 4,
   "metadata": {},
   "outputs": [
    {
     "name": "stdout",
     "output_type": "stream",
     "text": [
      "Give patient 1000mg\n"
     ]
    }
   ],
   "source": [
    "weight = float(input(\"What is your weight? (kg) \")) # 40\n",
    "if weight < 20:\n",
    "    print(\"Give patient 500mg\")\n",
    "elif weight < 40:\n",
    "    print(\"Give patient 750mg\")\n",
    "else:\n",
    "    print(\"Give patient 1000mg\")\n",
    "\n"
   ]
  },
  {
   "cell_type": "markdown",
   "metadata": {},
   "source": [
    "# Logical operators 逻辑运算符"
   ]
  },
  {
   "cell_type": "code",
   "execution_count": 5,
   "metadata": {},
   "outputs": [
    {
     "name": "stdout",
     "output_type": "stream",
     "text": [
      "True and False gives: False\n",
      "True or False gives: True\n",
      "False or False gives: False\n",
      "True and True gives: True\n",
      "True or True gives: True\n"
     ]
    }
   ],
   "source": [
    "# and 左右都成立才成立，有不成立的就不成立 两个都为真才是真\n",
    "# or 左右都不成立才不成立，有成立的就成立  有一个成立就成立\n",
    "# not 成立则不成立，不成立则成立\n",
    "print(f\"True and False gives: {True and False}\")\n",
    "print(f\"True or False gives: {True or False}\")\n",
    "print(f\"False or False gives: {False or False}\")\n",
    "print(f\"True and True gives: {True and True}\")\n",
    "print(f\"True or True gives: {True or True}\")"
   ]
  },
  {
   "cell_type": "markdown",
   "metadata": {},
   "source": [
    "# Nested if-statements"
   ]
  },
  {
   "cell_type": "code",
   "execution_count": 9,
   "metadata": {},
   "outputs": [
    {
     "name": "stdout",
     "output_type": "stream",
     "text": [
      "25 is divisible by 5\n",
      "25 is an odd number\n"
     ]
    }
   ],
   "source": [
    "# if-statement within an if-statement\n",
    "# if a number is divisible by 5, check if it also is even\n",
    "number = int(input(\"Give an integer: \")) #-100\n",
    "if number % 5 == 0: #一个数字被5整除\n",
    "    print(f\"{number} is divisible by 5\")\n",
    "    if number % 2 == 0: #被2整除\n",
    "        print(f\"{number} is an even number\") #偶数\n",
    "    else:\n",
    "        print(f\"{number} is an odd number\") #奇数"
   ]
  },
  {
   "cell_type": "markdown",
   "metadata": {},
   "source": [
    "# One line if-statements"
   ]
  },
  {
   "cell_type": "code",
   "execution_count": 14,
   "metadata": {},
   "outputs": [
    {
     "name": "stdout",
     "output_type": "stream",
     "text": [
      "Olivia contains the letter 'a'\n"
     ]
    }
   ],
   "source": [
    "name = \"Olivia\"\n",
    "gender = \"female\"\n",
    "# one line if \n",
    "if \"a\" in name: print(f\"{name} contains the letter 'a'\") \n"
   ]
  },
  {
   "cell_type": "code",
   "execution_count": 16,
   "metadata": {},
   "outputs": [
    {
     "name": "stdout",
     "output_type": "stream",
     "text": [
      "Hi ms Xiu\n"
     ]
    }
   ],
   "source": [
    "name=\"Xiu\"\n",
    "gender=\"female\"\n",
    "# one line if-else\n",
    "print(f\"Hi mr {name}\") if gender == \"male\" else print(f\"Hi ms {name}\") "
   ]
  },
  {
   "cell_type": "markdown",
   "metadata": {},
   "source": [
    "# L1 If statement练习题"
   ]
  },
  {
   "cell_type": "markdown",
   "metadata": {},
   "source": [
    "# 1. Check sign"
   ]
  },
  {
   "cell_type": "code",
   "execution_count": 18,
   "metadata": {},
   "outputs": [
    {
     "name": "stdout",
     "output_type": "stream",
     "text": [
      "Zero\n"
     ]
    }
   ],
   "source": [
    "check=float(input(\"Type your number:\"))\n",
    "if check < 0:\n",
    "    print(\"Negative\")\n",
    "if check == 0:\n",
    "    print(\"Zero\")\n",
    "else:\n",
    "    print(\"Positive\")"
   ]
  },
  {
   "cell_type": "markdown",
   "metadata": {},
   "source": [
    "# 2 Smallest"
   ]
  },
  {
   "cell_type": "code",
   "execution_count": 19,
   "metadata": {},
   "outputs": [
    {
     "name": "stdout",
     "output_type": "stream",
     "text": [
      "3.0\n"
     ]
    }
   ],
   "source": [
    "a= float(input(\"the first number\"))\n",
    "b= float(input(\"The second number\"))\n",
    "\n",
    "if a < b:\n",
    "    print(a)\n",
    "else:\n",
    "    print(b)"
   ]
  },
  {
   "cell_type": "markdown",
   "metadata": {},
   "source": [
    "# 3. Right angle 直角三角形"
   ]
  },
  {
   "cell_type": "code",
   "execution_count": 20,
   "metadata": {},
   "outputs": [
    {
     "name": "stdout",
     "output_type": "stream",
     "text": [
      "Fel! This is not a right angel. Type again!\n"
     ]
    }
   ],
   "source": [
    "#三角之和是180，任意一个角是90度，这样的三角形是直角三角形\n",
    "alfa=int(input(\"Write the first angel\"))\n",
    "beta=int(input(\"Write the second angel\"))\n",
    "gama=int(input(\"Write the third angel\"))\n",
    "\n",
    "if alfa+beta+gama == 180 and (alfa == 90 or beta==90 or gama==90):\n",
    "    print(\"It is a right angle\")\n",
    "else:\n",
    "    print(\"Fel! This is not a right angel. Type again!\")"
   ]
  },
  {
   "cell_type": "markdown",
   "metadata": {},
   "source": [
    "# 4. Medicine"
   ]
  },
  {
   "cell_type": "code",
   "execution_count": 21,
   "metadata": {},
   "outputs": [
    {
     "name": "stdout",
     "output_type": "stream",
     "text": [
      "Take 1-2 pills\n"
     ]
    }
   ],
   "source": [
    "age=float(input(\"enter the age\"))\n",
    "weight=float(input(\"enter the weight\"))\n",
    "\n",
    "if age>12 or weight>40:\n",
    "    print(\"Take 1-2 pills\")\n",
    "elif 7<=age<=12 or 26<=weight<=40:\n",
    "    print(\"Take 1/2 - 1 pills\")\n",
    "elif 3<=age<=7 or 15<=weight<=25:\n",
    "    print(\"Take 1/2 pills\")\n",
    "else:\n",
    "    print(\"Can not take this pill\")"
   ]
  },
  {
   "cell_type": "markdown",
   "metadata": {},
   "source": [
    "# 5 Divisible 整除"
   ]
  },
  {
   "cell_type": "code",
   "execution_count": 22,
   "metadata": {},
   "outputs": [
    {
     "name": "stdout",
     "output_type": "stream",
     "text": [
      "This is a odd\n",
      "This number is devisible by 5\n",
      "This number is devisible by 5 and odd\n"
     ]
    }
   ],
   "source": [
    "number=int(input(\"Please type a number\")) 好像需要修改\n",
    "\n",
    "if number%2 == 0:\n",
    "    print(\"This is even\")\n",
    "else:\n",
    "    print(\"This is a odd\")\n",
    "\n",
    "if number%5 == 0:\n",
    "    print(\"This number is devisible by 5\")\n",
    "\n",
    "if number%2 != 0 and number%5 == 0:#一个数字不被2整除，但是被5整除，打印此数被5整除且是奇数\n",
    "    print(\"This number is devisible by 5 and odd\")"
   ]
  },
  {
   "cell_type": "markdown",
   "metadata": {},
   "source": [
    "# 6. Luggage size"
   ]
  },
  {
   "cell_type": "code",
   "execution_count": 23,
   "metadata": {},
   "outputs": [
    {
     "name": "stdout",
     "output_type": "stream",
     "text": [
      "The luggage is not allowed on board\n"
     ]
    }
   ],
   "source": [
    "weight=float(input(\"Enter the weight\"))\n",
    "\n",
    "length=float(input(\"Enter the length\"))\n",
    "width=float(input(\"Enter the width \"))\n",
    "height=float(input(\"Enter the height\"))\n",
    "\n",
    "if weight>8 or length>55 or width>40 or height>23:\n",
    "    print(\"The luggage is not allowed on board\") #如果重量长宽高超过以上要求，打印行李箱不让登机\n",
    "else:\n",
    "    print(\"The luggage is allowed on board\")"
   ]
  },
  {
   "cell_type": "markdown",
   "metadata": {},
   "source": [
    "# L2 While statement Lecture"
   ]
  },
  {
   "cell_type": "markdown",
   "metadata": {},
   "source": [
    "# while"
   ]
  },
  {
   "cell_type": "code",
   "execution_count": 40,
   "metadata": {},
   "outputs": [
    {
     "name": "stdout",
     "output_type": "stream",
     "text": [
      "Hello 0\n",
      "Hello 1\n",
      "Hello 2\n",
      "Hello 3\n",
      "Hello 4\n"
     ]
    }
   ],
   "source": [
    "n = 0\n",
    "while n < 5: \n",
    "    print(f\"Hello {n}\")\n",
    "    n += 1 # adds one to n"
   ]
  },
  {
   "cell_type": "markdown",
   "metadata": {},
   "source": [
    "# Example - oil leakage"
   ]
  },
  {
   "cell_type": "code",
   "execution_count": null,
   "metadata": {},
   "outputs": [],
   "source": [
    "# There is an oil leakage causing the bird population in an island to 1/2 in each year.\n",
    "# From start there were 80000 birds, how many years does it take for it to have 1/10 remaining?"
   ]
  },
  {
   "cell_type": "markdown",
   "metadata": {},
   "source": [
    "# L2 While statement 练习题"
   ]
  },
  {
   "cell_type": "markdown",
   "metadata": {},
   "source": [
    "# 1. Count numbers (*)"
   ]
  },
  {
   "cell_type": "code",
   "execution_count": 24,
   "metadata": {},
   "outputs": [
    {
     "name": "stdout",
     "output_type": "stream",
     "text": [
      "-10, -9, -8, -7, -6, -5, -4, -3, -2, -1, 0, 1, 2, 3, 4, 5, 6, 7, 8, 9, 10, "
     ]
    }
   ],
   "source": [
    "#Use a while statement to count from -10 to 10 with one increment.\n",
    "n=-10\n",
    "while n<=10:\n",
    "    print (n,end=\", \")\n",
    "    n += 1"
   ]
  },
  {
   "cell_type": "code",
   "execution_count": 3,
   "metadata": {},
   "outputs": [
    {
     "name": "stdout",
     "output_type": "stream",
     "text": [
      "1\n",
      "2\n",
      "3\n",
      "4\n",
      "5\n",
      "6\n",
      "7\n",
      "8\n",
      "9\n",
      "10\n"
     ]
    }
   ],
   "source": [
    "#我测试Use a while statement to count from -10 to 10 with one increment.\n",
    "n=0\n",
    "while -10< n <10:\n",
    "    n+=1# adds one \n",
    "    print(f\"{n}\")"
   ]
  },
  {
   "cell_type": "code",
   "execution_count": 6,
   "metadata": {},
   "outputs": [
    {
     "name": "stdout",
     "output_type": "stream",
     "text": [
      "-9\n",
      "-8\n",
      "-7\n",
      "-6\n",
      "-5\n",
      "-4\n",
      "-3\n",
      "-2\n",
      "-1\n",
      "0\n",
      "1\n",
      "2\n",
      "3\n",
      "4\n",
      "5\n",
      "6\n",
      "7\n",
      "8\n",
      "9\n",
      "10\n"
     ]
    }
   ],
   "source": [
    "n=-10\n",
    "while n <10:\n",
    "    n+=1# adds one \n",
    "    print(f\"{n}\")"
   ]
  },
  {
   "cell_type": "code",
   "execution_count": null,
   "metadata": {},
   "outputs": [],
   "source": [
    "n=5 \n",
    "while n>0:\n",
    "    print(n)\n",
    "    n=n-1"
   ]
  },
  {
   "cell_type": "markdown",
   "metadata": {},
   "source": [
    "# 2. Arithmetic sum (*)"
   ]
  },
  {
   "cell_type": "code",
   "execution_count": 26,
   "metadata": {},
   "outputs": [
    {
     "name": "stdout",
     "output_type": "stream",
     "text": [
      "1+2+3+4+5+6+7+8+9+10+11+12+13+14+15+16+17+18+19+20+21+22+23+24+25+26+27+28+29+30+31+32+33+34+35+36+37+38+39+40+41+42+43+44+45+46+47+48+49+50+51+52+53+54+55+56+57+58+59+60+61+62+63+64+65+66+67+68+69+70+71+72+73+74+75+76+77+78+79+80+81+82+83+84+85+86+87+88+89+90+91+92+93+94+95+96+97+98+99+100=5050\n"
     ]
    }
   ],
   "source": [
    "# Use a while statement to compute the following sums:\n",
    "\n",
    "# a)   text{sum} = 1 + 2 + ...+ 99+ 100\n",
    "\n",
    "n=1\n",
    "summa=0\n",
    "while n<=100:\n",
    "    if n==100:\n",
    "        print(f\"100=\",end=\"\")\n",
    "    else:\n",
    "        print(f\"{n}+\",end=\"\")\n",
    "    summa += n\n",
    "    n+=1\n",
    "print(summa)"
   ]
  },
  {
   "cell_type": "code",
   "execution_count": 16,
   "metadata": {},
   "outputs": [
    {
     "name": "stdout",
     "output_type": "stream",
     "text": [
      "0+1+2+3+4+5+...+100=5051\n"
     ]
    }
   ],
   "source": [
    "sum = 1  #计算和    我的方法\n",
    "# calculate sum from 1-100\n",
    "for i in range(101): # note that 101 不包括101\n",
    "    sum += i\n",
    "\n",
    "print(f\"0+1+2+3+4+5+...+100={sum}\")"
   ]
  },
  {
   "cell_type": "code",
   "execution_count": 27,
   "metadata": {},
   "outputs": [
    {
     "data": {
      "text/plain": [
       "5050"
      ]
     },
     "execution_count": 27,
     "metadata": {},
     "output_type": "execute_result"
    }
   ],
   "source": [
    "n=100\n",
    "sum(range(n+1))"
   ]
  },
  {
   "cell_type": "code",
   "execution_count": 31,
   "metadata": {},
   "outputs": [
    {
     "name": "stdout",
     "output_type": "stream",
     "text": [
      "1+2+3+4+5+6+7+8+9+10+11+12+13+14+15+16+17+18+19+20+21+22+23+24+25+26+27+28+29+30+31+32+33+34+35+36+37+38+39+40+41+42+43+44+45+46+47+48+49+50+51+52+53+54+55+56+57+58+59+60+61+62+63+64+65+66+67+68+69+70+71+72+73+74+75+76+77+78+79+80+81+82+83+84+85+86+87+88+89+90+91+92+93+94+95+96+97+98+99=4950\n"
     ]
    }
   ],
   "source": [
    "# b)   text{sum} = 1 + 3 + 5 ...+ 97 + 99 他的一下做法是错误的\n",
    "n=1\n",
    "summa=0\n",
    "while n<=99:\n",
    "    if n==99:\n",
    "        print(f\"99=\",end=\"\")\n",
    "    else:\n",
    "        print(f\"{n}+\",end=\"\")\n",
    "    summa += n\n",
    "    n+=1\n",
    "print(summa)"
   ]
  },
  {
   "cell_type": "markdown",
   "metadata": {},
   "source": [
    "# b"
   ]
  },
  {
   "cell_type": "code",
   "execution_count": 32,
   "metadata": {},
   "outputs": [
    {
     "name": "stdout",
     "output_type": "stream",
     "text": [
      "1+3+5+7+...+99=2500\n"
     ]
    }
   ],
   "source": [
    "sum = 0\n",
    "# calculate sum of all odd numbers between 1 100\n",
    "for i in range(1,100,2):\n",
    "    sum += i # addition\n",
    "print(f\"1+3+5+7+...+99={sum}\")   "
   ]
  },
  {
   "cell_type": "markdown",
   "metadata": {},
   "source": [
    "# 3. Guess number game"
   ]
  },
  {
   "cell_type": "markdown",
   "metadata": {},
   "source": [
    "# a"
   ]
  },
  {
   "cell_type": "code",
   "execution_count": 34,
   "metadata": {},
   "outputs": [
    {
     "name": "stdout",
     "output_type": "stream",
     "text": [
      "9\n",
      "Wrong! You guessed too high\n",
      "Wrong! You guessed too low\n",
      "Wrong! You guessed too high\n",
      "Wrong! You guessed too high\n",
      "Wrong! You guessed too high\n",
      "Wrong! You guessed too high\n",
      "Wrong! You guessed too high\n",
      "Right!\n"
     ]
    }
   ],
   "source": [
    "import random as rnd\n",
    "rnd.seed(66) \n",
    "n=rnd.randint(0,100)\n",
    "print(n)\n",
    "\n",
    "while True:\n",
    "\n",
    "  guess=int(input(\"Guess a number 1 - 100\"))\n",
    "  \n",
    "  if guess == n:\n",
    "    print(\"Right!\")\n",
    "    break\n",
    "\n",
    "  if guess > n:\n",
    "      print (\"Wrong! You guessed too high\")\n",
    "  if guess < n:\n",
    "      print (\"Wrong! You guessed too low\")"
   ]
  },
  {
   "cell_type": "markdown",
   "metadata": {},
   "source": [
    "# b"
   ]
  },
  {
   "cell_type": "code",
   "execution_count": 37,
   "metadata": {},
   "outputs": [
    {
     "name": "stdout",
     "output_type": "stream",
     "text": [
      "31\n",
      "good job\n",
      "You worked for 9 times for a right answer!\n"
     ]
    }
   ],
   "source": [
    "#b 有问题————————————\n",
    "import random as rnd\n",
    "n=rnd.randrange(0,100)\n",
    "times=0\n",
    "print(n)\n",
    "guess=int(input(\"write a number\"))\n",
    "\n",
    "while True:\n",
    "    \n",
    "    times+=1\n",
    "    if n==guess:\n",
    "        print(\"good job\")\n",
    "        break\n",
    "    else:\n",
    "        if guess > n:\n",
    "            guess-=1\n",
    "        else:\n",
    "            guess+=1\n",
    "            \n",
    "print(f\"You worked for {times} times for a right answer!\")"
   ]
  },
  {
   "cell_type": "markdown",
   "metadata": {},
   "source": [
    "# 4. Multiplication game"
   ]
  },
  {
   "cell_type": "code",
   "execution_count": 38,
   "metadata": {},
   "outputs": [
    {
     "name": "stdout",
     "output_type": "stream",
     "text": [
      "Good work\n",
      "Good work\n",
      "Thank you! The game ends\n"
     ]
    }
   ],
   "source": [
    "import random as rnd\n",
    "\n",
    "\n",
    "while True:\n",
    "    x = rnd.randrange(1,10)\n",
    "    y = rnd.randrange(1,10)\n",
    "    user_answer = int(input(f\"What is {x}*{y}? \"))\n",
    "\n",
    "    multiplication = x*y\n",
    "\n",
    "    if user_answer == multiplication:\n",
    "        print(\"Good work\")\n",
    "    else:\n",
    "        print(f\"No, the correct answer is {multiplication}\")\n",
    "\n",
    "    play_again = input(\"Will you play again (y for yes)?\")\n",
    "\n",
    "    if play_again != \"y\":\n",
    "        print(\"Thank you! The game ends\")\n",
    "        break"
   ]
  },
  {
   "cell_type": "markdown",
   "metadata": {},
   "source": [
    "# 5. Check convergence"
   ]
  },
  {
   "cell_type": "markdown",
   "metadata": {},
   "source": [
    "# a"
   ]
  },
  {
   "cell_type": "code",
   "execution_count": 39,
   "metadata": {},
   "outputs": [
    {
     "name": "stdout",
     "output_type": "stream",
     "text": [
      "1.9375\n"
     ]
    }
   ],
   "source": [
    "n=int(input(\"type a number:\"))\n",
    "\n",
    "summa=0\n",
    "m=0\n",
    "\n",
    "while m<=n:\n",
    "    summa = summa + 1/2**m\n",
    "    m+=1\n",
    "    \n",
    "print(summa)"
   ]
  },
  {
   "cell_type": "markdown",
   "metadata": {},
   "source": [
    "# b"
   ]
  },
  {
   "cell_type": "code",
   "execution_count": null,
   "metadata": {},
   "outputs": [],
   "source": [
    "n=int(input(\"type a number:\"))\n",
    "\n",
    "summa=0\n",
    "m=0\n",
    "\n",
    "while m<=n:\n",
    "    summa = summa + ((-1)**m)/(2*m+1)\n",
    "    m+=1\n",
    "    \n",
    "print(summa)"
   ]
  }
 ],
 "metadata": {
  "interpreter": {
   "hash": "0e1c4b289a1ee7bbfd05ca4cff940f68637f4315871854be96f4a0a829bab33d"
  },
  "kernelspec": {
   "display_name": "Python 3.9.6 64-bit ('Pythonkurs-8SbhYJ-b': virtualenv)",
   "name": "python3"
  },
  "language_info": {
   "codemirror_mode": {
    "name": "ipython",
    "version": 3
   },
   "file_extension": ".py",
   "mimetype": "text/x-python",
   "name": "python",
   "nbconvert_exporter": "python",
   "pygments_lexer": "ipython3",
   "version": "3.9.6"
  },
  "orig_nbformat": 4
 },
 "nbformat": 4,
 "nbformat_minor": 2
}
