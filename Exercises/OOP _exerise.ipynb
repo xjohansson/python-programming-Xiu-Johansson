{
 "cells": [
  {
   "cell_type": "code",
   "execution_count": 1,
   "source": [
    "def student(student_id, student_name, student_class):\r\n",
    "    return f'Student ID: {student_id}\\nStudent Name: {student_name}\\nClass: {student_class}'\r\n",
    "print(student('S122', 'Wilson Medina', 'VI'))"
   ],
   "outputs": [
    {
     "output_type": "stream",
     "name": "stdout",
     "text": [
      "Student ID: S122\n",
      "Student Name: Wilson Medina\n",
      "Class: VI\n"
     ]
    }
   ],
   "metadata": {}
  },
  {
   "cell_type": "code",
   "execution_count": 2,
   "source": [
    "def student_data(student_id, **kwargs):\r\n",
    "    print(f'\\nStudent ID: {student_id}')\r\n",
    "    if 'student_name' in kwargs:\r\n",
    "        print(f\"Student Name: $ {kwargs['student_name']}\")\r\n",
    "    \r\n",
    "    if 'student_name' and 'student_class' in kwargs:\r\n",
    "            print(f\"\\nStudent Name: $ {kwargs['student_name']}\")\r\n",
    "            print(f\"Student Class: $ {kwargs['student_class']}\")\r\n",
    "\r\n",
    " \r\n",
    "student_data(student_id='SV12', student_name='Jean Garner')\r\n",
    "\r\n",
    "student_data(student_id='SV12', student_name='Jean Garner', student_class ='V')"
   ],
   "outputs": [
    {
     "output_type": "stream",
     "name": "stdout",
     "text": [
      "\n",
      "Student ID: SV12\n",
      "Student Name: $ Jean Garner\n",
      "\n",
      "Student ID: SV12\n",
      "Student Name: $ Jean Garner\n",
      "\n",
      "Student Name: $ Jean Garner\n",
      "Student Class: $ V\n"
     ]
    }
   ],
   "metadata": {}
  },
  {
   "cell_type": "code",
   "execution_count": 13,
   "source": [
    "class Person(object):\r\n",
    "\r\n",
    "    def_init_(self,name, gender)\r\n",
    "       self.name=name\r\n",
    "        self.gender=gender\r\n",
    "\r\n",
    "p=Person(\"Nicklas\",\"Male\")\r\n",
    "\r\n",
    "print(p.name,p.gender)  \r\n"
   ],
   "outputs": [
    {
     "output_type": "error",
     "ename": "IndentationError",
     "evalue": "unexpected indent (Temp/ipykernel_10696/1124225421.py, line 4)",
     "traceback": [
      "\u001b[1;36m  File \u001b[1;32m\"C:\\Users\\Xiu\\AppData\\Local\\Temp/ipykernel_10696/1124225421.py\"\u001b[1;36m, line \u001b[1;32m4\u001b[0m\n\u001b[1;33m    self.name=name\u001b[0m\n\u001b[1;37m    ^\u001b[0m\n\u001b[1;31mIndentationError\u001b[0m\u001b[1;31m:\u001b[0m unexpected indent\n"
     ]
    }
   ],
   "metadata": {}
  }
 ],
 "metadata": {
  "orig_nbformat": 4,
  "language_info": {
   "name": "python",
   "version": "3.9.6",
   "mimetype": "text/x-python",
   "codemirror_mode": {
    "name": "ipython",
    "version": 3
   },
   "pygments_lexer": "ipython3",
   "nbconvert_exporter": "python",
   "file_extension": ".py"
  },
  "kernelspec": {
   "name": "python3",
   "display_name": "Python 3.9.6 64-bit"
  },
  "interpreter": {
   "hash": "26686dec1f1c69e7843542045c9bcb01e7d61ef2953291481df04c12bb1a928f"
  }
 },
 "nbformat": 4,
 "nbformat_minor": 2
}