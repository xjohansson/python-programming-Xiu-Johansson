{
 "cells": [
  {
   "cell_type": "markdown",
   "metadata": {},
   "source": [
    "# Lecture notes - error handling\n"
   ]
  },
  {
   "cell_type": "markdown",
   "metadata": {},
   "source": [
    "# Error types 错误类型\n",
    "syntax error - basic errors Python parser don't understand the code 语法错误——基本错误 Python 解析器不理解代码\n",
    "\n",
    "logic errors - hard to find - give unpredictable results 逻辑错误 - 难以发现 - 产生不可预测的结果\n",
    "\n",
    "exception error - Python parser knows what to do but can't perform it 异常错误 - Python 解析器知道该做什么但不能执行它\n",
    "\n",
    "value error :could not convert string to float\n",
    "\n",
    "AttributeError\t对象没有这个属性\n",
    "\n",
    "SyntaxError\tPython 语法错误"
   ]
  },
  {
   "cell_type": "code",
   "execution_count": 2,
   "metadata": {},
   "outputs": [
    {
     "ename": "NameError",
     "evalue": "name 'prin' is not defined",
     "output_type": "error",
     "traceback": [
      "\u001b[1;31m---------------------------------------------------------------------------\u001b[0m",
      "\u001b[1;31mNameError\u001b[0m                                 Traceback (most recent call last)",
      "\u001b[1;32m~\\AppData\\Local\\Temp/ipykernel_6568/198298228.py\u001b[0m in \u001b[0;36m<module>\u001b[1;34m\u001b[0m\n\u001b[0;32m      1\u001b[0m \u001b[1;31m# syntax errors  语法错误\u001b[0m\u001b[1;33m\u001b[0m\u001b[1;33m\u001b[0m\u001b[1;33m\u001b[0m\u001b[0m\n\u001b[1;32m----> 2\u001b[1;33m \u001b[0mprin\u001b[0m\u001b[1;33m(\u001b[0m\u001b[1;34m\"hej\"\u001b[0m\u001b[1;33m)\u001b[0m\u001b[1;33m\u001b[0m\u001b[1;33m\u001b[0m\u001b[0m\n\u001b[0m\u001b[0;32m      3\u001b[0m \u001b[1;33m\u001b[0m\u001b[0m\n\u001b[0;32m      4\u001b[0m \u001b[1;31m# practice reading the error messages\u001b[0m\u001b[1;33m\u001b[0m\u001b[1;33m\u001b[0m\u001b[1;33m\u001b[0m\u001b[0m\n",
      "\u001b[1;31mNameError\u001b[0m: name 'prin' is not defined"
     ]
    }
   ],
   "source": [
    "# syntax errors  语法错误\n",
    "prin(\"hej\")\n",
    "\n",
    "# practice reading the error messages"
   ]
  },
  {
   "cell_type": "code",
   "execution_count": 3,
   "metadata": {},
   "outputs": [
    {
     "data": {
      "text/plain": [
       "6.283185307179586"
      ]
     },
     "execution_count": 3,
     "metadata": {},
     "output_type": "execute_result"
    }
   ],
   "source": [
    "# logical errors 逻辑错误\n",
    "import numpy as np \n",
    "# this function calculates the circumference 周长, not area 不是面积\n",
    "area_circle = lambda radius: 2*np.pi*radius \n",
    "area_circle(1)"
   ]
  },
  {
   "cell_type": "code",
   "execution_count": 17,
   "metadata": {},
   "outputs": [
    {
     "name": "stdout",
     "output_type": "stream",
     "text": [
      "3.141592653589793\n",
      "62.83185307179586\n"
     ]
    }
   ],
   "source": [
    "# logical error\n",
    "import math \n",
    "\n",
    "print(math.pi)\n",
    "\n",
    "area_circle = lambda radius: 2*math.pi*radius\n",
    "\n",
    "print(area_circle(10))\n",
    "\n",
    "# hard to find the logical error\n",
    "# A = pi*r^2\n",
    "# O = 2*pi*r"
   ]
  },
  {
   "cell_type": "code",
   "execution_count": 6,
   "metadata": {},
   "outputs": [
    {
     "ename": "IndexError",
     "evalue": "list index out of range",
     "output_type": "error",
     "traceback": [
      "\u001b[1;31m---------------------------------------------------------------------------\u001b[0m",
      "\u001b[1;31mIndexError\u001b[0m                                Traceback (most recent call last)",
      "\u001b[1;32m~\\AppData\\Local\\Temp/ipykernel_6568/4162050233.py\u001b[0m in \u001b[0;36m<module>\u001b[1;34m\u001b[0m\n\u001b[0;32m      1\u001b[0m \u001b[1;31m# exception errors 异常错误\u001b[0m\u001b[1;33m\u001b[0m\u001b[1;33m\u001b[0m\u001b[1;33m\u001b[0m\u001b[0m\n\u001b[0;32m      2\u001b[0m \u001b[0mnumbers\u001b[0m \u001b[1;33m=\u001b[0m \u001b[0mlist\u001b[0m\u001b[1;33m(\u001b[0m\u001b[0mrange\u001b[0m\u001b[1;33m(\u001b[0m\u001b[1;36m10\u001b[0m\u001b[1;33m)\u001b[0m\u001b[1;33m)\u001b[0m \u001b[1;31m#从1到10但是不包括10\u001b[0m\u001b[1;33m\u001b[0m\u001b[1;33m\u001b[0m\u001b[0m\n\u001b[1;32m----> 3\u001b[1;33m \u001b[0mprint\u001b[0m \u001b[1;33m(\u001b[0m\u001b[0mnumbers\u001b[0m\u001b[1;33m[\u001b[0m\u001b[1;36m10\u001b[0m\u001b[1;33m]\u001b[0m \u001b[1;33m)\u001b[0m \u001b[1;31m# numbers 10 is not exist\u001b[0m\u001b[1;33m\u001b[0m\u001b[1;33m\u001b[0m\u001b[0m\n\u001b[0m\u001b[0;32m      4\u001b[0m \u001b[1;33m\u001b[0m\u001b[0m\n\u001b[0;32m      5\u001b[0m \u001b[1;31m# Python parser knows what to do i.e. access element at index 10,\u001b[0m\u001b[1;33m\u001b[0m\u001b[1;33m\u001b[0m\u001b[1;33m\u001b[0m\u001b[0m\n",
      "\u001b[1;31mIndexError\u001b[0m: list index out of range"
     ]
    }
   ],
   "source": [
    "# exception errors 异常错误\n",
    "numbers = list(range(10)) #从1到10但是不包括10\n",
    "print (numbers[10] ) # index 10 is not exist\n",
    "\n",
    "# Python parser knows what to do i.e. access element at index 10, \n",
    "# but can't access that element as it doesn't exist"
   ]
  },
  {
   "cell_type": "code",
   "execution_count": 18,
   "metadata": {},
   "outputs": [
    {
     "name": "stdout",
     "output_type": "stream",
     "text": [
      "Hej\n",
      "Xiu\n"
     ]
    }
   ],
   "source": [
    "print(\"Hej\")\n",
    "name=input(\"vad heter du?\")\n",
    "#print=(name) overrites print() 覆盖打印\n",
    "print(name)"
   ]
  },
  {
   "cell_type": "code",
   "execution_count": null,
   "metadata": {},
   "outputs": [],
   "source": [
    "age = input(\"Hur gammal år du? \")\n",
    "print(f\"Du är {age} år gammal\")"
   ]
  },
  {
   "cell_type": "markdown",
   "metadata": {},
   "source": [
    "# Try - except\n",
    " try block for testing \"dangerous code\" i.e. code that can generate error 即可能产生错误的代码\n",
    "\n",
    "  except block - handles the error instead of crashing the program 处理错误而不是使程序崩溃\n",
    "  \n",
    "  raise - to raise exception of chosen type and chosen text 引发所选类型和所选文本的异常"
   ]
  },
  {
   "cell_type": "code",
   "execution_count": 10,
   "metadata": {},
   "outputs": [
    {
     "name": "stdout",
     "output_type": "stream",
     "text": [
      "Åldern måste vara mellan 0 and 125\n"
     ]
    }
   ],
   "source": [
    "age = input(\"Ange din ålder\")\n",
    "\n",
    "try: \n",
    "    age = float(age)\n",
    "    if not 0<=age<=125: \n",
    "        raise ValueError(\"Åldern måste vara mellan 0 and 125\") \n",
    "    print(f\"Du är {age} år gammal\")\n",
    "except ValueError as err:\n",
    "    print(err)"
   ]
  },
  {
   "cell_type": "code",
   "execution_count": 15,
   "metadata": {},
   "outputs": [
    {
     "name": "stdout",
     "output_type": "stream",
     "text": [
      "Du är 32.0 år gammal\n"
     ]
    }
   ],
   "source": [
    "# want user to try again \n",
    "while True: \n",
    "    try:\n",
    "        age = float(input(\"Ange din ålder\"))\n",
    "        if not 0<=age<=125:\n",
    "            raise ValueError(\"Åldern måste vara mellan 0 and 125\")\n",
    "        print(f\"Du är {age} år gammal\")\n",
    "        break # breaks out of while loop if nothing went wrong\n",
    "    except ValueError as err:\n",
    "        print(err)"
   ]
  },
  {
   "cell_type": "markdown",
   "metadata": {},
   "source": [
    "# http://c.biancheng.net/view/4599.html 自己搜索的\n"
   ]
  },
  {
   "cell_type": "code",
   "execution_count": 16,
   "metadata": {},
   "outputs": [
    {
     "name": "stdout",
     "output_type": "stream",
     "text": [
      "程序发生了数字格式异常、算术异常之一\n",
      "程序继续运行\n"
     ]
    }
   ],
   "source": [
    "# http://c.biancheng.net/view/4599.html 自己搜索的\n",
    "# 例如10除以0，打印出来\"程序发生了数字格式异常、算术异常之一\")\n",
    "\n",
    "try:\n",
    "    a = int(input(\"输入被除数：\"))\n",
    "    b = int(input(\"输入除数：\"))\n",
    "    c = a / b\n",
    "    print(\"您输入的两个数相除的结果是：\", c )\n",
    "except (ValueError, ArithmeticError):\n",
    "    print(\"程序发生了数字格式异常、算术异常之一\")\n",
    "except :\n",
    "    print(\"未知异常\")\n",
    "print(\"程序继续运行\")"
   ]
  },
  {
   "cell_type": "code",
   "execution_count": 10,
   "metadata": {},
   "outputs": [
    {
     "name": "stdout",
     "output_type": "stream",
     "text": [
      "('division by zero',)\n",
      "division by zero\n",
      "ZeroDivisionError('division by zero')\n"
     ]
    }
   ],
   "source": [
    "try:\n",
    "    1/0\n",
    "except Exception as e:\n",
    "    # 访问异常的错误编号和详细信息\n",
    "    print(e.args)\n",
    "    print(str(e))\n",
    "    print(repr(e))\n",
    "\n",
    "\n",
    "# 输出结果为：\n",
    "#('division by zero',)\n",
    "#division by zero\n",
    "#ZeroDivisionError('division by zero',)    "
   ]
  },
  {
   "cell_type": "markdown",
   "metadata": {},
   "source": [
    "# L7 Error handling exercises"
   ]
  },
  {
   "cell_type": "markdown",
   "metadata": {},
   "source": [
    "# 1  Find errors (*)"
   ]
  },
  {
   "cell_type": "code",
   "execution_count": 24,
   "metadata": {},
   "outputs": [
    {
     "name": "stdout",
     "output_type": "stream",
     "text": [
      "The distance between (0.5,0.5) and origin is around :0.7071067811865476\n"
     ]
    }
   ],
   "source": [
    "#Find the errors in this code to compute the distance between the point(x,y) and the origin in a cartesian coordinate system.\n",
    "# 计算笛卡尔坐标系中点 (x,y) 与原点之间的距离。\n",
    "\n",
    "import numpy as np\n",
    "\n",
    "def distance(x,y):\n",
    "    return np.sqrt(x**2+y**2)\n",
    "\n",
    "#print(distance(0.5, 0.5))\n",
    "print (f\"The distance between (0.5,0.5) and origin is around :{distance(0.5,0.5)}\")"
   ]
  },
  {
   "cell_type": "markdown",
   "metadata": {},
   "source": [
    "# 2. Find errors (*)\n",
    "Find the errors in this code. Just change the function, don't touch the test program."
   ]
  },
  {
   "cell_type": "code",
   "execution_count": null,
   "metadata": {},
   "outputs": [],
   "source": [
    "\"\"\"\n",
    "Find the errors in this code. Just change the function, don't touch the test program.\n",
    "\n",
    "def is_fourdigit(number):\n",
    "\n",
    "if number//1000 < 10\n",
    "\n",
    "    return true\n",
    "\n",
    "else \n",
    "\n",
    "    return false\n",
    "\n",
    "\n",
    "test program\n",
    "test_numbers = [231, 3124, -4124, -1000,-999, 1001, 10000, -10000, 999]\n",
    "\n",
    "for number in test_numbers:\n",
    "\n",
    "if is_fourdigit(number):\n",
    "\n",
    "    print(f\"{number} is four-digit\")\n",
    "\n",
    "else:\n",
    "\n",
    "    print(f\"{number} is not four-digit\")<code>\n",
    "    \"\"\""
   ]
  },
  {
   "cell_type": "code",
   "execution_count": 25,
   "metadata": {},
   "outputs": [
    {
     "name": "stdout",
     "output_type": "stream",
     "text": [
      "231 is not four-digit\n",
      "3124 is four-digit\n",
      "-4124 is four-digit\n",
      "-1000 is four-digit\n",
      "-999 is four-digit\n",
      "1001 is four-digit\n",
      "10000 is not four-digit\n",
      "-10000 is not four-digit\n",
      "999 is not four-digit\n"
     ]
    }
   ],
   "source": [
    "def is_fourdigit(number):\n",
    "    if 1 <= abs(number//1000) < 10:\n",
    "        return True\n",
    "    else:\n",
    "        return False\n",
    "\n",
    "# test program\n",
    "test_numbers = [231, 3124, -4124, -1000,-999, 1001, 10000, -10000, 999]\n",
    "\n",
    "for number in test_numbers:\n",
    "    if is_fourdigit(number):\n",
    "        print(f\"{number} is four-digit\")\n",
    "    else:\n",
    "        print(f\"{number} is not four-digit\")"
   ]
  },
  {
   "cell_type": "markdown",
   "metadata": {},
   "source": [
    "# 3. Tram (*)\n",
    "\n",
    "Kokchun is a clumpsy computer user that doesn't take trams too often. Write a program to prompt the user for:\n",
    "\n",
    "    number of times he/she wants to take tram in one month \n",
    "\n",
    "   cost for one ticket \n",
    "\n",
    "   cost for monthly card \n",
    "\n",
    "The program should calculate if it's worth for him to buy monthly card or not.她是否值得购买月卡。\n",
    "\n",
    "Make the program user friendly with clear error messages and ask again in case of input errors.\n",
    "\n",
    "通过清晰的错误消息使程序用户友好，并在输入错误的情况下再次询问。 \n"
   ]
  },
  {
   "cell_type": "code",
   "execution_count": 26,
   "metadata": {},
   "outputs": [
    {
     "name": "stdout",
     "output_type": "stream",
     "text": [
      "You takes 20 times Tram per month\n",
      "It costs 38 kr for each ticket\n",
      "It costs 1200 kr for a month card\n",
      "It cost you 760 kr for taking a Tram every month!\n",
      "It's NOT worth to buy a monthly card\n"
     ]
    }
   ],
   "source": [
    "while True:\n",
    "\n",
    "    times = input(\"How many times do you take tram in one month?\")\n",
    "\n",
    "    try: \n",
    "        times = int(times)\n",
    "        if not 0<=times<=100: \n",
    "            raise ValueError(\"Times must between 0 and 100!\") \n",
    "        print(f\"You takes {times} times Tram per month\")\n",
    "        break\n",
    "    except ValueError as err:\n",
    "        print(err)\n",
    "\n",
    "    \n",
    "\n",
    "while True:\n",
    "    \n",
    "    ticket = input(\"How much does one ticket cost?\")\n",
    "\n",
    "    try: \n",
    "        ticket = int(ticket)\n",
    "        if not 0<=ticket<=100: \n",
    "           raise ValueError(\"ticket cost must between 0 and 100!\") \n",
    "        print(f\"It costs {ticket} kr for each ticket\")\n",
    "        break\n",
    "    except ValueError as err:\n",
    "        print(err)\n",
    "\n",
    "while True:\n",
    "    \n",
    "    month_card = input(\"How much does one month card cost?\")\n",
    "    \n",
    "    try: \n",
    "        month_card = int(month_card)\n",
    "        if not 0<=month_card<=2000: \n",
    "           raise ValueError(\"ticket cost must between 0 and 2000!\") \n",
    "        print(f\"It costs {month_card} kr for a month card\")\n",
    "        break\n",
    "    except ValueError as err:\n",
    "        print(err)\n",
    "\n",
    "    \n",
    "print(f\"It cost you {times*ticket} kr for taking a Tram every month!\")\n",
    "\n",
    "\n",
    "if month_card >= ticket*times:\n",
    "        \n",
    "    print(\"It's NOT worth to buy a monthly card\")\n",
    "else:\n",
    "    print(\"It's worth to buy a monthly card\")"
   ]
  }
 ],
 "metadata": {
  "interpreter": {
   "hash": "0e1c4b289a1ee7bbfd05ca4cff940f68637f4315871854be96f4a0a829bab33d"
  },
  "kernelspec": {
   "display_name": "Python 3.9.6 64-bit ('Pythonkurs-8SbhYJ-b': virtualenv)",
   "name": "python3"
  },
  "language_info": {
   "codemirror_mode": {
    "name": "ipython",
    "version": 3
   },
   "file_extension": ".py",
   "mimetype": "text/x-python",
   "name": "python",
   "nbconvert_exporter": "python",
   "pygments_lexer": "ipython3",
   "version": "3.9.6"
  },
  "orig_nbformat": 4
 },
 "nbformat": 4,
 "nbformat_minor": 2
}
