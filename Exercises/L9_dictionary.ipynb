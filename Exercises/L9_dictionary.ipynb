{
 "cells": [
  {
   "cell_type": "code",
   "execution_count": 1,
   "metadata": {},
   "outputs": [
    {
     "name": "stdout",
     "output_type": "stream",
     "text": [
      "person dictionary: {'name': 'Kokchun', 'age': 30.4, 'work': 'teacher', 'interest': ['math', 'python', 'yoga'], 'phone': 112}\n",
      "Persons name is Kokchun\n",
      "Persons age is 30.4 years old\n",
      "Kokchun loves ['math', 'python', 'yoga']\n",
      "Kokchun loves math\n",
      "Kokchun loves python\n",
      "Kokchun loves yoga\n"
     ]
    }
   ],
   "source": [
    "# create dictionary with dict() 创建字典\n",
    "person = dict(\n",
    "    name = \"Kokchun\",\n",
    "    age = 30.4, \n",
    "    work = \"teacher\",\n",
    "    interest = [\"math\", \"python\", \"yoga\"],\n",
    "    phone = 112 # don't call\n",
    ")\n",
    "\n",
    "print(f\"person dictionary: {person}\")\n",
    "print(f\"Persons name is {person['name']}\") # note different ''  \"\"\n",
    "print(f\"Persons age is {person['age']} years old\") \n",
    "\n",
    "print(f\"{person['name']} loves {person['interest']}\") \n",
    "\n",
    "# \n",
    "for interest in person[\"interest\"]:\n",
    "    print(f\"{person['name']} loves {interest}\")"
   ]
  },
  {
   "cell_type": "code",
   "execution_count": 1,
   "metadata": {},
   "outputs": [
    {
     "name": "stdout",
     "output_type": "stream",
     "text": [
      "Vi ska lära oss dessa ord: data structure, regression, dictionary, method, lambda, \n",
      "\n",
      "Glosa                Betydelse\n",
      "data structure       means of organizing and storing data\n",
      "regression           find a function that best fits observered data\n",
      "dictionary           store data in key-value pair\n",
      "method               a function bound to an object\n",
      "lambda               an anonymous function\n"
     ]
    }
   ],
   "source": [
    "# create dictionary with curly braces {} \"大括号 {}\"\n",
    "words = {\n",
    "    \"data structure\": \"means of organizing and storing data\", \n",
    "    \"regression\": \"find a function that best fits observered data\",\n",
    "    \"dictionary\": \"store data in key-value pair\",\n",
    "    \"method\": \"a function bound to an object\",\n",
    "    \"lambda\": \"an anonymous function\"\n",
    "} # note quotes in key, quotes in value is for creating strings 注意键中的引号，值中的引号用于创建字符串\n",
    "\n",
    "print(\"Vi ska lära oss dessa ord: \", end=\"\")\n",
    "for key in words:\n",
    "     print(key, end=\", \")\n",
    "\n",
    "print(f\"\\n\\nGlosa{'':<15} Betydelse\") # '':<15 right align with width 15\n",
    "# loops through key and values\n",
    "for key, value in words.items():\n",
    "    print(f\"{key:<20} {value}\")"
   ]
  },
  {
   "cell_type": "code",
   "execution_count": 3,
   "metadata": {},
   "outputs": [
    {
     "name": "stdout",
     "output_type": "stream",
     "text": [
      "{'F': '<10', 'E': 10, 'D': 20, 'C': 30, 'B': 40, 'A': 50}\n"
     ]
    }
   ],
   "source": [
    "# F<10, E: 10, D: 20, C: 30, B: 40, A: 50 \n",
    "grade_limit = {}\n",
    "\n",
    "for i,char in enumerate(\"ABCDEF\"[::-1]):\n",
    "    grade_limit[char] = i*10\n",
    "\n",
    "# change value in a dictionary\n",
    "grade_limit[\"F\"] = \"<10\"\n",
    "print(grade_limit)"
   ]
  },
  {
   "cell_type": "markdown",
   "metadata": {},
   "source": [
    "# Dictionary comprehension 词典理解"
   ]
  },
  {
   "cell_type": "code",
   "execution_count": 4,
   "metadata": {},
   "outputs": [
    {
     "name": "stdout",
     "output_type": "stream",
     "text": [
      "Grade limits {'F': 0, 'E': 10, 'D': 20, 'C': 30, 'B': 40, 'A': 50}\n",
      "Scores [40, 7, 1, 47, 17, 15, 14, 8, 47, 6, 43, 47, 57, 34, 5, 37, 27, 2, 1, 5, 13, 14, 32, 38, 1, 35, 12, 45, 41, 44]\n",
      "Grade count {'F': 9, 'E': 6, 'D': 1, 'C': 5, 'B': 8, 'A': 1}\n"
     ]
    }
   ],
   "source": [
    "import random as rnd \n",
    "grade_limit = {grade: i*10 for i, grade in enumerate(\"FEDCBA\")}\n",
    "print(f\"Grade limits {grade_limit}\")\n",
    "\n",
    "def generate_scores(number_scores):\n",
    "    rnd.seed(42)\n",
    "    scores = [rnd.randint(0,60) for _ in range(number_scores)]\n",
    "    return scores\n",
    "\n",
    "scores = generate_scores(30)\n",
    "print(f\"Scores {scores}\")\n",
    "\n",
    "# count number in each grade category 计算每个年级类别的人数\n",
    "grade_count = {key: 0 for key in grade_limit}\n",
    "\n",
    "for score in scores:\n",
    "    for grade, limit in grade_limit.items():\n",
    "        if limit <= score < limit+10:\n",
    "            grade_count[grade] += 1\n",
    "\n",
    "print(f\"Grade count {grade_count}\")"
   ]
  },
  {
   "cell_type": "markdown",
   "metadata": {},
   "source": [
    "# L9 dictionary exercises"
   ]
  },
  {
   "cell_type": "markdown",
   "metadata": {},
   "source": [
    "# 1. Curriculum (*)\n",
    "\n",
    "Create a dictionary containing all the courses that you will study in this program, \n",
    "with the course names as keys and the amount of points as value. \n",
    "Then calculate the number of points that you will study in total. (*)\n",
    "\n",
    "创建一个字典，其中包含你要学习的所有课程，以课程名称为keys，以学分为值。然后计算您将学习的总学分。"
   ]
  },
  {
   "cell_type": "code",
   "execution_count": 1,
   "metadata": {},
   "outputs": [
    {
     "name": "stdout",
     "output_type": "stream",
     "text": [
      "The total points that ITHS AI program is: 400.\n"
     ]
    }
   ],
   "source": [
    "courses_AI21 = dict(\n",
    "    databaser = 25,\n",
    "    databehandling = 25,\n",
    "    djup_maskininlärning = 40,\n",
    "    examensarbete = 15,\n",
    "    introduktionskurs_till_AI = 5,\n",
    "    LIA_1 = 40,\n",
    "    LIA_2 = 70,\n",
    "    maskininlärning = 45,\n",
    "    praktisk_maskininlärning_och_projektmetodik\t= 45,\n",
    "    programmering_med_Python = 40,\n",
    "    statistiska_metoder = 30,\n",
    "    visualisering_presentationer_och_storytelling = 20\n",
    ")\n",
    "\n",
    "total_points = 0\n",
    "for key, value in courses_AI21.items():\n",
    "    total_points += value\n",
    "\n",
    "\"\"\" #Another method: Loop through every key, like a list\n",
    "for course in courses_ai21: \n",
    "    total_points += courses_ai21[course] \"\"\"\n",
    "\n",
    "print(f\"The total points that ITHS AI program is: {total_points}.\")"
   ]
  },
  {
   "cell_type": "code",
   "execution_count": 2,
   "metadata": {},
   "outputs": [
    {
     "ename": "FileNotFoundError",
     "evalue": "[Errno 2] No such file or directory: '../Files/courses_ai21.txt'",
     "output_type": "error",
     "traceback": [
      "\u001b[1;31m---------------------------------------------------------------------------\u001b[0m",
      "\u001b[1;31mFileNotFoundError\u001b[0m                         Traceback (most recent call last)",
      "\u001b[1;32m~\\AppData\\Local\\Temp/ipykernel_6332/1278610187.py\u001b[0m in \u001b[0;36m<module>\u001b[1;34m\u001b[0m\n\u001b[1;32m----> 1\u001b[1;33m \u001b[1;32mwith\u001b[0m \u001b[0mopen\u001b[0m\u001b[1;33m(\u001b[0m\u001b[1;34m\"../Files/courses_ai21.txt\"\u001b[0m\u001b[1;33m,\u001b[0m \u001b[1;34m\"r\"\u001b[0m\u001b[1;33m)\u001b[0m \u001b[1;32mas\u001b[0m \u001b[0mf_courses\u001b[0m\u001b[1;33m:\u001b[0m\u001b[1;33m\u001b[0m\u001b[1;33m\u001b[0m\u001b[0m\n\u001b[0m\u001b[0;32m      2\u001b[0m     \u001b[1;32mfor\u001b[0m \u001b[0mline\u001b[0m \u001b[1;32min\u001b[0m \u001b[0mf_courses\u001b[0m\u001b[1;33m.\u001b[0m\u001b[0mreadlines\u001b[0m\u001b[1;33m(\u001b[0m\u001b[1;33m)\u001b[0m\u001b[1;33m:\u001b[0m\u001b[1;33m\u001b[0m\u001b[1;33m\u001b[0m\u001b[0m\n\u001b[0;32m      3\u001b[0m         \u001b[0mline\u001b[0m \u001b[1;33m=\u001b[0m \u001b[0mline\u001b[0m\u001b[1;33m.\u001b[0m\u001b[0mstrip\u001b[0m\u001b[1;33m(\u001b[0m\u001b[1;34m\"\\n\"\u001b[0m\u001b[1;33m)\u001b[0m\u001b[1;33m\u001b[0m\u001b[1;33m\u001b[0m\u001b[0m\n\u001b[0;32m      4\u001b[0m         \u001b[0mline_new\u001b[0m \u001b[1;33m=\u001b[0m \u001b[0mline\u001b[0m\u001b[1;33m[\u001b[0m\u001b[1;33m:\u001b[0m\u001b[1;33m-\u001b[0m\u001b[1;36m4\u001b[0m\u001b[1;33m]\u001b[0m\u001b[1;33m\u001b[0m\u001b[1;33m\u001b[0m\u001b[0m\n\u001b[0;32m      5\u001b[0m         \u001b[0mprint\u001b[0m\u001b[1;33m(\u001b[0m\u001b[0mrepr\u001b[0m\u001b[1;33m(\u001b[0m\u001b[0mline_new\u001b[0m\u001b[1;33m)\u001b[0m\u001b[1;33m)\u001b[0m\u001b[1;33m\u001b[0m\u001b[1;33m\u001b[0m\u001b[0m\n",
      "\u001b[1;31mFileNotFoundError\u001b[0m: [Errno 2] No such file or directory: '../Files/courses_ai21.txt'"
     ]
    }
   ],
   "source": [
    "with open(\"../Files/courses_ai21.txt\", \"r\") as f_courses:\n",
    "    for line in f_courses.readlines():\n",
    "        line = line.strip(\"\\n\")\n",
    "        line_new = line[:-4]\n",
    "        print(repr(line_new))"
   ]
  },
  {
   "cell_type": "markdown",
   "metadata": {},
   "source": [
    "# 2. Dice simulation (*) 骰子模拟\n",
    "\n",
    "Simulate 1000000 dice rolls and save the number of ones, twos, ..., sixes in a dictionary. Then print them out in the terminal. (*)\n",
    "\n",
    "模拟 1000000 次掷骰子并将 1、2、...、6 的数量保存在字典中。 然后在终端打印出来"
   ]
  },
  {
   "cell_type": "code",
   "execution_count": 9,
   "metadata": {},
   "outputs": [
    {
     "ename": "NameError",
     "evalue": "name 'ones' is not defined",
     "output_type": "error",
     "traceback": [
      "\u001b[1;31m---------------------------------------------------------------------------\u001b[0m",
      "\u001b[1;31mNameError\u001b[0m                                 Traceback (most recent call last)",
      "\u001b[1;32m~\\AppData\\Local\\Temp/ipykernel_6332/842110714.py\u001b[0m in \u001b[0;36m<module>\u001b[1;34m\u001b[0m\n\u001b[0;32m      1\u001b[0m \u001b[1;32mimport\u001b[0m \u001b[0mrandom\u001b[0m \u001b[1;32mas\u001b[0m \u001b[0mrnd\u001b[0m\u001b[1;33m\u001b[0m\u001b[1;33m\u001b[0m\u001b[0m\n\u001b[0;32m      2\u001b[0m \u001b[1;33m\u001b[0m\u001b[0m\n\u001b[1;32m----> 3\u001b[1;33m \u001b[0mrolls1\u001b[0m\u001b[1;33m=\u001b[0m \u001b[1;33m{\u001b[0m\u001b[1;34m\"one\"\u001b[0m\u001b[1;33m:\u001b[0m\u001b[0mones\u001b[0m\u001b[1;33m,\u001b[0m\u001b[1;34m\"two\"\u001b[0m\u001b[1;33m:\u001b[0m \u001b[0mtwos\u001b[0m\u001b[1;33m,\u001b[0m \u001b[1;34m\"three\"\u001b[0m\u001b[1;33m:\u001b[0m \u001b[0mthrees\u001b[0m\u001b[1;33m,\u001b[0m \u001b[1;34m\"four\"\u001b[0m\u001b[1;33m:\u001b[0m \u001b[0mfours\u001b[0m\u001b[1;33m,\u001b[0m \u001b[1;34m\"five\"\u001b[0m\u001b[1;33m:\u001b[0m \u001b[0mfives\u001b[0m\u001b[1;33m,\u001b[0m \u001b[1;34m\"six\"\u001b[0m\u001b[1;33m:\u001b[0m \u001b[0msixes\u001b[0m\u001b[1;33m}\u001b[0m\u001b[1;33m\u001b[0m\u001b[1;33m\u001b[0m\u001b[0m\n\u001b[0m\u001b[0;32m      4\u001b[0m \u001b[1;33m\u001b[0m\u001b[0m\n\u001b[0;32m      5\u001b[0m \u001b[1;33m\u001b[0m\u001b[0m\n",
      "\u001b[1;31mNameError\u001b[0m: name 'ones' is not defined"
     ]
    }
   ],
   "source": [
    "import random as rnd\n",
    "\n",
    "rolls1= {\"one\":ones,\"two\": twos, \"three\": threes, \"four\": fours, \"five\": fives, \"six\": sixes}\n",
    "\n",
    "\n",
    "dices= [rnd.randint(1,6) for i in range(1000000)]\n",
    "\n",
    "ones=0\n",
    "twos=0\n",
    "threes=0\n",
    "fours=0\n",
    "fives=0\n",
    "sixes=0\n",
    "\n",
    "for dice in dices:\n",
    "    if dice == 1:\n",
    "        ones+=1\n",
    "    if dice == 2:\n",
    "        twos+=1\n",
    "    if dice == 3:\n",
    "        threes+=1\n",
    "    if dice == 4:\n",
    "        fours+=1\n",
    "    if dice == 5:\n",
    "        fives+=1\n",
    "    if dice == 6:\n",
    "        sixes+=1\n",
    "\n",
    "print(rolls1)"
   ]
  },
  {
   "cell_type": "code",
   "execution_count": 3,
   "metadata": {},
   "outputs": [
    {
     "name": "stdout",
     "output_type": "stream",
     "text": [
      "{'1': 1, '2': 2, '3': 3, '4': 4, '5': 5, '6': 6}\n",
      "{'1': 0, '2': 0, '3': 0, '4': 0, '5': 0, '6': 0}\n",
      "dice rolls count: {'1': 166339, '2': 166914, '3': 167107, '4': 166361, '5': 166285, '6': 166994}\n"
     ]
    }
   ],
   "source": [
    "import random as rnd\n",
    "\n",
    "# There are dices, n_of_rolls, roll_results for dice roll simulator\n",
    "n_of_rolls = 1000000\n",
    "dices = list(\"123456\")\n",
    "\n",
    "# There are two dictionary regarding output\n",
    "#created a dictionary of outcomes and limits.\n",
    "output_limits = {key: i+1 for i, key in enumerate(dices)}\n",
    "print(output_limits)\n",
    "\n",
    "#create a dictionary of counted outcomes.\n",
    "output_count = {key: 0 for key in dices}\n",
    "print(output_count)\n",
    "\n",
    "#Simulate dice rolls\n",
    "roll_results = [rnd.randint(1,6) for _ in range(n_of_rolls)]\n",
    "\n",
    "# for each dice roll result, compare it with all categories (code: limit) in the first dictionary\n",
    "# the value (code:count) in the second dictionary changes if any condition is satisfied.\n",
    "# The connection between these two sets is that: They have the same keys\n",
    "for roll_result in roll_results:\n",
    "    for key, limit in output_limits.items(): # the first dictionary\n",
    "        if roll_result == limit:\n",
    "            output_count[key] += 1 #the second dictionary: the key in dices--> exactly the key in output_count[key]\n",
    "print(f\"dice rolls count: {output_count}\")"
   ]
  },
  {
   "cell_type": "markdown",
   "metadata": {},
   "source": [
    "# 3. Pokemon list (*)\n",
    "Read in the file pokemon_list.txt in Python. \n",
    "\n",
    "Create a variable with name pokedex with the key:value \"pokemon\":\"type, index\". For example when searching for the keys \"Gengar\" and \"Pikachu\": (*)\n",
    "\n",
    "print(pokedex[\"Gengar\"])\n",
    "\n",
    "print(pokedex[\"Pikachu\"])\n",
    "\n",
    "Spöke/Gift, 94\n",
    "\n",
    "Elektrisk, 25"
   ]
  },
  {
   "cell_type": "code",
   "execution_count": 4,
   "metadata": {},
   "outputs": [
    {
     "name": "stdout",
     "output_type": "stream",
     "text": [
      "a. The dictionary pokedex is: {'Bulbasaur': 'Gräs/Gift', 'Ivysaur': 'Gräs/Gift', 'Venusaur': 'Gräs/Gift', 'Charmander': 'Eld', 'Charmeleon': 'Eld', 'Charizard': 'Eld/Flygande', 'Squirtle': 'Vatten', 'Wartortle': 'Vatten', 'Blastoise': 'Vatten', 'Caterpie': 'Insekt', 'Metapod': 'Insekt', 'Butterfree': 'Insekt/Flygande', 'Weedle': 'Insekt/Gift', 'Kakuna': 'Insekt/Gift', 'Beedrill': 'Insekt/Gift', 'Pidgey': 'Normal/Flygande', 'Pidgeotto': 'Normal/Flygande', 'Pidgeot': 'Normal/Flygande', 'Rattata': 'Normal', 'Raticate': 'Normal', 'Spearow': 'Normal/Flygande', 'Fearow': 'Normal/Flygande', 'Ekans': 'Gift', 'Arbok': 'Gift', 'Pikachu': 'Elektrisk', 'Raichu': 'Elektrisk', 'Sandshrew': 'Mark', 'Sandslash': 'Mark', 'Nidoran♀': 'Gift', 'Nidorina': 'Gift', 'Nidoqueen': 'Gift/Mark', 'Nidoran♂': 'Gift', 'Nidorino': 'Gift', 'Nidoking': 'Gift/Mark', 'Clefairy': 'Fé', 'Clefable': 'Fé', 'Vulpix': 'Eld', 'Ninetales': 'Eld', 'Jigglypuff': 'Normal/Fé', 'Wigglytuff': 'Normal/Fé', 'Zubat': 'Gift/Flygande', 'Golbat': 'Gift/Flygande', 'Oddish': 'Gräs/Gift', 'Gloom': 'Gräs/Gift', 'Vileplume': 'Gräs/Gift', 'Paras': 'Insekt/Gräs', 'Parasect': 'Insekt/Gräs', 'Venonat': 'Insekt/Gift', 'Venomoth': 'Insekt/Gift', 'Diglett': 'Mark', 'Dugtrio': 'Mark', 'Meowth': 'Normal', 'Persian': 'Normal', 'Psyduck': 'Vatten', 'Golduck': 'Vatten', 'Mankey': 'Kamp', 'Primeape': 'Kamp', 'Growlithe': 'Eld', 'Arcanine': 'Eld', 'Poliwag': 'Vatten', 'Poliwhirl': 'Vatten', 'Poliwrath': 'Vatten/Kamp', 'Abra': 'Psykisk', 'Kadabra': 'Psykisk', 'Alakazam': 'Psykisk', 'Machop': 'Kamp', 'Machoke': 'Kamp', 'Machamp': 'Kamp', 'Bellsprout': 'Gräs/Gift', 'Weepinbell': 'Gräs/Gift', 'Victreebel': 'Gräs/Gift', 'Tentacool': 'Vatten/Gift', 'Tentacruel': 'Vatten/Gift', 'Geodude': 'Sten/Mark', 'Graveler': 'Sten/Mark', 'Golem': 'Sten/Mark', 'Ponyta': 'Eld', 'Rapidash': 'Eld', 'Slowpoke': 'Vatten/Psykisk', 'Slowbro': 'Vatten/Psykisk', 'Magnemite': 'Elektrisk/Stål', 'Magneton': 'Elektrisk/Stål', \"Farfetch'd\": 'Normal/Flygande', 'Doduo': 'Normal/Flygande', 'Dodrio': 'Normal/Flygande', 'Seel': 'Vatten', 'Dewgong': 'Vatten/Is', 'Grimer': 'Gift', 'Muk': 'Gift', 'Shellder': 'Vatten', 'Cloyster': 'Vatten/Is', 'Gastly': 'Spöke/Gift', 'Haunter': 'Spöke/Gift', 'Gengar': 'Spöke/Gift', 'Onix': 'Sten/Mark', 'Drowzee': 'Psykisk', 'Hypno': 'Psykisk', 'Krabby': 'Vatten', 'Kingler': 'Vatten', 'Voltorb': 'Elektrisk', 'Electrode': 'Elektrisk', 'Exeggcute': 'Gräs/Psykisk', 'Exeggutor': 'Gräs/Psykisk', 'Cubone': 'Mark', 'Marowak': 'Mark', 'Hitmonlee': 'Kamp', 'Hitmonchan': 'Kamp', 'Lickitung': 'Normal', 'Koffing': 'Gift', 'Weezing': 'Gift', 'Rhyhorn': 'Mark/Sten', 'Rhydon': 'Mark/Sten', 'Chansey': 'Normal', 'Tangela': 'Gräs', 'Kangaskhan': 'Normal', 'Horsea': 'Vatten', 'Seadra': 'Vatten', 'Goldeen': 'Vatten', 'Seaking': 'Vatten', 'Staryu': 'Vatten', 'Starmie': 'Vatten/Psykisk', 'Mr.': 'Mime', 'Scyther': 'Insekt/Flygande', 'Jynx': 'Is/Psykisk', 'Electabuzz': 'Elektrisk', 'Magmar': 'Eld', 'Pinsir': 'Insekt', 'Tauros': 'Normal', 'Magikarp': 'Vatten', 'Gyarados': 'Vatten/Flygande', 'Lapras': 'Vatten/Is', 'Ditto': 'Normal', 'Eevee': 'Normal', 'Vaporeon': 'Vatten', 'Jolteon': 'Elektrisk', 'Flareon': 'Eld', 'Porygon': 'Normal', 'Omanyte': 'Sten/Vatten', 'Omastar': 'Sten/Vatten', 'Kabuto': 'Sten/Vatten', 'Kabutops': 'Sten/Vatten', 'Aerodactyl': 'Sten/Flygande', 'Snorlax': 'Normal', 'Articuno': 'Is/Flygande', 'Zapdos': 'Elektrisk/Flygande', 'Moltres': 'Eld/Flygande', 'Dratini': 'Drake', 'Dragonair': 'Drake', 'Dragonite': 'Drake/Flygande', 'Mewtwo': 'Psykisk'}\n",
      "\n",
      "b. The value of Gengar is: Spöke/Gift\n",
      "\n",
      "c. The value of Pikachu is: Elektrisk\n"
     ]
    }
   ],
   "source": [
    "with open(\"../Files/pokemon_list.txt\", \"r\", encoding=\"utf8\") as f:\n",
    "    txt = f.readlines()\n",
    "    pokedex = {line.strip(\"\\n\").split()[1] : line.strip(\"\\n\").split()[2] for line in txt}\n",
    "print(f\"a. The dictionary pokedex is: {pokedex}\")\n",
    "print(f\"\\nb. The value of Gengar is: {pokedex['Gengar']}\")\n",
    "print(f\"\\nc. The value of Pikachu is: {pokedex['Pikachu']}\")"
   ]
  },
  {
   "cell_type": "code",
   "execution_count": 5,
   "metadata": {},
   "outputs": [],
   "source": [
    "# Another way:\n",
    "pokedex = {}\n",
    "\n",
    "with open(\"../Files/pokemon_list.txt\", \"r\", encoding=\"utf8\") as f:\n",
    "    for line in f.readlines():\n",
    "        key = line.split()[1] \n",
    "        val = line.split()[2]                       \n",
    "        pokedex[key] = val"
   ]
  },
  {
   "cell_type": "markdown",
   "metadata": {},
   "source": [
    "# 4. Morse code (**)\n",
    "\n",
    "Read in the file morse.txt, save it in a dictionary and create a function that lets the user input a message to get it translated to morse code.将其保存在字典中并创建一个函数，让用户输入一条消息以将其转换为莫尔斯电码。\n",
    "For example\n",
    "\n",
    "print(morse[\"SOS\"])\n",
    "\n",
    "print(morse[\"POKEMON\"])"
   ]
  },
  {
   "cell_type": "code",
   "execution_count": 6,
   "metadata": {},
   "outputs": [
    {
     "name": "stdout",
     "output_type": "stream",
     "text": [
      "{'A': '.-', 'B': '-...', 'C': '-.-.', 'D': '-..', 'E': '.', 'F': '..-.', 'G': '--', 'H': '....', 'I': '..', 'J': '.---', 'K': '-.-', 'L': '.-..', 'M': '--', 'N': '-.', 'O': '---', 'P': '.--', 'Q': '--.-', 'R': '.-.', 'S': '...', 'T': '-', 'U': '..-', 'V': '...-', 'W': '.--', 'X': '-..-', 'Y': '-.--', 'Z': '--..', 'Å': '.--.-', 'Ä': '.-.-', 'Ö': '---'}\n",
      "\n",
      "\n",
      "The morse message of 'sos' is: ...---...\n",
      "\n",
      "\n",
      "The morse message of 'Pokemon' is: .------.-.------.\n",
      "\n",
      "\n",
      "The morse message of 'SHIT' is: .........-\n"
     ]
    }
   ],
   "source": [
    "with open(\"../Files/morse.txt\", \"r\", encoding=\"utf8\") as f4:\n",
    "    txt = f4.readlines()\n",
    "    morse_dic = {line.strip(\"\\n\").split(\": \")[0] : line.strip(\"\\n\").split(\": \")[1] for line in txt}\n",
    "    print(morse_dic)\n",
    "\n",
    "def morse(word):\n",
    "    morse_results = \"\"\n",
    "    word_input = word.upper()\n",
    "    for letter in word_input:\n",
    "        morse_results += morse_dic[letter] \n",
    "       \n",
    "    return morse_results\n",
    "\n",
    "print(f\"\\n\\nThe morse message of 'sos' is: {morse('sos')}\")\n",
    "print(f\"\\n\\nThe morse message of 'Pokemon' is: {morse('POKEMON')}\")\n",
    "\n",
    "hi_word = input(\"Please choose a word\")\n",
    "    \n",
    "print(f\"\\n\\nThe morse message of '{hi_word}' is: {morse(hi_word)}\")"
   ]
  }
 ],
 "metadata": {
  "interpreter": {
   "hash": "26686dec1f1c69e7843542045c9bcb01e7d61ef2953291481df04c12bb1a928f"
  },
  "kernelspec": {
   "display_name": "Python 3.9.6 64-bit",
   "name": "python3"
  },
  "language_info": {
   "codemirror_mode": {
    "name": "ipython",
    "version": 3
   },
   "file_extension": ".py",
   "mimetype": "text/x-python",
   "name": "python",
   "nbconvert_exporter": "python",
   "pygments_lexer": "ipython3",
   "version": "3.9.6"
  },
  "orig_nbformat": 4
 },
 "nbformat": 4,
 "nbformat_minor": 2
}
