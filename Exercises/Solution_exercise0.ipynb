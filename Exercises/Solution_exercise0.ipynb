{
 "cells": [
  {
   "cell_type": "code",
   "execution_count": 1,
   "source": [
    "# Inlämning 1   2021-08-27 Xiu\r\n",
    "# Exercise 0 \r\n",
    "# Question 1a Pythagorean theorem\r\n",
    "# theory c^2=a^2+b^2\r\n",
    "a=int(input(\"Please enter length of triangle side a\"))\r\n",
    "b=int(input(\"Please enter length of triangle side b\"))\r\n",
    "c=(a*a+b*b)\r\n",
    "\r\n",
    "print(\"length of side C is {}\".format(c**0.5))"
   ],
   "outputs": [
    {
     "output_type": "stream",
     "name": "stdout",
     "text": [
      "length of side C is 5.0\n"
     ]
    }
   ],
   "metadata": {}
  },
  {
   "cell_type": "code",
   "execution_count": null,
   "source": [
    "from math import sqrt \r\n",
    "def getLength():\r\n",
    "    length=float(input(\"Please enter length of triangle side a\"))"
   ],
   "outputs": [],
   "metadata": {}
  },
  {
   "cell_type": "code",
   "execution_count": 2,
   "source": [
    "#Question 1b:c^2-a^2=b^2\r\n",
    "c=int(input(\"Please enter length of triangle side c\"))\r\n",
    "a=int(input(\"Please enter length of triangle side a\"))\r\n",
    "b=(c*c-a*a)\r\n",
    "\r\n",
    "print(\"length of side b is {}\".format(b**0.5))"
   ],
   "outputs": [
    {
     "output_type": "stream",
     "name": "stdout",
     "text": [
      "length of side b is 4.898979485566356\n"
     ]
    }
   ],
   "metadata": {}
  },
  {
   "cell_type": "code",
   "execution_count": 3,
   "source": [
    "#Question 2\r\n",
    "total=365\r\n",
    "correctpredict=300\r\n",
    "accuracy=correctpredict/total\r\n",
    "print(accuracy)"
   ],
   "outputs": [
    {
     "output_type": "stream",
     "name": "stdout",
     "text": [
      "0.821917808219178\n"
     ]
    }
   ],
   "metadata": {}
  },
  {
   "cell_type": "code",
   "execution_count": null,
   "source": [
    "#Question 3 find the slope \r\n",
    "# I don't know how to do it "
   ],
   "outputs": [],
   "metadata": {}
  },
  {
   "cell_type": "code",
   "execution_count": 14,
   "source": [
    "#Question 4 find the slope \r\n",
    "# Point A (4 ,4)  Point B(0,1)\r\n",
    "\r\n",
    "x1=0\r\n",
    "y1=1\r\n",
    "x2=4\r\n",
    "y2=4\r\n",
    "\r\n",
    "slope=(y2-y1)/(x2-x1)\r\n",
    "intercept=y1-a*x1\r\n",
    "\r\n",
    "print(f\"slope is {slope}\") \r\n",
    "print(f\"intercept is {intercept}\")\r\n",
    "\r\n"
   ],
   "outputs": [
    {
     "output_type": "stream",
     "name": "stdout",
     "text": [
      "slope is 0.75\n",
      "intercept is 1\n"
     ]
    }
   ],
   "metadata": {}
  },
  {
   "cell_type": "code",
   "execution_count": 15,
   "source": [
    "# Question 5 (Euclidean Distance)\r\n",
    "# P_1: (3,5) and P_2: (-2,4)\r\n",
    "\r\n",
    "x1=3\r\n",
    "y1=5\r\n",
    "x2=-2\r\n",
    "y2=4\r\n",
    "\r\n",
    "E_distance=(x1-x2)*(x1-x2) +(y1-y2)*(y1-y2)\r\n",
    "print(\"Euclidean Distance is {}\".format(E_distance**0.5))"
   ],
   "outputs": [
    {
     "output_type": "stream",
     "name": "stdout",
     "text": [
      "Euclidean Distance is 5.0990195135927845\n"
     ]
    }
   ],
   "metadata": {}
  },
  {
   "cell_type": "code",
   "execution_count": 16,
   "source": [
    "# Question 6 Euclidean distance in 3D \r\n",
    "# Calculate the distance between the points P_1: (2,1,4) and P_2: (3,1,0)\r\n",
    "\r\n",
    "x1=2\r\n",
    "y1=1\r\n",
    "z1=4\r\n",
    "x2=3\r\n",
    "y2=1\r\n",
    "z2=0\r\n",
    "\r\n",
    "E_distance=(x1-x2)*(x1-x2) +(y1-y2)*(y1-y2)+(z1-z2)*(z1-z2)\r\n",
    "print(\"Euclidean Distance in 3D is {}\".format(E_distance**0.5))"
   ],
   "outputs": [
    {
     "output_type": "stream",
     "name": "stdout",
     "text": [
      "Euclidean Distance in 3D is 4.123105625617661\n"
     ]
    }
   ],
   "metadata": {}
  },
  {
   "cell_type": "code",
   "execution_count": null,
   "source": [],
   "outputs": [],
   "metadata": {}
  }
 ],
 "metadata": {
  "orig_nbformat": 4,
  "language_info": {
   "name": "python",
   "version": "3.9.6",
   "mimetype": "text/x-python",
   "codemirror_mode": {
    "name": "ipython",
    "version": 3
   },
   "pygments_lexer": "ipython3",
   "nbconvert_exporter": "python",
   "file_extension": ".py"
  },
  "kernelspec": {
   "name": "python3",
   "display_name": "Python 3.9.6 64-bit ('Pythonkurs-8SbhYJ-b': pipenv)"
  },
  "interpreter": {
   "hash": "0e1c4b289a1ee7bbfd05ca4cff940f68637f4315871854be96f4a0a829bab33d"
  }
 },
 "nbformat": 4,
 "nbformat_minor": 2
}