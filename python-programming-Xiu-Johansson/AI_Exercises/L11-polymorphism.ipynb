{
 "cells": [
  {
   "cell_type": "code",
   "execution_count": null,
   "source": [
    "#  Lecture notes 11- OOP polymorphism"
   ],
   "outputs": [],
   "metadata": {}
  },
  {
   "cell_type": "code",
   "execution_count": null,
   "source": [
    "\r\n",
    "# Polymorphism\r\n",
    "#same function name or operator used for different types\r\n",
    "#e.g. len() on a string, len() on a list\r\n",
    "#plus operator + on a string concatenates the string while on an int performs integer addition"
   ],
   "outputs": [],
   "metadata": {}
  },
  {
   "cell_type": "code",
   "execution_count": 1,
   "source": [
    "print(f\"len(['a','b','c']): {len(['a','b','c'])}\")\r\n",
    "print(f\"len('abc'): {len('abc')}\")"
   ],
   "outputs": [
    {
     "output_type": "stream",
     "name": "stdout",
     "text": [
      "len(['a','b','c']): 3\n",
      "len('abc'): 3\n"
     ]
    }
   ],
   "metadata": {}
  },
  {
   "cell_type": "code",
   "execution_count": 3,
   "source": [
    "# Polymorphism in class methods\r\n",
    "\r\n",
    "class Fish:\r\n",
    "    def __init__(self, name):\r\n",
    "        self.name = name\r\n",
    "\r\n",
    "    def __str__(self):\r\n",
    "        return f\"I am a fish, my name is {self.name}\"\r\n",
    "\r\n",
    "    def speak(self):\r\n",
    "        print(\"Blupp blupp\")\r\n",
    "\r\n",
    "\r\n",
    "class Fox:\r\n",
    "    def __init__(self, name):\r\n",
    "        self.name = name\r\n",
    "\r\n",
    "    def __str__(self):\r\n",
    "        return f\"I am a fox, my name is {self.name}, no one knows how I sound\"\r\n",
    "\r\n",
    "    def speak(self):\r\n",
    "        return NotImplemented # as we don't know the sound of the fox \r\n",
    "\r\n",
    "\r\n",
    "animals = (Fish(\"Pelle\"), Fox(\"Ylvis\"))\r\n",
    "\r\n",
    "# although animals have different types, you can iterate through it and call same method as they are bound to different objects\r\n",
    "for animal in animals:\r\n",
    "    print(animal)\r\n",
    "    animal.speak()"
   ],
   "outputs": [
    {
     "output_type": "stream",
     "name": "stdout",
     "text": [
      "I am a fish, my name is Pelle\n",
      "Blupp blupp\n",
      "I am a fox, my name is Ylvis, no one knows how I sound\n"
     ]
    }
   ],
   "metadata": {}
  },
  {
   "cell_type": "code",
   "execution_count": null,
   "source": [
    "# Operator overloading¶\r\n",
    "#giving additional functionality to an operator\r\n",
    "#e.g. + is overloaded for strings, int, float etc.\r\n",
    "#Read more: operator overloading"
   ],
   "outputs": [],
   "metadata": {}
  }
 ],
 "metadata": {
  "orig_nbformat": 4,
  "language_info": {
   "name": "python",
   "version": "3.9.6",
   "mimetype": "text/x-python",
   "codemirror_mode": {
    "name": "ipython",
    "version": 3
   },
   "pygments_lexer": "ipython3",
   "nbconvert_exporter": "python",
   "file_extension": ".py"
  },
  "kernelspec": {
   "name": "python3",
   "display_name": "Python 3.9.6 64-bit"
  },
  "interpreter": {
   "hash": "26686dec1f1c69e7843542045c9bcb01e7d61ef2953291481df04c12bb1a928f"
  }
 },
 "nbformat": 4,
 "nbformat_minor": 2
}