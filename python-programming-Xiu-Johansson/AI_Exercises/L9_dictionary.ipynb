{
 "cells": [
  {
   "cell_type": "markdown",
   "source": [
    "# L9_Dictionary \r\n",
    "#dictionary"
   ],
   "metadata": {}
  },
  {
   "cell_type": "code",
   "execution_count": null,
   "source": [
    "# create dictionary with dict()\r\n",
    "person = dict(\r\n",
    "    name = \"Kokchun\",\r\n",
    "    age = 30.4, \r\n",
    "    work = \"teacher\",\r\n",
    "    interest = [\"math\", \"python\", \"yoga\"],\r\n",
    "    phone = 112 # don't call\r\n",
    ")\r\n",
    "\r\n",
    "print(f\"person dictionary: {person}\")\r\n",
    "print(f\"Persons name is {person['name']}\") # note different ''  \"\"\r\n",
    "print(f\"Persons age is {person['age']} years old\") \r\n",
    "\r\n",
    "print(f\"{person['name']} loves {person['interest']}\") \r\n",
    "\r\n",
    "for interest in person[\"interest\"]:\r\n",
    "    print(f\"{person['name']} loves {interest}\")"
   ],
   "outputs": [],
   "metadata": {}
  },
  {
   "cell_type": "code",
   "execution_count": null,
   "source": [
    "# create dictionary with dict()\r\n",
    "person = dict(\r\n",
    "    name = \"Josefine Johansson\",\r\n",
    "    age = 8, \r\n",
    "    work = \"2 grade student\",\r\n",
    "    interest = [\"piano\", \"cello\", \"TV\"],\r\n",
    "    phone = 234567 # don't call\r\n",
    ")\r\n",
    "\r\n",
    "print(f\"person dictionary: {person}\")\r\n",
    "print(f\"Persons name is {person['name']}\") # note different ''  \"\"\r\n",
    "print(f\"Persons age is {person['age']} years old\") \r\n",
    "\r\n",
    "print(f\"{person['name']} loves {person['interest']}\") \r\n",
    "\r\n",
    "for interest in person[\"interest\"]:\r\n",
    "    print(f\"{person['name']} loves {interest}\")"
   ],
   "outputs": [],
   "metadata": {}
  },
  {
   "cell_type": "code",
   "execution_count": null,
   "source": [
    "# create dictionary with curly braces {}\r\n",
    "words = {\r\n",
    "    \"data structure\": \"means of organizing and storing data\", \r\n",
    "    \"regression\": \"find a function that best fits observered data\",\r\n",
    "    \"dictionary\": \"store data in key-value pair\",\r\n",
    "    \"method\": \"a function bound to an object\",\r\n",
    "    \"lambda\": \"an anonymous function\"\r\n",
    "} # note quotes in key, quotes in value is for creating strings\r\n",
    "\r\n",
    "print(\"Vi ska lära oss dessa ord: \", end=\"\")\r\n",
    "for key in words:\r\n",
    "     print(key, end=\", \")\r\n",
    "\r\n",
    "print(f\"\\n\\nGlosa{'':<15} Betydelse\") # '':<15 right align with width 15\r\n",
    "# loops through key and values\r\n",
    "for key, value in words.items():\r\n",
    "    print(f\"{key:<20} {value}\")"
   ],
   "outputs": [],
   "metadata": {}
  },
  {
   "cell_type": "code",
   "execution_count": null,
   "source": [
    "# F<10, E: 10, D: 20, C: 30, B: 40, A: 50 \r\n",
    "grade_limit = {}\r\n",
    "\r\n",
    "for i,char in enumerate(\"ABCDEF\"[::-1]):\r\n",
    "    grade_limit[char] = i*10\r\n",
    "\r\n",
    "# change value in a dictionary\r\n",
    "grade_limit[\"F\"] = \"<10\"\r\n",
    "print(grade_limit)"
   ],
   "outputs": [],
   "metadata": {}
  },
  {
   "cell_type": "markdown",
   "source": [
    "# Dictionary comprehension"
   ],
   "metadata": {}
  },
  {
   "cell_type": "code",
   "execution_count": null,
   "source": [
    "import random as rnd \r\n",
    "grade_limit = {grade: i*10 for i, grade in enumerate(\"FEDCBA\")}\r\n",
    "print(f\"Grade limits {grade_limit}\")\r\n",
    "\r\n",
    "def generate_scores(number_scores):\r\n",
    "    rnd.seed(42)\r\n",
    "    scores = [rnd.randint(0,60) for _ in range(number_scores)]\r\n",
    "    return scores\r\n",
    "\r\n",
    "scores = generate_scores(30)\r\n",
    "print(f\"Scores {scores}\")\r\n",
    "\r\n",
    "# count number in each grade category\r\n",
    "grade_count = {key: 0 for key in grade_limit}\r\n",
    "\r\n",
    "for score in scores:\r\n",
    "    for grade, limit in grade_limit.items():\r\n",
    "        if limit <= score < limit+10:\r\n",
    "            grade_count[grade] += 1\r\n",
    "\r\n",
    "print(f\"Grade count {grade_count}\")"
   ],
   "outputs": [],
   "metadata": {}
  },
  {
   "cell_type": "code",
   "execution_count": null,
   "source": [
    "dict = {'Name': 'Zara', 'Age': 7, 'Class': 'First'}\r\n",
    " \r\n",
    "print (\"dict['Alice']: \", dict['Alice'])"
   ],
   "outputs": [],
   "metadata": {}
  },
  {
   "cell_type": "code",
   "execution_count": null,
   "source": [
    "dict = {'Name': 'Zara', 'Age': 7, 'Class': 'First'}\r\n",
    " \r\n",
    "dict['Age'] = 8 # 更新\r\n",
    "dict['School'] = \"RUNOOB\" # 添加\r\n",
    " \r\n",
    " \r\n",
    "print (\"dict['Age']: \", dict['Age'])\r\n",
    "print (\"dict['School']: \", dict['School'])"
   ],
   "outputs": [],
   "metadata": {}
  },
  {
   "cell_type": "code",
   "execution_count": null,
   "source": [
    "dict = {'Name': 'Zara', 'Age': 7, 'Class': 'First'}\r\n",
    " \r\n",
    "del dict['Name']  # 删除键是'Name'的条目\r\n",
    "dict.clear()      # 清空字典所有条目\r\n",
    "del dict          # 删除字典\r\n",
    " \r\n",
    "print (\"dict['Age']: \", dict['Age'] )\r\n",
    "print (\"dict['School']: \", dict['School'])"
   ],
   "outputs": [],
   "metadata": {}
  },
  {
   "cell_type": "code",
   "execution_count": null,
   "source": [
    "dict = {'Name': 'Zara', 'Age': 7, 'Class': 'First'};\r\n",
    " \r\n",
    "print (\"dict['Name']: \", dict['Name'])\r\n",
    "print (\"dict['Age']: \", dict['Age'])\r\n",
    "#以上实例输出结果：\r\n",
    "#dict['Name']: Zara\r\n",
    "#dict['Age']: 7"
   ],
   "outputs": [],
   "metadata": {}
  },
  {
   "cell_type": "code",
   "execution_count": 14,
   "source": [
    "print('''|---欢迎进入通讯录程序---|\r\n",
    "|---1、 查询联系人资料---|\r\n",
    "|---2、 插入新的联系人---|\r\n",
    "|---3、 删除已有联系人---|\r\n",
    "|---4、 退出通讯录程序---|''')\r\n",
    "addressBook={}#定义通讯录\r\n",
    "while 1:\r\n",
    " temp=input('请输入指令代码：')\r\n",
    " if not temp.isdigit():\r\n",
    "  print(\"输入的指令错误，请按照提示输入\")\r\n",
    "  continue\r\n",
    " item=int(temp)#转换为数字\r\n",
    " if item==4:\r\n",
    "  print(\"|---感谢使用通讯录程序---|\")\r\n",
    "  break\r\n",
    " name = input(\"请输入联系人姓名:\")\r\n",
    " if item==1:\r\n",
    "  if name in addressBook:\r\n",
    "   print(name,':',addressBook[name])\r\n",
    "   continue\r\n",
    "  else:\r\n",
    "   print(\"该联系人不存在！\")\r\n",
    " if item==2:\r\n",
    "  if name in addressBook:\r\n",
    "   print(\"您输入的姓名在通讯录中已存在-->>\",name,\":\",addressBook[name])\r\n",
    "   isEdit=input(\"是否修改联系人资料(Y/N）:\")\r\n",
    "   if isEdit=='Y':\r\n",
    "    userphone = input(\"请输入联系人电话：\")\r\n",
    "    addressBook[name]=userphone\r\n",
    "    print(\"联系人修改成功\")\r\n",
    "    continue\r\n",
    "   else:\r\n",
    "    continue\r\n",
    "  else:\r\n",
    "   userphone=input(\"请输入联系人电话：\")\r\n",
    "   addressBook[name]=userphone\r\n",
    "   print(\"联系人加入成功！\")\r\n",
    "   continue\r\n",
    " \r\n",
    " if item==3:\r\n",
    "  if name in addressBook:\r\n",
    "   del addressBook[name]\r\n",
    "   print(\"删除成功！\")\r\n",
    "   continue\r\n",
    "  else:\r\n",
    "   print(\"联系人不存在\")"
   ],
   "outputs": [
    {
     "output_type": "stream",
     "name": "stdout",
     "text": [
      "输入的指令错误，请按照提示输入\n",
      "输入的指令错误，请按照提示输入\n",
      "输入的指令错误，请按照提示输入\n"
     ]
    },
    {
     "output_type": "error",
     "ename": "KeyboardInterrupt",
     "evalue": "Interrupted by user",
     "traceback": [
      "\u001b[1;31m---------------------------------------------------------------------------\u001b[0m",
      "\u001b[1;31mKeyboardInterrupt\u001b[0m                         Traceback (most recent call last)",
      "\u001b[1;32m~\\AppData\\Local\\Temp/ipykernel_5596/1144129836.py\u001b[0m in \u001b[0;36m<module>\u001b[1;34m\u001b[0m\n\u001b[0;32m      6\u001b[0m \u001b[0maddressBook\u001b[0m\u001b[1;33m=\u001b[0m\u001b[1;33m{\u001b[0m\u001b[1;33m}\u001b[0m\u001b[1;31m#定义通讯录\u001b[0m\u001b[1;33m\u001b[0m\u001b[1;33m\u001b[0m\u001b[0m\n\u001b[0;32m      7\u001b[0m \u001b[1;32mwhile\u001b[0m \u001b[1;36m1\u001b[0m\u001b[1;33m:\u001b[0m\u001b[1;33m\u001b[0m\u001b[1;33m\u001b[0m\u001b[0m\n\u001b[1;32m----> 8\u001b[1;33m  \u001b[0mtemp\u001b[0m\u001b[1;33m=\u001b[0m\u001b[0minput\u001b[0m\u001b[1;33m(\u001b[0m\u001b[1;34m'请输入指令代码：'\u001b[0m\u001b[1;33m)\u001b[0m\u001b[1;33m\u001b[0m\u001b[1;33m\u001b[0m\u001b[0m\n\u001b[0m\u001b[0;32m      9\u001b[0m  \u001b[1;32mif\u001b[0m \u001b[1;32mnot\u001b[0m \u001b[0mtemp\u001b[0m\u001b[1;33m.\u001b[0m\u001b[0misdigit\u001b[0m\u001b[1;33m(\u001b[0m\u001b[1;33m)\u001b[0m\u001b[1;33m:\u001b[0m\u001b[1;33m\u001b[0m\u001b[1;33m\u001b[0m\u001b[0m\n\u001b[0;32m     10\u001b[0m   \u001b[0mprint\u001b[0m\u001b[1;33m(\u001b[0m\u001b[1;34m\"输入的指令错误，请按照提示输入\"\u001b[0m\u001b[1;33m)\u001b[0m\u001b[1;33m\u001b[0m\u001b[1;33m\u001b[0m\u001b[0m\n",
      "\u001b[1;32m~\\.virtualenvs\\Pythonkurs-8SbhYJ-b\\lib\\site-packages\\ipykernel\\kernelbase.py\u001b[0m in \u001b[0;36mraw_input\u001b[1;34m(self, prompt)\u001b[0m\n\u001b[0;32m   1004\u001b[0m                 \u001b[1;34m\"raw_input was called, but this frontend does not support input requests.\"\u001b[0m\u001b[1;33m\u001b[0m\u001b[1;33m\u001b[0m\u001b[0m\n\u001b[0;32m   1005\u001b[0m             )\n\u001b[1;32m-> 1006\u001b[1;33m         return self._input_request(\n\u001b[0m\u001b[0;32m   1007\u001b[0m             \u001b[0mstr\u001b[0m\u001b[1;33m(\u001b[0m\u001b[0mprompt\u001b[0m\u001b[1;33m)\u001b[0m\u001b[1;33m,\u001b[0m\u001b[1;33m\u001b[0m\u001b[1;33m\u001b[0m\u001b[0m\n\u001b[0;32m   1008\u001b[0m             \u001b[0mself\u001b[0m\u001b[1;33m.\u001b[0m\u001b[0m_parent_ident\u001b[0m\u001b[1;33m[\u001b[0m\u001b[1;34m\"shell\"\u001b[0m\u001b[1;33m]\u001b[0m\u001b[1;33m,\u001b[0m\u001b[1;33m\u001b[0m\u001b[1;33m\u001b[0m\u001b[0m\n",
      "\u001b[1;32m~\\.virtualenvs\\Pythonkurs-8SbhYJ-b\\lib\\site-packages\\ipykernel\\kernelbase.py\u001b[0m in \u001b[0;36m_input_request\u001b[1;34m(self, prompt, ident, parent, password)\u001b[0m\n\u001b[0;32m   1049\u001b[0m             \u001b[1;32mexcept\u001b[0m \u001b[0mKeyboardInterrupt\u001b[0m\u001b[1;33m:\u001b[0m\u001b[1;33m\u001b[0m\u001b[1;33m\u001b[0m\u001b[0m\n\u001b[0;32m   1050\u001b[0m                 \u001b[1;31m# re-raise KeyboardInterrupt, to truncate traceback\u001b[0m\u001b[1;33m\u001b[0m\u001b[1;33m\u001b[0m\u001b[1;33m\u001b[0m\u001b[0m\n\u001b[1;32m-> 1051\u001b[1;33m                 \u001b[1;32mraise\u001b[0m \u001b[0mKeyboardInterrupt\u001b[0m\u001b[1;33m(\u001b[0m\u001b[1;34m\"Interrupted by user\"\u001b[0m\u001b[1;33m)\u001b[0m \u001b[1;32mfrom\u001b[0m \u001b[1;32mNone\u001b[0m\u001b[1;33m\u001b[0m\u001b[1;33m\u001b[0m\u001b[0m\n\u001b[0m\u001b[0;32m   1052\u001b[0m             \u001b[1;32mexcept\u001b[0m \u001b[0mException\u001b[0m\u001b[1;33m:\u001b[0m\u001b[1;33m\u001b[0m\u001b[1;33m\u001b[0m\u001b[0m\n\u001b[0;32m   1053\u001b[0m                 \u001b[0mself\u001b[0m\u001b[1;33m.\u001b[0m\u001b[0mlog\u001b[0m\u001b[1;33m.\u001b[0m\u001b[0mwarning\u001b[0m\u001b[1;33m(\u001b[0m\u001b[1;34m\"Invalid Message:\"\u001b[0m\u001b[1;33m,\u001b[0m \u001b[0mexc_info\u001b[0m\u001b[1;33m=\u001b[0m\u001b[1;32mTrue\u001b[0m\u001b[1;33m)\u001b[0m\u001b[1;33m\u001b[0m\u001b[1;33m\u001b[0m\u001b[0m\n",
      "\u001b[1;31mKeyboardInterrupt\u001b[0m: Interrupted by user"
     ]
    }
   ],
   "metadata": {}
  },
  {
   "cell_type": "markdown",
   "source": [
    "# L9 dictionary exerience"
   ],
   "metadata": {}
  },
  {
   "cell_type": "code",
   "execution_count": null,
   "source": [
    "#1. Curriculum (*)\r\n",
    "# Create a dictionary containing all the courses that you will study in this program, with the course names as keys and the amount of points as value. \r\n",
    "# Then calculate the number of points that you will study in total. (*)"
   ],
   "outputs": [],
   "metadata": {}
  },
  {
   "cell_type": "code",
   "execution_count": null,
   "source": [
    "# 2. Dice simulation (*)\r\n",
    "# Simulate 1000000 dice rolls and save the number of ones, twos, ..., sixes in a dictionary. Then print them out in the terminal. (*)"
   ],
   "outputs": [],
   "metadata": {}
  },
  {
   "cell_type": "code",
   "execution_count": null,
   "source": [
    "#3. Pokemon list (*)\r\n",
    "# Read in the file pokemon_list.txt in Python. Create a variable with name pokedex with the key:value \"pokemon\":\"type, index\". For example when searching for the keys \"Gengar\" and \"Pikachu\": (*)\r\n",
    "\r\n",
    "print(pokedex[\"Gengar\"])\r\n",
    "print(pokedex[\"Pikachu\"])\r\n",
    "\r\n",
    "Spöke/Gift, 94\r\n",
    "Elektrisk, 25"
   ],
   "outputs": [],
   "metadata": {}
  },
  {
   "cell_type": "code",
   "execution_count": null,
   "source": [
    "#4. Morse code (**)¶\r\n",
    "# Read in the file morse.txt, save it in a dictionary and create a function that lets the user input a message to get it translated to morse code. For example (**)\r\n",
    "\r\n",
    "print(morse[\"SOS\"])\r\n",
    "print(morse[\"POKEMON\"])"
   ],
   "outputs": [],
   "metadata": {}
  }
 ],
 "metadata": {
  "orig_nbformat": 4,
  "language_info": {
   "name": "python",
   "version": "3.9.6",
   "mimetype": "text/x-python",
   "codemirror_mode": {
    "name": "ipython",
    "version": 3
   },
   "pygments_lexer": "ipython3",
   "nbconvert_exporter": "python",
   "file_extension": ".py"
  },
  "kernelspec": {
   "name": "python3",
   "display_name": "Python 3.9.6 64-bit ('Pythonkurs-8SbhYJ-b': pipenv)"
  },
  "interpreter": {
   "hash": "0e1c4b289a1ee7bbfd05ca4cff940f68637f4315871854be96f4a0a829bab33d"
  }
 },
 "nbformat": 4,
 "nbformat_minor": 2
}