{
 "cells": [
  {
   "cell_type": "markdown",
   "source": [
    "# L3 for statement "
   ],
   "metadata": {}
  },
  {
   "cell_type": "code",
   "execution_count": 1,
   "source": [
    "for i in range(3): # note that the count starts from 0\r\n",
    "    print(f\"{i} Hello\")"
   ],
   "outputs": [
    {
     "output_type": "stream",
     "name": "stdout",
     "text": [
      "0 Hello\n",
      "1 Hello\n",
      "2 Hello\n"
     ]
    }
   ],
   "metadata": {}
  },
  {
   "cell_type": "code",
   "execution_count": 2,
   "source": [
    "# print out numbers without newlines \r\n",
    "for i in range(10):\r\n",
    "    print(i, end=\" \")  # end=\" \"打印成一行，否则就是一列了"
   ],
   "outputs": [
    {
     "output_type": "stream",
     "name": "stdout",
     "text": [
      "0 1 2 3 4 5 6 7 8 9 "
     ]
    }
   ],
   "metadata": {}
  },
  {
   "cell_type": "code",
   "execution_count": 3,
   "source": [
    "#\r\n",
    "for i in range(0, 11, 2):  # for i in range(start, end, step):\r\n",
    "    print(i) "
   ],
   "outputs": [
    {
     "output_type": "stream",
     "name": "stdout",
     "text": [
      "0\n",
      "2\n",
      "4\n",
      "6\n",
      "8\n",
      "10\n"
     ]
    }
   ],
   "metadata": {}
  },
  {
   "cell_type": "code",
   "execution_count": 11,
   "source": [
    "sum = 0  #计算和\r\n",
    "# calculate sum from 0-5\r\n",
    "for i in range(6): # note that 6 不包括6\r\n",
    "    sum += i\r\n",
    "\r\n",
    "print(f\"1+2+3+4+5={sum}\")"
   ],
   "outputs": [
    {
     "output_type": "stream",
     "name": "stdout",
     "text": [
      "1+2+3+4+5=15\n"
     ]
    }
   ],
   "metadata": {}
  },
  {
   "cell_type": "code",
   "execution_count": 5,
   "source": [
    "sum = 0\r\n",
    "# calculate sum of all odd numbers between 1 20\r\n",
    "for i in range(1,20,2):\r\n",
    "    sum += i # addition\r\n",
    "print(f\"1+3+5+7+9+11+13+15+17+19={sum}\")   "
   ],
   "outputs": [
    {
     "output_type": "stream",
     "name": "stdout",
     "text": [
      "1+3+5+7+9+11+13+15+17+19=100\n"
     ]
    }
   ],
   "metadata": {}
  },
  {
   "cell_type": "code",
   "execution_count": 6,
   "source": [
    "# nice printing\r\n",
    "for i in range(1,20,2):\r\n",
    "    sum += i # addition\r\n",
    "print(f\"{i}\", end = \"\")\r\n",
    "if i != 19:\r\n",
    "    print(\"+\", end=\"\")\r\n",
    "    \r\n",
    "if i == 19:\r\n",
    "        print(f\"={sum}\", end=\"\")    "
   ],
   "outputs": [
    {
     "output_type": "stream",
     "name": "stdout",
     "text": [
      "19=200"
     ]
    }
   ],
   "metadata": {}
  },
  {
   "cell_type": "markdown",
   "source": [
    "# random module"
   ],
   "metadata": {}
  },
  {
   "cell_type": "markdown",
   "source": [
    "# Nested for loop 嵌套循环"
   ],
   "metadata": {}
  },
  {
   "cell_type": "code",
   "execution_count": 7,
   "source": [
    "# matrix coordinates\r\n",
    "for x in range(0,3): # 矩阵\r\n",
    "    for j in range(0,3):\r\n",
    "        print(f\"({x},{j})\", end=\"\")    \r\n",
    "    print()"
   ],
   "outputs": [
    {
     "output_type": "stream",
     "name": "stdout",
     "text": [
      "(0,0)(0,1)(0,2)\n",
      "(1,0)(1,1)(1,2)\n",
      "(2,0)(2,1)(2,2)\n"
     ]
    }
   ],
   "metadata": {}
  },
  {
   "cell_type": "code",
   "execution_count": 8,
   "source": [
    "for x in range(0,4):\r\n",
    "    for j in range(0,3):\r\n",
    "        print(f\"({x},{j})\", end=\"\")    \r\n",
    "    print()"
   ],
   "outputs": [
    {
     "output_type": "stream",
     "name": "stdout",
     "text": [
      "(0,0)(0,1)(0,2)\n",
      "(1,0)(1,1)(1,2)\n",
      "(2,0)(2,1)(2,2)\n",
      "(3,0)(3,1)(3,2)\n"
     ]
    }
   ],
   "metadata": {}
  }
 ],
 "metadata": {
  "orig_nbformat": 4,
  "language_info": {
   "name": "python",
   "version": "3.9.6",
   "mimetype": "text/x-python",
   "codemirror_mode": {
    "name": "ipython",
    "version": 3
   },
   "pygments_lexer": "ipython3",
   "nbconvert_exporter": "python",
   "file_extension": ".py"
  },
  "kernelspec": {
   "name": "python3",
   "display_name": "Python 3.9.6 64-bit ('Pythonkurs-8SbhYJ-b': pipenv)"
  },
  "interpreter": {
   "hash": "0e1c4b289a1ee7bbfd05ca4cff940f68637f4315871854be96f4a0a829bab33d"
  }
 },
 "nbformat": 4,
 "nbformat_minor": 2
}