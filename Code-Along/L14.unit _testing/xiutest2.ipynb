{
 "cells": [
  {
   "cell_type": "markdown",
   "source": [
    "# Python之Numpy：线性代数/矩阵运算"
   ],
   "metadata": {}
  },
  {
   "cell_type": "code",
   "execution_count": null,
   "source": [],
   "outputs": [],
   "metadata": {}
  },
  {
   "cell_type": "code",
   "execution_count": 1,
   "source": [
    "# https://www.cnblogs.com/johnnyzen/p/10855208.html\r\n",
    "# 2.1 求解AX=b中的未知参数矩阵X\r\n",
    "import numpy as np\r\n",
    "\r\n",
    "# Hypothsis : A*X = b\r\n",
    "\r\n",
    "A = [[2,1,2],\r\n",
    "     [3,1,0],\r\n",
    "     [1,1,-1]];\r\n",
    "b = np.transpose([-3,5,-2])# 转置\r\n",
    "#[or] b = np.transpose(np.array([-3,5,-2]))# 转置\r\n",
    "\r\n",
    "# 求解未知参数矩阵X\r\n",
    "X = np.linalg.solve(A,b) # 方式一：直接使用numpy的solve函数一键求解\r\n",
    "#A_inv=np.linalg.inv(A) # 方式二：先求逆运算，再点积求值\r\n",
    "#X=np.dot(A_inv,b) # a.dot(b) 与 np.dot(a,b) 效果相同；but np.dot(a,b)与np.dot(b,a)效果肯定是不同的(线性代数/矩阵常识)\r\n",
    "print(\"方程组的解：\\n\",X);"
   ],
   "outputs": [
    {
     "output_type": "stream",
     "name": "stdout",
     "text": [
      "方程组的解：\n",
      " [ 4.4 -8.2 -1.8]\n"
     ]
    }
   ],
   "metadata": {}
  },
  {
   "cell_type": "code",
   "execution_count": 4,
   "source": [
    "import numpy as np\r\n",
    "import matplotlib.pyplot as plt  # Python 绘图工具(业界推荐)\r\n",
    "\r\n",
    "# 数据初始化\r\n",
    "A = [\r\n",
    "    [1,pow(-3,3)],\r\n",
    "    [1,pow(-2,3)],\r\n",
    "    [1,pow(-1,3)],\r\n",
    "    [1,pow(2,3)],\r\n",
    "    [1,pow(4,3)]\r\n",
    "];\r\n",
    "\r\n",
    "At =  np.transpose(A); # A的转置矩阵\r\n",
    "\r\n",
    "y = np.transpose([14.3,8.3,4.7,8.3,22.7]);\r\n",
    "\r\n",
    "\r\n",
    "# step1:求解\r\n",
    "## 令 (a ,b)^T 为 未知参数X\r\n",
    "X = np.dot(np.dot(np.linalg.inv(np.dot(At,A)),At),y)\r\n",
    "print(X)\r\n",
    "print(\"a:\",X[0])\r\n",
    "print(\"b:\",X[1])\r\n",
    "\r\n",
    "# step2:查看拟合效果\r\n",
    "x = [-3,-2,-1,2,4];\r\n",
    "## 1. 计算拟合数值 fitValue\r\n",
    "def fitValue(arg_x):\r\n",
    "    a = X[0];\r\n",
    "    b = X[1];\r\n",
    "    return a + b*pow(arg_x,3);\r\n",
    "\r\n",
    "fitValues = np.zeros([5]); # 创建长为5的【一维】数组；[1,5]：创建第1行为5个元素的【二维】数组 \r\n",
    "for i in range(0,len(fitValues)):\r\n",
    "    fitValues[i] = fitValue(x[i]);\r\n",
    "    print(i,\":\",\"x(i):\",x[i],\"fit Y:\",fitValues[i]); # just for test\r\n",
    "    pass;\r\n",
    "\r\n",
    "## 2. 绘图可视化\r\n",
    "yt = np.transpose(y); # y的转置\r\n",
    "plt.rcParams['figure.dpi'] = 100 #分辨率\r\n",
    "plt.scatter(x, yt, marker = '*',color = 'red', s = 10 ,label = 'Actual Dataset') # 真实数据集\r\n",
    "plt.scatter(x, fitValues, marker = 'x',color = 'green', s = 10 ,label = 'Fitting Dataset') #[拟合数据集]\r\n",
    "plt.legend(loc = 'best')    # 设置 图例所在的位置 使用推荐位置\r\n",
    "plt.show() \r\n",
    "\r\n",
    "\r\n",
    "# [output]\r\n",
    "# [ 10.67505325   0.13679816]\r\n",
    "a: 10.6750532504\r\n",
    "b: 0.136798159666\r\n",
    "#0 : x(i): -3 fit Y: 6.98150293942\r\n",
    "#1 : x(i): -2 fit Y: 9.58066797308\r\n",
    "#2 : x(i): -1 fit Y: 10.5382550907\r\n",
    "#3 : x(i): 2 fit Y: 11.7694385277\r\n",
    "#4 : x(i): 4 fit Y: 19.430135469"
   ],
   "outputs": [
    {
     "output_type": "stream",
     "name": "stdout",
     "text": [
      "[10.67505325  0.13679816]\n",
      "a: 10.675053250404698\n",
      "b: 0.1367981596660135\n",
      "0 : x(i): -3 fit Y: 6.981502939422334\n",
      "1 : x(i): -2 fit Y: 9.58066797307659\n",
      "2 : x(i): -1 fit Y: 10.538255090738684\n",
      "3 : x(i): 2 fit Y: 11.769438527732806\n",
      "4 : x(i): 4 fit Y: 19.430135469029562\n"
     ]
    },
    {
     "output_type": "display_data",
     "data": {
      "image/png": "[encoded data removed]",
      "text/plain": [
       "<Figure size 600x400 with 1 Axes>"
      ]
     },
     "metadata": {
      "needs_background": "light"
     }
    }
   ],
   "metadata": {}
  },
  {
   "cell_type": "code",
   "execution_count": 5,
   "source": [
    "#2.3 数组创建/初始化\r\n",
    "import numpy as np\r\n",
    "\r\n",
    "a = np.linspace(1,10,5,endpoint= True)\r\n",
    "print(a) # [ 1.    3.25  5.5   7.75 10.  ]\r\n",
    "\r\n",
    "b = np.linspace(1,10,5,endpoint= False)\r\n",
    "print(b) #[1.  2.8 4.6 6.4 8.2]\r\n",
    "\r\n",
    "c = np.linspace(1,10,5,retstep = False)\r\n",
    "print(c) # [ 1.    3.25  5.5   7.75 10.  ]\r\n",
    "\r\n",
    "d = np.linspace(1,10,5,retstep = True)\r\n",
    "print(d) # (array([ 1.  ,  3.25,  5.5 ,  7.75, 10.  ]), 2.25)"
   ],
   "outputs": [
    {
     "output_type": "stream",
     "name": "stdout",
     "text": [
      "[ 1.    3.25  5.5   7.75 10.  ]\n",
      "[1.  2.8 4.6 6.4 8.2]\n",
      "[ 1.    3.25  5.5   7.75 10.  ]\n",
      "(array([ 1.  ,  3.25,  5.5 ,  7.75, 10.  ]), 2.25)\n"
     ]
    }
   ],
   "metadata": {}
  },
  {
   "cell_type": "code",
   "execution_count": 8,
   "source": [
    "# 2.4 线性代数常用运算\r\n",
    "\r\n",
    "print(\"原矩阵A：\\n\",A);\r\n",
    "print(\"原矩阵b：\\n\",b);\r\n",
    "\r\n",
    "print(\"转置矩阵A^T：\\n\",np.transpose(A)); # 转置\r\n",
    "print(\"矩阵的行列式值|A|：\\n\",np.linalg.det(A)); # 方阵的行列式值：|A|\r\n",
    "print(\"矩阵的迹trace(A)：\\n\",np.trace(A)); \r\n",
    "print(\"矩阵的秩rank(A)：\\n\",np.linalg.matrix_rank(A)); \r\n",
    "print(\"逆矩阵A^(-1)：\\n\",np.linalg.inv(A)); #矩阵的逆运算(条件：矩阵A可逆(行列式值不为0)| 矩阵A为方阵)\r\n",
    "\r\n",
    "print(\"*\"*30); # 分隔线\r\n",
    "\r\n",
    "print(\"N阶单位矩阵:\\n\",np.eye(4));\r\n",
    "print(np.zeros([5])); # 创建长为5的【一维】数组；[1,5]：创建第1行为5个元素的【二维】数组 \r\n",
    "\r\n",
    "# 创建指定的初始化数组\r\n",
    "print(np.array([1]))  # 生成 第1行含值为1的元素的【一维】数组\r\n",
    "print(np.array([[56]])) # 生成 第1行含值为56的元素的【二维】数组\r\n",
    "np.full((3,5),3.14) # 创建一个3x5的浮点型数组，数组的值都是3.14"
   ],
   "outputs": [
    {
     "output_type": "stream",
     "name": "stdout",
     "text": [
      "原矩阵A：\n",
      " [[1, -27], [1, -8], [1, -1], [1, 8], [1, 64]]\n",
      "原矩阵b：\n",
      " [1.  2.8 4.6 6.4 8.2]\n",
      "转置矩阵A^T：\n",
      " [[  1   1   1   1   1]\n",
      " [-27  -8  -1   8  64]]\n"
     ]
    },
    {
     "output_type": "error",
     "ename": "LinAlgError",
     "evalue": "Last 2 dimensions of the array must be square",
     "traceback": [
      "\u001b[1;31m---------------------------------------------------------------------------\u001b[0m",
      "\u001b[1;31mLinAlgError\u001b[0m                               Traceback (most recent call last)",
      "\u001b[1;32m~\\AppData\\Local\\Temp/ipykernel_21176/1951685941.py\u001b[0m in \u001b[0;36m<module>\u001b[1;34m\u001b[0m\n\u001b[0;32m      5\u001b[0m \u001b[1;33m\u001b[0m\u001b[0m\n\u001b[0;32m      6\u001b[0m \u001b[0mprint\u001b[0m\u001b[1;33m(\u001b[0m\u001b[1;34m\"转置矩阵A^T：\\n\"\u001b[0m\u001b[1;33m,\u001b[0m\u001b[0mnp\u001b[0m\u001b[1;33m.\u001b[0m\u001b[0mtranspose\u001b[0m\u001b[1;33m(\u001b[0m\u001b[0mA\u001b[0m\u001b[1;33m)\u001b[0m\u001b[1;33m)\u001b[0m\u001b[1;33m;\u001b[0m \u001b[1;31m# 转置\u001b[0m\u001b[1;33m\u001b[0m\u001b[1;33m\u001b[0m\u001b[0m\n\u001b[1;32m----> 7\u001b[1;33m \u001b[0mprint\u001b[0m\u001b[1;33m(\u001b[0m\u001b[1;34m\"矩阵的行列式值|A|：\\n\"\u001b[0m\u001b[1;33m,\u001b[0m\u001b[0mnp\u001b[0m\u001b[1;33m.\u001b[0m\u001b[0mlinalg\u001b[0m\u001b[1;33m.\u001b[0m\u001b[0mdet\u001b[0m\u001b[1;33m(\u001b[0m\u001b[0mA\u001b[0m\u001b[1;33m)\u001b[0m\u001b[1;33m)\u001b[0m\u001b[1;33m;\u001b[0m \u001b[1;31m# 方阵的行列式值：|A|\u001b[0m\u001b[1;33m\u001b[0m\u001b[1;33m\u001b[0m\u001b[0m\n\u001b[0m\u001b[0;32m      8\u001b[0m \u001b[0mprint\u001b[0m\u001b[1;33m(\u001b[0m\u001b[1;34m\"矩阵的迹trace(A)：\\n\"\u001b[0m\u001b[1;33m,\u001b[0m\u001b[0mnp\u001b[0m\u001b[1;33m.\u001b[0m\u001b[0mtrace\u001b[0m\u001b[1;33m(\u001b[0m\u001b[0mA\u001b[0m\u001b[1;33m)\u001b[0m\u001b[1;33m)\u001b[0m\u001b[1;33m;\u001b[0m\u001b[1;33m\u001b[0m\u001b[1;33m\u001b[0m\u001b[0m\n\u001b[0;32m      9\u001b[0m \u001b[0mprint\u001b[0m\u001b[1;33m(\u001b[0m\u001b[1;34m\"矩阵的秩rank(A)：\\n\"\u001b[0m\u001b[1;33m,\u001b[0m\u001b[0mnp\u001b[0m\u001b[1;33m.\u001b[0m\u001b[0mlinalg\u001b[0m\u001b[1;33m.\u001b[0m\u001b[0mmatrix_rank\u001b[0m\u001b[1;33m(\u001b[0m\u001b[0mA\u001b[0m\u001b[1;33m)\u001b[0m\u001b[1;33m)\u001b[0m\u001b[1;33m;\u001b[0m\u001b[1;33m\u001b[0m\u001b[1;33m\u001b[0m\u001b[0m\n",
      "\u001b[1;32m<__array_function__ internals>\u001b[0m in \u001b[0;36mdet\u001b[1;34m(*args, **kwargs)\u001b[0m\n",
      "\u001b[1;32m~\\AppData\\Local\\Programs\\Python\\Python39\\lib\\site-packages\\numpy\\linalg\\linalg.py\u001b[0m in \u001b[0;36mdet\u001b[1;34m(a)\u001b[0m\n\u001b[0;32m   2153\u001b[0m     \u001b[0ma\u001b[0m \u001b[1;33m=\u001b[0m \u001b[0masarray\u001b[0m\u001b[1;33m(\u001b[0m\u001b[0ma\u001b[0m\u001b[1;33m)\u001b[0m\u001b[1;33m\u001b[0m\u001b[1;33m\u001b[0m\u001b[0m\n\u001b[0;32m   2154\u001b[0m     \u001b[0m_assert_stacked_2d\u001b[0m\u001b[1;33m(\u001b[0m\u001b[0ma\u001b[0m\u001b[1;33m)\u001b[0m\u001b[1;33m\u001b[0m\u001b[1;33m\u001b[0m\u001b[0m\n\u001b[1;32m-> 2155\u001b[1;33m     \u001b[0m_assert_stacked_square\u001b[0m\u001b[1;33m(\u001b[0m\u001b[0ma\u001b[0m\u001b[1;33m)\u001b[0m\u001b[1;33m\u001b[0m\u001b[1;33m\u001b[0m\u001b[0m\n\u001b[0m\u001b[0;32m   2156\u001b[0m     \u001b[0mt\u001b[0m\u001b[1;33m,\u001b[0m \u001b[0mresult_t\u001b[0m \u001b[1;33m=\u001b[0m \u001b[0m_commonType\u001b[0m\u001b[1;33m(\u001b[0m\u001b[0ma\u001b[0m\u001b[1;33m)\u001b[0m\u001b[1;33m\u001b[0m\u001b[1;33m\u001b[0m\u001b[0m\n\u001b[0;32m   2157\u001b[0m     \u001b[0msignature\u001b[0m \u001b[1;33m=\u001b[0m \u001b[1;34m'D->D'\u001b[0m \u001b[1;32mif\u001b[0m \u001b[0misComplexType\u001b[0m\u001b[1;33m(\u001b[0m\u001b[0mt\u001b[0m\u001b[1;33m)\u001b[0m \u001b[1;32melse\u001b[0m \u001b[1;34m'd->d'\u001b[0m\u001b[1;33m\u001b[0m\u001b[1;33m\u001b[0m\u001b[0m\n",
      "\u001b[1;32m~\\AppData\\Local\\Programs\\Python\\Python39\\lib\\site-packages\\numpy\\linalg\\linalg.py\u001b[0m in \u001b[0;36m_assert_stacked_square\u001b[1;34m(*arrays)\u001b[0m\n\u001b[0;32m    201\u001b[0m         \u001b[0mm\u001b[0m\u001b[1;33m,\u001b[0m \u001b[0mn\u001b[0m \u001b[1;33m=\u001b[0m \u001b[0ma\u001b[0m\u001b[1;33m.\u001b[0m\u001b[0mshape\u001b[0m\u001b[1;33m[\u001b[0m\u001b[1;33m-\u001b[0m\u001b[1;36m2\u001b[0m\u001b[1;33m:\u001b[0m\u001b[1;33m]\u001b[0m\u001b[1;33m\u001b[0m\u001b[1;33m\u001b[0m\u001b[0m\n\u001b[0;32m    202\u001b[0m         \u001b[1;32mif\u001b[0m \u001b[0mm\u001b[0m \u001b[1;33m!=\u001b[0m \u001b[0mn\u001b[0m\u001b[1;33m:\u001b[0m\u001b[1;33m\u001b[0m\u001b[1;33m\u001b[0m\u001b[0m\n\u001b[1;32m--> 203\u001b[1;33m             \u001b[1;32mraise\u001b[0m \u001b[0mLinAlgError\u001b[0m\u001b[1;33m(\u001b[0m\u001b[1;34m'Last 2 dimensions of the array must be square'\u001b[0m\u001b[1;33m)\u001b[0m\u001b[1;33m\u001b[0m\u001b[1;33m\u001b[0m\u001b[0m\n\u001b[0m\u001b[0;32m    204\u001b[0m \u001b[1;33m\u001b[0m\u001b[0m\n\u001b[0;32m    205\u001b[0m \u001b[1;32mdef\u001b[0m \u001b[0m_assert_finite\u001b[0m\u001b[1;33m(\u001b[0m\u001b[1;33m*\u001b[0m\u001b[0marrays\u001b[0m\u001b[1;33m)\u001b[0m\u001b[1;33m:\u001b[0m\u001b[1;33m\u001b[0m\u001b[1;33m\u001b[0m\u001b[0m\n",
      "\u001b[1;31mLinAlgError\u001b[0m: Last 2 dimensions of the array must be square"
     ]
    }
   ],
   "metadata": {}
  },
  {
   "cell_type": "code",
   "execution_count": 9,
   "source": [
    "from numpy import *\r\n",
    "import numpy as np;"
   ],
   "outputs": [],
   "metadata": {}
  },
  {
   "cell_type": "code",
   "execution_count": 13,
   "source": [
    "\r\n",
    "#由一维或二维数据创建矩阵\r\n",
    "from numpy import *\r\n",
    "a1=array([1,2,3]);\r\n",
    "a1=matrix(a1);\r\n",
    "print(a1)"
   ],
   "outputs": [
    {
     "output_type": "stream",
     "name": "stdout",
     "text": [
      "[[1 2 3]]\n"
     ]
    }
   ],
   "metadata": {}
  },
  {
   "cell_type": "code",
   "execution_count": 16,
   "source": [
    "# https://www.iplaypy.com/wenda/wd14177.html\r\n",
    "# 创建一个向量的class，可以让vector相加，相减， 乘以一个系数， 或者清空成为（0，0，0）\r\n",
    "from math import sqrt\r\n",
    "\r\n",
    "class Vector:\r\n",
    "    \"\"\"\r\n",
    "    A Vector is a 3-tuple of (x,y,z) coordinates.\r\n",
    "    \"\"\"\r\n",
    "    def __init__(self,x,y,z):\r\n",
    "        self._x = x\r\n",
    "        self._y = y\r\n",
    "        self._z = z\r\n",
    "\r\n",
    "    def __repr__(self):\r\n",
    "        return '{%.3g} ,{%.3g} ,{%.3g}'%(self._x, self._y, self._z)\r\n",
    "\r\n",
    "    def __str__(self):\r\n",
    "        return '({},{},{})'.format(self._x, self._y, self._z)\r\n",
    "\r\n",
    "    def __add__(self,other):\r\n",
    "        return Vector(self._x + other._x, self._y + other._y, self._z + other._z)\r\n",
    "\r\n",
    "    def __sub__(self,other):\r\n",
    "        return Vector(self._x - other._x, self._y - other._y, self._z - other._z)\r\n",
    "\r\n",
    "    def norm(self):\r\n",
    "        result = sqrt(self._x**2 + self._y**2 + self._z**2)\r\n",
    "        return result\r\n",
    "\r\n",
    "    def __mul__(self,other):\r\n",
    "        return Vector(self._x * other, self * other, self._z * other)\r\n",
    "\r\n",
    "    def x(self):\r\n",
    "        return self._x\r\n",
    "    def y(self):\r\n",
    "        return self._y\r\n",
    "    def z(self):\r\n",
    "        return self._z\r\n",
    "    def clear(self):\r\n",
    "        return Vector(0 ,0 ,0)\r\n",
    "\r\n",
    "print(\"norm\")"
   ],
   "outputs": [
    {
     "output_type": "stream",
     "name": "stdout",
     "text": [
      "norm\n"
     ]
    }
   ],
   "metadata": {}
  }
 ],
 "metadata": {
  "orig_nbformat": 4,
  "language_info": {
   "name": "python",
   "version": "3.9.6",
   "mimetype": "text/x-python",
   "codemirror_mode": {
    "name": "ipython",
    "version": 3
   },
   "pygments_lexer": "ipython3",
   "nbconvert_exporter": "python",
   "file_extension": ".py"
  },
  "kernelspec": {
   "name": "python3",
   "display_name": "Python 3.9.6 64-bit"
  },
  "interpreter": {
   "hash": "26686dec1f1c69e7843542045c9bcb01e7d61ef2953291481df04c12bb1a928f"
  }
 },
 "nbformat": 4,
 "nbformat_minor": 2
}