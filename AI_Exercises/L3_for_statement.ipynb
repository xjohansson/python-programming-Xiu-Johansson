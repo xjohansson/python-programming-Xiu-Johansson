{
 "cells": [
  {
   "cell_type": "markdown",
   "source": [
    "# L3 for statement "
   ],
   "metadata": {}
  },
  {
   "cell_type": "code",
   "execution_count": null,
   "source": [
    "for i in range(3): # note that the count starts from 0\r\n",
    "    print(f\"{i} Hello\")"
   ],
   "outputs": [],
   "metadata": {}
  },
  {
   "cell_type": "code",
   "execution_count": null,
   "source": [
    "# print out numbers without newlines \r\n",
    "for i in range(10):\r\n",
    "    print(i, end=\" \")  # end=\" \"打印成一行，否则就是一列了"
   ],
   "outputs": [],
   "metadata": {}
  },
  {
   "cell_type": "code",
   "execution_count": null,
   "source": [
    "#\r\n",
    "for i in range(0, 11, 2):  # for i in range(start, end, step):\r\n",
    "    print(i) "
   ],
   "outputs": [],
   "metadata": {}
  },
  {
   "cell_type": "code",
   "execution_count": null,
   "source": [
    "sum = 0  #计算和\r\n",
    "# calculate sum from 0-5\r\n",
    "for i in range(6): # note that 6 不包括6\r\n",
    "    sum += i\r\n",
    "\r\n",
    "print(f\"0+1+2+3+4+5={sum}\")"
   ],
   "outputs": [],
   "metadata": {}
  },
  {
   "cell_type": "code",
   "execution_count": null,
   "source": [
    "sum = 0\r\n",
    "# calculate sum of all odd numbers between 1 20\r\n",
    "for i in range(1,20,2):\r\n",
    "    sum += i # addition\r\n",
    "print(f\"1+3+5+7+9+11+13+15+17+19={sum}\")   "
   ],
   "outputs": [],
   "metadata": {}
  },
  {
   "cell_type": "code",
   "execution_count": null,
   "source": [
    "# nice printing\r\n",
    "for i in range(1,20,2):\r\n",
    "    sum += i # addition\r\n",
    "print(f\"{i}\", end = \"\")\r\n",
    "if i != 19:\r\n",
    "    print(\"+\", end=\"\")\r\n",
    "    \r\n",
    "if i == 19:\r\n",
    "        print(f\"={sum}\", end=\"\")    "
   ],
   "outputs": [],
   "metadata": {}
  },
  {
   "cell_type": "markdown",
   "source": [
    "# random module"
   ],
   "metadata": {}
  },
  {
   "cell_type": "markdown",
   "source": [
    "# Nested for loop 嵌套循环"
   ],
   "metadata": {}
  },
  {
   "cell_type": "code",
   "execution_count": null,
   "source": [
    "# matrix coordinates\r\n",
    "for x in range(0,3): # 矩阵\r\n",
    "    for j in range(0,3):\r\n",
    "        print(f\"({x},{j})\", end=\"\")    \r\n",
    "    print()"
   ],
   "outputs": [],
   "metadata": {}
  },
  {
   "cell_type": "code",
   "execution_count": null,
   "source": [
    "for x in range(0,4):\r\n",
    "    for j in range(0,3):\r\n",
    "        print(f\"({x},{j})\", end=\"\")    \r\n",
    "    print()"
   ],
   "outputs": [],
   "metadata": {}
  }
 ],
 "metadata": {
  "orig_nbformat": 4,
  "language_info": {
   "name": "python"
  }
 },
 "nbformat": 4,
 "nbformat_minor": 2
}