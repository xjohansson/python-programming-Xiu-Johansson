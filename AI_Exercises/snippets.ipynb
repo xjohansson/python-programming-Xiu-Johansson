{
 "cells": [
  {
   "cell_type": "markdown",
   "source": [
    "# snippets 片段"
   ],
   "metadata": {}
  },
  {
   "cell_type": "code",
   "execution_count": 2,
   "source": [
    "class Person:\r\n",
    "    def __init__(self, name, age, height) -> None:\r\n",
    "        self.name = name \r\n",
    "        self.age = age\r\n",
    "        self.height = height\r\n",
    "\r\n",
    "    @property\r\n",
    "    def age(self):\r\n",
    "        return self._age\r\n",
    "\r\n",
    "    @age.setter\r\n",
    "    def age(self, value):\r\n",
    "        self._age = Person.validate_number(value)  #验证号码\r\n",
    "\r\n",
    "    @property\r\n",
    "    def height(self):\r\n",
    "        return self._height\r\n",
    "\r\n",
    "    @height.setter\r\n",
    "    def height(self, value):\r\n",
    "        self._height = Person.validate_number(value) #验证号码\r\n",
    "\r\n",
    "    @staticmethod #静态方法\r\n",
    "    def validate_number(value):\r\n",
    "        if not isinstance(value, (int, float)):\r\n",
    "            raise TypeError(f\"Ange en int eller float inte {type(value)}\")\r\n",
    "        return value\r\n",
    "\r\n",
    "try:\r\n",
    "    p1 = Person(\"Nicklas\", 38, 180)\r\n",
    "except TypeError as err:\r\n",
    "    print(err)\r\n",
    "\r\n",
    "p2 = Person(\"Xiu\", 38, 163)\r\n",
    "print(p2.age)\r\n",
    "print(f\"person2 his/her age is {p2.age}\")"
   ],
   "outputs": [
    {
     "output_type": "stream",
     "name": "stdout",
     "text": [
      "38\n",
      "person2 his/her age is 38\n"
     ]
    }
   ],
   "metadata": {}
  },
  {
   "cell_type": "code",
   "execution_count": 33,
   "source": [
    "#一个普通的类，实例化后可以正常访问属性，可以正常为属性赋值。\r\n",
    "class Person(object):\r\n",
    "    def __init__(self, name, gender):\r\n",
    "        self.name = name \r\n",
    "        self.gender = gender\r\n",
    "\r\n",
    "p = Person(\"Nicklas\",\"Male\") \r\n",
    "print(p.name,p.gender)  \r\n",
    "#output Nicklas Male\r\n",
    "  \r\n",
    "p.name=\"Josefine\"\r\n",
    "p.gender=\"Female\"   \r\n",
    "print(p.name,p.gender)\r\n",
    "#output Josefine Female\r\n",
    "        "
   ],
   "outputs": [
    {
     "output_type": "stream",
     "name": "stdout",
     "text": [
      "Nicklas Male\n",
      "Josefine Female\n"
     ]
    }
   ],
   "metadata": {}
  },
  {
   "cell_type": "code",
   "execution_count": 44,
   "source": [
    "#将某个属性设置为私有属性，使变量名以双下划线开始即可。私有属性不可访问，不可赋值\r\n",
    "\r\n",
    "class Person(object):\r\n",
    "    def __init__(self, name, gender):\r\n",
    "        self.name = name \r\n",
    "        self.__gender = gender #这里把性别设置为私有属性，不可访问，不可赋值\r\n",
    "\r\n",
    "p = Person(\"Nicklas\",\"Male\") \r\n",
    "print(p.name,p.gender)  \r\n",
    "\r\n",
    "try:\r\n",
    "    print(p.__gender)\r\n",
    "except AttributeError:# 属性错误\r\n",
    "    print(\"AttributeError when trying to access private property right after instantiation\")    #instantiation=实例化\r\n",
    "#p.__gender=\"Female\"    \r\n",
    "#print(p.__gender)\r\n",
    "  "
   ],
   "outputs": [
    {
     "output_type": "error",
     "ename": "AttributeError",
     "evalue": "'Person' object has no attribute 'gender'",
     "traceback": [
      "\u001b[1;31m---------------------------------------------------------------------------\u001b[0m",
      "\u001b[1;31mAttributeError\u001b[0m                            Traceback (most recent call last)",
      "\u001b[1;32m~\\AppData\\Local\\Temp/ipykernel_9680/1925762376.py\u001b[0m in \u001b[0;36m<module>\u001b[1;34m\u001b[0m\n\u001b[0;32m      7\u001b[0m \u001b[1;33m\u001b[0m\u001b[0m\n\u001b[0;32m      8\u001b[0m \u001b[0mp\u001b[0m \u001b[1;33m=\u001b[0m \u001b[0mPerson\u001b[0m\u001b[1;33m(\u001b[0m\u001b[1;34m\"Nicklas\"\u001b[0m\u001b[1;33m,\u001b[0m\u001b[1;34m\"Male\"\u001b[0m\u001b[1;33m)\u001b[0m\u001b[1;33m\u001b[0m\u001b[1;33m\u001b[0m\u001b[0m\n\u001b[1;32m----> 9\u001b[1;33m \u001b[0mprint\u001b[0m\u001b[1;33m(\u001b[0m\u001b[0mp\u001b[0m\u001b[1;33m.\u001b[0m\u001b[0mname\u001b[0m\u001b[1;33m,\u001b[0m\u001b[0mp\u001b[0m\u001b[1;33m.\u001b[0m\u001b[0mgender\u001b[0m\u001b[1;33m)\u001b[0m\u001b[1;33m\u001b[0m\u001b[1;33m\u001b[0m\u001b[0m\n\u001b[0m\u001b[0;32m     10\u001b[0m \u001b[1;33m\u001b[0m\u001b[0m\n\u001b[0;32m     11\u001b[0m \u001b[1;32mtry\u001b[0m\u001b[1;33m:\u001b[0m\u001b[1;33m\u001b[0m\u001b[1;33m\u001b[0m\u001b[0m\n",
      "\u001b[1;31mAttributeError\u001b[0m: 'Person' object has no attribute 'gender'"
     ]
    }
   ],
   "metadata": {}
  },
  {
   "cell_type": "code",
   "execution_count": 40,
   "source": [
    "#对try语句进行稍微改动，再对比以下代码：\r\n",
    "class Person(object):\r\n",
    "    def __init__(self, name, gender):\r\n",
    "        self.name = name \r\n",
    "        self.__gender = gender #这里把性别设置为私有属性，不可访问，不可赋值\r\n",
    "\r\n",
    "p = Person(\"Nicklas\",\"Male\") \r\n",
    "#print(p.name,p.gender)  \r\n",
    "\r\n",
    "try:\r\n",
    "    print(p._Person__gender) #output Male\r\n",
    "except AttributeError:# 属性错误\r\n",
    "    print(\"AttributeError when trying to access private property right after instantiation\")    #instantiation=实例化\r\n",
    "p.__gender=\"Female\"    \r\n",
    "print(p.__gender) # output Female\r\n",
    "print(p._Person__gender) #output Male\r\n"
   ],
   "outputs": [
    {
     "output_type": "stream",
     "name": "stdout",
     "text": [
      "Male\n",
      "Male\n"
     ]
    }
   ],
   "metadata": {}
  },
  {
   "cell_type": "markdown",
   "source": [
    "# 利用私有属性"
   ],
   "metadata": {}
  },
  {
   "cell_type": "code",
   "execution_count": 3,
   "source": [
    "class Money(object):\r\n",
    "    def __init__(self):\r\n",
    "        self.__money = 0\r\n",
    "\r\n",
    "    def getMoney(self):\r\n",
    "        return self.__money\r\n",
    "\r\n",
    "    def setMoney(self, value):\r\n",
    "        if isinstance(value, int):\r\n",
    "            self.__money = value\r\n",
    "        else:\r\n",
    "            print(\"error:不是整型数字\")"
   ],
   "outputs": [],
   "metadata": {}
  },
  {
   "cell_type": "code",
   "execution_count": 4,
   "source": [
    "class Money(object):\r\n",
    "    def __init__(self):\r\n",
    "        self.__money = 0\r\n",
    "\r\n",
    "    def getMoney(self):\r\n",
    "        return self.__money\r\n",
    "\r\n",
    "    def setMoney(self, value):\r\n",
    "        if isinstance(value, int):\r\n",
    "            self.__money = value\r\n",
    "        else:\r\n",
    "            print(\"error:不是整型数字\")\r\n",
    "    money = property(getMoney, setMoney)  # 定义一个属性，当对这个money设置值时调用setMoney,当获取值时调用getMoney\r\n",
    "\r\n",
    "a = Money()\r\n",
    "a.money = 101  # 调用setMoney方法\r\n",
    "print(a.money)  # 调用getMoney方法"
   ],
   "outputs": [
    {
     "output_type": "stream",
     "name": "stdout",
     "text": [
      "101\n"
     ]
    }
   ],
   "metadata": {}
  },
  {
   "cell_type": "code",
   "execution_count": 5,
   "source": [
    "class Money(object):\r\n",
    "    def __init__(self):\r\n",
    "        self.__money = 0\r\n",
    "\r\n",
    "    @property\r\n",
    "    #使用装饰器对money进行装饰，那么会自动添加一个叫money的属性，当调用获取money的值时，调用此下一行的方法\r\n",
    "    def money(self):\r\n",
    "        return self.__money\r\n",
    "\r\n",
    "    @money.setter\r\n",
    "    #使用装饰器对money进行装饰，当对money设置值时，调用下一行的方法\r\n",
    "    def money(self, value):\r\n",
    "        if isinstance(value, int):\r\n",
    "            self.__money = value\r\n",
    "        else:\r\n",
    "            print(\"error:不是整型数字\")\r\n",
    "\r\n",
    "a = Money()\r\n",
    "a.money = 100\r\n",
    "print(a.money)"
   ],
   "outputs": [
    {
     "output_type": "stream",
     "name": "stdout",
     "text": [
      "100\n"
     ]
    }
   ],
   "metadata": {}
  },
  {
   "cell_type": "code",
   "execution_count": null,
   "source": [],
   "outputs": [],
   "metadata": {}
  },
  {
   "cell_type": "code",
   "execution_count": 6,
   "source": [
    "# Python 装饰器之 Property: Setter 和 Getter\r\n",
    "class Person:\r\n",
    "    def __init__(self, name):\r\n",
    "        self.name1 = name\r\n",
    "        self.name2 = '小白'\r\n",
    "\r\n",
    "    # 利用property装饰器将获取name方法转换为获取对象的属性\r\n",
    "    @property\r\n",
    "    def name(self):\r\n",
    "        return self.name1 + '!'\r\n",
    "\r\n",
    "    # 利用property装饰器将设置name方法转换为获取对象的属性\r\n",
    "    @name.setter  # @属性名.setter\r\n",
    "    def name3(self, n):\r\n",
    "        self.name1 = '小绿' if n == '小灰' else '小宝'\r\n",
    "\r\n",
    "\r\n",
    "p = Person('小黑')\r\n",
    "print(p.name, p.name1, p.name2, p.name3)\r\n",
    "p.name3 = '小灰' \r\n",
    "print(p.name, p.name1, p.name2, p.name3)\r\n",
    "p.name3 = '小2' \r\n",
    "print(p.name, p.name1, p.name2, p.name3)\r\n",
    "p.name = '123'"
   ],
   "outputs": [
    {
     "output_type": "stream",
     "name": "stdout",
     "text": [
      "小黑! 小黑 小白 小黑!\n",
      "小绿! 小绿 小白 小绿!\n",
      "小宝! 小宝 小白 小宝!\n"
     ]
    },
    {
     "output_type": "error",
     "ename": "AttributeError",
     "evalue": "can't set attribute",
     "traceback": [
      "\u001b[1;31m---------------------------------------------------------------------------\u001b[0m",
      "\u001b[1;31mAttributeError\u001b[0m                            Traceback (most recent call last)",
      "\u001b[1;32m~\\AppData\\Local\\Temp/ipykernel_9680/3905248116.py\u001b[0m in \u001b[0;36m<module>\u001b[1;34m\u001b[0m\n\u001b[0;32m     21\u001b[0m \u001b[0mp\u001b[0m\u001b[1;33m.\u001b[0m\u001b[0mname3\u001b[0m \u001b[1;33m=\u001b[0m \u001b[1;34m'小2'\u001b[0m\u001b[1;33m\u001b[0m\u001b[1;33m\u001b[0m\u001b[0m\n\u001b[0;32m     22\u001b[0m \u001b[0mprint\u001b[0m\u001b[1;33m(\u001b[0m\u001b[0mp\u001b[0m\u001b[1;33m.\u001b[0m\u001b[0mname\u001b[0m\u001b[1;33m,\u001b[0m \u001b[0mp\u001b[0m\u001b[1;33m.\u001b[0m\u001b[0mname1\u001b[0m\u001b[1;33m,\u001b[0m \u001b[0mp\u001b[0m\u001b[1;33m.\u001b[0m\u001b[0mname2\u001b[0m\u001b[1;33m,\u001b[0m \u001b[0mp\u001b[0m\u001b[1;33m.\u001b[0m\u001b[0mname3\u001b[0m\u001b[1;33m)\u001b[0m\u001b[1;33m\u001b[0m\u001b[1;33m\u001b[0m\u001b[0m\n\u001b[1;32m---> 23\u001b[1;33m \u001b[0mp\u001b[0m\u001b[1;33m.\u001b[0m\u001b[0mname\u001b[0m \u001b[1;33m=\u001b[0m \u001b[1;34m'123'\u001b[0m\u001b[1;33m\u001b[0m\u001b[1;33m\u001b[0m\u001b[0m\n\u001b[0m",
      "\u001b[1;31mAttributeError\u001b[0m: can't set attribute"
     ]
    }
   ],
   "metadata": {}
  },
  {
   "cell_type": "markdown",
   "source": [
    "# https://zhuanlan.zhihu.com/p/311503904"
   ],
   "metadata": {}
  },
  {
   "cell_type": "code",
   "execution_count": null,
   "source": [],
   "outputs": [],
   "metadata": {}
  },
  {
   "cell_type": "code",
   "execution_count": 12,
   "source": [
    "# Case 1 我们可以用其来对属性的赋值做判断和异常检测。\r\n",
    "# Python program showing the use of \r\n",
    "# @property from https://www.geeksforgeeks.org/getter-and-setter-in-python/\r\n",
    "  \r\n",
    "class Geeks: \r\n",
    "     def __init__(self): \r\n",
    "          self._age = 0\r\n",
    "       \r\n",
    "     # using property decorator \r\n",
    "     # a getter function \r\n",
    "     @property\r\n",
    "     def age(self): \r\n",
    "         print(\"getter method called\") \r\n",
    "         return self._age \r\n",
    "       \r\n",
    "     # a setter function \r\n",
    "     @age.setter \r\n",
    "     def age(self, a): \r\n",
    "         if(a < 18): \r\n",
    "            raise ValueError(\"Sorry you age is below eligibility criteria\") \r\n",
    "         print(\"setter method called\") \r\n",
    "         self._age = a \r\n"
   ],
   "outputs": [],
   "metadata": {}
  },
  {
   "cell_type": "code",
   "execution_count": 8,
   "source": [
    "# Case 2 另一种写法就是可以将 setter 和 getter 作为私有方法隐藏起来：\r\n",
    "# https://www.datacamp.com/community/tutorials/property-getters-setters\r\n",
    "class FinalClass:\r\n",
    "\r\n",
    "    def __init__(self, var):\r\n",
    "        ## calling the set_a() method to set the value 'a' by checking certain conditions\r\n",
    "        self.__set_a(var)\r\n",
    "\r\n",
    "    ## getter method to get the properties using an object\r\n",
    "    def __get_a(self):\r\n",
    "        return self.__a\r\n",
    "\r\n",
    "    ## setter method to change the value 'a' using an object\r\n",
    "    def __set_a(self, var):\r\n",
    "\r\n",
    "        ## condition to check whether var is suitable or not\r\n",
    "        if var > 0 and var % 2 == 0:\r\n",
    "            self.__a = var\r\n",
    "        else:\r\n",
    "            self.__a = 2\r\n",
    "\r\n",
    "    a = property(__get_a, __set_a)"
   ],
   "outputs": [],
   "metadata": {}
  },
  {
   "cell_type": "code",
   "execution_count": 9,
   "source": [
    "# https://stackoverflow.com/a/36943813/8656360\r\n",
    "class Protective(object):\r\n",
    "    \"\"\"protected property demo\"\"\"\r\n",
    "    #\r\n",
    "    def __init__(self, start_protected_value=0):\r\n",
    "        self.protected_value = start_protected_value\r\n",
    "    # \r\n",
    "    @property\r\n",
    "    def protected_value(self):\r\n",
    "        return self._protected_value\r\n",
    "    #\r\n",
    "    @protected_value.setter\r\n",
    "    def protected_value(self, value):\r\n",
    "        if value != int(value):\r\n",
    "            raise TypeError(\"protected_value must be an integer\")\r\n",
    "        if 0 <= value <= 100:\r\n",
    "            self._protected_value = int(value)\r\n",
    "        else:\r\n",
    "            raise ValueError(\"protected_value must be \" +\r\n",
    "                             \"between 0 and 100 inclusive\")\r\n",
    "    #\r\n",
    "    @protected_value.deleter\r\n",
    "    def protected_value(self):\r\n",
    "        raise AttributeError(\"do not delete, protected_value can be set to 0\")"
   ],
   "outputs": [],
   "metadata": {}
  },
  {
   "cell_type": "code",
   "execution_count": null,
   "source": [],
   "outputs": [],
   "metadata": {}
  },
  {
   "cell_type": "code",
   "execution_count": 16,
   "source": [
    "class Student(object):\r\n",
    "    @property\r\n",
    "    def score(self):\r\n",
    "         return self._score\r\n",
    "\r\n",
    "    @score.setter\r\n",
    "    def score(self, value):\r\n",
    "        if not isinstance(value, int):\r\n",
    "            raise ValueError('score must be an integer!')\r\n",
    "        if value < 0 or value > 100:\r\n",
    "            raise ValueError('score must between 0 ~ 100!')\r\n",
    "        self._score = value"
   ],
   "outputs": [],
   "metadata": {}
  },
  {
   "cell_type": "markdown",
   "source": [
    "# python面向对象之property用法补充（getter,setter,deleter）(示例代码)"
   ],
   "metadata": {}
  },
  {
   "cell_type": "code",
   "execution_count": 23,
   "source": [
    "class Student:\r\n",
    "\r\n",
    "    @property\r\n",
    "\r\n",
    "    def score(self):\r\n",
    "\r\n",
    "        print(\"get的时候运行我啊\")\r\n",
    "\r\n",
    "    @score.setter\r\n",
    "\r\n",
    "    def score(self,value):\r\n",
    "\r\n",
    "        print(\"set的时候运行我啊\")\r\n",
    "\r\n",
    "    @score.deleter\r\n",
    "\r\n",
    "    def score(self):\r\n",
    "\r\n",
    "        print(\"delete的时候运行我啊\")\r\n",
    "\r\n",
    "#只有在属性AAA定义property后才能定义AAA.setter,AAA.deleter\r\n",
    "\r\n",
    "f1=Student()\r\n",
    "print(f1)\r\n",
    "\r\n",
    "f1.score\r\n",
    "print(f1.score)\r\n",
    "\r\n",
    "f1.score=\"aaa\"\r\n",
    "\r\n",
    "del f1.score"
   ],
   "outputs": [
    {
     "output_type": "stream",
     "name": "stdout",
     "text": [
      "<__main__.Student object at 0x0000021DB6ACB040>\n",
      "get的时候运行我啊\n",
      "get的时候运行我啊\n",
      "None\n",
      "set的时候运行我啊\n",
      "delete的时候运行我啊\n"
     ]
    }
   ],
   "metadata": {}
  },
  {
   "cell_type": "code",
   "execution_count": 24,
   "source": [
    "#用法二：\r\n",
    "\r\n",
    "class Goods:\r\n",
    "\r\n",
    "    def __init__(self):\r\n",
    "\r\n",
    "        self.original_price = 100  # 原价\r\n",
    "\r\n",
    "        self.discount = 0.8  # 折扣\r\n",
    "\r\n",
    "    @property\r\n",
    "\r\n",
    "    def price(self):\r\n",
    "\r\n",
    "        new_price = self.original_price * self.discount  # 实际价格 = 原价 * 折扣\r\n",
    "\r\n",
    "        return new_price\r\n",
    "\r\n",
    "    @price.setter\r\n",
    "\r\n",
    "    def price(self, value):\r\n",
    "\r\n",
    "        self.original_price = value\r\n",
    "\r\n",
    "    @price.deleter\r\n",
    "\r\n",
    "    def price(self):\r\n",
    "\r\n",
    "        del self.original_price\r\n",
    "\r\n",
    "obj = Goods()\r\n",
    "\r\n",
    "obj.price         # 获取商品价格\r\n",
    "\r\n",
    "obj.price = 200   # 修改商品原价\r\n",
    "\r\n",
    "print(obj.price)\r\n",
    "\r\n",
    "del obj.price     # 删除商品原价"
   ],
   "outputs": [
    {
     "output_type": "stream",
     "name": "stdout",
     "text": [
      "160.0\n"
     ]
    }
   ],
   "metadata": {}
  }
 ],
 "metadata": {
  "orig_nbformat": 4,
  "language_info": {
   "name": "python",
   "version": "3.9.6",
   "mimetype": "text/x-python",
   "codemirror_mode": {
    "name": "ipython",
    "version": 3
   },
   "pygments_lexer": "ipython3",
   "nbconvert_exporter": "python",
   "file_extension": ".py"
  },
  "kernelspec": {
   "name": "python3",
   "display_name": "Python 3.9.6 64-bit"
  },
  "interpreter": {
   "hash": "26686dec1f1c69e7843542045c9bcb01e7d61ef2953291481df04c12bb1a928f"
  }
 },
 "nbformat": 4,
 "nbformat_minor": 2
}