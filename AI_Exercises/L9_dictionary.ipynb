{
 "cells": [
  {
   "cell_type": "code",
   "execution_count": 1,
   "metadata": {},
   "outputs": [
    {
     "name": "stdout",
     "output_type": "stream",
     "text": [
      "person dictionary: {'name': 'Kokchun', 'age': 30.4, 'work': 'teacher', 'interest': ['math', 'python', 'yoga'], 'phone': 112}\n",
      "Persons name is Kokchun\n",
      "Persons age is 30.4 years old\n",
      "Kokchun loves ['math', 'python', 'yoga']\n",
      "Kokchun loves math\n",
      "Kokchun loves python\n",
      "Kokchun loves yoga\n"
     ]
    }
   ],
   "source": [
    "# create dictionary with dict() 创建字典\n",
    "person = dict(\n",
    "    name = \"Kokchun\",\n",
    "    age = 30.4, \n",
    "    work = \"teacher\",\n",
    "    interest = [\"math\", \"python\", \"yoga\"],\n",
    "    phone = 112 # don't call\n",
    ")\n",
    "\n",
    "print(f\"person dictionary: {person}\")\n",
    "print(f\"Persons name is {person['name']}\") # note different ''  \"\"\n",
    "print(f\"Persons age is {person['age']} years old\") \n",
    "\n",
    "print(f\"{person['name']} loves {person['interest']}\") \n",
    "\n",
    "# \n",
    "for interest in person[\"interest\"]:\n",
    "    print(f\"{person['name']} loves {interest}\")"
   ]
  },
  {
   "cell_type": "code",
   "execution_count": 1,
   "metadata": {},
   "outputs": [
    {
     "name": "stdout",
     "output_type": "stream",
     "text": [
      "Vi ska lära oss dessa ord: data structure, regression, dictionary, method, lambda, \n",
      "\n",
      "Glosa                Betydelse\n",
      "data structure       means of organizing and storing data\n",
      "regression           find a function that best fits observered data\n",
      "dictionary           store data in key-value pair\n",
      "method               a function bound to an object\n",
      "lambda               an anonymous function\n"
     ]
    }
   ],
   "source": [
    "# create dictionary with curly braces {} \"大括号 {}\"\n",
    "words = {\n",
    "    \"data structure\": \"means of organizing and storing data\", \n",
    "    \"regression\": \"find a function that best fits observered data\",\n",
    "    \"dictionary\": \"store data in key-value pair\",\n",
    "    \"method\": \"a function bound to an object\",\n",
    "    \"lambda\": \"an anonymous function\"\n",
    "} # note quotes in key, quotes in value is for creating strings 注意键中的引号，值中的引号用于创建字符串\n",
    "\n",
    "print(\"Vi ska lära oss dessa ord: \", end=\"\")\n",
    "for key in words:\n",
    "     print(key, end=\", \")\n",
    "\n",
    "print(f\"\\n\\nGlosa{'':<15} Betydelse\") # '':<15 right align with width 15\n",
    "# loops through key and values\n",
    "for key, value in words.items():\n",
    "    print(f\"{key:<20} {value}\")"
   ]
  },
  {
   "cell_type": "code",
   "execution_count": 3,
   "metadata": {},
   "outputs": [
    {
     "name": "stdout",
     "output_type": "stream",
     "text": [
      "{'F': '<10', 'E': 10, 'D': 20, 'C': 30, 'B': 40, 'A': 50}\n"
     ]
    }
   ],
   "source": [
    "# F<10, E: 10, D: 20, C: 30, B: 40, A: 50 \n",
    "grade_limit = {}\n",
    "\n",
    "for i,char in enumerate(\"ABCDEF\"[::-1]):\n",
    "    grade_limit[char] = i*10\n",
    "\n",
    "# change value in a dictionary\n",
    "grade_limit[\"F\"] = \"<10\"\n",
    "print(grade_limit)"
   ]
  },
  {
   "cell_type": "markdown",
   "metadata": {},
   "source": [
    "# Dictionary comprehension 词典理解"
   ]
  },
  {
   "cell_type": "code",
   "execution_count": 4,
   "metadata": {},
   "outputs": [
    {
     "name": "stdout",
     "output_type": "stream",
     "text": [
      "Grade limits {'F': 0, 'E': 10, 'D': 20, 'C': 30, 'B': 40, 'A': 50}\n",
      "Scores [40, 7, 1, 47, 17, 15, 14, 8, 47, 6, 43, 47, 57, 34, 5, 37, 27, 2, 1, 5, 13, 14, 32, 38, 1, 35, 12, 45, 41, 44]\n",
      "Grade count {'F': 9, 'E': 6, 'D': 1, 'C': 5, 'B': 8, 'A': 1}\n"
     ]
    }
   ],
   "source": [
    "import random as rnd \n",
    "grade_limit = {grade: i*10 for i, grade in enumerate(\"FEDCBA\")}\n",
    "print(f\"Grade limits {grade_limit}\")\n",
    "\n",
    "def generate_scores(number_scores):\n",
    "    rnd.seed(42)\n",
    "    scores = [rnd.randint(0,60) for _ in range(number_scores)]\n",
    "    return scores\n",
    "\n",
    "scores = generate_scores(30)\n",
    "print(f\"Scores {scores}\")\n",
    "\n",
    "# count number in each grade category 计算每个年级类别的人数\n",
    "grade_count = {key: 0 for key in grade_limit}\n",
    "\n",
    "for score in scores:\n",
    "    for grade, limit in grade_limit.items():\n",
    "        if limit <= score < limit+10:\n",
    "            grade_count[grade] += 1\n",
    "\n",
    "print(f\"Grade count {grade_count}\")"
   ]
  }
 ],
 "metadata": {
  "interpreter": {
   "hash": "26686dec1f1c69e7843542045c9bcb01e7d61ef2953291481df04c12bb1a928f"
  },
  "kernelspec": {
   "display_name": "Python 3.9.6 64-bit",
   "name": "python3"
  },
  "language_info": {
   "codemirror_mode": {
    "name": "ipython",
    "version": 3
   },
   "file_extension": ".py",
   "mimetype": "text/x-python",
   "name": "python",
   "nbconvert_exporter": "python",
   "pygments_lexer": "ipython3",
   "version": "3.9.6"
  },
  "orig_nbformat": 4
 },
 "nbformat": 4,
 "nbformat_minor": 2
}
