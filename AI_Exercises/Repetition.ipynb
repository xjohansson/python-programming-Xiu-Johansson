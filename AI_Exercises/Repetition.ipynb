{
 "cells": [
  {
   "cell_type": "code",
   "execution_count": 1,
   "source": [
    "## input output och variabler \r\n",
    "tal1=input(\"ange ett tal\") #5 \r\n",
    "tal2=input(\"ange ett tal\") #8\r\n",
    "summa=tal1+tal2\r\n",
    "\r\n",
    "print(summa)"
   ],
   "outputs": [
    {
     "output_type": "stream",
     "name": "stdout",
     "text": [
      "xiu\n"
     ]
    }
   ],
   "metadata": {}
  },
  {
   "cell_type": "code",
   "execution_count": 2,
   "source": [
    "# modulus -ger resten vid en heltalsdivision\r\n",
    "9%4\r\n",
    "tal=9\r\n",
    "\r\n",
    "if tal % 2==0:\r\n",
    "    print(\"talet är jämnt\")\r\n",
    "else     \r\n",
    "\r\n",
    "if "
   ],
   "outputs": [
    {
     "output_type": "execute_result",
     "data": {
      "text/plain": [
       "1"
      ]
     },
     "metadata": {},
     "execution_count": 2
    }
   ],
   "metadata": {}
  },
  {
   "cell_type": "code",
   "execution_count": 4,
   "source": [
    "# while \r\n",
    "# \"if-loop\", as long as the condition is \r\n",
    "n=0\r\n",
    "while n< 5 :# körs så länge som villkoret är sant\r\n",
    "    print (f\"{n}<5\")\r\n",
    "    n+=1\r\n",
    "print (n)    \r\n",
    "\r\n"
   ],
   "outputs": [
    {
     "output_type": "stream",
     "name": "stdout",
     "text": [
      "0<5\n",
      "1<5\n",
      "2<5\n",
      "3<5\n",
      "4<5\n",
      "5\n"
     ]
    }
   ],
   "metadata": {}
  },
  {
   "cell_type": "code",
   "execution_count": 13,
   "source": [
    "fåglar=8000\r\n",
    "år=0\r\n",
    "print(f\" år {år} finns det {fåglar} st \")\r\n",
    "\r\n",
    "while fåglar >50:\r\n",
    "   \r\n",
    "    fåglar/=2\r\n",
    "    år +=1\r\n",
    "    \r\n",
    "print(fåglar)"
   ],
   "outputs": [
    {
     "output_type": "stream",
     "name": "stdout",
     "text": [
      " år 0 finns det 8000 st \n",
      "31.25\n"
     ]
    }
   ],
   "metadata": {}
  }
 ],
 "metadata": {
  "orig_nbformat": 4,
  "language_info": {
   "name": "python",
   "version": "3.9.6",
   "mimetype": "text/x-python",
   "codemirror_mode": {
    "name": "ipython",
    "version": 3
   },
   "pygments_lexer": "ipython3",
   "nbconvert_exporter": "python",
   "file_extension": ".py"
  },
  "kernelspec": {
   "name": "python3",
   "display_name": "Python 3.9.6 64-bit ('Pythonkurs-8SbhYJ-b': pipenv)"
  },
  "interpreter": {
   "hash": "0e1c4b289a1ee7bbfd05ca4cff940f68637f4315871854be96f4a0a829bab33d"
  }
 },
 "nbformat": 4,
 "nbformat_minor": 2
}