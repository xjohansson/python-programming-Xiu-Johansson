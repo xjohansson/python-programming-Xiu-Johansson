{
 "cells": [
  {
   "cell_type": "markdown",
   "source": [
    "# Lecture notes 5 - strings"
   ],
   "metadata": {}
  },
  {
   "cell_type": "markdown",
   "source": [
    "# Concatenate strings 连接字符串"
   ],
   "metadata": {}
  },
  {
   "cell_type": "code",
   "execution_count": 7,
   "source": [
    "# Concatenate strings 连接字符串\r\n",
    "firstname = \"Kokchun\"\r\n",
    "lastname = \"Giang\"\r\n",
    "\r\n",
    "fullname = firstname +\" \"+ lastname # concatenating strings 双引号中间的空格\r\n",
    "school = \"IT-Högskolan\"\r\n",
    "address = \"Ebbe Lieberathsgatan 18C, 412 65 Göteborg\"\r\n",
    "phone = \"112\"\r\n",
    "\r\n",
    "# multiline f-string #用三个引号来打印出来很多内容\r\n",
    "contact_details = f\"\"\"\r\n",
    "Name: {fullname} \r\n",
    "School: {school} \r\n",
    "Adress: {address},\r\n",
    "Phone: {phone}\r\n",
    "\"\"\"\r\n",
    "\r\n",
    "print(contact_details)"
   ],
   "outputs": [
    {
     "output_type": "stream",
     "name": "stdout",
     "text": [
      "\n",
      "Name: Kokchun Giang \n",
      "School: IT-Högskolan \n",
      "Adress: Ebbe Lieberathsgatan 18C, 412 65 Göteborg,\n",
      "Phone: 112\n",
      "\n"
     ]
    }
   ],
   "metadata": {}
  },
  {
   "cell_type": "markdown",
   "source": [
    "# Concatenate with loop 与循环连接"
   ],
   "metadata": {}
  },
  {
   "cell_type": "code",
   "execution_count": 2,
   "source": [
    "#Concatenate with loop 与循环连接\r\n",
    "bamba = [\"Chili sin carne\", \"Nudlar\", \"Pokebowl\", \"Pannkakor\", \"Tacos\"]\r\n",
    "days = [\"Må\", \"Ti\", \"On\", \"To\", \"Fr\"]\r\n",
    "\r\n",
    "menu = \"Veckomeny\\n\" # \\n gives newline 换行\r\n",
    "\r\n",
    "for day, food in zip(days, bamba):\r\n",
    "    menu += f\"{day}: {food} \\n\"\r\n",
    "\r\n",
    "print(menu)"
   ],
   "outputs": [
    {
     "output_type": "stream",
     "name": "stdout",
     "text": [
      "Veckomeny\n",
      "Må: Chili sin carne \n",
      "Ti: Nudlar \n",
      "On: Pokebowl \n",
      "To: Pannkakor \n",
      "Fr: Tacos \n",
      "\n"
     ]
    }
   ],
   "metadata": {}
  },
  {
   "cell_type": "markdown",
   "source": [
    "# Indexing"
   ],
   "metadata": {}
  },
  {
   "cell_type": "code",
   "execution_count": 9,
   "source": [
    "#Indexing\r\n",
    "# a string is an array of bytes that represents unicode characters\r\n",
    "# use the indexing operator [] to access elements 使用索引运算符 [] 访问元素\r\n",
    "# combine with slice operator : to get a section in the string 获取字符串中的一个部分\r\n",
    "\r\n",
    "# note the different types of quotes(引号), can't use '' for denoting string (表示字符串)here, as ' is already used\r\n",
    "quote = \"!False - it's funny because it's True\" \r\n",
    "print(f\"quote[0]: {quote[0]}\")\r\n",
    "print(f\"quote[5]: {quote[5:10]}\") # [start:end-1]\r\n",
    "print(f\"quote[-4]: {quote[-4]}\") # indexing starting from the end 从后往前数\r\n",
    "print(f\"quote[-4:]: {quote[-4:]}\") # slice from -4 to the end\r\n",
    "print(f\"Backwards quote[::-1]: {quote[::-1]}\") # reversing"
   ],
   "outputs": [
    {
     "output_type": "stream",
     "name": "stdout",
     "text": [
      "quote[0]: !\n",
      "quote[5]: e - i\n",
      "quote[-4]: T\n",
      "quote[-4:]: True\n",
      "Backwards quote[::-1]: eurT s'ti esuaceb ynnuf s'ti - eslaF!\n"
     ]
    }
   ],
   "metadata": {}
  },
  {
   "cell_type": "markdown",
   "source": [
    "# Split a string 拆分字符串"
   ],
   "metadata": {}
  },
  {
   "cell_type": "code",
   "execution_count": 10,
   "source": [
    "# Split a string 拆分字符串\r\n",
    "\r\n",
    "subjects = \"Math, biology  ,   cHeMistry  ,  PrOgramming      \"\r\n",
    "subjects = subjects.split(\",\") # argument defines the pattern which the string should be splitted\r\n",
    "\r\n",
    "subjects = [subject.strip().upper() for subject in subjects] # strips and make uppercase 大写\r\n",
    "\r\n",
    "for subject in subjects: \r\n",
    "    print(f\"{subject} has {len(subject)} letters\") "
   ],
   "outputs": [
    {
     "output_type": "stream",
     "name": "stdout",
     "text": [
      "MATH has 4 letters\n",
      "BIOLOGY has 7 letters\n",
      "CHEMISTRY has 9 letters\n",
      "PROGRAMMING has 11 letters\n"
     ]
    }
   ],
   "metadata": {}
  },
  {
   "cell_type": "code",
   "execution_count": null,
   "source": [
    "# 总结\r\n",
    "# len() returns the number of items, for a string it returns the number of characters \r\n",
    "# len() 计算字符串的长度：\r\n",
    "\r\n",
    "# 1.默认用法：去除空格\r\n",
    "# str.strip() ： 去除字符串两边的空格\r\n",
    "# str.lstrip() ： 去除字符串左边的空格\r\n",
    "# str.rstrip() ： 去除字符串右边的空格\r\n",
    "\r\n",
    "# 2、去除指定字符\r\n",
    "# str.strip(‘do’) ：去除字符串两端指定的字符\r\n",
    "# str.lstrip(‘do’) ：用于去除左边指定的字符\r\n",
    "# str.rstrip(‘do’) ：用于去除右边指定的字符"
   ],
   "outputs": [],
   "metadata": {}
  },
  {
   "cell_type": "code",
   "execution_count": 18,
   "source": [
    "s=\"xiujohansson 0000    \"\r\n",
    "s.rstrip(\" \") # 用于去除右边指定的字符"
   ],
   "outputs": [
    {
     "output_type": "execute_result",
     "data": {
      "text/plain": [
       "'xiujohansson 0000'"
      ]
     },
     "metadata": {},
     "execution_count": 18
    }
   ],
   "metadata": {}
  },
  {
   "cell_type": "code",
   "execution_count": 23,
   "source": [
    "t=\"0000xiujohansson0000\" #如果首位有空格，就无法删除这些字符了    ??????????????????????????????\r\n",
    "t.strip(\"xiu\")"
   ],
   "outputs": [
    {
     "output_type": "execute_result",
     "data": {
      "text/plain": [
       "'0000xiujohansson0000'"
      ]
     },
     "metadata": {},
     "execution_count": 23
    }
   ],
   "metadata": {}
  },
  {
   "cell_type": "code",
   "execution_count": 29,
   "source": [
    "#split() 函数用法\r\n",
    "m=\"an apple a day\"\r\n",
    "def split(m):\r\n",
    "    return m.split(\"\") #不带参数，以空格分隔,双引号里面是空白\r\n",
    "print(m.split())    "
   ],
   "outputs": [
    {
     "output_type": "stream",
     "name": "stdout",
     "text": [
      "['an', 'apple', 'a', 'day']\n"
     ]
    }
   ],
   "metadata": {}
  },
  {
   "cell_type": "code",
   "execution_count": 30,
   "source": [
    "m=\"an apple !! a day\"\r\n",
    "def split(m):\r\n",
    "    return m.split(\"!!\")\r\n",
    "print(m.split())    "
   ],
   "outputs": [
    {
     "output_type": "stream",
     "name": "stdout",
     "text": [
      "['an', 'apple', '!!', 'a', 'day']\n"
     ]
    }
   ],
   "metadata": {}
  },
  {
   "cell_type": "code",
   "execution_count": 24,
   "source": [
    "# mean from input\r\n",
    "numbers = input(\"Ange några tal separerade med mellanslag: \").split() #输入一些以空格分隔的数字\r\n",
    "numbers = [float(number) for number in numbers]\r\n",
    "\r\n",
    "sum = 0\r\n",
    "\r\n",
    "for number in numbers:\r\n",
    "    sum += number\r\n",
    "\r\n",
    "mean = sum/len(numbers)\r\n",
    "print(f\"Medelvärdet av dina tal är {mean:.1f}\")"
   ],
   "outputs": [
    {
     "output_type": "stream",
     "name": "stdout",
     "text": [
      "Medelvärdet av dina tal är 239.5\n"
     ]
    }
   ],
   "metadata": {}
  },
  {
   "cell_type": "markdown",
   "source": [
    "# Regular expressions"
   ],
   "metadata": {}
  },
  {
   "cell_type": "code",
   "execution_count": 31,
   "source": [
    "import re \r\n",
    "\r\n",
    "# find all words ending with \"att\" in this text 找出所有词以字母att为结尾\r\n",
    "text = \"Det var en gång en katt som tog på sig en hatt.\"\r\n",
    "# need to use raw strings for regexp\r\n",
    "match_list = re.findall(r\".att\", text) # dot . matches all characters\r\n",
    "print(match_list)"
   ],
   "outputs": [
    {
     "output_type": "stream",
     "name": "stdout",
     "text": [
      "['katt', 'hatt']\n"
     ]
    }
   ],
   "metadata": {}
  },
  {
   "cell_type": "code",
   "execution_count": 32,
   "source": [
    "import re\r\n",
    "\r\n",
    "personal_numbers = \"Ida: 19950516-2235, Berit: 19581212-3213, Ada: 050524-1513, FEL: 19932235-3213\"\r\n",
    "\r\n",
    "match_long = re.findall(r\"\\d{8}-\\d{4}\", personal_numbers) #\\d - digit, {x} number of times it repeats\r\n",
    "print(f\"Naive YYYYMMDD-XXXX: {match_long}\")\r\n",
    "\r\n",
    "match_short = re.findall(r\"\\d{6}-\\d{4}\", personal_numbers)\r\n",
    "print(f\"Naive YYMMDD-XXXX: {match_short}\")"
   ],
   "outputs": [
    {
     "output_type": "stream",
     "name": "stdout",
     "text": [
      "Naive YYYYMMDD-XXXX: ['19950516-2235', '19581212-3213', '19932235-3213']\n",
      "Naive YYMMDD-XXXX: ['950516-2235', '581212-3213', '050524-1513', '932235-3213']\n"
     ]
    }
   ],
   "metadata": {}
  },
  {
   "cell_type": "code",
   "execution_count": 33,
   "source": [
    "import re\r\n",
    "str = 'say hello world! hello python'\r\n",
    "str_nm = 'one1two2three3four4'\r\n",
    "pattern = re.compile(r'(?P<space>\\s)') # 创建一个匹配空格的正则表达式对象\r\n",
    "pattern_nm = re.compile(r'(?P<space>\\d+)') # 创建一个匹配空格的正则表达式对象\r\n",
    "match = re.split(pattern, str)\r\n",
    "match_nm = re.split(pattern_nm, str_nm, maxsplit=1)\r\n",
    "print(match)\r\n",
    "print(match_nm)"
   ],
   "outputs": [
    {
     "output_type": "stream",
     "name": "stdout",
     "text": [
      "['say', ' ', 'hello', ' ', 'world!', ' ', 'hello', ' ', 'python']\n",
      "['one', '1', 'two2three3four4']\n"
     ]
    }
   ],
   "metadata": {}
  },
  {
   "cell_type": "code",
   "execution_count": 34,
   "source": [
    "import re\r\n",
    " \r\n",
    "str = 'aabbabaabbaa'\r\n",
    "\r\n",
    "# 一个\".\"就是匹配除 \\n (换行符)以外的任意一个字符\r\n",
    "print(re.findall(r'a.b',str))#['aab', 'aab']\r\n",
    "\r\n",
    "# *前面的字符出现0次或以上\r\n",
    "print(re.findall(r'a*b',str))#['aab', 'b', 'ab', 'aab', 'b']\r\n",
    "\r\n",
    "# 贪婪，匹配从.*前面为开始到后面为结束的所有内容\r\n",
    "print(re.findall(r'a.*b',str))#['aabbabaabb']\r\n",
    "\r\n",
    "# 非贪婪，遇到开始和结束就进行截取，因此截取多次符合的结果，中间没有字符也会被截取\r\n",
    "print(re.findall(r'a.*?b',str))#['aab', 'ab', 'aab']\r\n",
    "\r\n",
    "# 非贪婪，与上面一样，只是与上面的相比多了一个括号，只保留括号的内容\r\n",
    "print(re.findall(r'a(.*?)b',str))#['a', '', 'a']\r\n",
    " \r\n",
    "str = '''aabbab\r\n",
    "         aabbaa\r\n",
    "         bb'''     #后面多加了2个b\r\n",
    "\r\n",
    "# 没有把最后一个换行的aab算进来\r\n",
    "print(re.findall(r'a.*?b',str))#['aab', 'ab', 'aab']\r\n",
    "\r\n",
    "# re.S不会对\\n进行中断\r\n",
    "print(re.findall(r'a.*?b',str,re.S))#['aab', 'ab', 'aab', 'aa\\n         b']"
   ],
   "outputs": [
    {
     "output_type": "stream",
     "name": "stdout",
     "text": [
      "['aab', 'aab']\n",
      "['aab', 'b', 'ab', 'aab', 'b']\n",
      "['aabbabaabb']\n",
      "['aab', 'ab', 'aab']\n",
      "['a', '', 'a']\n",
      "['aab', 'ab', 'aab']\n",
      "['aab', 'ab', 'aab', 'aa\\n         b']\n"
     ]
    }
   ],
   "metadata": {}
  },
  {
   "cell_type": "code",
   "execution_count": 1,
   "source": [
    "s=\" 0000 xiujohansson 0000    \"\r\n",
    "s.rstrip() # 用于去除右边指定的字符"
   ],
   "outputs": [
    {
     "output_type": "execute_result",
     "data": {
      "text/plain": [
       "' 0000 xiujohansson 0000'"
      ]
     },
     "metadata": {},
     "execution_count": 1
    }
   ],
   "metadata": {}
  },
  {
   "cell_type": "code",
   "execution_count": 2,
   "source": [
    "s=\" 0000 xiujohansson 0000    \"\r\n",
    "s.rstrip() # 用于去除右边指定的字符"
   ],
   "outputs": [
    {
     "output_type": "execute_result",
     "data": {
      "text/plain": [
       "' 0000 xiujohansson 0000'"
      ]
     },
     "metadata": {},
     "execution_count": 2
    }
   ],
   "metadata": {}
  },
  {
   "cell_type": "markdown",
   "source": [
    "# 下面不知道是哪里的"
   ],
   "metadata": {}
  },
  {
   "cell_type": "markdown",
   "source": [
    "# L5 strings exercises"
   ],
   "metadata": {}
  },
  {
   "cell_type": "markdown",
   "source": [
    "# L5question 1. Counting letters (*)\r\n",
    "\r\n",
    "#Let the user input a word:\r\n",
    "\r\n",
    "  #a)   print out the number of letters in the word. (*)\r\n",
    "  #b)   print out the number of uppercase and lowercase letters of the word (*)"
   ],
   "metadata": {}
  },
  {
   "cell_type": "markdown",
   "source": [
    "# L5 question2. Counting words (*)\r\n",
    "#Count the number of words in this sentence: \"A picture says more than a thousand words, a matematical formula # says more than a thousand pictures.\" (*)"
   ],
   "metadata": {}
  },
  {
   "cell_type": "markdown",
   "source": [
    "# L5 question3. Palindrome (*)\r\n",
    "#A palindrome is a sequence of characters that is the same, when read forward as backwards (ignoring spaces). For example:\r\n",
    "\r\n",
    "   #\"Anna\" is a palindrome\r\n",
    "   #\"Ni talar bra latin\"\r\n",
    "   #bjkjb\r\n",
    "#Let the user input a sequence of characters and check if it is a palindrome. (*)"
   ],
   "metadata": {}
  },
  {
   "cell_type": "markdown",
   "source": [
    "# L5 question4. Vowels (**)¶\r\n",
    "#Count the number of vowels in this sentence: \"Pure mathematics is, in its way, the poetry of logical ideas\""
   ],
   "metadata": {}
  },
  {
   "cell_type": "markdown",
   "source": [
    "# L5 question5. Encryption (**)¶\r\n",
    "#Let the user input a word and:\r\n",
    "\r\n",
    "  #a)   encrypt the message by replacing each letter with the next letter. If the letter is in the end of the #alphabet, use the first letter instead. e.g. in Swedish: \"höst\" $\\rightarrow$ \"iatu\"\r\n",
    "\r\n",
    "  #b)   decrypt the message\r\n",
    "\r\n",
    "  #c)   let the user choose either encryption or decryption."
   ],
   "metadata": {}
  },
  {
   "cell_type": "markdown",
   "source": [
    "# 总结"
   ],
   "metadata": {}
  },
  {
   "cell_type": "markdown",
   "source": [
    "IndentationError: unexpected indent 缩进错误：意外缩进\r\n",
    "Missing parentheses  缺少括号\r\n",
    "Attribute Error 属性错误\r\n",
    "\r\n",
    "IndentationError: unindent does not match any outer indentation level 不匹配任何外部缩进级别\r\n"
   ],
   "metadata": {}
  },
  {
   "cell_type": "markdown",
   "source": [],
   "metadata": {}
  }
 ],
 "metadata": {
  "orig_nbformat": 4,
  "language_info": {
   "name": "python",
   "version": "3.9.6",
   "mimetype": "text/x-python",
   "codemirror_mode": {
    "name": "ipython",
    "version": 3
   },
   "pygments_lexer": "ipython3",
   "nbconvert_exporter": "python",
   "file_extension": ".py"
  },
  "kernelspec": {
   "name": "python3",
   "display_name": "Python 3.9.6 64-bit"
  },
  "interpreter": {
   "hash": "26686dec1f1c69e7843542045c9bcb01e7d61ef2953291481df04c12bb1a928f"
  }
 },
 "nbformat": 4,
 "nbformat_minor": 2
}