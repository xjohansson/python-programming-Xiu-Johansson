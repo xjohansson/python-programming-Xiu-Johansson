{
 "cells": [
  {
   "cell_type": "code",
   "execution_count": 1,
   "source": [
    "from geometry_shapes import Circle # 从几何形状导入圆\r\n",
    " cirkel1 = Circle(x=0,y=0, radius=1) # enhetscirkel \r\n",
    "cirkel2 = Circle(x=1,y=1, radius=1) \r\n",
    "rektangel = Rectangle(x=0,y=0,side1=1, side2=1)  #矩形\r\n",
    "print(cirkel1==cirkel2) # True \r\n",
    "print(cirkel2==rektangel) # False \r\n",
    "print(cirkel1.is_inside(0.5, 0.5)) # True \r\n",
    "cirkel1.translate(5,5) \r\n",
    "print(cirkel1.is_inside(0.5, 0.5)) # False \r\n",
    "cirkel1.translate(\"TRE\",5) # ge ValueError med lämplig kommentar \r\n"
   ],
   "outputs": [
    {
     "output_type": "error",
     "ename": "IndentationError",
     "evalue": "unexpected indent (Temp/ipykernel_12484/224248852.py, line 2)",
     "traceback": [
      "\u001b[1;36m  File \u001b[1;32m\"C:\\Users\\Xiu\\AppData\\Local\\Temp/ipykernel_12484/224248852.py\"\u001b[1;36m, line \u001b[1;32m2\u001b[0m\n\u001b[1;33m    cirkel1 = Circle(x=0,y=0, radius=1) # enhetscirkel\u001b[0m\n\u001b[1;37m    ^\u001b[0m\n\u001b[1;31mIndentationError\u001b[0m\u001b[1;31m:\u001b[0m unexpected indent\n"
     ]
    }
   ],
   "metadata": {}
  },
  {
   "cell_type": "code",
   "execution_count": 2,
   "source": [
    "from geometry_shapes import Circle # 从几何形状导入圆"
   ],
   "outputs": [
    {
     "output_type": "error",
     "ename": "ModuleNotFoundError",
     "evalue": "No module named 'geometry_shapes'",
     "traceback": [
      "\u001b[1;31m---------------------------------------------------------------------------\u001b[0m",
      "\u001b[1;31mModuleNotFoundError\u001b[0m                       Traceback (most recent call last)",
      "\u001b[1;32m~\\AppData\\Local\\Temp/ipykernel_12484/3876888409.py\u001b[0m in \u001b[0;36m<module>\u001b[1;34m\u001b[0m\n\u001b[1;32m----> 1\u001b[1;33m \u001b[1;32mfrom\u001b[0m \u001b[0mgeometry_shapes\u001b[0m \u001b[1;32mimport\u001b[0m \u001b[0mCircle\u001b[0m \u001b[1;31m# 从几何形状导入圆\u001b[0m\u001b[1;33m\u001b[0m\u001b[1;33m\u001b[0m\u001b[0m\n\u001b[0m",
      "\u001b[1;31mModuleNotFoundError\u001b[0m: No module named 'geometry_shapes'"
     ]
    }
   ],
   "metadata": {}
  },
  {
   "cell_type": "markdown",
   "source": [
    "# 类的继承 作业题："
   ],
   "metadata": {}
  },
  {
   "cell_type": "code",
   "execution_count": null,
   "source": [],
   "outputs": [],
   "metadata": {}
  },
  {
   "cell_type": "code",
   "execution_count": null,
   "source": [
    "# https://blog.csdn.net/zys15195875600/article/details/81268153\r\n",
    "# 1．建立一个形状类Shape作为基类，派生出圆类Circle和矩形类Rectangle，求出面积并获取相关信息。具体要求如下：\r\n",
    "#（1）形状类Shape\r\n",
    "#（a）保护数据成员\r\n",
    "# double x,y：对于不同的形状，x和y表示不同的含义，如对于圆，x和y均表示圆的半径，而对于矩形，x表示矩形的长，y表示矩形的宽。访问权限定义为保护类型是为了能被继承下去，以便派生类能直接访问x和y。\r\n",
    "#（b）公有成员函数\r\n",
    "# 构造函数Shape(double _x,double _y)：用_x、_y分别初始化x、y。\r\n",
    "# double GetArea()：求面积，在此返回0.0。\r\n"
   ],
   "outputs": [],
   "metadata": {}
  },
  {
   "cell_type": "code",
   "execution_count": 12,
   "source": [
    " class Geometry():\r\n",
    " \r\n",
    " \r\n",
    " class Circle(Geometry):\r\n",
    "    def_init_(self,x,y radius):\r\n",
    "       self.x=x\r\n",
    "       self.y=y\r\n",
    "       self.radius=radius\r\n",
    "\r\n",
    "    def area(self):\r\n",
    "        return 3.1415926* self.radius**2  #pi=3.1415926\r\n",
    "\r\n",
    "    def perimeter(self):\r\n",
    "        return 2*self.radius*3.1415926\r\n",
    "\r\n",
    " NewCircle=circle(8)      \r\n",
    " print(NewCircle.area())   #面积是pai*r^2\r\n",
    " print(NewCircle.perimeter()) #周长公式是2paier\r\n",
    "\r\n",
    "\r\n",
    " class Rectangle(Geometry):\r\n",
    "     def_init_(self,x=0,y=0):\r\n",
    "           self.length=x\r\n",
    "           self.width=y\r\n",
    "\r\n",
    "     def rectangle_area(self):\r\n",
    "         return self.length*self.width\r\n",
    "\r\n",
    "     def rectangle_perimeter(self):\r\n",
    "         return (self.length+self.width)*2  \r\n",
    "\r\n",
    " NewRectangle=Rectangle(12,10)      \r\n",
    " print(NewRectangle.rectangle_area())    \r\n",
    "\r\n",
    "\r\n",
    " class Square(Rectangle):    \r\n"
   ],
   "outputs": [
    {
     "output_type": "error",
     "ename": "IndentationError",
     "evalue": "expected an indented block (Temp/ipykernel_12484/1459613870.py, line 4)",
     "traceback": [
      "\u001b[1;36m  File \u001b[1;32m\"C:\\Users\\Xiu\\AppData\\Local\\Temp/ipykernel_12484/1459613870.py\"\u001b[1;36m, line \u001b[1;32m4\u001b[0m\n\u001b[1;33m    class Circle(Geometry):\u001b[0m\n\u001b[1;37m    ^\u001b[0m\n\u001b[1;31mIndentationError\u001b[0m\u001b[1;31m:\u001b[0m expected an indented block\n"
     ]
    }
   ],
   "metadata": {}
  }
 ],
 "metadata": {
  "orig_nbformat": 4,
  "language_info": {
   "name": "python",
   "version": "3.9.6",
   "mimetype": "text/x-python",
   "codemirror_mode": {
    "name": "ipython",
    "version": 3
   },
   "pygments_lexer": "ipython3",
   "nbconvert_exporter": "python",
   "file_extension": ".py"
  },
  "kernelspec": {
   "name": "python3",
   "display_name": "Python 3.9.6 64-bit"
  },
  "interpreter": {
   "hash": "26686dec1f1c69e7843542045c9bcb01e7d61ef2953291481df04c12bb1a928f"
  }
 },
 "nbformat": 4,
 "nbformat_minor": 2
}