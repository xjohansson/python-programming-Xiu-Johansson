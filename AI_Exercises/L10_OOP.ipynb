{
 "cells": [
  {
   "cell_type": "code",
   "execution_count": null,
   "source": [
    "#class()\r\n",
    "# create a class using the class keyword\r\n",
    "# an object is instantiated from the class using the constructor\r\n",
    "# __init__() - \"dunder init\" is an initializer method which is called when the object is created\r\n",
    "\r\n",
    "# used for setting initial values of attributes, which are variables associated with an object\r\n",
    "# if not specified, Python will call a default __init__()\r\n",
    "# methods - functions bound to the class\r\n",
    "# self - when a method of an object is called, the object itself is passed into the self parameter\r\n",
    "# all methods have a self parameter"
   ],
   "outputs": [],
   "metadata": {}
  },
  {
   "cell_type": "code",
   "execution_count": 2,
   "source": [
    "class Antagning: # creates the class\r\n",
    "    # initializer - runs when instance of the class is created\r\n",
    "    def __init__(self, school, program, name, accept):\r\n",
    "        # assign the arguments to object attributes\r\n",
    "        self.school = school \r\n",
    "        self.program = program\r\n",
    "        self.name = name\r\n",
    "        self.accept = accept \r\n",
    "\r\n",
    "# note that the object is sent to the self parameter, so you only pass in 4 arguments and not 5\r\n",
    "person1 = Antagning(\"Cool school\", \"AI\", accept=True, name=\"Kokchun\") # constructor\r\n",
    "person2 = Antagning(\"Cooler school\", \"Data science\", accept=False, name = \"Xiu Johansson\") \r\n",
    "\r\n",
    "print(f\"person1: {person1}\") # an object of class Antagning() at a certain memory position\r\n",
    "print(f\"person2.program: {person2.program}\") # accesses an attribute of the object\r\n",
    "person2.program = \"UX\" # change an attribute\r\n",
    "print(f\"person2.program: {person2.program}\")\r\n",
    "\r\n",
    "# note that these are different as name are attributes of each object\r\n",
    "print(f\"person1.name: {person1.name}\")\r\n",
    "print(f\"person2.name: {person2.name}\")"
   ],
   "outputs": [
    {
     "output_type": "stream",
     "name": "stdout",
     "text": [
      "person1: <__main__.Antagning object at 0x0000024247B33DC0>\n",
      "person2.program: Data science\n",
      "person2.program: UX\n",
      "person1.name: Kokchun\n",
      "person2.name: Xiu Johansson\n"
     ]
    }
   ],
   "metadata": {}
  },
  {
   "cell_type": "code",
   "execution_count": null,
   "source": [
    "#\"Private attributes\"\r\n",
    "# all attributes in Python are public\r\n",
    "# by convention you can make an attribute private by using _ in front of it\r\n",
    "# people knowledgeable in Python knows not to change it outside of the class, however technically you can change a private attribute outside the class"
   ],
   "outputs": [],
   "metadata": {}
  },
  {
   "cell_type": "code",
   "execution_count": 3,
   "source": [
    "class OldCoinsStash:\r\n",
    "    def __init__(self, owner):\r\n",
    "        self.owner = owner\r\n",
    "\r\n",
    "        # these attributes are \"private\" - only allow to access them in the class\r\n",
    "        self._riksdaler = 0\r\n",
    "        self._skilling = 0\r\n",
    "\r\n",
    "    def deposit(self, riksdaler, skilling):\r\n",
    "        if riksdaler <= 0 or skilling <= 0:\r\n",
    "            raise ValueError(\r\n",
    "                f\"You try to deposit {riksdaler} riksdaler and {skilling} skilling. They have to be positive\")\r\n",
    "\r\n",
    "        self._riksdaler += riksdaler\r\n",
    "        self._skilling += skilling\r\n",
    "\r\n",
    "    def withdraw(self, riksdaler, skilling):\r\n",
    "        if riksdaler > self._riksdaler or skilling > self._skilling:\r\n",
    "            raise ValueError(\r\n",
    "                f\"You can't withdraw more than you have in your stash\")\r\n",
    "\r\n",
    "        self._riksdaler -= riksdaler\r\n",
    "        self._skilling -= skilling\r\n",
    "\r\n",
    "    def check_balance(self):\r\n",
    "        return f\"Coins in stash: {self._riksdaler} riksdaler, {self._skilling} skilling\"\r\n",
    "\r\n",
    "\r\n",
    "stash1 = OldCoinsStash(\"Gore Bord\")\r\n",
    "print(stash1.check_balance())\r\n",
    "\r\n",
    "try:\r\n",
    "    stash1.deposit(-5, 31)  # check if I can rob the stash\r\n",
    "except ValueError as err:\r\n",
    "    print(err)\r\n",
    "\r\n",
    "print(stash1.check_balance())\r\n",
    "stash1.deposit(50, 42)\r\n",
    "print(stash1.check_balance())\r\n",
    "\r\n",
    "try:\r\n",
    "    stash1.withdraw(500, 31)  # check if I can rob the stash again\r\n",
    "except ValueError as err:\r\n",
    "    print(err)\r\n",
    "\r\n",
    "print(stash1.check_balance())\r\n",
    "stash1.withdraw(25, 20)\r\n",
    "print(stash1.check_balance())\r\n",
    "\r\n",
    "# there are ways to rob the stash -> try and see if you can find them :)\r\n",
    "# then try to fix this bug (or feature ;) ?)"
   ],
   "outputs": [
    {
     "output_type": "stream",
     "name": "stdout",
     "text": [
      "Coins in stash: 0 riksdaler, 0 skilling\n",
      "You try to deposit -5 riksdaler and 31 skilling. They have to be positive\n",
      "Coins in stash: 0 riksdaler, 0 skilling\n",
      "Coins in stash: 50 riksdaler, 42 skilling\n",
      "You can't withdraw more than you have in your stash\n",
      "Coins in stash: 50 riksdaler, 42 skilling\n",
      "Coins in stash: 25 riksdaler, 22 skilling\n"
     ]
    }
   ],
   "metadata": {}
  },
  {
   "cell_type": "markdown",
   "source": [
    "# Docstring\r\n",
    "#docstring for documenting your class, use three quotes \"\"\" \"\"\" after class name"
   ],
   "metadata": {}
  },
  {
   "cell_type": "code",
   "execution_count": 4,
   "source": [
    "class Student:\r\n",
    "    \"\"\"Student class for representing students with name, age and active \"\"\"\r\n",
    "\r\n",
    "    def __init__(self, name: str, age: int, active: bool) -> None:\r\n",
    "        self._name = name # note no underscore 没有下划线\r\n",
    "        self.age = age\r\n",
    "        self.active = active\r\n",
    "\r\n",
    "    # read only property - only has a getter, no setter as we don't want to change the name\r\n",
    "    @property\r\n",
    "    def name(self) -> str:\r\n",
    "        \"\"\" Read-only property, can't set the name\"\"\"\r\n",
    "        return self._name # note underscore\r\n",
    "\r\n",
    "    @property\r\n",
    "    def age(self) -> float:\r\n",
    "        return self._age\r\n",
    "\r\n",
    "    @age.setter  # note the name must be same as under the property decorator 属性\r\n",
    "    def age(self, value: float) -> None:\r\n",
    "        \"\"\" Setter for for age with error handling\"\"\"\r\n",
    "        if not isinstance(value, (int, float)):\r\n",
    "            raise TypeError(\r\n",
    "                f\"Age must be either int or float not {type(value)}\")\r\n",
    "\r\n",
    "        if not (0 < value < 125):\r\n",
    "            raise ValueError(\"Your age must be between 1 and 124\")\r\n",
    "\r\n",
    "        self._age = value\r\n",
    "\r\n",
    "    def __repr__(self) -> str:\r\n",
    "        return f\"Student(name={self.name}, age={self.age}, active={self.active})\"\r\n",
    "\r\n",
    "\r\n",
    "s1 = Student(\"Gore Bord\", 55, True)\r\n",
    "try:\r\n",
    "    s1.name = \"Gure Burd\"  # can't set read-only properties\r\n",
    "except AttributeError as err:\r\n",
    "    print(err)\r\n",
    "\r\n",
    "print(s1.name)\r\n",
    "s1.age = 58\r\n",
    "\r\n",
    "print(Student)\r\n",
    "print(s1, \"\\n\")  # calls the __repr__ method\r\n",
    "\r\n",
    "students = [Student(\"Gore Bord\", 35, True), Student(\"Har Pon\", 22, False), Student(\"Yo Lo\", 12, False)]\r\n",
    "print(students)\r\n",
    "print(students[0].name)"
   ],
   "outputs": [
    {
     "output_type": "stream",
     "name": "stdout",
     "text": [
      "can't set attribute\n",
      "Gore Bord\n",
      "<class '__main__.Student'>\n",
      "Student(name=Gore Bord, age=58, active=True) \n",
      "\n",
      "[Student(name=Gore Bord, age=35, active=True), Student(name=Har Pon, age=22, active=False), Student(name=Yo Lo, age=12, active=False)]\n",
      "Gore Bord\n"
     ]
    }
   ],
   "metadata": {}
  },
  {
   "cell_type": "code",
   "execution_count": 1,
   "source": [
    "class Animal:\r\n",
    "\r\n",
    "    def eat(self):\r\n",
    "        print (\"%s 吃 \" %self.name)\r\n",
    "\r\n",
    "    def drink(self):\r\n",
    "        print( \"%s 喝 \" %self.name)\r\n",
    "\r\n",
    "    def shit(self):\r\n",
    "        print( \"%s 拉 \" %self.name)\r\n",
    "\r\n",
    "    def pee(self):\r\n",
    "        print (\"%s 撒 \" %self.name)\r\n",
    "\r\n",
    "\r\n",
    "class Cat(Animal):\r\n",
    "\r\n",
    "    def __init__(self, name):\r\n",
    "        self.name = name\r\n",
    "        self.breed=\"猫\"\r\n",
    "\r\n",
    "    def cry(self):\r\n",
    "        print ('喵喵叫')\r\n",
    "\r\n",
    "class Dog(Animal):\r\n",
    "    \r\n",
    "    def __init__(self, name):\r\n",
    "        self.name = name\r\n",
    "        self.breed = '狗'\r\n",
    "        \r\n",
    "    def cry(self):\r\n",
    "        print ('汪汪叫')\r\n",
    "        \r\n",
    "\r\n"
   ],
   "outputs": [],
   "metadata": {}
  },
  {
   "cell_type": "code",
   "execution_count": 36,
   "source": [
    "# 练习二：游戏人生程序\r\n",
    "#2:2、创建三个游戏场景，分别是：\r\n",
    "\r\n",
    "#草丛战斗，消耗200战斗力\r\n",
    "#自我修炼，增长100战斗力\r\n",
    "#多人游戏，消耗500\r\n",
    "\r\n",
    "class Person:\r\n",
    "\r\n",
    "     def __init__(self, na, gen, age, fig):\r\n",
    "         self.name = na\r\n",
    "         self.gender = gen\r\n",
    "         self.age = age\r\n",
    "         self.fight =fig\r\n",
    "\r\n",
    "     \r\n",
    "     def grassland(self):\r\n",
    "         \"\"\"注释：草丛战斗，消耗200战斗力\"\"\"\r\n",
    "\r\n",
    "         self.fight = self.fight - 200\r\n",
    "\r\n",
    "     def practice(self): \r\n",
    "         \"\"\"注释：自我修炼，增长100战斗力\"\"\"\r\n",
    " \r\n",
    "         self.fight = self.fight + 100\r\n",
    "\r\n",
    "     def incest(self): \r\n",
    "         \"\"\"注释：多人游戏，消耗500战斗力\"\"\"\r\n",
    "\r\n",
    "         self.fight = self.fight - 500\r\n",
    "\r\n",
    "     def detail(self): \r\n",
    "         \"\"\"注释：当前对象的详细情况\"\"\"\r\n",
    "\r\n",
    "         temp = \"姓名:%s ; 性别:%s ; 年龄:%s ; 战斗力:%s\" % (self.name, self.gender, self.age, self.fight)\r\n",
    "         print (temp)  \r\n",
    "\r\n",
    "\r\n",
    "\r\n",
    " #####################1、创建三个游戏人物，分别是：########################\r\n",
    "\r\n",
    " #苍井井，女，18，初始战斗力1000\r\n",
    " #东尼木木，男，20，初始战斗力1800\r\n",
    " #波多多，女，19，初始战斗力2500\r\n",
    "\r\n",
    "         cang = Person('苍井井', '女', 18, 1000) # 创建苍井井角色\r\n",
    "         dong = Person('东尼木木', '男', 20, 1800) # 创建东尼木木角色\r\n",
    "         bo = Person('波多多', '女', 19, 2500) # 创建波多多角色\r\n",
    "\r\n",
    "         cang.incest()  #苍井空参加一次多人游戏\r\n",
    "         dong.practice() #东尼木木自我修炼了一次\r\n",
    "         bo.grassland()  #波多多参加一次草丛战斗\r\n",
    "\r\n",
    "         print(\"-------------------------------------\") #输出当前所有人的详细情况\r\n",
    "         cang.detail()\r\n",
    "         dong.detail()\r\n",
    "         bo.detail()\r\n",
    "\r\n",
    "         print(\"------------------------------------------------\")\r\n",
    "         cang.incest() #苍井空又参加一次多人游戏\r\n",
    "         dong.incest() #东尼木木也参加了一个多人游戏\r\n",
    "         bo.practice() #波多多自我修炼了一次\r\n",
    "\r\n",
    "         #输出当前所有人的详细情况\r\n",
    "         cang.detail()\r\n",
    "         dong.detail()\r\n",
    "         bo.detail()\r\n",
    "\r\n"
   ],
   "outputs": [],
   "metadata": {}
  },
  {
   "cell_type": "markdown",
   "source": [
    "IndentationError: unexpected indent 缩进错误：意外缩进\r\n",
    "Missing parentheses  缺少括号\r\n",
    "Attribute Error 属性错误\r\n",
    "\r\n",
    "IndentationError: unindent does not match any outer indentation level 不匹配任何外部缩进级别\r\n"
   ],
   "metadata": {}
  },
  {
   "cell_type": "markdown",
   "source": [
    "# Inheritance in Python \r\n",
    "#  Inheritance is one of the three building blocks of object-oriented programming with polymorphism and encapsulation being the other two.\r\n",
    "# 继承是面向对象编程的三个构建块之一，另外两个是多态和封装。"
   ],
   "metadata": {}
  },
  {
   "cell_type": "code",
   "execution_count": 44,
   "source": [
    " # define a class Animal(parent classes) ,with three child classes cat,butterfly and fish\r\n",
    " # https://codezen.io/python-inheritance/\r\n",
    " class Animal:\r\n",
    "    \r\n",
    "     def __init__(self, name, category, age):\r\n",
    "        self.name = name\r\n",
    "        self.category = category\r\n",
    "        self.age = age\r\n",
    "    \r\n",
    "     def show_animal_details(self):\r\n",
    "        print(\"The name of animal is \", self.name) \r\n",
    "        print(\"The category of animal is \", self.category)  # 动物的类别是哺乳动物\r\n",
    "        print(\"The age of animal is \", self.age)\r\n",
    "\r\n",
    "\r\n",
    " class Cat(Animal):\r\n",
    "    \r\n",
    "     def __init__(self, name, category, age, paws): # paws爪子\r\n",
    "        super().__init__(name, category, age)\r\n",
    "        self.number_of_paws = paws\r\n",
    "        print(\"A cat has\", self.number_of_paws , \"paws\")   \r\n",
    "\r\n",
    "\r\n",
    " class Butterfly(Animal):\r\n",
    "    \r\n",
    "     def __init__(self, name, category, age, paws):\r\n",
    "        super().__init__(name, category, age)\r\n",
    "        self.number_of_wings = paws\r\n",
    "        print(\"A butterfly has\", self.number_of_wings, \"wings\") #翅膀数量\r\n",
    "        \r\n",
    " class Fish(Animal):\r\n",
    "    \r\n",
    "     def __init__(self, name, category, age, paws):\r\n",
    "        super().__init__(name, category, age)\r\n",
    "        self.number_of_fins = paws\r\n",
    "        print(\"A fish has\", self.number_of_fins, \"fins\") #鳍的数量\r\n",
    "        \r\n",
    " cat = Cat(\"cat\",\"mammal\",5, 4)\r\n",
    " cat.show_animal_details()"
   ],
   "outputs": [
    {
     "output_type": "stream",
     "name": "stdout",
     "text": [
      "A cat has 4 paws\n",
      "The name of animal is  cat\n",
      "The category of animal is  mammal\n",
      "The age of animal is  5\n"
     ]
    }
   ],
   "metadata": {}
  },
  {
   "cell_type": "code",
   "execution_count": 45,
   "source": [
    "fish = Fish(\"fish\",\"bony_fish\", 10, 4) #bony_fish=骨鱼\r\n",
    "fish.show_animal_details()\r\n",
    "butterfly = Butterfly(\"butterfly\",\"insect\", 10, 4)\r\n",
    "butterfly.show_animal_details()"
   ],
   "outputs": [
    {
     "output_type": "stream",
     "name": "stdout",
     "text": [
      "A fish has 4 fins\n",
      "The name of animal is  fish\n",
      "The category of animal is  bony_fish\n",
      "The age of animal is  10\n",
      "A butterfly has 4 wings\n",
      "The name of animal is  butterfly\n",
      "The category of animal is  insect\n",
      "The age of animal is  10\n"
     ]
    }
   ],
   "metadata": {}
  },
  {
   "cell_type": "code",
   "execution_count": 55,
   "source": [
    " class X:\r\n",
    "    \r\n",
    "    def print_text(self):\r\n",
    "        self.var = 10\r\n",
    "        print(\"This is parent class\")\r\n",
    "\r\n",
    " class Y(X):\r\n",
    "    pass\r\n",
    " x = X()\r\n",
    " x.print_text()\r\n",
    " print(x.var)"
   ],
   "outputs": [
    {
     "output_type": "stream",
     "name": "stdout",
     "text": [
      "This is parent class\n",
      "10\n"
     ]
    }
   ],
   "metadata": {}
  }
 ],
 "metadata": {
  "orig_nbformat": 4,
  "language_info": {
   "name": "python",
   "version": "3.9.6",
   "mimetype": "text/x-python",
   "codemirror_mode": {
    "name": "ipython",
    "version": 3
   },
   "pygments_lexer": "ipython3",
   "nbconvert_exporter": "python",
   "file_extension": ".py"
  },
  "kernelspec": {
   "name": "python3",
   "display_name": "Python 3.9.6 64-bit"
  },
  "interpreter": {
   "hash": "26686dec1f1c69e7843542045c9bcb01e7d61ef2953291481df04c12bb1a928f"
  }
 },
 "nbformat": 4,
 "nbformat_minor": 2
}