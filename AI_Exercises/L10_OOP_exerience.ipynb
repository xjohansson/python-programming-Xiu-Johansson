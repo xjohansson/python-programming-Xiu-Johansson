{
 "cells": [
  {
   "cell_type": "markdown",
   "source": [
    "# L10_OOP Object_oriented_programming   Python面向对象中  basic exericese"
   ],
   "metadata": {}
  },
  {
   "cell_type": "markdown",
   "source": [
    "# Qustion1. Unit conversion (*) 单位换算 "
   ],
   "metadata": {}
  },
  {
   "cell_type": "code",
   "execution_count": null,
   "source": [
    "#1. Unit conversion (*) 单位换算 \r\n",
    "#Create a class for converting US units to the metric system. It should have the following bound methods: \r\n",
    "# #创建一个用于将美制单位转换为公制单位的类。 它应该有以下绑定方法：\r\n",
    "\r\n",
    "__init__ (self, value)\r\n",
    "\r\n",
    "inch_to_cm(self) # 英寸到厘米\r\n",
    "\r\n",
    "foot_to_meters(self) #米\r\n",
    "\r\n",
    "pound_to_kg(self) #磅到公斤\r\n",
    "\r\n",
    "__repr__(self)\r\n",
    "\r\n",
    "\r\n",
    "#Make sure that value is the correct type and format, raise suitable exceptions in case it isn't. Make value into property with getter and setter. \r\n",
    "#Test your class manually by instantiating an object from it and test different methods. (*)\r\n",
    "\r\n",
    "# 确保值是正确的类型和格式，如果不是，则引发适当的异常。 使用 getter 和 setter 将值转化为属性。\r\n",
    "# 通过实例化一个对象来手动测试你的类并测试不同的方法。"
   ],
   "outputs": [],
   "metadata": {}
  },
  {
   "cell_type": "code",
   "execution_count": null,
   "source": [],
   "outputs": [],
   "metadata": {}
  },
  {
   "cell_type": "markdown",
   "source": [
    " # Qustion2. Person (*)"
   ],
   "metadata": {}
  },
  {
   "cell_type": "code",
   "execution_count": null,
   "source": [
    "# 2. Person (*)¶\r\n",
    "# Create a class named Person, with parameterized constructor 带有参数化的构造函数 with the following parameters:\r\n",
    "\r\n",
    "#name\r\n",
    "#age\r\n",
    "#email\r\n",
    "#Turn name, age, email into properties 属性 with following validations  in their setters:\r\n",
    "\r\n",
    "# name - must be string\r\n",
    "# age - must be number between 0 and 125\r\n",
    "# email - must include an @ sign\r\n",
    "# It should also have __repr__ method to represent the Person class in a neat way.以一种整洁的方式。\r\n",
    "\r\n",
    "# Also create a method say_hello() that prints\r\n",
    "\r\n",
    "# Hi, my name is ..., I am ... years old, my email address is ...\r\n"
   ],
   "outputs": [],
   "metadata": {}
  },
  {
   "cell_type": "code",
   "execution_count": null,
   "source": [
    "class Person:#create the class \r\n",
    "    def __init__(self, name: str, age: int,email:@ ) -> None:\r\n",
    "         self.name = name\r\n",
    "         self.age = age\r\n",
    "         self.email=email\r\n",
    "\r\n",
    "     def _repr_(self):\r\n",
    "         return(f\"Person(name='{self.name}',age='{self.age}',email='{self.email}')\")  \r\n",
    "         print(f\"Hi, my nme is name={self.name}, I am {self.age} years old , my email address is {self.email}\")\r\n",
    " p1=Person(\"Xiu\",35,xiu.johansson@hotmail.com)\r\n",
    " print(p1.name)\r\n",
    " print(p1.email)\r\n",
    " print(p1.age)\r\n"
   ],
   "outputs": [],
   "metadata": {}
  },
  {
   "cell_type": "markdown",
   "source": [
    "# Question3. Student and Teacher (*)"
   ],
   "metadata": {}
  },
  {
   "cell_type": "code",
   "execution_count": null,
   "source": [
    "#3. Student and Teacher (*)\r\n",
    "#Create two classes named Student and Teacher that inherits from Person.\r\n",
    "\r\n",
    "#The Student class shall have:\r\n",
    "\r\n",
    "       #study() method that prints out\r\n",
    "\r\n",
    "            #study...study...study...more study\r\n",
    "        #override say_hello() with the following message:\r\n",
    "\r\n",
    "       #Yo, I am a student, my name is ..., I am ... years old, my email address is ...\r\n",
    "\r\n",
    "\r\n",
    "#The Teacher class shall have:\r\n",
    "\r\n",
    "      #teach() method that prints out\r\n",
    "           #teach...teach...teach...more teaching\r\n",
    "\r\n",
    "# Instantiate a Teacher object and a Student object. Call\r\n",
    "\r\n",
    "      #teach() and say_hello() methods from your Teacher object.\r\n",
    "      #study() and say_hello() methods from your Student object."
   ],
   "outputs": [],
   "metadata": {}
  },
  {
   "cell_type": "markdown",
   "source": [
    "# Question4. Simple Travian (**)"
   ],
   "metadata": {}
  },
  {
   "cell_type": "code",
   "execution_count": null,
   "source": [
    "#4. Simple Travian (**)\r\n",
    "# Travian is a strategy game where you collect resources (lumber, clay, iron, crop) to build up a city and spawn troops to pillage and attack other villages. \r\n",
    "# （木材，粘土，铁，农作物）建立城市并产生军队来掠夺和攻击其他村庄。\r\n",
    "# Now we will use OOP to represent a very simple village. \r\n",
    "# It shall have at least these features:\r\n",
    "\r\n",
    "#4 fields\r\n",
    "        #1 crop\r\n",
    "        #1 clay\r\n",
    "        #1 lumber\r\n",
    "        # 1 iron\r\n",
    "#Each field produces 4 units of that resource per hour. Just need to represent it, no need to count the time.\r\n",
    "\r\n",
    "# Be able to add and subtract resources -> overload the plus and minus operators 加减运算符\r\n",
    "\r\n",
    "# There shall be a max capacity of 800 for each resource in the warehouse stocks\r\n",
    "\r\n",
    "#__repr__ method to represent the production rate and current stock.表示生产率和当前库存。\r\n",
    "# Use composition and/or inheritance in a strategic way.组合和/或继承。\r\n",
    "# Feel free to go beyond and implement more features."
   ],
   "outputs": [],
   "metadata": {}
  },
  {
   "cell_type": "code",
   "execution_count": 18,
   "source": [
    "class Employee:\r\n",
    "   empCount = 0\r\n",
    "    #例如empCount就是类变量\r\n",
    "   def __init__(self, name, salary):\r\n",
    "      self.name = name\r\n",
    "      self.salary = salary\r\n",
    "      Employee.empCount += 1"
   ],
   "outputs": [],
   "metadata": {}
  },
  {
   "cell_type": "code",
   "execution_count": 19,
   "source": [
    "class Parent:        # 定义父类\r\n",
    "   def myMethod(self):\r\n",
    "      print ('调用父类方法')\r\n",
    " \r\n",
    "class Child(Parent): # 定义子类\r\n",
    "   def myMethod(self):\r\n",
    "      print ('调用子类方法')\r\n",
    " \r\n",
    "c = Child()          # 子类实例\r\n",
    "c.myMethod()         # 子类调用重写方法"
   ],
   "outputs": [
    {
     "output_type": "stream",
     "name": "stdout",
     "text": [
      "调用子类方法\n"
     ]
    }
   ],
   "metadata": {}
  },
  {
   "cell_type": "markdown",
   "source": [
    "# Python 类中的super用法"
   ],
   "metadata": {}
  },
  {
   "cell_type": "code",
   "execution_count": 20,
   "source": [
    "# Python 类中的super用法\r\n",
    "# 1.单继承时super()和init()实现的功能是类似的\r\n",
    "class Base(object):\r\n",
    "    def __init__(self):\r\n",
    "        print ('Base create')\r\n",
    "\r\n",
    "class childA(Base):\r\n",
    "    def __init__(self):\r\n",
    "        print ('creat A '),\r\n",
    "        Base.__init__(self)\r\n",
    "\r\n",
    "\r\n",
    "class childB(Base):\r\n",
    "    def __init__(self):\r\n",
    "        print ('creat B '),\r\n",
    "        super(childB, self).__init__()\r\n",
    "\r\n",
    "base = Base()\r\n",
    "a = childA()\r\n",
    "b = childB()"
   ],
   "outputs": [
    {
     "output_type": "stream",
     "name": "stdout",
     "text": [
      "Base create\n",
      "creat A \n",
      "Base create\n",
      "creat B \n",
      "Base create\n"
     ]
    }
   ],
   "metadata": {}
  },
  {
   "cell_type": "code",
   "execution_count": 21,
   "source": [
    "# Python 3 可以使用直接使用 super().xxx 代替 super(Class, self).xxx :\r\n",
    "# 默认，Python 3\r\n",
    "class B(A):\r\n",
    "  def add(self, x):\r\n",
    "      super().add(x)\r\n",
    "\r\n",
    "# Python 2\r\n",
    "class B(A):\r\n",
    "  def add(self, x):\r\n",
    "      super(B, self).add(x)"
   ],
   "outputs": [
    {
     "output_type": "error",
     "ename": "NameError",
     "evalue": "name 'A' is not defined",
     "traceback": [
      "\u001b[1;31m---------------------------------------------------------------------------\u001b[0m",
      "\u001b[1;31mNameError\u001b[0m                                 Traceback (most recent call last)",
      "\u001b[1;32m~\\AppData\\Local\\Temp/ipykernel_19420/1968730182.py\u001b[0m in \u001b[0;36m<module>\u001b[1;34m\u001b[0m\n\u001b[0;32m      1\u001b[0m \u001b[1;31m# Python 3 可以使用直接使用 super().xxx 代替 super(Class, self).xxx :\u001b[0m\u001b[1;33m\u001b[0m\u001b[1;33m\u001b[0m\u001b[1;33m\u001b[0m\u001b[0m\n\u001b[0;32m      2\u001b[0m \u001b[1;31m# 默认，Python 3\u001b[0m\u001b[1;33m\u001b[0m\u001b[1;33m\u001b[0m\u001b[1;33m\u001b[0m\u001b[0m\n\u001b[1;32m----> 3\u001b[1;33m \u001b[1;32mclass\u001b[0m \u001b[0mB\u001b[0m\u001b[1;33m(\u001b[0m\u001b[0mA\u001b[0m\u001b[1;33m)\u001b[0m\u001b[1;33m:\u001b[0m\u001b[1;33m\u001b[0m\u001b[1;33m\u001b[0m\u001b[0m\n\u001b[0m\u001b[0;32m      4\u001b[0m   \u001b[1;32mdef\u001b[0m \u001b[0madd\u001b[0m\u001b[1;33m(\u001b[0m\u001b[0mself\u001b[0m\u001b[1;33m,\u001b[0m \u001b[0mx\u001b[0m\u001b[1;33m)\u001b[0m\u001b[1;33m:\u001b[0m\u001b[1;33m\u001b[0m\u001b[1;33m\u001b[0m\u001b[0m\n\u001b[0;32m      5\u001b[0m       \u001b[0msuper\u001b[0m\u001b[1;33m(\u001b[0m\u001b[1;33m)\u001b[0m\u001b[1;33m.\u001b[0m\u001b[0madd\u001b[0m\u001b[1;33m(\u001b[0m\u001b[0mx\u001b[0m\u001b[1;33m)\u001b[0m\u001b[1;33m\u001b[0m\u001b[1;33m\u001b[0m\u001b[0m\n",
      "\u001b[1;31mNameError\u001b[0m: name 'A' is not defined"
     ]
    }
   ],
   "metadata": {}
  },
  {
   "cell_type": "markdown",
   "source": [
    "# super的继承顺序"
   ],
   "metadata": {}
  },
  {
   "cell_type": "code",
   "execution_count": 22,
   "source": [
    "# super的继承顺序\r\n",
    "class A:\r\n",
    "    def __init__(self):\r\n",
    "        self.n = 2\r\n",
    "\r\n",
    "    def add(self, m):\r\n",
    "        print('self is {0} @A.add'.format(self))\r\n",
    "        self.n += m\r\n",
    "\r\n",
    "class B(A):\r\n",
    "    def __init__(self):\r\n",
    "        self.n = 3\r\n",
    "\r\n",
    "    def add(self, m):\r\n",
    "        print('self is {0} @B.add'.format(self))\r\n",
    "        super().add(m)\r\n",
    "        self.n += 3\r\n",
    "\r\n",
    "class C(A):\r\n",
    "    def __init__(self):\r\n",
    "        self.n = 4\r\n",
    "\r\n",
    "    def add(self, m):\r\n",
    "        print('self is {0} @C.add'.format(self))\r\n",
    "        super().add(m)\r\n",
    "        self.n += 4\r\n",
    "\r\n",
    "class D(B, C):\r\n",
    "    def __init__(self):\r\n",
    "        self.n = 5\r\n",
    "\r\n",
    "    def add(self, m):\r\n",
    "        print('self is {0} @D.add'.format(self))\r\n",
    "        super().add(m)\r\n",
    "        self.n += 5\r\n",
    "\r\n",
    "#下列代码输出什么结果呢\r\n",
    "d = D()\r\n",
    "d.add(2)\r\n",
    "print(d.n)"
   ],
   "outputs": [
    {
     "output_type": "stream",
     "name": "stdout",
     "text": [
      "self is <__main__.D object at 0x0000021CE1765100> @D.add\n",
      "self is <__main__.D object at 0x0000021CE1765100> @B.add\n",
      "self is <__main__.D object at 0x0000021CE1765100> @C.add\n",
      "self is <__main__.D object at 0x0000021CE1765100> @A.add\n",
      "19\n"
     ]
    }
   ],
   "metadata": {}
  },
  {
   "cell_type": "code",
   "execution_count": 9,
   "source": [
    "1.调用D，print('self is {0} @D.add'.format(self))\r\n",
    "2.执行到super，调用B，执行print('self is {0} @B.add'.format(self))\r\n",
    "  执行到super，调用C\r\n",
    "3.执行print('self is {0} @C.add'.format(self))\r\n",
    "  执行到super，调用A\r\n",
    "  print('self is {0} @A.add'.format(self))\r\n",
    "  self.n+=2,now self.n=7\r\n",
    "4.回到C,self.n+=4,now self.n=11\r\n",
    "5.回到B，self.n+=3,now self.n=14\r\n",
    "6.回到D，self.n+=5,now self.n=19"
   ],
   "outputs": [
    {
     "output_type": "error",
     "ename": "SyntaxError",
     "evalue": "invalid character '，' (U+FF0C) (Temp/ipykernel_4656/235507016.py, line 1)",
     "traceback": [
      "\u001b[1;36m  File \u001b[1;32m\"C:\\Users\\Xiu\\AppData\\Local\\Temp/ipykernel_4656/235507016.py\"\u001b[1;36m, line \u001b[1;32m1\u001b[0m\n\u001b[1;33m    1.调用D，print('self is {0} @D.add'.format(self))\u001b[0m\n\u001b[1;37m         ^\u001b[0m\n\u001b[1;31mSyntaxError\u001b[0m\u001b[1;31m:\u001b[0m invalid character '，' (U+FF0C)\n"
     ]
    }
   ],
   "metadata": {}
  },
  {
   "cell_type": "code",
   "execution_count": 20,
   "source": [
    "# python 中动态创建类的方法.\r\n",
    "\r\n",
    "def echo_msg(self):\r\n",
    "    print (self.msg)\r\n",
    "\r\n",
    "print ( '===dynamic create class==='+ '*'*50)\r\n",
    "MyClass = type('MyClass',(object,),{\"a\":123,\"b\":\"summer\",\"msg\":\"test message\",\"echo_msg\":echo_msg})\r\n",
    "print (MyClass.a)\r\n",
    "myclass = MyClass()\r\n",
    "myclass.echo_msg()\r\n",
    "print (myclass.a,myclass.b)\r\n",
    "\r\n",
    "print ('===dynamic create subclass==='+ '*'*50)\r\n",
    "\r\n",
    "MySubClass = type('MySubClass',(MyClass,),{\"c\":\"c-value\"})\r\n",
    "print (MySubClass.c,MySubClass.a,MySubClass.b)\r\n",
    "print (issubclass(MySubClass, MyClass))\r\n",
    "mysubclass = MySubClass()\r\n",
    "mysubclass.echo_msg()\r\n"
   ],
   "outputs": [
    {
     "output_type": "stream",
     "name": "stdout",
     "text": [
      "===dynamic create class===**************************************************\n",
      "123\n",
      "test message\n",
      "123 summer\n",
      "===dynamic create subclass===**************************************************\n",
      "c-value 123 summer\n",
      "True\n",
      "test message\n"
     ]
    }
   ],
   "metadata": {}
  },
  {
   "cell_type": "code",
   "execution_count": 30,
   "source": [
    "class Fish():\r\n",
    "\r\n",
    "     def __init__(self):\r\n",
    "\r\n",
    "         print(\"鱼都生活在水里。\")\r\n",
    "\r\n",
    "     def weight(self,weight):\r\n",
    "\r\n",
    "         print(\"鱼的重量:{}\".format(weight))\r\n",
    "\r\n",
    "xiaoming = Fish()\r\n",
    "\r\n",
    "#xiaoming.weight(100)"
   ],
   "outputs": [
    {
     "output_type": "stream",
     "name": "stdout",
     "text": [
      "鱼都生活在水里。\n"
     ]
    }
   ],
   "metadata": {}
  },
  {
   "cell_type": "code",
   "execution_count": 32,
   "source": [
    "class Fish():\r\n",
    "\r\n",
    "     def __init__(self):\r\n",
    "\r\n",
    "         print(\"鱼都生活在水里。\")\r\n",
    "\r\n",
    "     def weight(self,weight):\r\n",
    "\r\n",
    "         print(\"鱼的重量:{}\".format(weight))\r\n",
    "\r\n",
    "\r\n",
    "class caoyu(Fish):\r\n",
    "\r\n",
    "     pass\r\n",
    "\r\n",
    "xiaoli = caoyu() "
   ],
   "outputs": [
    {
     "output_type": "error",
     "ename": "IndentationError",
     "evalue": "expected an indented block (Temp/ipykernel_4656/2119217799.py, line 14)",
     "traceback": [
      "\u001b[1;36m  File \u001b[1;32m\"C:\\Users\\Xiu\\AppData\\Local\\Temp/ipykernel_4656/2119217799.py\"\u001b[1;36m, line \u001b[1;32m14\u001b[0m\n\u001b[1;33m    pass\u001b[0m\n\u001b[1;37m    ^\u001b[0m\n\u001b[1;31mIndentationError\u001b[0m\u001b[1;31m:\u001b[0m expected an indented block\n"
     ]
    }
   ],
   "metadata": {}
  },
  {
   "cell_type": "code",
   "execution_count": 33,
   "source": [
    "#创建了Fish() 鱼 类，突然觉得这个类包括的鱼太多了，那我们再来一个细分，即从Fish() 这个父类的基础之上，创建一个子类。\r\n",
    "# 子类继承了父类的一些属性，比如鱼都生活在水里，但又具有自己独有的特征，即属性。\r\n",
    "# 我们通过 class caoyu(Fish)定义了Fish父类下的caoyu(草鱼)子类。\r\n",
    "\r\n",
    "class Fish():\r\n",
    "\r\n",
    "      def __init__(self):\r\n",
    "\r\n",
    "          print(\"鱼都生活在水里。\")\r\n",
    "\r\n",
    "      def weight(self,weight):\r\n",
    "\r\n",
    "          print(\"鱼的重量:{}\".format(weight))\r\n",
    "\r\n",
    "\r\n",
    "class caoyu(Fish):\r\n",
    "\r\n",
    "     def __init__(self):\r\n",
    "\r\n",
    "         print(\"鱼类都有鳃。但不会得腮腺炎。\")\r\n",
    "\r\n",
    "xiaoli = caoyu()\r\n",
    "# 输出结果：鱼都生活在水里。\r\n"
   ],
   "outputs": [
    {
     "output_type": "stream",
     "name": "stdout",
     "text": [
      "鱼类都有鳃。但不会得腮腺炎。\n"
     ]
    }
   ],
   "metadata": {}
  },
  {
   "cell_type": "code",
   "execution_count": 34,
   "source": [
    "class Fish():\r\n",
    "    pass\r\n",
    "xiaoming=Fish()"
   ],
   "outputs": [],
   "metadata": {}
  },
  {
   "cell_type": "code",
   "execution_count": 17,
   "source": [
    "class Turtle():  #定义乌龟类\r\n",
    "  def __init__(self,x):\r\n",
    "     self.num = x\r\n",
    "\r\n",
    "class Fish():  #定义鱼类\r\n",
    "  def __init__(self,y):\r\n",
    "     self.num = y\r\n",
    "\r\n",
    "class Pool():   #定义水池类\r\n",
    "  def __init__(self,x,y):\r\n",
    "     self.turtle = Turtle(x)  #直接把需要的类在这里实例化就行了，组合实现\r\n",
    "     self.fish = Fish(y)\r\n",
    "  def print_num(self):\r\n",
    "      print(\"水池中总共有乌龟%d只，小鱼%r条。\"%(self.turtle.num,self.fish.num)\r\n"
   ],
   "outputs": [
    {
     "output_type": "error",
     "ename": "SyntaxError",
     "evalue": "unexpected EOF while parsing (Temp/ipykernel_19420/3675734668.py, line 15)",
     "traceback": [
      "\u001b[1;36m  File \u001b[1;32m\"C:\\Users\\Xiu\\AppData\\Local\\Temp/ipykernel_19420/3675734668.py\"\u001b[1;36m, line \u001b[1;32m15\u001b[0m\n\u001b[1;33m    \u001b[0m\n\u001b[1;37m    ^\u001b[0m\n\u001b[1;31mSyntaxError\u001b[0m\u001b[1;31m:\u001b[0m unexpected EOF while parsing\n"
     ]
    }
   ],
   "metadata": {}
  },
  {
   "cell_type": "code",
   "execution_count": 53,
   "source": [
    "#https://www.jb51.net/article/152398.htm\r\n",
    "#super()函数：解决了子类就算重写父类方法或属性仍然可以继续使用父类的方法和属性。\r\n",
    "\r\n",
    "import random as r\r\n",
    "#利用继承演示鱼游动方向位置。\r\n",
    "\r\n",
    "class Fish():  #父类\r\n",
    "  def __init__(self):\r\n",
    "    self.x =r.randint(0,10)\r\n",
    "    self.y =r.randint(0,10)\r\n",
    "  def move(self):\r\n",
    "    self.x -=1  #一直向西移动\r\n",
    "    print(\"我的位置是：\",self.x,self.y)\r\n",
    "\r\n",
    "class Goldfish(Fish): #子类\r\n",
    "  pass\r\n",
    "class Carp(Fish):   #子类\r\n",
    "  pass\r\n",
    "class Salmon(Fish):  #子类\r\n",
    "  pass\r\n",
    "class Shark(Fish):\r\n",
    "  def __init__(self):  #这里重写了__init__方法，就会覆盖掉父类的方法了，用到super函数后就可以继续使用父类的方法。\r\n",
    "  #super函数不用给定任何基类的名字(如下)，它会一层层找出代码所有父类里面对应的方法，要改变该类的继承关系时只需修改这个类的父类就行就是括号里面的Fish。\r\n",
    "    super().__init__() #super().重写的属性或方法\r\n",
    "    self.hungry = True\r\n",
    "    \r\n",
    "  def eat(self):\r\n",
    "    if self.hungry:\r\n",
    "      print(\"我要吃了。。。\")\r\n",
    "      self.hungry = False\r\n",
    "    else:\r\n",
    "      print('好饱了。。。')"
   ],
   "outputs": [],
   "metadata": {}
  },
  {
   "cell_type": "code",
   "execution_count": 56,
   "source": [
    "f=Fish()\r\n",
    "f.move()"
   ],
   "outputs": [
    {
     "output_type": "stream",
     "name": "stdout",
     "text": [
      "我的位置是： 7 3\n"
     ]
    }
   ],
   "metadata": {}
  },
  {
   "cell_type": "code",
   "execution_count": 57,
   "source": [
    "f.move()"
   ],
   "outputs": [
    {
     "output_type": "stream",
     "name": "stdout",
     "text": [
      "我的位置是： 6 3\n"
     ]
    }
   ],
   "metadata": {}
  },
  {
   "cell_type": "code",
   "execution_count": 59,
   "source": [
    "g=Goldfish()\r\n",
    "g.move()"
   ],
   "outputs": [
    {
     "output_type": "stream",
     "name": "stdout",
     "text": [
      "我的位置是： 9 7\n"
     ]
    }
   ],
   "metadata": {}
  },
  {
   "cell_type": "code",
   "execution_count": 60,
   "source": [
    "s=Salmon()\r\n",
    "s.move()"
   ],
   "outputs": [
    {
     "output_type": "stream",
     "name": "stdout",
     "text": [
      "我的位置是： 9 3\n"
     ]
    }
   ],
   "metadata": {}
  },
  {
   "cell_type": "code",
   "execution_count": 61,
   "source": [
    "sh=Shark()\r\n",
    "sh.eat()"
   ],
   "outputs": [
    {
     "output_type": "stream",
     "name": "stdout",
     "text": [
      "我要吃了。。。\n"
     ]
    }
   ],
   "metadata": {}
  },
  {
   "cell_type": "code",
   "execution_count": 62,
   "source": [
    "sh.eat()"
   ],
   "outputs": [
    {
     "output_type": "stream",
     "name": "stdout",
     "text": [
      "好饱了。。。\n"
     ]
    }
   ],
   "metadata": {}
  },
  {
   "cell_type": "code",
   "execution_count": 63,
   "source": [
    "sh.move()"
   ],
   "outputs": [
    {
     "output_type": "stream",
     "name": "stdout",
     "text": [
      "我的位置是： 4 0\n"
     ]
    }
   ],
   "metadata": {}
  },
  {
   "cell_type": "code",
   "execution_count": 16,
   "source": [
    "class Ball():\r\n",
    "    def setname(self,name):\r\n",
    "       self.name=name\r\n",
    "    def kick (self):\r\n",
    "       print(\"我叫%r,谁踢我\"%self.name)\r\n",
    "\r\n",
    "a=Ball()  #实例化生成a对象\r\n",
    "a.setname('a')  #调用方法设名为a\r\n",
    "b=Ball()\r\n",
    "b.setname('b')\r\n",
    "c=Ball()\r\n",
    "c.setname(\"c\")\r\n",
    "\r\n",
    "a.kick ()  #通过self知道是哪个对象调用kick方法 ,#output 我叫'a',谁踢我\r\n",
    "b.kick()    #output 我叫'b',谁踢我"
   ],
   "outputs": [
    {
     "output_type": "stream",
     "name": "stdout",
     "text": [
      "我叫'a',谁踢我\n",
      "我叫'b',谁踢我\n"
     ]
    }
   ],
   "metadata": {}
  },
  {
   "cell_type": "code",
   "execution_count": 15,
   "source": [
    "class Turtle:#python 中类名约定以大写字母开头  #Turtle龟\r\n",
    "  '''关于类的简单例子。。。'''\r\n",
    "  #属性 == 类变量\r\n",
    "  color =\"green\"\r\n",
    "  weight=\"10kg\"\r\n",
    "  legs=4\r\n",
    "  shell=True\r\n",
    "  mouth='big'\r\n",
    "  # 乌龟颜色绿色，体重10公斤，4条腿，有贝壳，嘴很大\r\n",
    "  \r\n",
    "  #方法\r\n",
    "  def climb(self):\r\n",
    "    self.name = \"test\"  #实例变量：定义在方法中的变量，只作用于当前实例的类。\r\n",
    "    print(\"我在很努力爬。\")\r\n",
    "  def run(self):\r\n",
    "    print('我在很努力跑。')\r\n",
    "  def bite(self):\r\n",
    "    print('我咬咬咬')\r\n",
    "  def sleep(self):\r\n",
    "    print('我要睡觉啦。')\r\n",
    "#创建一个实例对象也就是类的实例化！\r\n",
    "tt =Turtle() #类的实例化，也就是创建一个对象，类名约定大写字母开头\r\n",
    "tt.bite() #创建好类后就能调用类里面的方法叻；\r\n",
    "tt.sleep()"
   ],
   "outputs": [
    {
     "output_type": "stream",
     "name": "stdout",
     "text": [
      "我咬咬咬\n",
      "我要睡觉啦。\n"
     ]
    }
   ],
   "metadata": {}
  },
  {
   "cell_type": "code",
   "execution_count": 13,
   "source": [
    "class Iths_school:\r\n",
    "  def __init__(self, name,age,gender):\r\n",
    "      self.student_name = name\r\n",
    "      self.student_age = age\r\n",
    "      self.student_gender=female/male\r\n",
    "\r\n",
    "  class AI_class(Iths_school):\r\n",
    "        print(\"Student name is \" + student.name +student.age )\r\n",
    "\r\n",
    "p1 = AI_class (\"Xiu Zhang\")\r\n",
    "p1.students ()"
   ],
   "outputs": [
    {
     "output_type": "error",
     "ename": "NameError",
     "evalue": "name 'Iths_school' is not defined",
     "traceback": [
      "\u001b[1;31m---------------------------------------------------------------------------\u001b[0m",
      "\u001b[1;31mNameError\u001b[0m                                 Traceback (most recent call last)",
      "\u001b[1;32m~\\AppData\\Local\\Temp/ipykernel_19420/2343048190.py\u001b[0m in \u001b[0;36m<module>\u001b[1;34m\u001b[0m\n\u001b[1;32m----> 1\u001b[1;33m \u001b[1;32mclass\u001b[0m \u001b[0mIths_school\u001b[0m\u001b[1;33m:\u001b[0m\u001b[1;33m\u001b[0m\u001b[1;33m\u001b[0m\u001b[0m\n\u001b[0m\u001b[0;32m      2\u001b[0m   \u001b[1;32mdef\u001b[0m \u001b[0m__init__\u001b[0m\u001b[1;33m(\u001b[0m\u001b[0mself\u001b[0m\u001b[1;33m,\u001b[0m \u001b[0mname\u001b[0m\u001b[1;33m,\u001b[0m\u001b[0mage\u001b[0m\u001b[1;33m,\u001b[0m\u001b[0mgender\u001b[0m\u001b[1;33m)\u001b[0m\u001b[1;33m:\u001b[0m\u001b[1;33m\u001b[0m\u001b[1;33m\u001b[0m\u001b[0m\n\u001b[0;32m      3\u001b[0m       \u001b[0mself\u001b[0m\u001b[1;33m.\u001b[0m\u001b[0mstudent_name\u001b[0m \u001b[1;33m=\u001b[0m \u001b[0mname\u001b[0m\u001b[1;33m\u001b[0m\u001b[1;33m\u001b[0m\u001b[0m\n\u001b[0;32m      4\u001b[0m       \u001b[0mself\u001b[0m\u001b[1;33m.\u001b[0m\u001b[0mstudent_age\u001b[0m \u001b[1;33m=\u001b[0m \u001b[0mage\u001b[0m\u001b[1;33m\u001b[0m\u001b[1;33m\u001b[0m\u001b[0m\n\u001b[0;32m      5\u001b[0m       \u001b[0mself\u001b[0m\u001b[1;33m.\u001b[0m\u001b[0mstudent_gender\u001b[0m\u001b[1;33m=\u001b[0m\u001b[0mfemale\u001b[0m\u001b[1;33m/\u001b[0m\u001b[0mmale\u001b[0m\u001b[1;33m\u001b[0m\u001b[1;33m\u001b[0m\u001b[0m\n",
      "\u001b[1;32m~\\AppData\\Local\\Temp/ipykernel_19420/2343048190.py\u001b[0m in \u001b[0;36mIths_school\u001b[1;34m()\u001b[0m\n\u001b[0;32m      5\u001b[0m       \u001b[0mself\u001b[0m\u001b[1;33m.\u001b[0m\u001b[0mstudent_gender\u001b[0m\u001b[1;33m=\u001b[0m\u001b[0mfemale\u001b[0m\u001b[1;33m/\u001b[0m\u001b[0mmale\u001b[0m\u001b[1;33m\u001b[0m\u001b[1;33m\u001b[0m\u001b[0m\n\u001b[0;32m      6\u001b[0m \u001b[1;33m\u001b[0m\u001b[0m\n\u001b[1;32m----> 7\u001b[1;33m   \u001b[1;32mclass\u001b[0m \u001b[0mAI_class\u001b[0m\u001b[1;33m(\u001b[0m\u001b[0mIths_school\u001b[0m\u001b[1;33m)\u001b[0m\u001b[1;33m:\u001b[0m\u001b[1;33m\u001b[0m\u001b[1;33m\u001b[0m\u001b[0m\n\u001b[0m\u001b[0;32m      8\u001b[0m         \u001b[0mprint\u001b[0m\u001b[1;33m(\u001b[0m\u001b[1;34m\"Student name is \"\u001b[0m \u001b[1;33m+\u001b[0m \u001b[0mstudent\u001b[0m\u001b[1;33m.\u001b[0m\u001b[0mname\u001b[0m \u001b[1;33m+\u001b[0m\u001b[0mstudent\u001b[0m\u001b[1;33m.\u001b[0m\u001b[0mage\u001b[0m \u001b[1;33m)\u001b[0m\u001b[1;33m\u001b[0m\u001b[1;33m\u001b[0m\u001b[0m\n\u001b[0;32m      9\u001b[0m \u001b[1;33m\u001b[0m\u001b[0m\n",
      "\u001b[1;31mNameError\u001b[0m: name 'Iths_school' is not defined"
     ]
    }
   ],
   "metadata": {}
  },
  {
   "cell_type": "code",
   "execution_count": null,
   "source": [
    "# Modify object properties 修改object 属性\r\n",
    "# modify properties on objects like this:\r\n",
    "p1.student_name= (\"Xiu Zhang Johansson\")\r\n",
    "\r\n",
    "# Delete Object Properties\r\n",
    "# delete properties on objects by using the del keyword:\r\n",
    "del p1.student_name\r\n",
    "\r\n",
    "# Delete Objects\r\n",
    "del p1"
   ],
   "outputs": [],
   "metadata": {}
  },
  {
   "cell_type": "code",
   "execution_count": null,
   "source": [
    "# the pass statement\r\n",
    "# class definitions cannot be empty, 类定义不能为空，\r\n",
    "# but if you for some reason have a class definition with no content, put in the pass statement to avoid getting an error.\r\n",
    "#但如果由于某种原因你有一个没有内容的类定义，请放入 pass 语句以避免出错。\r\n",
    "\r\n",
    "class student_intyg:\r\n",
    "    pass"
   ],
   "outputs": [],
   "metadata": {}
  },
  {
   "cell_type": "markdown",
   "source": [
    "# Animal 类 猫狗"
   ],
   "metadata": {}
  },
  {
   "cell_type": "code",
   "execution_count": 12,
   "source": [
    "class Animal:\r\n",
    "\r\n",
    "    def eat(self):\r\n",
    "        print (\"%s 吃 \" %self.name)\r\n",
    "\r\n",
    "    def drink(self):\r\n",
    "        print( \"%s 喝 \" %self.name)\r\n",
    "\r\n",
    "    def shit(self):\r\n",
    "        print( \"%s 拉 \" %self.name)\r\n",
    "\r\n",
    "    def pee(self):\r\n",
    "        print (\"%s 撒 \" %self.name)\r\n",
    "\r\n",
    "\r\n",
    "class Cat(Animal):\r\n",
    "\r\n",
    "    def __init__(self, name):\r\n",
    "        self.name = name\r\n",
    "        self.breed=\"猫\"\r\n",
    "\r\n",
    "    def cry(self):\r\n",
    "        print ('喵喵叫')\r\n",
    "\r\n",
    "class Dog(Animal):\r\n",
    "    \r\n",
    "    def __init__(self, name):\r\n",
    "        self.name = name\r\n",
    "        self.breed = '狗'\r\n",
    "        \r\n",
    "    def cry(self):\r\n",
    "        print ('汪汪叫')"
   ],
   "outputs": [],
   "metadata": {}
  },
  {
   "cell_type": "markdown",
   "source": [
    "# 练习二：游戏人生程序 2:2、创建三个游戏场景，分别是："
   ],
   "metadata": {}
  },
  {
   "cell_type": "code",
   "execution_count": 11,
   "source": [
    "# 练习二：游戏人生程序 2:2、创建三个游戏场景，分别是：\r\n",
    "\r\n",
    "#草丛战斗，消耗200战斗力\r\n",
    "#自我修炼，增长100战斗力\r\n",
    "#多人游戏，消耗500\r\n",
    "\r\n",
    "class Person:\r\n",
    "\r\n",
    "     def __init__(self, na, gen, age, fig):\r\n",
    "         self.name = na\r\n",
    "         self.gender = gen\r\n",
    "         self.age = age\r\n",
    "         self.fight =fig\r\n",
    "\r\n",
    "     \r\n",
    "     def grassland(self):\r\n",
    "         \"\"\"注释：草丛战斗，消耗200战斗力\"\"\"\r\n",
    "\r\n",
    "         self.fight = self.fight - 200\r\n",
    "\r\n",
    "     def practice(self): \r\n",
    "         \"\"\"注释：自我修炼，增长100战斗力\"\"\"\r\n",
    " \r\n",
    "         self.fight = self.fight + 100\r\n",
    "\r\n",
    "     def incest(self): \r\n",
    "         \"\"\"注释：多人游戏，消耗500战斗力\"\"\"\r\n",
    "\r\n",
    "         self.fight = self.fight - 500\r\n",
    "\r\n",
    "     def detail(self): \r\n",
    "         \"\"\"注释：当前对象的详细情况\"\"\"\r\n",
    "\r\n",
    "         temp = \"姓名:%s ; 性别:%s ; 年龄:%s ; 战斗力:%s\" % (self.name, self.gender, self.age, self.fight)\r\n",
    "         print (temp)  \r\n",
    "\r\n",
    "\r\n",
    "\r\n",
    " #####################1、创建三个游戏人物，分别是：########################\r\n",
    "\r\n",
    " #苍井井，女，18，初始战斗力1000\r\n",
    " #东尼木木，男，20，初始战斗力1800\r\n",
    " #波多多，女，19，初始战斗力2500\r\n",
    "\r\n",
    "         cang = Person('苍井井', '女', 18, 1000) # 创建苍井井角色\r\n",
    "         dong = Person('东尼木木', '男', 20, 1800) # 创建东尼木木角色\r\n",
    "         bo = Person('波多多', '女', 19, 2500) # 创建波多多角色\r\n",
    "\r\n",
    "         cang.incest()  #苍井空参加一次多人游戏\r\n",
    "         dong.practice() #东尼木木自我修炼了一次\r\n",
    "         bo.grassland()  #波多多参加一次草丛战斗\r\n",
    "\r\n",
    "         print(\"-------------------------------------\") #输出当前所有人的详细情况\r\n",
    "         cang.detail()\r\n",
    "         dong.detail()\r\n",
    "         bo.detail()\r\n",
    "\r\n",
    "         print(\"------------------------------------------------\")\r\n",
    "         cang.incest() #苍井空又参加一次多人游戏\r\n",
    "         dong.incest() #东尼木木也参加了一个多人游戏\r\n",
    "         bo.practice() #波多多自我修炼了一次\r\n",
    "\r\n",
    "         #输出当前所有人的详细情况\r\n",
    "         cang.detail()\r\n",
    "         dong.detail()\r\n",
    "         bo.detail()"
   ],
   "outputs": [],
   "metadata": {}
  },
  {
   "cell_type": "markdown",
   "source": [
    "# 知识点总结"
   ],
   "metadata": {}
  },
  {
   "cell_type": "code",
   "execution_count": null,
   "source": [
    "\"\"\"IndentationError: unexpected indent 缩进错误：意外缩进\r\n",
    "Missing parentheses  缺少括号\r\n",
    "Attribute Error 属性错误 \r\n",
    "IndentationError: unindent does not match any outer indentation level 不匹配任何外部缩进级别 \"\"\"\r\n",
    "\r\n",
    "# Inheritance in Python \r\n",
    "# Inheritance is one of the three building blocks of object-oriented programming with polymorphism and encapsulation being the other two.\r\n",
    "# 继承是面向对象编程的三个构建块之一，另外两个是多态和封装。"
   ],
   "outputs": [],
   "metadata": {}
  },
  {
   "cell_type": "markdown",
   "source": [
    "# Animal 类 猫 蝴蝶 鱼"
   ],
   "metadata": {}
  },
  {
   "cell_type": "code",
   "execution_count": 9,
   "source": [
    " # define a class Animal(parent classes) ,with three child classes cat,butterfly and fish\r\n",
    " # https://codezen.io/python-inheritance/\r\n",
    " class Animal:\r\n",
    "    \r\n",
    "     def __init__(self, name, category, age):\r\n",
    "        self.name = name\r\n",
    "        self.category = category\r\n",
    "        self.age = age\r\n",
    "    \r\n",
    "     def show_animal_details(self):\r\n",
    "        print(\"The name of animal is \", self.name) \r\n",
    "        print(\"The category of animal is \", self.category)  # 动物的类别是哺乳动物\r\n",
    "        print(\"The age of animal is \", self.age)\r\n",
    "\r\n",
    "\r\n",
    " class Cat(Animal):\r\n",
    "    \r\n",
    "     def __init__(self, name, category, age, paws): # paws爪子\r\n",
    "        super().__init__(name, category, age)\r\n",
    "        self.number_of_paws = paws #爪子的数量\r\n",
    "        print(\"A cat has\", self.number_of_paws , \"paws\")   \r\n",
    "\r\n",
    "\r\n",
    " class Butterfly(Animal):\r\n",
    "    \r\n",
    "     def __init__(self, name, category, age, wings):\r\n",
    "        super().__init__(name, category, age)\r\n",
    "        self.number_of_wings = wings\r\n",
    "        print(\"A butterfly has\", self.number_of_wings, \"wings\") #翅膀数量\r\n",
    "        \r\n",
    " class Fish(Animal):\r\n",
    "    \r\n",
    "     def __init__(self, name, category, age, fins):\r\n",
    "        super().__init__(name, category, age)\r\n",
    "        self.number_of_fins = fins\r\n",
    "        print(\"A fish has\", self.number_of_fins, \"fins\") #鳍的数量\r\n",
    "        \r\n",
    " cat = Cat(\"cat\",\"mammal\",5, 4)\r\n",
    " cat.show_animal_details()"
   ],
   "outputs": [
    {
     "output_type": "stream",
     "name": "stdout",
     "text": [
      "A cat has 4 paws\n",
      "The name of animal is  cat\n",
      "The category of animal is  mammal\n",
      "The age of animal is  5\n"
     ]
    }
   ],
   "metadata": {}
  },
  {
   "cell_type": "code",
   "execution_count": 10,
   "source": [
    "fish = Fish(\"fish\",\"bony_fish\", 10, 4) #bony_fish=骨鱼\r\n",
    "fish.show_animal_details()\r\n",
    "butterfly = Butterfly(\"butterfly\",\"insect\", 10, 4)\r\n",
    "butterfly.show_animal_details()"
   ],
   "outputs": [
    {
     "output_type": "stream",
     "name": "stdout",
     "text": [
      "A fish has 4 fins\n",
      "The name of animal is  fish\n",
      "The category of animal is  bony_fish\n",
      "The age of animal is  10\n",
      "A butterfly has 4 wings\n",
      "The name of animal is  butterfly\n",
      "The category of animal is  insect\n",
      "The age of animal is  10\n"
     ]
    }
   ],
   "metadata": {}
  }
 ],
 "metadata": {
  "orig_nbformat": 4,
  "language_info": {
   "name": "python",
   "version": "3.9.6",
   "mimetype": "text/x-python",
   "codemirror_mode": {
    "name": "ipython",
    "version": 3
   },
   "pygments_lexer": "ipython3",
   "nbconvert_exporter": "python",
   "file_extension": ".py"
  },
  "kernelspec": {
   "name": "python3",
   "display_name": "Python 3.9.6 64-bit"
  },
  "interpreter": {
   "hash": "26686dec1f1c69e7843542045c9bcb01e7d61ef2953291481df04c12bb1a928f"
  }
 },
 "nbformat": 4,
 "nbformat_minor": 2
}