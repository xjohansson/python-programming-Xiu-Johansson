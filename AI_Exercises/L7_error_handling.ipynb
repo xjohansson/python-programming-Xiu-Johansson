{
 "cells": [
  {
   "cell_type": "code",
   "execution_count": null,
   "source": [],
   "outputs": [],
   "metadata": {}
  },
  {
   "cell_type": "markdown",
   "source": [
    "# Lecture notes - error handling\r\n"
   ],
   "metadata": {}
  },
  {
   "cell_type": "code",
   "execution_count": null,
   "source": [
    "#错误类型\r\n",
    "#语法错误——基本错误 Python 解析器不理解代码\r\n",
    "#逻辑错误 - 难以发现 - 产生不可预测的结果\r\n",
    "#异常错误 - Python 解析器知道该做什么但不能执行它\r\n",
    "#Error types\r\n",
    "#syntax error - basic errors Python parser don't understand the code\r\n",
    "#logic errors - hard to find - give unpredictable results\r\n",
    "#exception error - Python parser knows what to do but can't perform it\r\n",
    "\r\n",
    "#AttributeError\t对象没有这个属性\r\n",
    "#SyntaxError\tPython 语法错误"
   ],
   "outputs": [],
   "metadata": {}
  },
  {
   "cell_type": "code",
   "execution_count": 22,
   "source": [
    "# syntax errors\r\n",
    "prin(\"hej\")\r\n",
    "\r\n",
    "# practice reading the error messages"
   ],
   "outputs": [
    {
     "output_type": "error",
     "ename": "NameError",
     "evalue": "name 'prin' is not defined",
     "traceback": [
      "\u001b[1;31m---------------------------------------------------------------------------\u001b[0m\n",
      "\u001b[1;31mNameError\u001b[0m                                 Traceback (most recent call last)\n",
      "\u001b[1;32m~\\AppData\\Local\\Temp/ipykernel_13532/3044206578.py\u001b[0m in \u001b[0;36m<module>\u001b[1;34m\u001b[0m\n",
      "\u001b[0;32m      1\u001b[0m \u001b[1;31m# syntax errors\u001b[0m\u001b[1;33m\u001b[0m\u001b[1;33m\u001b[0m\u001b[1;33m\u001b[0m\u001b[0m\n",
      "\u001b[1;32m----> 2\u001b[1;33m \u001b[0mprin\u001b[0m\u001b[1;33m(\u001b[0m\u001b[1;34m\"hej\"\u001b[0m\u001b[1;33m)\u001b[0m\u001b[1;33m\u001b[0m\u001b[1;33m\u001b[0m\u001b[0m\n",
      "\u001b[0m\u001b[0;32m      3\u001b[0m \u001b[1;33m\u001b[0m\u001b[0m\n",
      "\u001b[0;32m      4\u001b[0m \u001b[1;31m# practice reading the error messages\u001b[0m\u001b[1;33m\u001b[0m\u001b[1;33m\u001b[0m\u001b[1;33m\u001b[0m\u001b[0m\n",
      "\n",
      "\u001b[1;31mNameError\u001b[0m: name 'prin' is not defined"
     ]
    }
   ],
   "metadata": {}
  },
  {
   "cell_type": "code",
   "execution_count": 23,
   "source": [
    "# logical errors\r\n",
    "import numpy as np \r\n",
    "# this function calculates the circumference, not area\r\n",
    "area_circle = lambda radius: 2*np.pi*radius \r\n",
    "area_circle(1)"
   ],
   "outputs": [
    {
     "data": {
      "text/plain": [
       "6.283185307179586"
      ]
     },
     "metadata": {},
     "output_type": "display_data"
    }
   ],
   "metadata": {}
  },
  {
   "cell_type": "code",
   "execution_count": 24,
   "source": [
    "# exception errors\r\n",
    "numbers = list(range(5))\r\n",
    "numbers[10] \r\n",
    "# Python parser knows what to do i.e. access element at index 10, \r\n",
    "# but can't access that element as it doesn't exist"
   ],
   "outputs": [
    {
     "output_type": "error",
     "ename": "IndexError",
     "evalue": "list index out of range",
     "traceback": [
      "\u001b[1;31m---------------------------------------------------------------------------\u001b[0m\n",
      "\u001b[1;31mIndexError\u001b[0m                                Traceback (most recent call last)\n",
      "\u001b[1;32m~\\AppData\\Local\\Temp/ipykernel_13532/3010037453.py\u001b[0m in \u001b[0;36m<module>\u001b[1;34m\u001b[0m\n",
      "\u001b[0;32m      1\u001b[0m \u001b[1;31m# exception errors\u001b[0m\u001b[1;33m\u001b[0m\u001b[1;33m\u001b[0m\u001b[1;33m\u001b[0m\u001b[0m\n",
      "\u001b[0;32m      2\u001b[0m \u001b[0mnumbers\u001b[0m \u001b[1;33m=\u001b[0m \u001b[0mlist\u001b[0m\u001b[1;33m(\u001b[0m\u001b[0mrange\u001b[0m\u001b[1;33m(\u001b[0m\u001b[1;36m5\u001b[0m\u001b[1;33m)\u001b[0m\u001b[1;33m)\u001b[0m\u001b[1;33m\u001b[0m\u001b[1;33m\u001b[0m\u001b[0m\n",
      "\u001b[1;32m----> 3\u001b[1;33m \u001b[0mnumbers\u001b[0m\u001b[1;33m[\u001b[0m\u001b[1;36m10\u001b[0m\u001b[1;33m]\u001b[0m\u001b[1;33m\u001b[0m\u001b[1;33m\u001b[0m\u001b[0m\n",
      "\u001b[0m\u001b[0;32m      4\u001b[0m \u001b[1;31m# Python parser knows what to do i.e. access element at index 10,\u001b[0m\u001b[1;33m\u001b[0m\u001b[1;33m\u001b[0m\u001b[1;33m\u001b[0m\u001b[0m\n",
      "\u001b[0;32m      5\u001b[0m \u001b[1;31m# but can't access that element as it doesn't exist\u001b[0m\u001b[1;33m\u001b[0m\u001b[1;33m\u001b[0m\u001b[1;33m\u001b[0m\u001b[0m\n",
      "\n",
      "\u001b[1;31mIndexError\u001b[0m: list index out of range"
     ]
    }
   ],
   "metadata": {}
  },
  {
   "cell_type": "code",
   "execution_count": 25,
   "source": [
    "\r\n",
    "age = input(\"Ange din ålder\")\r\n",
    "\r\n",
    "try: \r\n",
    "    age = float(age)\r\n",
    "    if not 0<=age<=125: \r\n",
    "        raise ValueError(\"Åldern måste vara mellan 0 and 125\") \r\n",
    "    print(f\"Du är {age} år gammal\")\r\n",
    "except ValueError as err:\r\n",
    "    print(err)"
   ],
   "outputs": [
    {
     "output_type": "stream",
     "name": "stdout",
     "text": [
      "Du är 33.0 år gammal\n"
     ]
    }
   ],
   "metadata": {}
  },
  {
   "cell_type": "code",
   "execution_count": 26,
   "source": [
    "# want user to try again \r\n",
    "while True: \r\n",
    "    try:\r\n",
    "        age = float(input(\"Ange din ålder\"))\r\n",
    "        if not 0<=age<=125:\r\n",
    "            raise ValueError(\"Åldern måste vara mellan 0 and 125\")\r\n",
    "        print(f\"Du är {age} år gammal\")\r\n",
    "        break # breaks out of while loop if nothing went wrong\r\n",
    "    except ValueError as err:\r\n",
    "        print(err)"
   ],
   "outputs": [
    {
     "output_type": "stream",
     "name": "stdout",
     "text": [
      "Du är 32.0 år gammal\n"
     ]
    }
   ],
   "metadata": {}
  },
  {
   "cell_type": "code",
   "execution_count": 13,
   "source": [
    "# Lambda functions\r\n",
    "squarer = lambda x: x**2\r\n",
    "print(squarer(5))"
   ],
   "outputs": [
    {
     "output_type": "stream",
     "name": "stdout",
     "text": [
      "25\n"
     ]
    }
   ],
   "metadata": {}
  },
  {
   "cell_type": "code",
   "execution_count": null,
   "source": [
    "#错误类型\r\n",
    "#语法错误——基本错误 Python 解析器不理解代码\r\n",
    "#逻辑错误 - 难以发现 - 产生不可预测的结果\r\n",
    "#异常错误 - Python 解析器知道该做什么但不能执行它\r\n",
    "#Error types\r\n",
    "#syntax error - basic errors Python parser don't understand the code\r\n",
    "#logic errors - hard to find - give unpredictable results\r\n",
    "#exception error - Python parser knows what to do but can't perform it\r\n",
    "\r\n",
    "#AttributeError\t对象没有这个属性\r\n",
    "#SyntaxError\tPython 语法错误"
   ],
   "outputs": [],
   "metadata": {}
  }
 ],
 "metadata": {
  "orig_nbformat": 4,
  "language_info": {
   "name": "python"
  }
 },
 "nbformat": 4,
 "nbformat_minor": 2
}