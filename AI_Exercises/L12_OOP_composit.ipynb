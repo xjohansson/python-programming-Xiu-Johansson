{
 "cells": [
  {
   "cell_type": "markdown",
   "source": [
    "# L12 OOP composit"
   ],
   "metadata": {}
  },
  {
   "cell_type": "markdown",
   "source": [
    "# Inheritance and composition 继承与组合"
   ],
   "metadata": {}
  },
  {
   "cell_type": "code",
   "execution_count": null,
   "source": [
    "# Inheritance and composition 继承与组合\r\n",
    "# methods, properties and attributes from parent class can be accessed from child class using super()\r\n",
    "\r\n",
    "# inheritance has stronger coupled between classes and the relation: \"is a\", e.g. a Student is a Person 继承在类和关系之间有更强的耦合\r\n",
    "\r\n",
    "#when changing in the parent class, it might affect the subclasses 在父类中更改时，可能会影响子类\r\n",
    "\r\n",
    "#when using inheritance, make sure that the relationship really is an \"is a\" relation and not a \"has a\" \r\n",
    "# 当使用继承时，确保关系确实是一个“是一个”关系而不是一个“有一个”关系\r\n",
    "#composition has weaker coupling between classes and the relation: \"has a\", e.g. a Classroom has a Student\r\n",
    "#组合在类和关系之间具有较弱的耦合：“有一个”，例如 一个教室有一个学生"
   ],
   "outputs": [],
   "metadata": {}
  },
  {
   "cell_type": "code",
   "execution_count": 1,
   "source": [
    "from modules import oldcoins\r\n",
    "import re \r\n",
    "\r\n",
    "class Person:\r\n",
    "    def __init__(self, name: str, age: int) -> None:\r\n",
    "        self.age = age \r\n",
    "        self.name = name \r\n",
    "\r\n",
    "    @property\r\n",
    "    def age(self) -> int:\r\n",
    "        return self._age\r\n",
    "\r\n",
    "    @age.setter\r\n",
    "    def age(self, value: int) -> None:\r\n",
    "        if not isinstance(value, (int, float)):\r\n",
    "            raise TypeError(f\"Age must be int or float not {type(value)}\")\r\n",
    "        self._age = value    \r\n",
    "\r\n",
    "    @property\r\n",
    "    def name(self) -> str:\r\n",
    "        return self._name\r\n",
    "\r\n",
    "    @name.setter\r\n",
    "    def name(self, value: str) -> None:\r\n",
    "        if re.search(r\"^[A-Ö][-a-öA-Ö]+(\\s[A-Ö][-a-öA-Ö]+)?$\", value.strip()) is None:\r\n",
    "            raise ValueError(f\"The value {value} is not a valid name\")\r\n",
    "        \r\n",
    "        self._name = value\r\n",
    "\r\n",
    "    def say_hi(self) -> None:\r\n",
    "        print(f\"Person {self.name} says hi\")\r\n",
    "\r\n",
    "class Student(Person):\r\n",
    "    \"\"\"A Student is a Person that knows a language\"\"\"\r\n",
    "    def __init__(self, name: str, age: int, language: str) -> None:\r\n",
    "        super().__init__(name, age) # self is automatically sent in through super()\r\n",
    "        self.language = language\r\n",
    "\r\n",
    "\r\n",
    "    # overrides say_hi() in Person class\r\n",
    "    def say_hi(self) -> None:\r\n",
    "        print(f\"Student {self.name} knows {self.language}\")\r\n",
    "\r\n",
    "class Viking(Person):\r\n",
    "    \"\"\"A Viking has an OldCoinsStash but is a Person\"\"\"\r\n",
    "    def __init__(self, name: str, age: int) -> None:\r\n",
    "        super().__init__(name, age)\r\n",
    "        self.stash = oldcoins.OldCoinsStash(name)\r\n",
    "\r\n",
    "p1 = Person(\"Örjan \", 55)\r\n",
    "s1 = Student(\"Åke Olofsson\", 25, \"Python\")\r\n",
    "v1 = Viking(\"Ragnar Lothbroke\", 50)\r\n",
    "\r\n",
    "print(v1.stash)\r\n",
    "print(v1.stash.check_balance())\r\n",
    "\r\n",
    "people = (p1, s1, v1)\r\n",
    "\r\n",
    "# polymorphic \r\n",
    "for person in people:\r\n",
    "    person.say_hi()\r\n",
    "    \r\n",
    "# note that the Viking does not have a say_hi() method and thus the parents say_hi() is called"
   ],
   "outputs": [
    {
     "output_type": "error",
     "ename": "ModuleNotFoundError",
     "evalue": "No module named 'modules'",
     "traceback": [
      "\u001b[1;31m---------------------------------------------------------------------------\u001b[0m",
      "\u001b[1;31mModuleNotFoundError\u001b[0m                       Traceback (most recent call last)",
      "\u001b[1;32m~\\AppData\\Local\\Temp/ipykernel_1872/2167269578.py\u001b[0m in \u001b[0;36m<module>\u001b[1;34m\u001b[0m\n\u001b[1;32m----> 1\u001b[1;33m \u001b[1;32mfrom\u001b[0m \u001b[0mmodules\u001b[0m \u001b[1;32mimport\u001b[0m \u001b[0moldcoins\u001b[0m\u001b[1;33m\u001b[0m\u001b[1;33m\u001b[0m\u001b[0m\n\u001b[0m\u001b[0;32m      2\u001b[0m \u001b[1;32mimport\u001b[0m \u001b[0mre\u001b[0m\u001b[1;33m\u001b[0m\u001b[1;33m\u001b[0m\u001b[0m\n\u001b[0;32m      3\u001b[0m \u001b[1;33m\u001b[0m\u001b[0m\n\u001b[0;32m      4\u001b[0m \u001b[1;32mclass\u001b[0m \u001b[0mPerson\u001b[0m\u001b[1;33m:\u001b[0m\u001b[1;33m\u001b[0m\u001b[1;33m\u001b[0m\u001b[0m\n\u001b[0;32m      5\u001b[0m     \u001b[1;32mdef\u001b[0m \u001b[0m__init__\u001b[0m\u001b[1;33m(\u001b[0m\u001b[0mself\u001b[0m\u001b[1;33m,\u001b[0m \u001b[0mname\u001b[0m\u001b[1;33m:\u001b[0m \u001b[0mstr\u001b[0m\u001b[1;33m,\u001b[0m \u001b[0mage\u001b[0m\u001b[1;33m:\u001b[0m \u001b[0mint\u001b[0m\u001b[1;33m)\u001b[0m \u001b[1;33m->\u001b[0m \u001b[1;32mNone\u001b[0m\u001b[1;33m:\u001b[0m\u001b[1;33m\u001b[0m\u001b[1;33m\u001b[0m\u001b[0m\n",
      "\u001b[1;31mModuleNotFoundError\u001b[0m: No module named 'modules'"
     ]
    }
   ],
   "metadata": {}
  }
 ],
 "metadata": {
  "orig_nbformat": 4,
  "language_info": {
   "name": "python",
   "version": "3.9.6",
   "mimetype": "text/x-python",
   "codemirror_mode": {
    "name": "ipython",
    "version": 3
   },
   "pygments_lexer": "ipython3",
   "nbconvert_exporter": "python",
   "file_extension": ".py"
  },
  "kernelspec": {
   "name": "python3",
   "display_name": "Python 3.9.6 64-bit"
  },
  "interpreter": {
   "hash": "26686dec1f1c69e7843542045c9bcb01e7d61ef2953291481df04c12bb1a928f"
  }
 },
 "nbformat": 4,
 "nbformat_minor": 2
}