{
 "cells": [
  {
   "cell_type": "markdown",
   "source": [
    "# L10 OOP Basic"
   ],
   "metadata": {}
  },
  {
   "cell_type": "code",
   "execution_count": 1,
   "source": [
    "#class()\r\n",
    "# create a class using the class keyword 使用class关键字创建一个类\r\n",
    "# an object is instantiated from the class using the constructor 使用构造函数从类实例化一个对象\r\n",
    "# __init__() - \"dunder init\"\r\n",
    "#\"\"\"is an initializer method which is called when the object is created 是一个初始化方法，当对象创建时被调用\"\"\"\r\n",
    "\r\n",
    "# used for setting initial values of attributes, which are variables associated with an object 用于设置属性的初始值，属性是与对象关联的变量\r\n",
    "\r\n",
    "# if not specified, Python will call a default __init__() 如果未指定，Python 将调用默认的 __init__()\r\n",
    "# methods - functions bound to the class\r\n",
    "\r\n",
    "# self - when a method of an object is called, the object itself is passed into the self parameter 当对象的方法被调用时，对象本身被传递到 self 参数中\r\n",
    "\r\n",
    "# all methods have a self parameter 所有方法都有一个 self 参数"
   ],
   "outputs": [],
   "metadata": {}
  },
  {
   "cell_type": "code",
   "execution_count": 2,
   "source": [
    "class Antagning: # creates the class\r\n",
    "    # initializer - runs when instance of the class is created 初始化程序 - 在创建类的实例时运行\r\n",
    "    def __init__(self, school, program, name, accept):\r\n",
    "        # assign the arguments to object attributes 分配参数给对象属性\r\n",
    "        self.school = school \r\n",
    "        self.program = program\r\n",
    "        self.name = name\r\n",
    "        self.accept = accept \r\n",
    "\r\n",
    "# note that the object is sent to the self parameter, so you only pass in 4 arguments and not 5\r\n",
    "#请注意，该对象被发送到 self 参数，因此您只传递 4 个参数而不是 5 个\r\n",
    "person1 = Antagning(\"Cool school\", \"AI\", accept=True, name=\"Kokchun\") # constructor 构造函数\r\n",
    "person2 = Antagning(\"Cooler school\", \"Data science\", accept=False, name = \"Xiu Johansson\") \r\n",
    "\r\n",
    "print(f\"person1: {person1}\") # an object of class Antagning() at a certain memory position 某个内存位置的Antagning()类的对象\r\n",
    "print(f\"person2.program: {person2.program}\") # accesses an attribute of the object 访问对象的属性\r\n",
    "\r\n",
    "\r\n",
    "person2.program = \"UX\"  # change an attribute 改变一个属性\r\n",
    "print(f\"person2.program after change is: {person2.program}\")\r\n",
    "\r\n",
    "# note that these are different as name are attributes of each object \r\n",
    "# # 注意这些是不同的，因为名称是每个对象的属性\r\n",
    "print(f\"person1.name: {person1.name}\")\r\n",
    "print(f\"person2.name: {person2.name}\")"
   ],
   "outputs": [
    {
     "output_type": "stream",
     "name": "stdout",
     "text": [
      "person1: <__main__.Antagning object at 0x00000189B2CF9400>\n",
      "person2.program: Data science\n",
      "person2.program after change is: UX\n",
      "person1.name: Kokchun\n",
      "person2.name: Xiu Johansson\n"
     ]
    }
   ],
   "metadata": {}
  },
  {
   "cell_type": "code",
   "execution_count": 3,
   "source": [
    "print(person1.name)\r\n",
    "print(person1.school)\r\n",
    "#print(person1._dict_) #dunder dict\r\n",
    "\r\n",
    "print(person2.name)\r\n",
    "print(person2.school)\r\n",
    "print(person2.program)\r\n",
    "print(person2.accept)\r\n",
    "\r\n",
    "print(person1)\r\n",
    "print(person2)"
   ],
   "outputs": [
    {
     "output_type": "stream",
     "name": "stdout",
     "text": [
      "Kokchun\n",
      "Cool school\n",
      "Xiu Johansson\n",
      "Cooler school\n",
      "UX\n",
      "False\n",
      "<__main__.Antagning object at 0x00000189B2CF9400>\n",
      "<__main__.Antagning object at 0x00000189B2CF9FD0>\n"
     ]
    }
   ],
   "metadata": {}
  },
  {
   "cell_type": "markdown",
   "source": [
    "# __repr__\r\n",
    "\"\"\"*dunder \"repper\" method for representing the object\r\n",
    " *write in a way for other developers to see how to create the object if possible \"\"\""
   ],
   "metadata": {}
  },
  {
   "cell_type": "markdown",
   "source": [
    "  *write in a way for other developers to see how to create the object if possible \"\"\""
   ],
   "metadata": {}
  },
  {
   "cell_type": "code",
   "execution_count": 4,
   "source": [
    "class Antagning: # creates the class\r\n",
    "    # initializer - runs when instance of the class is created\r\n",
    "    def __init__(self, school, program, name, accept):\r\n",
    "        # assign the arguments to object attributes\r\n",
    "        self.school = school \r\n",
    "        self.program = program\r\n",
    "        self.name = name\r\n",
    "        self.accept = accept\r\n",
    "\r\n",
    "    def __repr__(self):\r\n",
    "        return f\"Antagning(school='{self.school}',program='{self.program}', name='{self.name}', accept={self.accept})\"\r\n",
    "\r\n",
    "s = Antagning(\"Cool school\", \"Haskell\", \"Ada Lovelace\", True) \r\n",
    "t = Antagning(\"ITHS\", \"AI\", \"Xiu Johansson\", True) \r\n",
    "print(s)\r\n",
    "print(t)"
   ],
   "outputs": [
    {
     "output_type": "stream",
     "name": "stdout",
     "text": [
      "Antagning(school='Cool school',program='Haskell', name='Ada Lovelace', accept=True)\n",
      "Antagning(school='ITHS',program='AI', name='Xiu Johansson', accept=True)\n"
     ]
    }
   ],
   "metadata": {}
  },
  {
   "cell_type": "code",
   "execution_count": 5,
   "source": [
    "# Encapsulation \"Private attributes\"\r\n",
    "#*encapsulation is a concept in OOP to hide information so that it only can be accessed within the class\r\n",
    "#*all attributes in Python are public\r\n",
    "#*by convention you can make an attribute private by using _ in front of it\r\n",
    "#*people knowledgeable in Python knows not to change it outside of the class, however technically you can change a private attribute outside the class\r\n",
    "#*another way to make private attributes is through double underscore __ -> which name mangles the attribute\r\n",
    "\r\n",
    "# 封装“私有属性”\r\n",
    "#*encapsulation 是 OOP 中的一个概念，用于隐藏信息，使其只能在类中访问\r\n",
    "#*Python 中的所有属性都是公开的\r\n",
    "\r\n",
    "#* 按照惯例，您可以通过在属性前面使用 _ 来将属性设为私有\r\n",
    "#* 熟悉 Python 的人知道不要在类外更改它，但是从技术上讲，您可以在类外更改私有属性\r\n",
    "#*另一种创建私有属性的方法是通过双下划线 __ -> 名称破坏了属性"
   ],
   "outputs": [],
   "metadata": {}
  },
  {
   "cell_type": "code",
   "execution_count": 6,
   "source": [
    "class Patient:\r\n",
    "    def __init__(self, name, diagnosis):\r\n",
    "        self._name = name\r\n",
    "        self.__diagnosis = diagnosis   # diagnosis在这里是私有属性\r\n",
    "\r\n",
    "    def __repr__(self):\r\n",
    "        return f\"Patient({self._name}, {self.__diagnosis} )\"   \r\n",
    "\r\n",
    "patient1 = Patient(\"Gore Bord\", \"Migraine\") # Migraine=偏头痛\r\n",
    "print(patient1)\r\n",
    "\r\n",
    "print(\"Change patient name\")\r\n",
    "patient1._name = \"Gree Bree\" # can change this but really should not \r\n",
    "print(patient1)\r\n",
    "\r\n",
    "# try access diagnosis\r\n",
    "try: \r\n",
    "    print(patient1.__diagnosis) # can't access because named has been mangled #被破坏的\r\n",
    "except AttributeError as err:  #except 除非 属性错误\r\n",
    "    print(err)\r\n",
    "\r\n",
    "print(patient1.__dict__) # {attributes : attribute_values}\r\n",
    "print(patient1._Patient__diagnosis) # can access the attribute\r\n",
    "\r\n",
    "# this is for understanding purposes, DON'T access private attributes from outside the class\r\n",
    "#这是为了理解目的，不要从类外部访问私有属性"
   ],
   "outputs": [
    {
     "output_type": "stream",
     "name": "stdout",
     "text": [
      "Patient(Gore Bord, Migraine )\n",
      "Change patient name\n",
      "Patient(Gree Bree, Migraine )\n",
      "'Patient' object has no attribute '__diagnosis'\n",
      "{'_name': 'Gree Bree', '_Patient__diagnosis': 'Migraine'}\n",
      "Migraine\n"
     ]
    }
   ],
   "metadata": {}
  },
  {
   "cell_type": "code",
   "execution_count": 7,
   "source": [
    "class OldCoinsStash: #旧硬币藏匿处\r\n",
    "    def __init__(self, owner):\r\n",
    "        self.owner = owner\r\n",
    "\r\n",
    "        # these attributes are \"private\" - only allow to access them in the class\r\n",
    "        self._riksdaler = 0  #货币名为瑞典圆\r\n",
    "        self._skilling = 0\r\n",
    "\r\n",
    "    def deposit(self, riksdaler, skilling):\r\n",
    "        if riksdaler <= 0 or skilling <= 0:\r\n",
    "            raise ValueError(\r\n",
    "                f\"You try to deposit {riksdaler} riksdaler and {skilling} skilling. They have to be positive\")\r\n",
    "                # deposit money 存钱\r\n",
    "\r\n",
    "        self._riksdaler += riksdaler\r\n",
    "        self._skilling += skilling\r\n",
    "\r\n",
    "    def withdraw(self, riksdaler, skilling):\r\n",
    "        if riksdaler > self._riksdaler or skilling > self._skilling:\r\n",
    "            raise ValueError(\r\n",
    "                f\"You can't withdraw more than you have in your stash\")\r\n",
    "\r\n",
    "        self._riksdaler -= riksdaler\r\n",
    "        self._skilling -= skilling\r\n",
    "\r\n",
    "    def check_balance(self):\r\n",
    "        return f\"Coins in stash: {self._riksdaler} riksdaler, {self._skilling} skilling\"\r\n",
    "\r\n",
    "\r\n",
    "stash1 = OldCoinsStash(\"Gore Bord\")\r\n",
    "print(stash1.check_balance())\r\n",
    "\r\n",
    "try:\r\n",
    "    stash1.deposit(-5, 31)  # check if I can rob the stash 抢劫\r\n",
    "except ValueError as err:\r\n",
    "    print(err)\r\n",
    "\r\n",
    "print(stash1.check_balance())\r\n",
    "stash1.deposit(50, 42)\r\n",
    "print(stash1.check_balance())\r\n",
    "\r\n",
    "try:\r\n",
    "    stash1.withdraw(500, 31)  # check if I can rob the stash again\r\n",
    "except ValueError as err:\r\n",
    "    print(err)\r\n",
    "\r\n",
    "print(stash1.check_balance())\r\n",
    "stash1.withdraw(25, 20)\r\n",
    "print(stash1.check_balance())\r\n",
    "\r\n",
    "# there are ways to rob the stash -> try and see if you can find them :)\r\n",
    "# then try to fix this bug (or feature ;) ?)"
   ],
   "outputs": [
    {
     "output_type": "stream",
     "name": "stdout",
     "text": [
      "Coins in stash: 0 riksdaler, 0 skilling\n",
      "You try to deposit -5 riksdaler and 31 skilling. They have to be positive\n",
      "Coins in stash: 0 riksdaler, 0 skilling\n",
      "Coins in stash: 50 riksdaler, 42 skilling\n",
      "You can't withdraw more than you have in your stash\n",
      "Coins in stash: 50 riksdaler, 42 skilling\n",
      "Coins in stash: 25 riksdaler, 22 skilling\n"
     ]
    }
   ],
   "metadata": {}
  },
  {
   "cell_type": "code",
   "execution_count": 8,
   "source": [
    "# Property and documentation 属性和文档\r\n",
    "# getter and setter \r\n",
    "# include error handling and other checks in setters 在 setter 中包含错误处理和其他检查\r\n",
    "# can make read-only property if you don't want to have private property 如果不想拥有私有属性，可以设置只读属性"
   ],
   "outputs": [],
   "metadata": {}
  },
  {
   "cell_type": "code",
   "execution_count": 9,
   "source": [
    "# Docstring 文档字符串\r\n",
    "# docstring for documenting your class, use three quotes \"\"\" \"\"\" after class name docstring 用于记录您的课程，在课程名称后使用三个引号 \r\n",
    "# always write a docstring so that you, or other developers can easily understand your classes and methods \r\n",
    "# 始终编写一个文档字符串，以便您或其他开发人员可以轻松理解您的类和方法\r\n",
    "# shows up when calling help() 在调用 help() 时显示\r\n",
    "\r\n"
   ],
   "outputs": [],
   "metadata": {}
  },
  {
   "cell_type": "code",
   "execution_count": 10,
   "source": [
    "# Type hinting # 类型提示\r\n",
    "# Python is a dynamic language and hence the type is inferred Python 是一种动态语言，因此类型是推断出来的\r\n",
    "# use type hinting to annotate parameters and return types 使用类型提示来注释参数和返回类型\r\n"
   ],
   "outputs": [],
   "metadata": {}
  },
  {
   "cell_type": "markdown",
   "source": [
    "# Properties"
   ],
   "metadata": {}
  },
  {
   "cell_type": "code",
   "execution_count": 11,
   "source": [
    "class Student:\r\n",
    "    \"\"\"Student class for representing students with name, age and active \"\"\"\r\n",
    "    \r\n",
    "    number_students = 0 # class variable - create before __init__\r\n",
    "\r\n",
    "    # note the type hinting\r\n",
    "    def __init__(self, name: str, age: int, active: bool) -> None: \r\n",
    "        self._name = name # note no underscore 注意下划线\r\n",
    "        self.age = age\r\n",
    "        self.active = active\r\n",
    "        Student.number_students += 1 # access class variable \r\n",
    "\r\n",
    "    # read only property - only has a getter, no setter as we don't want to change the name\r\n",
    "    # 只读属性 - 只有一个 getter，没有 setter，因为我们不想更改名称\r\n",
    "    @property\r\n",
    "    def name(self) -> str:\r\n",
    "        \"\"\" Read-only property, can't set the name\"\"\"\r\n",
    "        return self._name # note underscore 注意下划线\r\n",
    "\r\n",
    "    @property\r\n",
    "    def age(self) -> float:\r\n",
    "        return self._age\r\n",
    "\r\n",
    "    @age.setter  # note the name must be same as under the property decorator # 注意名称必须与属性装饰器下的名称相同\r\n",
    "    def age(self, value: float) -> None:\r\n",
    "        \"\"\" Setter for age with error handling\"\"\"\r\n",
    "        if not isinstance(value, (int, float)):\r\n",
    "            raise TypeError(\r\n",
    "                f\"Age must be either int or float not {type(value)}\")\r\n",
    "\r\n",
    "        if not (0 < value < 125):\r\n",
    "            raise ValueError(\"Your age must be between 1 and 124\")\r\n",
    "\r\n",
    "        self._age = value\r\n",
    "\r\n",
    "    def __repr__(self) -> str:\r\n",
    "        return f\"Student(name={self.name}, age={self.age}, active={self.active})\"\r\n",
    "\r\n",
    "\r\n",
    "s1 = Student(\"Gore Bord\", 55, True)\r\n",
    "try:\r\n",
    "    s1.name = \"Gure Burd\"  # can't set read-only properties\r\n",
    "except AttributeError as err:\r\n",
    "    print(err)\r\n",
    "\r\n",
    "print(s1.name)\r\n",
    "s1.age = 58\r\n",
    "\r\n",
    "print(Student)\r\n",
    "print(s1, \"\\n\")  # calls the __repr__ method\r\n",
    "\r\n",
    "students = [Student(\"Gore Bord\", 35, True), Student(\"Har Pon\", 22, False), Student(\"Yo Lo\", 12, False)]\r\n",
    "print(students)\r\n",
    "print(students[0].name)\r\n",
    "\r\n",
    "print(f\"There are {Student.number_students} students created\")"
   ],
   "outputs": [
    {
     "output_type": "stream",
     "name": "stdout",
     "text": [
      "can't set attribute\n",
      "Gore Bord\n",
      "<class '__main__.Student'>\n",
      "Student(name=Gore Bord, age=58, active=True) \n",
      "\n",
      "[Student(name=Gore Bord, age=35, active=True), Student(name=Har Pon, age=22, active=False), Student(name=Yo Lo, age=12, active=False)]\n",
      "Gore Bord\n",
      "There are 4 students created\n"
     ]
    }
   ],
   "metadata": {}
  }
 ],
 "metadata": {
  "orig_nbformat": 4,
  "language_info": {
   "name": "python",
   "version": "3.9.6",
   "mimetype": "text/x-python",
   "codemirror_mode": {
    "name": "ipython",
    "version": 3
   },
   "pygments_lexer": "ipython3",
   "nbconvert_exporter": "python",
   "file_extension": ".py"
  },
  "kernelspec": {
   "name": "python3",
   "display_name": "Python 3.9.6 64-bit"
  },
  "interpreter": {
   "hash": "26686dec1f1c69e7843542045c9bcb01e7d61ef2953291481df04c12bb1a928f"
  }
 },
 "nbformat": 4,
 "nbformat_minor": 2
}