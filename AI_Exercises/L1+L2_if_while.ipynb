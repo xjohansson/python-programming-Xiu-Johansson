{
 "cells": [
  {
   "cell_type": "code",
   "execution_count": 3,
   "source": [
    "#1. Count numbers (*)\r\n",
    "#Use a while statement to count from -10 to 10 with one increment.\r\n",
    "n=0\r\n",
    "while -10< n <10:\r\n",
    "    n+=1# adds one \r\n",
    "    print(f\"{n}\")"
   ],
   "outputs": [
    {
     "output_type": "stream",
     "name": "stdout",
     "text": [
      "1\n",
      "2\n",
      "3\n",
      "4\n",
      "5\n",
      "6\n",
      "7\n",
      "8\n",
      "9\n",
      "10\n"
     ]
    }
   ],
   "metadata": {}
  },
  {
   "cell_type": "code",
   "execution_count": 6,
   "source": [
    "n=-10\r\n",
    "while n <10:\r\n",
    "    n+=1# adds one \r\n",
    "    print(f\"{n}\")"
   ],
   "outputs": [
    {
     "output_type": "stream",
     "name": "stdout",
     "text": [
      "-9\n",
      "-8\n",
      "-7\n",
      "-6\n",
      "-5\n",
      "-4\n",
      "-3\n",
      "-2\n",
      "-1\n",
      "0\n",
      "1\n",
      "2\n",
      "3\n",
      "4\n",
      "5\n",
      "6\n",
      "7\n",
      "8\n",
      "9\n",
      "10\n"
     ]
    }
   ],
   "metadata": {}
  },
  {
   "cell_type": "code",
   "execution_count": null,
   "source": [
    "n=5 \r\n",
    "while n>0:\r\n",
    "    print(n)\r\n",
    "    n=n-1"
   ],
   "outputs": [],
   "metadata": {}
  },
  {
   "cell_type": "code",
   "execution_count": 12,
   "source": [
    "#2. Arithmetic sum (*)¶\r\n",
    "# Use a while statement to compute the following sums:\r\n",
    "\r\n",
    "# a)   text{sum} = 1 + 2 + ...+ 99+ 100\r\n",
    "\r\n",
    "  # b)   text{sum} = 1 + 3 + 5 ...+ 97 + 99\r\n",
    "\r\n",
    "n=10\r\n",
    "sum(range(n+1))\r\n"
   ],
   "outputs": [
    {
     "output_type": "display_data",
     "data": {
      "text/plain": [
       "55"
      ]
     },
     "metadata": {}
    }
   ],
   "metadata": {}
  },
  {
   "cell_type": "code",
   "execution_count": 16,
   "source": [
    "sum = 1  #计算和\r\n",
    "# calculate sum from 1-100\r\n",
    "for i in range(101): # note that 101 不包括101\r\n",
    "    sum += i\r\n",
    "\r\n",
    "print(f\"0+1+2+3+4+5+...+100={sum}\")"
   ],
   "outputs": [
    {
     "output_type": "stream",
     "name": "stdout",
     "text": [
      "0+1+2+3+4+5+...+100=5051\n"
     ]
    }
   ],
   "metadata": {}
  },
  {
   "cell_type": "code",
   "execution_count": 12,
   "source": [
    "#2. Arithmetic sum (*)¶\r\n",
    "# Use a while statement to compute the following sums:\r\n",
    "\r\n",
    "# a)   text{sum} = 1 + 2 + ...+ 99+ 100\r\n",
    "\r\n",
    "  # b)   text{sum} = 1 + 3 + 5 ...+ 97 + 99\r\n",
    "\r\n",
    "n=10\r\n",
    "sum(range(n+1))\r\n"
   ],
   "outputs": [
    {
     "output_type": "execute_result",
     "data": {
      "text/plain": [
       "55"
      ]
     },
     "metadata": {},
     "execution_count": 12
    }
   ],
   "metadata": {}
  },
  {
   "cell_type": "code",
   "execution_count": null,
   "source": [],
   "outputs": [],
   "metadata": {}
  },
  {
   "cell_type": "code",
   "execution_count": 11,
   "source": [
    "m=100\r\n",
    "sum(range(m+1))"
   ],
   "outputs": [
    {
     "output_type": "execute_result",
     "data": {
      "text/plain": [
       "5050"
      ]
     },
     "metadata": {},
     "execution_count": 11
    }
   ],
   "metadata": {}
  },
  {
   "cell_type": "code",
   "execution_count": null,
   "source": [],
   "outputs": [],
   "metadata": {}
  },
  {
   "cell_type": "code",
   "execution_count": 12,
   "source": [
    "#2. Arithmetic sum (*)¶\r\n",
    "# Use a while statement to compute the following sums:\r\n",
    "\r\n",
    "# a)   text{sum} = 1 + 2 + ...+ 99+ 100\r\n",
    "\r\n",
    "  # b)   text{sum} = 1 + 3 + 5 ...+ 97 + 99\r\n",
    "\r\n",
    "n=10\r\n",
    "sum(range(n+1))\r\n"
   ],
   "outputs": [
    {
     "output_type": "display_data",
     "data": {
      "text/plain": [
       "55"
      ]
     },
     "metadata": {}
    }
   ],
   "metadata": {}
  },
  {
   "cell_type": "code",
   "execution_count": 14,
   "source": [
    "mySum = 0 \r\n",
    "num = 1 \r\n",
    "while num <= 10: \r\n",
    "    mySum += num \r\n",
    "    num += 1    \r\n",
    "print (mySum)"
   ],
   "outputs": [
    {
     "output_type": "stream",
     "name": "stdout",
     "text": [
      "55\n"
     ]
    }
   ],
   "metadata": {}
  },
  {
   "cell_type": "code",
   "execution_count": 15,
   "source": [
    "squares=[a**2 for a in range(1,11)]\r\n",
    "print (squares)"
   ],
   "outputs": [
    {
     "output_type": "stream",
     "name": "stdout",
     "text": [
      "[1, 4, 9, 16, 25, 36, 49, 64, 81, 100]\n"
     ]
    }
   ],
   "metadata": {}
  },
  {
   "cell_type": "code",
   "execution_count": 12,
   "source": [
    "#2. Arithmetic sum (*)¶\r\n",
    "# Use a while statement to compute the following sums:\r\n",
    "\r\n",
    "# a)   text{sum} = 1 + 2 + ...+ 99+ 100\r\n",
    "\r\n",
    "  # b)   text{sum} = 1 + 3 + 5 ...+ 97 + 99\r\n",
    "\r\n",
    "n=10\r\n",
    "sum(range(n+1))\r\n"
   ],
   "outputs": [
    {
     "output_type": "display_data",
     "data": {
      "text/plain": [
       "55"
      ]
     },
     "metadata": {}
    }
   ],
   "metadata": {}
  },
  {
   "cell_type": "code",
   "execution_count": null,
   "source": [],
   "outputs": [],
   "metadata": {}
  },
  {
   "cell_type": "code",
   "execution_count": 17,
   "source": [
    "sum = 0\r\n",
    "# calculate sum of all odd numbers between 1 100\r\n",
    "for i in range(1,100,2):\r\n",
    "    sum += i # addition\r\n",
    "print(f\"1+3+5+7+...+99={sum}\")   "
   ],
   "outputs": [
    {
     "output_type": "stream",
     "name": "stdout",
     "text": [
      "1+3+5+7+...+99=2500\n"
     ]
    }
   ],
   "metadata": {}
  }
 ],
 "metadata": {
  "orig_nbformat": 4,
  "language_info": {
   "name": "python",
   "version": "3.9.6",
   "mimetype": "text/x-python",
   "codemirror_mode": {
    "name": "ipython",
    "version": 3
   },
   "pygments_lexer": "ipython3",
   "nbconvert_exporter": "python",
   "file_extension": ".py"
  },
  "kernelspec": {
   "name": "python3",
   "display_name": "Python 3.9.6 64-bit ('Pythonkurs-8SbhYJ-b': pipenv)"
  },
  "interpreter": {
   "hash": "0e1c4b289a1ee7bbfd05ca4cff940f68637f4315871854be96f4a0a829bab33d"
  }
 },
 "nbformat": 4,
 "nbformat_minor": 2
}