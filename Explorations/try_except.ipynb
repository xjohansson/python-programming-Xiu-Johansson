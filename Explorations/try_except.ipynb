{
 "cells": [
  {
   "cell_type": "markdown",
   "metadata": {},
   "source": [
    "# python异常处理--try except else raise finally\n",
    "https://www.cnblogs.com/bokeyuan11/p/9146607.html"
   ]
  },
  {
   "cell_type": "markdown",
   "metadata": {},
   "source": [
    "# 1.try ...except"
   ]
  },
  {
   "cell_type": "code",
   "execution_count": null,
   "metadata": {},
   "outputs": [],
   "source": [
    "# try 后面写正常运行的程序代码，except即为异常情况\n",
    "a=3\n",
    "b=2\n",
    "for i in range(5):#\n",
    "     try:\n",
    "        a = a - 1\n",
    "        c=b/a\n",
    "        print(c)\n",
    " \n",
    "     except Exception as e: #Exception :常规错误的基类\n",
    "         print(e)#输出异常行为名称"
   ]
  },
  {
   "cell_type": "markdown",
   "metadata": {},
   "source": [
    "# 2.try ....except...else 语句\n",
    "当没有异常发生时，else中的语句将会被执行"
   ]
  },
  {
   "cell_type": "code",
   "execution_count": null,
   "metadata": {},
   "outputs": [],
   "source": [
    "a=3\n",
    "b=2\n",
    "for i in range(3):\n",
    "    try:\n",
    "        a = a - 1\n",
    "        c=b/a\n",
    "        print(c)\n",
    "\n",
    "    except Exception as e:\n",
    "        print(e)\n",
    "    else:\n",
    "        print(\"正常运行\")"
   ]
  },
  {
   "cell_type": "markdown",
   "metadata": {},
   "source": [
    "# 3 当执行try ...finally 语句时，\n",
    "无论异常是否发生，在程序结束前，finally中的语句都会被执行。"
   ]
  },
  {
   "cell_type": "code",
   "execution_count": null,
   "metadata": {},
   "outputs": [],
   "source": [
    "\n",
    "a=3\n",
    "b=2\n",
    "for i in range(3):\n",
    "    try:\n",
    "        a = a - 1\n",
    "        c=b/a\n",
    "        print(c)\n",
    "\n",
    "    except Exception as e:\n",
    "        print(e)\n",
    "    else:\n",
    "        print(\"正常运行\")\n",
    "    finally:\n",
    "        print(\"finally\")"
   ]
  },
  {
   "cell_type": "markdown",
   "metadata": {},
   "source": [
    "# 4.raise引发一个异常\n",
    "比如，当一个条件不满足用户意愿时引发一个异常"
   ]
  },
  {
   "cell_type": "code",
   "execution_count": null,
   "metadata": {},
   "outputs": [],
   "source": [
    "a=3\n",
    "if a<4:\n",
    "    raise Exception #Exception=常规错误的基类\n",
    "else: print(a)"
   ]
  },
  {
   "cell_type": "markdown",
   "metadata": {},
   "source": [
    "# 二、try-except-finally异常处理\n",
    "    \n",
    "  "
   ]
  },
  {
   "cell_type": "code",
   "execution_count": null,
   "metadata": {},
   "outputs": [],
   "source": [
    "# 1. try-except 语法格式：\n",
    "\"\"\"\n",
    "try:\n",
    "尝试执行的代码\n",
    "except:\n",
    "    出现错误的处理\n",
    "    \"\"\"\n",
    "\n",
    "try:\n",
    "    num=int(input(\"请输入一个整字:\")) #假设输入字母A\n",
    "except:\n",
    "    print(\"请输入正确的整数！\") "
   ]
  },
  {
   "cell_type": "code",
   "execution_count": null,
   "metadata": {},
   "outputs": [],
   "source": [
    "# 2. try-except except 语法格式：\n",
    "\"\"\"\n",
    "try:\n",
    "    尝试执行的代码\n",
    "except 错误类型1\n",
    "    出现错误1的处理方式\n",
    "except 错误类型2\n",
    "    出现错误2的处理方式    \n",
    "\n",
    "\"\"\"\n",
    "# except 后面连接的是错误类型\n",
    "# 错误类型经常出现的有ValueError,TypeError,Exception,AttributeError,ZeroDivionError\n",
    " \n",
    "try:\n",
    "    num=int(input(\"请输入一个整数:\")) \n",
    "    result=8/num\n",
    "    print(result)\n",
    "except ZeroDivisionError:# 错误类型1\n",
    "    print(\"分母不能为0\")    # 出现错误1的处理方式\n",
    "except ValueError: # 错误类型2\n",
    "    print(\"输入的数不是合法整数\") # 出现错误2的处理方式 \n",
    "finally:\n",
    "    print(\"8/num的值\")"
   ]
  },
  {
   "cell_type": "code",
   "execution_count": 1,
   "metadata": {},
   "outputs": [
    {
     "name": "stdout",
     "output_type": "stream",
     "text": [
      "error\n",
      "always excute\n"
     ]
    }
   ],
   "source": [
    "#3 try ...except..finally 无论异常是否发生，在程序结束前，finally中的语句都会被执行\n",
    "\n",
    "a=10\n",
    "b=0\n",
    "try:\n",
    "    print ( a/b)\n",
    "except:\n",
    "    print(\"error\")\n",
    "finally:\n",
    "    print (\"always excute\")"
   ]
  },
  {
   "cell_type": "code",
   "execution_count": 2,
   "metadata": {},
   "outputs": [
    {
     "ename": "SyntaxError",
     "evalue": "invalid syntax (Temp/ipykernel_16452/110466892.py, line 7)",
     "output_type": "error",
     "traceback": [
      "\u001b[1;36m  File \u001b[1;32m\"C:\\Users\\Xiu\\AppData\\Local\\Temp/ipykernel_16452/110466892.py\"\u001b[1;36m, line \u001b[1;32m7\u001b[0m\n\u001b[1;33m    except (IOError ,ZeroDivisionError),c:\u001b[0m\n\u001b[1;37m                                       ^\u001b[0m\n\u001b[1;31mSyntaxError\u001b[0m\u001b[1;31m:\u001b[0m invalid syntax\n"
     ]
    }
   ],
   "source": [
    "#4 try ....except...else 语句，当没有异常发生时，else中的语句将会被执行。\n",
    "a=10\n",
    "b=0\n",
    "try:\n",
    "    c = b/ a\n",
    "    print (c)\n",
    "except (IOError ,ZeroDivisionError),c:\n",
    "    print (c)\n",
    "else:\n",
    "    print (\"no error\")\n",
    "print (\"done\")"
   ]
  },
  {
   "cell_type": "code",
   "execution_count": null,
   "metadata": {},
   "outputs": [],
   "source": [
    "#raise 引发一个异常\n",
    "# 使用raise来抛出一个异常：\n",
    "#如果输入的数据不是整数，则引发一个ValueError\n",
    "inputValue=input(\"please input a int data :\")\n",
    "if type(inputValue)!=type(1):\n",
    "    raise ValueError\n",
    "else:\n",
    "    print (inputValue)"
   ]
  }
 ],
 "metadata": {
  "interpreter": {
   "hash": "26686dec1f1c69e7843542045c9bcb01e7d61ef2953291481df04c12bb1a928f"
  },
  "kernelspec": {
   "display_name": "Python 3.9.6 64-bit",
   "language": "python",
   "name": "python3"
  },
  "language_info": {
   "codemirror_mode": {
    "name": "ipython",
    "version": 3
   },
   "file_extension": ".py",
   "mimetype": "text/x-python",
   "name": "python",
   "nbconvert_exporter": "python",
   "pygments_lexer": "ipython3",
   "version": "3.9.6"
  },
  "orig_nbformat": 4
 },
 "nbformat": 4,
 "nbformat_minor": 2
}
