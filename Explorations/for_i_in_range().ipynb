{
 "cells": [
  {
   "cell_type": "markdown",
   "metadata": {},
   "source": [
    "# for i in range ()作用：\n",
    "\n",
    "range()是一个函数， for i in range () 就是给i赋值：比如 for i in range （1，3）：就是给i赋值从1到3 但是不包括3\n",
    "\n",
    "使用方法是:\n",
    "\n",
    "range(start, stop[, step])，分别是起始、终止和步长\n",
    "\n",
    "range（3）即：从0到3，不包含3，即 0,1,2\n",
    "\n",
    "range（1,3）即：从1到3，不包含3，即 0,1,2\n",
    "\n",
    "range（1,7,2）即：从1到7,不包含7，每次增加2，因为1+2=3，所以输出只有1，3，5\n",
    "\n",
    "range(100) 即：从0到100，不包含100，即 0到99"
   ]
  }
 ],
 "metadata": {
  "interpreter": {
   "hash": "26686dec1f1c69e7843542045c9bcb01e7d61ef2953291481df04c12bb1a928f"
  },
  "kernelspec": {
   "display_name": "Python 3.9.6 64-bit",
   "language": "python",
   "name": "python3"
  },
  "language_info": {
   "codemirror_mode": {
    "name": "ipython",
    "version": 3
   },
   "file_extension": ".py",
   "mimetype": "text/x-python",
   "name": "python",
   "nbconvert_exporter": "python",
   "pygments_lexer": "ipython3",
   "version": "3.9.6"
  },
  "orig_nbformat": 4
 },
 "nbformat": 4,
 "nbformat_minor": 2
}
