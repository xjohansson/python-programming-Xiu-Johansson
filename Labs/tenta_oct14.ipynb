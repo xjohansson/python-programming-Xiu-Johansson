{
 "cells": [
  {
   "cell_type": "markdown",
   "metadata": {},
   "source": [
    "# Övningsprov"
   ]
  },
  {
   "cell_type": "code",
   "execution_count": null,
   "metadata": {},
   "outputs": [],
   "source": []
  },
  {
   "cell_type": "markdown",
   "metadata": {},
   "source": [
    "# Tenta_oct 14"
   ]
  },
  {
   "cell_type": "code",
   "execution_count": 3,
   "metadata": {},
   "outputs": [
    {
     "name": "stdout",
     "output_type": "stream",
     "text": [
      "grape\n",
      "e\n"
     ]
    }
   ],
   "source": [
    "#uppgift 1\n",
    "frukter=[\"jordgubbe\",\"vindruva\",\"grape\"]\n",
    "godfrukt=frukter[2]\n",
    "print(godfrukt) #grape\n",
    "\n",
    "print(godfrukt[-1])"
   ]
  },
  {
   "cell_type": "code",
   "execution_count": 4,
   "metadata": {},
   "outputs": [
    {
     "name": "stdout",
     "output_type": "stream",
     "text": [
      "100.48\n"
     ]
    }
   ],
   "source": [
    "#uppgift 3\n",
    "radie=float(input(\"Please enter the radie of the cylinder:\"))\n",
    "height=float(input(\"Please enter the height of the cylinder\"))\n",
    "volyme=3.14*radie**2*height\n",
    "print(volyme)"
   ]
  },
  {
   "cell_type": "code",
   "execution_count": 9,
   "metadata": {},
   "outputs": [
    {
     "name": "stdout",
     "output_type": "stream",
     "text": [
      "<function volyme at 0x000001941F9BE670>\n",
      "25.12\n"
     ]
    }
   ],
   "source": [
    "#uppgift 3 方法二\n",
    "def volyme(radie,height):\n",
    "    return 3.14*radie**2*height\n",
    "\n",
    "radie=float(input(\"Please enter the radie of the cylinder:\"))\n",
    "height=float(input(\"Please enter the height of the cylinder\"))\n",
    "print(volyme)    #显示结果是错误的，显示的是<function volyme at 0x000001941F9BE700>\n",
    "print(volyme(radie,height)) #显示结果是正确的，注意这里一定不能忘记里面的参数半径和高\n",
    "\n"
   ]
  },
  {
   "cell_type": "code",
   "execution_count": 19,
   "metadata": {},
   "outputs": [
    {
     "data": {
      "text/plain": [
       "'25'"
      ]
     },
     "execution_count": 19,
     "metadata": {},
     "output_type": "execute_result"
    }
   ],
   "source": [
    "def function(p1,p2):\n",
    "    return p1+p2 #重点注意这里不是P1=2,P2=5,P1+P2=2+5=7,这里是位置1是2，位置2是5，所以结果是25\n",
    "\n",
    "p1=input(\"p1?\")    \n",
    "p2=\"5\" #引号是重点，没有引号就变成2+5=7\n",
    "\n",
    "function (p1,p2)\n"
   ]
  },
  {
   "cell_type": "code",
   "execution_count": 28,
   "metadata": {},
   "outputs": [
    {
     "name": "stdout",
     "output_type": "stream",
     "text": [
      "V42 Food menu\n",
      "Mån:Chili sin carne \n",
      "Tis:Pannkakor \n",
      "Ons:Ärtsoppa \n",
      "Tor:Kebab \n",
      "Fre:Vegetarisk lasagne \n",
      "\n"
     ]
    }
   ],
   "source": [
    "#CONCATENATE WITH LOOP 与循环连接\n",
    "# uppgift 4\n",
    "bamba=[\"Chili sin carne\",\"Pannkakor\",\"Ärtsoppa\",\"Kebab\",\"Vegetarisk lasagne\"]\n",
    "days=[\"Mån\",\"Tis\",\"Ons\",\"Tor\",\"Fre\"]\n",
    "menu=\"V42 Food Menu\\n\"        #\\n gives newline 换行\n",
    "\n",
    "for day,food in zip(days,bamba):#这里是什么意思\n",
    "    menu += f\"{day}:{food} \\n\"\n",
    "\n",
    "print(menu)"
   ]
  }
 ],
 "metadata": {
  "interpreter": {
   "hash": "26686dec1f1c69e7843542045c9bcb01e7d61ef2953291481df04c12bb1a928f"
  },
  "kernelspec": {
   "display_name": "Python 3.9.6 64-bit",
   "name": "python3"
  },
  "language_info": {
   "codemirror_mode": {
    "name": "ipython",
    "version": 3
   },
   "file_extension": ".py",
   "mimetype": "text/x-python",
   "name": "python",
   "nbconvert_exporter": "python",
   "pygments_lexer": "ipython3",
   "version": "3.9.6"
  },
  "orig_nbformat": 4
 },
 "nbformat": 4,
 "nbformat_minor": 2
}
