{
 "cells": [
  {
   "cell_type": "markdown",
   "metadata": {},
   "source": [
    "# Övningsprov för tenta"
   ]
  },
  {
   "cell_type": "code",
   "execution_count": 1,
   "metadata": {},
   "outputs": [
    {
     "ename": "SyntaxError",
     "evalue": "invalid syntax (Temp/ipykernel_6688/3889762234.py, line 7)",
     "output_type": "error",
     "traceback": [
      "\u001b[1;36m  File \u001b[1;32m\"C:\\Users\\Xiu\\AppData\\Local\\Temp/ipykernel_6688/3889762234.py\"\u001b[1;36m, line \u001b[1;32m7\u001b[0m\n\u001b[1;33m    as.plot(x,y)\u001b[0m\n\u001b[1;37m    ^\u001b[0m\n\u001b[1;31mSyntaxError\u001b[0m\u001b[1;31m:\u001b[0m invalid syntax\n"
     ]
    }
   ],
   "source": [
    "#uppgift 1\n",
    "import matplotlib.pyplot as plt\n",
    "\n",
    "x=list(range(10)) #创建一个从 0-9 的整数列表\n",
    "y=[i**2 for i in x]  #y=x^2 (x number from 0 to 9)\n",
    "fig,ax=plt.figure(),plt.axes()\n",
    "as.plot(x,y)\n",
    "ax.set(title=\"Plot\",xlabel=\"x\",ylabel=\"y\")"
   ]
  },
  {
   "cell_type": "markdown",
   "metadata": {},
   "source": [
    "# Uppgift 2 (3p)\n",
    "\n",
    "Simulera 1000000 tärningskast och beräkna antalet ettor, tvåor, treor, fyror, femmor och sexor.\n",
    "Spara resultatet i en lämplig datastruktur.\n",
    "\n",
    "模拟 1000000 掷骰子并计算 1、2、3、4、5 和 6 的数量。\n",
    "将结果保存在合适的数据结构中"
   ]
  },
  {
   "cell_type": "code",
   "execution_count": 17,
   "metadata": {},
   "outputs": [
    {
     "name": "stdout",
     "output_type": "stream",
     "text": [
      "Times for roll 1 is :166578\n",
      "Times for roll 2 is :166778\n",
      "Times for roll 3 is :166519\n",
      "Times for roll 4 is :166719\n",
      "Times for roll 5 is :166418\n",
      "Times for roll 6 is :166988\n"
     ]
    }
   ],
   "source": [
    "#reference kun\n",
    "import random as rnd\n",
    "\n",
    "times1 = 0\n",
    "times2 = 0\n",
    "times3 = 0\n",
    "times4 = 0\n",
    "times5 = 0\n",
    "times6 = 0\n",
    "\n",
    "list = [rnd.randint(1,6) for i in range(1000000)]\n",
    "for j in list:\n",
    "    if j == 1:\n",
    "        times1+=1\n",
    "    if j == 2:\n",
    "        times2+=1\n",
    "    if j == 3:\n",
    "        times3+=1\n",
    "    if j == 4:\n",
    "        times4+=1\n",
    "    if j == 5:\n",
    "        times5+=1\n",
    "    if j == 6:\n",
    "        times6+=1\n",
    "\n",
    "print(f\"Times for roll 1 is :{times1}\")\n",
    "print(f\"Times for roll 2 is :{times2}\")\n",
    "print(f\"Times for roll 3 is :{times3}\")\n",
    "print(f\"Times for roll 4 is :{times4}\")\n",
    "print(f\"Times for roll 5 is :{times5}\")\n",
    "print(f\"Times for roll 6 is :{times6}\")"
   ]
  },
  {
   "cell_type": "code",
   "execution_count": 16,
   "metadata": {},
   "outputs": [
    {
     "name": "stdout",
     "output_type": "stream",
     "text": [
      "The number of 1 is: 166336\n",
      "The number of 2 is: 166669\n",
      "The number of 3 is: 166674\n",
      "The number of 4 is: 166476\n",
      "The number of 5 is: 166779\n",
      "The number of 6 is: 167066\n"
     ]
    }
   ],
   "source": [
    "#reference liu\n",
    "import random as rnd\n",
    "outcomes = [rnd.randint(1,6) for i in range(1000000)]  #randint!!!, not randomint!!!\n",
    "dices = list(range(1,7))  # list(), not list[]\n",
    "n_of_dices = [outcomes.count(dice) for dice in dices]\n",
    "for dice, n_of_dice in zip(dices, n_of_dices):\n",
    "    print(f\"The number of {dice} is: {n_of_dice}\")"
   ]
  },
  {
   "cell_type": "code",
   "execution_count": 18,
   "metadata": {},
   "outputs": [
    {
     "ename": "TypeError",
     "evalue": "'list' object is not callable",
     "output_type": "error",
     "traceback": [
      "\u001b[1;31m---------------------------------------------------------------------------\u001b[0m",
      "\u001b[1;31mTypeError\u001b[0m                                 Traceback (most recent call last)",
      "\u001b[1;32m~\\AppData\\Local\\Temp/ipykernel_18880/4171898583.py\u001b[0m in \u001b[0;36m<module>\u001b[1;34m\u001b[0m\n\u001b[0;32m      1\u001b[0m \u001b[1;31m# dictionary\u001b[0m\u001b[1;33m\u001b[0m\u001b[1;33m\u001b[0m\u001b[1;33m\u001b[0m\u001b[0m\n\u001b[0;32m      2\u001b[0m \u001b[1;32mimport\u001b[0m \u001b[0mrandom\u001b[0m \u001b[1;32mas\u001b[0m \u001b[0mrnd\u001b[0m\u001b[1;33m\u001b[0m\u001b[1;33m\u001b[0m\u001b[0m\n\u001b[1;32m----> 3\u001b[1;33m \u001b[0mdices\u001b[0m \u001b[1;33m=\u001b[0m \u001b[0mlist\u001b[0m\u001b[1;33m(\u001b[0m\u001b[1;34m\"123456\"\u001b[0m\u001b[1;33m)\u001b[0m\u001b[1;33m\u001b[0m\u001b[1;33m\u001b[0m\u001b[0m\n\u001b[0m\u001b[0;32m      4\u001b[0m \u001b[1;33m\u001b[0m\u001b[0m\n\u001b[0;32m      5\u001b[0m \u001b[1;31m#create output_limit dictionary:\u001b[0m\u001b[1;33m\u001b[0m\u001b[1;33m\u001b[0m\u001b[1;33m\u001b[0m\u001b[0m\n",
      "\u001b[1;31mTypeError\u001b[0m: 'list' object is not callable"
     ]
    }
   ],
   "source": [
    "#reference liu\n",
    "# dictionary\n",
    "import random as rnd\n",
    "dices = list(\"123456\")\n",
    "\n",
    "#create output_limit dictionary:\n",
    "output_limit = {key: i+1 for i, key in enumerate(dices)}\n",
    "\n",
    "#create output_count dictionary:\n",
    "output_count = {key: 0 for key in dices}\n",
    "\n",
    "# generate random dices result\n",
    "results = [rnd.randint(1, 6) for _i in range(1000000)]\n",
    "\n",
    "# count dices in results\n",
    "for result in results:\n",
    "\tfor key, value in output_limit.items():\n",
    "\t\tif result == value:\n",
    "\t\t\toutput_count [key] += 1\n",
    "print(f\"The dice rolls results are: {output_count}\")"
   ]
  },
  {
   "cell_type": "markdown",
   "metadata": {},
   "source": [
    "# Uppgift 3 (3p)\n",
    "Skriv en funktion som tar in en radie som inparameter och som returnerar volymen av en sfär.\n",
    "Volymen för en sfär är:V=4/3*pi*r^3 \n",
    "Låt användaren mata in ett tal och kör funktionen. Tänk på att ta med lämplig felhantering.\n",
    "\n",
    "编写一个函数，将半径作为输入参数并返回球体的体积。\n",
    "球体的体积为：V = 4/3 * πr ^ 3\n",
    "让用户输入一个数字并运行该函数。 记得带上适当的错误处理。"
   ]
  },
  {
   "cell_type": "code",
   "execution_count": 10,
   "metadata": {},
   "outputs": [
    {
     "name": "stdout",
     "output_type": "stream",
     "text": [
      "volymen_sfär is <function volymen_sfär at 0x0000024C68C0EAF0> when radie is 10\n"
     ]
    }
   ],
   "source": [
    "r=float(input(\"please enter the radie\"))\n",
    "def volymen_sfär(r):\n",
    "    return 4/3*3.14*r**3\n",
    "\n",
    "print(f\"volymen_sfär is {volymen_sfär} when radie is {r}\")"
   ]
  },
  {
   "cell_type": "code",
   "execution_count": 14,
   "metadata": {},
   "outputs": [
    {
     "name": "stdout",
     "output_type": "stream",
     "text": [
      "The volume is 4188.79\n"
     ]
    }
   ],
   "source": [
    "from math import pi\n",
    "def volume(radius):\n",
    "    return (4/3)*pi*radius**3\n",
    "\n",
    "while True:\n",
    "    try:\n",
    "        radius = float(input(\"Please input a number\"))\n",
    "        if not radius> 0:\n",
    "            raise ValueError(\"The radius should be positive.\")\n",
    "        vol = volume(radius)\n",
    "        print(f\"The volume is {vol:.2f}\")   #.2f should be inside the {} 保持小数点2位\n",
    "        break\n",
    "    except ValueError as err:\n",
    "        print(err)"
   ]
  },
  {
   "cell_type": "code",
   "execution_count": 12,
   "metadata": {},
   "outputs": [
    {
     "name": "stdout",
     "output_type": "stream",
     "text": [
      "The volume of radius(10.0) is: 4188.79\n"
     ]
    }
   ],
   "source": [
    "from math import pi\n",
    "\n",
    "# def function\n",
    "\n",
    "def volume(radius):\n",
    "\treturn (4/3)*pi*radius**3\n",
    "\n",
    "while True:\n",
    "\ttry:\n",
    "\t\tradius = float(input(\"number, please\"))\n",
    "\t\tif radius < 0:\n",
    "\t\t\traise ValueError (f\"Non-negative radius please, not {radius}\")\n",
    "\t\tbreak\n",
    "\texcept ValueError as err:\n",
    "\t\tprint(err)\n",
    "\n",
    "volume = volume(radius)\n",
    "print(f\"The volume of radius({radius}) is: {volume:.2f}\")\n"
   ]
  },
  {
   "cell_type": "code",
   "execution_count": 2,
   "metadata": {},
   "outputs": [],
   "source": [
    "r=input(\"please enter the radie\")"
   ]
  },
  {
   "cell_type": "markdown",
   "metadata": {},
   "source": [
    "# Uppgift 4 (3p)\n",
    "Läs in en textfil som heter bamba.txt och innehåller:\n",
    "\n",
    "v42\n",
    "\n",
    "Chili sin carne\n",
    "\n",
    "Pannkakor\n",
    "\n",
    "Ärtsoppa\n",
    "\n",
    "Kebab\n",
    "\n",
    "Vegetarisk lasagne\n",
    "\n",
    "Läs in texterna och skriv ut dem i terminalen.\n",
    "\n"
   ]
  },
  {
   "cell_type": "code",
   "execution_count": 15,
   "metadata": {},
   "outputs": [
    {
     "ename": "FileNotFoundError",
     "evalue": "[Errno 2] No such file or directory: 'bamba.txt'",
     "output_type": "error",
     "traceback": [
      "\u001b[1;31m---------------------------------------------------------------------------\u001b[0m",
      "\u001b[1;31mFileNotFoundError\u001b[0m                         Traceback (most recent call last)",
      "\u001b[1;32m~\\AppData\\Local\\Temp/ipykernel_18880/968847660.py\u001b[0m in \u001b[0;36m<module>\u001b[1;34m\u001b[0m\n\u001b[0;32m      1\u001b[0m \u001b[0mpath\u001b[0m \u001b[1;33m=\u001b[0m \u001b[1;34m\"bamba.txt\"\u001b[0m  \u001b[1;31m# directly go to siblings room\u001b[0m\u001b[1;33m\u001b[0m\u001b[1;33m\u001b[0m\u001b[0m\n\u001b[1;32m----> 2\u001b[1;33m \u001b[1;32mwith\u001b[0m \u001b[0mopen\u001b[0m\u001b[1;33m(\u001b[0m\u001b[0mpath\u001b[0m\u001b[1;33m,\u001b[0m \u001b[1;34m\"r\"\u001b[0m\u001b[1;33m,\u001b[0m \u001b[0mencoding\u001b[0m\u001b[1;33m=\u001b[0m\u001b[1;34m\"utf8\"\u001b[0m \u001b[1;33m)\u001b[0m \u001b[1;32mas\u001b[0m \u001b[0mf\u001b[0m\u001b[1;33m:\u001b[0m    \u001b[1;31m# encoding=\"utf8\" !!!! To print svenska words.\u001b[0m\u001b[1;33m\u001b[0m\u001b[1;33m\u001b[0m\u001b[0m\n\u001b[0m\u001b[0;32m      3\u001b[0m     \u001b[0mtxt\u001b[0m \u001b[1;33m=\u001b[0m \u001b[0mf\u001b[0m\u001b[1;33m.\u001b[0m\u001b[0mread\u001b[0m\u001b[1;33m(\u001b[0m\u001b[1;33m)\u001b[0m\u001b[1;33m\u001b[0m\u001b[1;33m\u001b[0m\u001b[0m\n\u001b[0;32m      4\u001b[0m     \u001b[0mprint\u001b[0m\u001b[1;33m(\u001b[0m\u001b[0mtxt\u001b[0m\u001b[1;33m)\u001b[0m\u001b[1;33m\u001b[0m\u001b[1;33m\u001b[0m\u001b[0m\n",
      "\u001b[1;31mFileNotFoundError\u001b[0m: [Errno 2] No such file or directory: 'bamba.txt'"
     ]
    }
   ],
   "source": [
    "path = \"bamba.txt\"  # directly go to siblings room\n",
    "with open(path, \"r\", encoding=\"utf8\" ) as f:    # encoding=\"utf8\" !!!! To print svenska words.\n",
    "    txt = f.read()       \n",
    "    print(txt)"
   ]
  },
  {
   "cell_type": "markdown",
   "metadata": {},
   "source": [
    "# Uppgift 5 (3p)\n",
    "Skapa en funktion som tar in två punkter i 2D , och som returnerar tillbaka\n",
    "avståndet mellan dessa. Anropa därefter denna funktion för test\n",
    "\n",
    "Det finns en textfil som heter testpunkter.txt som ligger i undermappen testpoints och\n",
    "innehåller:"
   ]
  },
  {
   "cell_type": "markdown",
   "metadata": {},
   "source": [
    "# Uppgift 6 (VG-nivå) (4p)\n",
    "I den här uppgiften ska du skapa ett blackjack som är ett kortspel. Förenklat är reglerna för\n",
    "blackjack:\n",
    "dealern tar två kort\n",
    "\n",
    "dealern visar sitt första kort\n",
    "\n",
    "spelaren tar två kort\n",
    "\n",
    "spelaren får välja att ta nytt kort eller stanna\n",
    "\n",
    "när spelaren stannar räknar man poängen genom:\n",
    "\n",
    "J, K, Q värda 10p\n",
    "\n",
    "A värd 1 eller 11\n",
    "\n",
    "Övriga kort värda deras valör\n",
    "\n",
    "om spelarens poäng mindre eller lika med 21, vinner spelaren om hens poäng överstiger\n",
    "dealerns, annars vinner dealern"
   ]
  },
  {
   "cell_type": "markdown",
   "metadata": {},
   "source": [
    "# Uppgift 7 (VG-nivå) (4p)\n",
    "Skapa en klass som heter NormalDist som följer detta UML:\n"
   ]
  },
  {
   "cell_type": "code",
   "execution_count": 33,
   "metadata": {},
   "outputs": [
    {
     "name": "stdout",
     "output_type": "stream",
     "text": [
      "12345678\n"
     ]
    }
   ],
   "source": [
    "# 提示用户输入密码 如果长度小于8位就抛出异常\n",
    "def set_passwd():#设置密码\n",
    "    pwd = input(\"please enter the password:\") #请输入密码\n",
    "    if len(pwd) >= 8:#如果密码要8位以上\n",
    "        return pwd\n",
    "    \n",
    "    print(\"主动抛出异常\")\n",
    "    ex = Exception('the longth of pwd is not enough!') #密码长度不够\n",
    "    raise ex\n",
    "\n",
    "try:\n",
    "    print(set_passwd())\n",
    "except Exception as result:#exception 可以将所有的异常包括在内，将异常赋予变量result\n",
    "    print(result)"
   ]
  },
  {
   "cell_type": "code",
   "execution_count": 3,
   "metadata": {},
   "outputs": [
    {
     "name": "stdout",
     "output_type": "stream",
     "text": [
      "异常错误：invalid literal for int() with base 10: 'as'\n"
     ]
    }
   ],
   "source": [
    "def fun1():\n",
    "    value = int(input('please enter a int:'))\n",
    "    return value\n",
    "\n",
    "def fun2():\n",
    "    return fun1()\n",
    "\n",
    "try:\n",
    "    print(fun2())\n",
    "except Exception as result:\n",
    "    print(\"异常错误：%s\" % result)\n",
    "\n",
    " #output:异常错误：invalid literal for int() with base 10: 'as' 的无效文字"
   ]
  }
 ],
 "metadata": {
  "interpreter": {
   "hash": "26686dec1f1c69e7843542045c9bcb01e7d61ef2953291481df04c12bb1a928f"
  },
  "kernelspec": {
   "display_name": "Python 3.9.6 64-bit",
   "name": "python3"
  },
  "language_info": {
   "codemirror_mode": {
    "name": "ipython",
    "version": 3
   },
   "file_extension": ".py",
   "mimetype": "text/x-python",
   "name": "python",
   "nbconvert_exporter": "python",
   "pygments_lexer": "ipython3",
   "version": "3.9.6"
  },
  "orig_nbformat": 4
 },
 "nbformat": 4,
 "nbformat_minor": 2
}
