{
 "cells": [
  {
   "cell_type": "markdown",
   "source": [
    "# Övningsprov för tenta"
   ],
   "metadata": {}
  },
  {
   "cell_type": "code",
   "execution_count": 1,
   "source": [
    "#uppgift 1\r\n",
    "import matplotlib.pyplot as plt\r\n",
    "\r\n",
    "x=list(range(10))\r\n",
    "y=[i**2 for i in x]\r\n",
    "fig,ax=plt.figure(),plt.axes()\r\n",
    "as.plot(x,y)\r\n",
    "ax.set(title=\"Plot\",xlabel=\"x\",ylabel=\"y\")"
   ],
   "outputs": [
    {
     "output_type": "error",
     "ename": "SyntaxError",
     "evalue": "invalid syntax (Temp/ipykernel_6688/3889762234.py, line 7)",
     "traceback": [
      "\u001b[1;36m  File \u001b[1;32m\"C:\\Users\\Xiu\\AppData\\Local\\Temp/ipykernel_6688/3889762234.py\"\u001b[1;36m, line \u001b[1;32m7\u001b[0m\n\u001b[1;33m    as.plot(x,y)\u001b[0m\n\u001b[1;37m    ^\u001b[0m\n\u001b[1;31mSyntaxError\u001b[0m\u001b[1;31m:\u001b[0m invalid syntax\n"
     ]
    }
   ],
   "metadata": {}
  }
 ],
 "metadata": {
  "orig_nbformat": 4,
  "language_info": {
   "name": "python",
   "version": "3.9.6",
   "mimetype": "text/x-python",
   "codemirror_mode": {
    "name": "ipython",
    "version": 3
   },
   "pygments_lexer": "ipython3",
   "nbconvert_exporter": "python",
   "file_extension": ".py"
  },
  "kernelspec": {
   "name": "python3",
   "display_name": "Python 3.9.6 64-bit"
  },
  "interpreter": {
   "hash": "26686dec1f1c69e7843542045c9bcb01e7d61ef2953291481df04c12bb1a928f"
  }
 },
 "nbformat": 4,
 "nbformat_minor": 2
}