{
 "cells": [
  {
   "cell_type": "markdown",
   "source": [
    "# Övningsprov för tenta"
   ],
   "metadata": {}
  },
  {
   "cell_type": "code",
   "execution_count": 1,
   "source": [
    "#uppgift 1\r\n",
    "import matplotlib.pyplot as plt\r\n",
    "\r\n",
    "x=list(range(10)) #创建一个从 0-9 的整数列表\r\n",
    "y=[i**2 for i in x]  #y=x^2 (x number from 0 to 9)\r\n",
    "fig,ax=plt.figure(),plt.axes()\r\n",
    "as.plot(x,y)\r\n",
    "ax.set(title=\"Plot\",xlabel=\"x\",ylabel=\"y\")"
   ],
   "outputs": [
    {
     "output_type": "error",
     "ename": "SyntaxError",
     "evalue": "invalid syntax (Temp/ipykernel_6688/3889762234.py, line 7)",
     "traceback": [
      "\u001b[1;36m  File \u001b[1;32m\"C:\\Users\\Xiu\\AppData\\Local\\Temp/ipykernel_6688/3889762234.py\"\u001b[1;36m, line \u001b[1;32m7\u001b[0m\n\u001b[1;33m    as.plot(x,y)\u001b[0m\n\u001b[1;37m    ^\u001b[0m\n\u001b[1;31mSyntaxError\u001b[0m\u001b[1;31m:\u001b[0m invalid syntax\n"
     ]
    }
   ],
   "metadata": {}
  },
  {
   "cell_type": "code",
   "execution_count": 33,
   "source": [
    "# 提示用户输入密码 如果长度小于8位就抛出异常\r\n",
    "def set_passwd():#设置密码\r\n",
    "    pwd = input(\"please enter the password:\") #请输入密码\r\n",
    "    if len(pwd) >= 8:#如果密码要8位以上\r\n",
    "        return pwd\r\n",
    "    \r\n",
    "    print(\"主动抛出异常\")\r\n",
    "    ex = Exception('the longth of pwd is not enough!') #密码长度不够\r\n",
    "    raise ex\r\n",
    "\r\n",
    "try:\r\n",
    "    print(set_passwd())\r\n",
    "except Exception as result:#exception 可以将所有的异常包括在内，将异常赋予变量result\r\n",
    "    print(result)"
   ],
   "outputs": [
    {
     "output_type": "stream",
     "name": "stdout",
     "text": [
      "12345678\n"
     ]
    }
   ],
   "metadata": {}
  },
  {
   "cell_type": "code",
   "execution_count": 3,
   "source": [
    "def fun1():\r\n",
    "    value = int(input('please enter a int:'))\r\n",
    "    return value\r\n",
    "\r\n",
    "def fun2():\r\n",
    "    return fun1()\r\n",
    "\r\n",
    "try:\r\n",
    "    print(fun2())\r\n",
    "except Exception as result:\r\n",
    "    print(\"异常错误：%s\" % result)\r\n",
    "\r\n",
    " #output:异常错误：invalid literal for int() with base 10: 'as' 的无效文字"
   ],
   "outputs": [
    {
     "output_type": "stream",
     "name": "stdout",
     "text": [
      "异常错误：invalid literal for int() with base 10: 'as'\n"
     ]
    }
   ],
   "metadata": {}
  },
  {
   "cell_type": "code",
   "execution_count": 38,
   "source": [
    "a=10\r\n",
    "b=0\r\n",
    "c=a/b\r\n",
    "print (\"done\")\r\n",
    "#我们发现程序因为ZeroDivisionError而中断了，语句print \"done\" 没有运行。为了处理异常，我们使用try...except,更改代码："
   ],
   "outputs": [
    {
     "output_type": "error",
     "ename": "ZeroDivisionError",
     "evalue": "division by zero",
     "traceback": [
      "\u001b[1;31m---------------------------------------------------------------------------\u001b[0m",
      "\u001b[1;31mZeroDivisionError\u001b[0m                         Traceback (most recent call last)",
      "\u001b[1;32m~\\AppData\\Local\\Temp/ipykernel_13140/2728037911.py\u001b[0m in \u001b[0;36m<module>\u001b[1;34m\u001b[0m\n\u001b[0;32m      1\u001b[0m \u001b[0ma\u001b[0m\u001b[1;33m=\u001b[0m\u001b[1;36m10\u001b[0m\u001b[1;33m\u001b[0m\u001b[1;33m\u001b[0m\u001b[0m\n\u001b[0;32m      2\u001b[0m \u001b[0mb\u001b[0m\u001b[1;33m=\u001b[0m\u001b[1;36m0\u001b[0m\u001b[1;33m\u001b[0m\u001b[1;33m\u001b[0m\u001b[0m\n\u001b[1;32m----> 3\u001b[1;33m \u001b[0mc\u001b[0m\u001b[1;33m=\u001b[0m\u001b[0ma\u001b[0m\u001b[1;33m/\u001b[0m\u001b[0mb\u001b[0m\u001b[1;33m\u001b[0m\u001b[1;33m\u001b[0m\u001b[0m\n\u001b[0m\u001b[0;32m      4\u001b[0m \u001b[0mprint\u001b[0m \u001b[1;33m(\u001b[0m\u001b[1;34m\"done\"\u001b[0m\u001b[1;33m)\u001b[0m\u001b[1;33m\u001b[0m\u001b[1;33m\u001b[0m\u001b[0m\n\u001b[0;32m      5\u001b[0m \u001b[1;31m#我们发现程序因为ZeroDivisionError而中断了，语句print \"done\" 没有运行。为了处理异常，我们使用try...except,更改代码：\u001b[0m\u001b[1;33m\u001b[0m\u001b[1;33m\u001b[0m\u001b[1;33m\u001b[0m\u001b[0m\n",
      "\u001b[1;31mZeroDivisionError\u001b[0m: division by zero"
     ]
    }
   ],
   "metadata": {}
  },
  {
   "cell_type": "code",
   "execution_count": 15,
   "source": [
    "#为了处理异常，我们使用try...except,更改代码：\r\n",
    "a=10\r\n",
    "b=0\r\n",
    "try:\r\n",
    "    c=a/b\r\n",
    "    print (c)\r\n",
    "except ZeroDivisionError,e:\r\n",
    "    print (e.message)\r\n",
    "print (\"done\")"
   ],
   "outputs": [
    {
     "output_type": "error",
     "ename": "SyntaxError",
     "evalue": "invalid syntax (Temp/ipykernel_13140/4209143236.py, line 7)",
     "traceback": [
      "\u001b[1;36m  File \u001b[1;32m\"C:\\Users\\Xiu\\AppData\\Local\\Temp/ipykernel_13140/4209143236.py\"\u001b[1;36m, line \u001b[1;32m7\u001b[0m\n\u001b[1;33m    except ZeroDivisionError,e:\u001b[0m\n\u001b[1;37m                            ^\u001b[0m\n\u001b[1;31mSyntaxError\u001b[0m\u001b[1;31m:\u001b[0m invalid syntax\n"
     ]
    }
   ],
   "metadata": {}
  },
  {
   "cell_type": "code",
   "execution_count": 18,
   "source": [
    "#try ....except...else 语句，当没有异常发生时，else中的语句将会被执行。\r\n",
    "a=10\r\n",
    "b=0\r\n",
    "try:\r\n",
    "    c = b/ a\r\n",
    "    print (c)\r\n",
    "except (IOError ,ZeroDivisionError),x:\r\n",
    "    print (x)\r\n",
    "else:\r\n",
    "    print (\"no error\")\r\n",
    "print (\"done\")"
   ],
   "outputs": [
    {
     "output_type": "error",
     "ename": "SyntaxError",
     "evalue": "invalid syntax (Temp/ipykernel_13140/486879538.py, line 7)",
     "traceback": [
      "\u001b[1;36m  File \u001b[1;32m\"C:\\Users\\Xiu\\AppData\\Local\\Temp/ipykernel_13140/486879538.py\"\u001b[1;36m, line \u001b[1;32m7\u001b[0m\n\u001b[1;33m    except ((IOError ,ZeroDivisionError),x:)\u001b[0m\n\u001b[1;37m                                          ^\u001b[0m\n\u001b[1;31mSyntaxError\u001b[0m\u001b[1;31m:\u001b[0m invalid syntax\n"
     ]
    }
   ],
   "metadata": {}
  },
  {
   "cell_type": "code",
   "execution_count": 23,
   "source": [
    "#raise 引发一个异常\r\n",
    "# 使用raise来抛出一个异常：\r\n",
    "#如果输入的数据不是整数，则引发一个ValueError\r\n",
    "inputValue=input(\"please input a int data :\")\r\n",
    "if type(inputValue)!=type(1):\r\n",
    "    raise ValueError\r\n",
    "else:\r\n",
    "    print (inputValue)"
   ],
   "outputs": [
    {
     "output_type": "error",
     "ename": "ValueError",
     "evalue": "",
     "traceback": [
      "\u001b[1;31m---------------------------------------------------------------------------\u001b[0m",
      "\u001b[1;31mValueError\u001b[0m                                Traceback (most recent call last)",
      "\u001b[1;32m~\\AppData\\Local\\Temp/ipykernel_13140/3443365318.py\u001b[0m in \u001b[0;36m<module>\u001b[1;34m\u001b[0m\n\u001b[0;32m      3\u001b[0m \u001b[0minputValue\u001b[0m\u001b[1;33m=\u001b[0m\u001b[0minput\u001b[0m\u001b[1;33m(\u001b[0m\u001b[1;34m\"please input a int data :\"\u001b[0m\u001b[1;33m)\u001b[0m\u001b[1;33m\u001b[0m\u001b[1;33m\u001b[0m\u001b[0m\n\u001b[0;32m      4\u001b[0m \u001b[1;32mif\u001b[0m \u001b[0mtype\u001b[0m\u001b[1;33m(\u001b[0m\u001b[0minputValue\u001b[0m\u001b[1;33m)\u001b[0m\u001b[1;33m!=\u001b[0m\u001b[0mtype\u001b[0m\u001b[1;33m(\u001b[0m\u001b[1;36m1\u001b[0m\u001b[1;33m)\u001b[0m\u001b[1;33m:\u001b[0m\u001b[1;33m\u001b[0m\u001b[1;33m\u001b[0m\u001b[0m\n\u001b[1;32m----> 5\u001b[1;33m     \u001b[1;32mraise\u001b[0m \u001b[0mValueError\u001b[0m\u001b[1;33m\u001b[0m\u001b[1;33m\u001b[0m\u001b[0m\n\u001b[0m\u001b[0;32m      6\u001b[0m \u001b[1;32melse\u001b[0m\u001b[1;33m:\u001b[0m\u001b[1;33m\u001b[0m\u001b[1;33m\u001b[0m\u001b[0m\n\u001b[0;32m      7\u001b[0m     \u001b[0mprint\u001b[0m \u001b[1;33m(\u001b[0m\u001b[0minputValue\u001b[0m\u001b[1;33m)\u001b[0m\u001b[1;33m\u001b[0m\u001b[1;33m\u001b[0m\u001b[0m\n",
      "\u001b[1;31mValueError\u001b[0m: "
     ]
    }
   ],
   "metadata": {}
  },
  {
   "cell_type": "code",
   "execution_count": 6,
   "source": [
    "#三、try ...finally 无论异常是否发生，在程序结束前，finally中的语句都会被执行\r\n",
    "# try except ,finally\r\n",
    "a=10\r\n",
    "b=0\r\n",
    "try:\r\n",
    "    print ( a/b)\r\n",
    "except:\r\n",
    "    print(\"error\")\r\n",
    "finally:\r\n",
    "    print (\"always excute\")"
   ],
   "outputs": [
    {
     "output_type": "stream",
     "name": "stdout",
     "text": [
      "error\n",
      "always excute\n"
     ]
    }
   ],
   "metadata": {}
  },
  {
   "cell_type": "code",
   "execution_count": 9,
   "source": [
    "class MyException(Exception):\r\n",
    "    def __init__(self,message):\r\n",
    "        Exception.__init__(self)\r\n",
    "        self.message=message   \r\n",
    "\r\n",
    "a=input(\"please input a num:\")\r\n",
    "if a<10:\r\n",
    "    try:\r\n",
    "        raise MyException(\"my excepition is raised \")\r\n",
    "    except MyException,e:\r\n",
    "        print e.message        "
   ],
   "outputs": [
    {
     "output_type": "error",
     "ename": "SyntaxError",
     "evalue": "invalid syntax (Temp/ipykernel_13140/750053135.py, line 10)",
     "traceback": [
      "\u001b[1;36m  File \u001b[1;32m\"C:\\Users\\Xiu\\AppData\\Local\\Temp/ipykernel_13140/750053135.py\"\u001b[1;36m, line \u001b[1;32m10\u001b[0m\n\u001b[1;33m    except MyException,e:\u001b[0m\n\u001b[1;37m                      ^\u001b[0m\n\u001b[1;31mSyntaxError\u001b[0m\u001b[1;31m:\u001b[0m invalid syntax\n"
     ]
    }
   ],
   "metadata": {}
  },
  {
   "cell_type": "code",
   "execution_count": 27,
   "source": [
    "# 二、try-except-finally异常处理\r\n",
    "# 1. try-except 语法格式：\r\n",
    "\"\"\"\r\n",
    "try:\r\n",
    "尝试执行的代码\r\n",
    "except:\r\n",
    "    出现错误的处理\r\n",
    "    \"\"\"\r\n",
    "\r\n",
    "try:\r\n",
    "    num=int(input(\"请输入一个整字:\")) #假设输入字母A\r\n",
    "except:\r\n",
    "    print(\"请输入正确的整数！\")    "
   ],
   "outputs": [
    {
     "output_type": "stream",
     "name": "stdout",
     "text": [
      "请输入正确的整数！\n"
     ]
    }
   ],
   "metadata": {}
  },
  {
   "cell_type": "code",
   "execution_count": 31,
   "source": [
    "# 2. try-except except 语法格式：\r\n",
    "\"\"\"\r\n",
    "try:\r\n",
    "    尝试执行的代码\r\n",
    "except 错误类型1\r\n",
    "    出现错误1的处理方式\r\n",
    "except 错误类型2\r\n",
    "    出现错误2的处理方式    \r\n",
    "\r\n",
    "\"\"\"\r\n",
    "# except 后面连接的是错误类型\r\n",
    "# 错误类型经常出现的有ValueError,TypeError,Exception,AttributeError,ZeroDivionError\r\n",
    " \r\n",
    "try:\r\n",
    "    num=int(input(\"请输入一个整数:\")) \r\n",
    "    result=8/num\r\n",
    "    print(result)\r\n",
    "except ZeroDivisionError:# 错误类型1\r\n",
    "    print(\"分母不能为0\")    # 出现错误1的处理方式\r\n",
    "except ValueError: # 错误类型2\r\n",
    "    print(\"输入的数不是合法整数\") # 出现错误2的处理方式 \r\n",
    "finally:\r\n",
    "    print(\"8/num的值\")\r\n",
    "\r\n",
    "\r\n"
   ],
   "outputs": [
    {
     "output_type": "stream",
     "name": "stdout",
     "text": [
      "4.0\n",
      "8/num的值\n"
     ]
    }
   ],
   "metadata": {}
  },
  {
   "cell_type": "markdown",
   "source": [
    "# python异常处理--try except else raise finally\r\n",
    "# https://www.cnblogs.com/bokeyuan11/p/9146607.html"
   ],
   "metadata": {}
  },
  {
   "cell_type": "code",
   "execution_count": 34,
   "source": [
    "#1.try ...except\r\n",
    "# try 后面写正常运行的程序代码，except即为异常情况\r\n",
    "a=3\r\n",
    "b=2\r\n",
    "for i in range(5):#\r\n",
    "     try:\r\n",
    "        a = a - 1\r\n",
    "        c=b/a\r\n",
    "        print(c)\r\n",
    " \r\n",
    "     except Exception as e: #Exception :常规错误的基类\r\n",
    "         print(e)#输出异常行为名称"
   ],
   "outputs": [
    {
     "output_type": "stream",
     "name": "stdout",
     "text": [
      "1.0\n",
      "2.0\n",
      "division by zero\n",
      "-2.0\n",
      "-1.0\n"
     ]
    }
   ],
   "metadata": {}
  },
  {
   "cell_type": "code",
   "execution_count": 35,
   "source": [
    "#2.try ....except...else 语句，当没有异常发生时，else中的语句将会被执行\r\n",
    "a=3\r\n",
    "b=2\r\n",
    "for i in range(3):\r\n",
    "    try:\r\n",
    "        a = a - 1\r\n",
    "        c=b/a\r\n",
    "        print(c)\r\n",
    "\r\n",
    "    except Exception as e:\r\n",
    "        print(e)\r\n",
    "    else:\r\n",
    "        print(\"正常运行\")"
   ],
   "outputs": [
    {
     "output_type": "stream",
     "name": "stdout",
     "text": [
      "1.0\n",
      "正常运行\n",
      "2.0\n",
      "正常运行\n",
      "division by zero\n"
     ]
    }
   ],
   "metadata": {}
  },
  {
   "cell_type": "code",
   "execution_count": 36,
   "source": [
    "#3 当执行try ...finally 语句时，无论异常是否发生，在程序结束前，finally中的语句都会被执行。\r\n",
    "a=3\r\n",
    "b=2\r\n",
    "for i in range(3):\r\n",
    "    try:\r\n",
    "        a = a - 1\r\n",
    "        c=b/a\r\n",
    "        print(c)\r\n",
    "\r\n",
    "    except Exception as e:\r\n",
    "        print(e)\r\n",
    "    else:\r\n",
    "        print(\"正常运行\")\r\n",
    "    finally:\r\n",
    "        print(\"finally\")"
   ],
   "outputs": [
    {
     "output_type": "stream",
     "name": "stdout",
     "text": [
      "1.0\n",
      "正常运行\n",
      "finally\n",
      "2.0\n",
      "正常运行\n",
      "finally\n",
      "division by zero\n",
      "finally\n"
     ]
    }
   ],
   "metadata": {}
  },
  {
   "cell_type": "code",
   "execution_count": 37,
   "source": [
    "#4.raise引发一个异常，比如，当一个条件不满足用户意愿时引发一个异常\r\n",
    "a=3\r\n",
    "if a<4:\r\n",
    "    raise Exception #Exception=常规错误的基类\r\n",
    "else: print(a)"
   ],
   "outputs": [
    {
     "output_type": "error",
     "ename": "Exception",
     "evalue": "",
     "traceback": [
      "\u001b[1;31m---------------------------------------------------------------------------\u001b[0m",
      "\u001b[1;31mException\u001b[0m                                 Traceback (most recent call last)",
      "\u001b[1;32m~\\AppData\\Local\\Temp/ipykernel_13140/323996009.py\u001b[0m in \u001b[0;36m<module>\u001b[1;34m\u001b[0m\n\u001b[0;32m      2\u001b[0m \u001b[0ma\u001b[0m\u001b[1;33m=\u001b[0m\u001b[1;36m3\u001b[0m\u001b[1;33m\u001b[0m\u001b[1;33m\u001b[0m\u001b[0m\n\u001b[0;32m      3\u001b[0m \u001b[1;32mif\u001b[0m \u001b[0ma\u001b[0m\u001b[1;33m<\u001b[0m\u001b[1;36m4\u001b[0m\u001b[1;33m:\u001b[0m\u001b[1;33m\u001b[0m\u001b[1;33m\u001b[0m\u001b[0m\n\u001b[1;32m----> 4\u001b[1;33m     \u001b[1;32mraise\u001b[0m \u001b[0mException\u001b[0m\u001b[1;33m\u001b[0m\u001b[1;33m\u001b[0m\u001b[0m\n\u001b[0m\u001b[0;32m      5\u001b[0m \u001b[1;32melse\u001b[0m\u001b[1;33m:\u001b[0m \u001b[0mprint\u001b[0m\u001b[1;33m(\u001b[0m\u001b[0ma\u001b[0m\u001b[1;33m)\u001b[0m\u001b[1;33m\u001b[0m\u001b[1;33m\u001b[0m\u001b[0m\n",
      "\u001b[1;31mException\u001b[0m: "
     ]
    }
   ],
   "metadata": {}
  }
 ],
 "metadata": {
  "orig_nbformat": 4,
  "language_info": {
   "name": "python",
   "version": "3.9.6",
   "mimetype": "text/x-python",
   "codemirror_mode": {
    "name": "ipython",
    "version": 3
   },
   "pygments_lexer": "ipython3",
   "nbconvert_exporter": "python",
   "file_extension": ".py"
  },
  "kernelspec": {
   "name": "python3",
   "display_name": "Python 3.9.6 64-bit"
  },
  "interpreter": {
   "hash": "26686dec1f1c69e7843542045c9bcb01e7d61ef2953291481df04c12bb1a928f"
  }
 },
 "nbformat": 4,
 "nbformat_minor": 2
}