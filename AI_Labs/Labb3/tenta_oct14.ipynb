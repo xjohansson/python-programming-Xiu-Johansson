{
 "cells": [
  {
   "cell_type": "code",
   "execution_count": 3,
   "source": [
    "#uppgift 1\r\n",
    "frukter=[\"jordgubbe\",\"vindruva\",\"grape\"]\r\n",
    "godfrukt=frukter[2]\r\n",
    "print(godfrukt) #grape\r\n",
    "\r\n",
    "print(godfrukt[-1])"
   ],
   "outputs": [
    {
     "output_type": "stream",
     "name": "stdout",
     "text": [
      "grape\n",
      "e\n"
     ]
    }
   ],
   "metadata": {}
  },
  {
   "cell_type": "code",
   "execution_count": 4,
   "source": [
    "#uppgift 3\r\n",
    "radie=float(input(\"Please enter the radie of the cylinder:\"))\r\n",
    "height=float(input(\"Please enter the height of the cylinder\"))\r\n",
    "volyme=3.14*radie**2*height\r\n",
    "print(volyme)"
   ],
   "outputs": [
    {
     "output_type": "stream",
     "name": "stdout",
     "text": [
      "100.48\n"
     ]
    }
   ],
   "metadata": {}
  },
  {
   "cell_type": "code",
   "execution_count": 9,
   "source": [
    "#uppgift 3 方法二\r\n",
    "def volyme(radie,height):\r\n",
    "    return 3.14*radie**2*height\r\n",
    "\r\n",
    "radie=float(input(\"Please enter the radie of the cylinder:\"))\r\n",
    "height=float(input(\"Please enter the height of the cylinder\"))\r\n",
    "print(volyme)    #显示结果是错误的，显示的是<function volyme at 0x000001941F9BE700>\r\n",
    "print(volyme(radie,height)) #显示结果是正确的，注意这里一定不能忘记里面的参数半径和高\r\n",
    "\r\n"
   ],
   "outputs": [
    {
     "output_type": "stream",
     "name": "stdout",
     "text": [
      "<function volyme at 0x000001941F9BE670>\n",
      "25.12\n"
     ]
    }
   ],
   "metadata": {}
  },
  {
   "cell_type": "code",
   "execution_count": 19,
   "source": [
    "def function(p1,p2):\r\n",
    "    return p1+p2 #重点注意这里不是P1=2,P2=5,P1+P2=2+5=7,这里是位置1是2，位置2是5，所以结果是25\r\n",
    "\r\n",
    "p1=input(\"p1?\")    \r\n",
    "p2=\"5\" #引号是重点，没有引号就变成2+5=7\r\n",
    "\r\n",
    "function (p1,p2)\r\n"
   ],
   "outputs": [
    {
     "output_type": "execute_result",
     "data": {
      "text/plain": [
       "'25'"
      ]
     },
     "metadata": {},
     "execution_count": 19
    }
   ],
   "metadata": {}
  },
  {
   "cell_type": "code",
   "execution_count": 28,
   "source": [
    "#CONCATENATE WITH LOOP 与循环连接\r\n",
    "# uppgift 4\r\n",
    "bamba=[\"Chili sin carne\",\"Pannkakor\",\"Ärtsoppa\",\"Kebab\",\"Vegetarisk lasagne\"]\r\n",
    "days=[\"Mån\",\"Tis\",\"Ons\",\"Tor\",\"Fre\"]\r\n",
    "menu=\"V42 Food Menu\\n\"        #\\n gives newline 换行\r\n",
    "\r\n",
    "for day,food in zip(days,bamba):#这里是什么意思\r\n",
    "    menu += f\"{day}:{food} \\n\"\r\n",
    "\r\n",
    "print(menu)"
   ],
   "outputs": [
    {
     "output_type": "stream",
     "name": "stdout",
     "text": [
      "V42 Food menu\n",
      "Mån:Chili sin carne \n",
      "Tis:Pannkakor \n",
      "Ons:Ärtsoppa \n",
      "Tor:Kebab \n",
      "Fre:Vegetarisk lasagne \n",
      "\n"
     ]
    }
   ],
   "metadata": {}
  }
 ],
 "metadata": {
  "orig_nbformat": 4,
  "language_info": {
   "name": "python",
   "version": "3.9.6",
   "mimetype": "text/x-python",
   "codemirror_mode": {
    "name": "ipython",
    "version": 3
   },
   "pygments_lexer": "ipython3",
   "nbconvert_exporter": "python",
   "file_extension": ".py"
  },
  "kernelspec": {
   "name": "python3",
   "display_name": "Python 3.9.6 64-bit"
  },
  "interpreter": {
   "hash": "26686dec1f1c69e7843542045c9bcb01e7d61ef2953291481df04c12bb1a928f"
  }
 },
 "nbformat": 4,
 "nbformat_minor": 2
}